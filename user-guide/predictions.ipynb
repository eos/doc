{
 "cells": [
  {
   "cell_type": "markdown",
   "metadata": {},
   "source": [
    "# Theory Predictions and their Uncertainties"
   ]
  },
  {
   "cell_type": "markdown",
   "metadata": {},
   "source": [
    "EOS can produce theory predictions for any of its built-in observables. The examples following in this section illustrate\n",
    "1. how to find a specific observable from the list of all built-in observables;\n",
    "2. manually construct an [eos.Observable](../reference/python.rst#eos.Observable) object and evaluate it to predict the observables (basic);\n",
    "3. use an [analysis file](../reference/analysis-file-format.rst) to estimate the theoretical uncertainties associated with one or more observables (advanced)."
   ]
  },
  {
   "cell_type": "markdown",
   "metadata": {},
   "source": [
    "## Listing the built-in Observables"
   ]
  },
  {
   "cell_type": "markdown",
   "metadata": {},
   "source": [
    "The full list of built-in observables for the most-recent EOS release is available online [here](https://eos.github.io/doc/reference/observables). You can also show this list using the [eos.Observables](../reference/python.rst#eos.Observables) class. Searching for a specific observable is possible by filtering for specific strings in the observable name’s *prefix*, *name*, or *suffix* parts. The following example only shows observables that contain a `'B_c'` in the prefix part and `'BR'` in the name part."
   ]
  },
  {
   "cell_type": "markdown",
   "metadata": {},
   "source": [
    "You might need to click on the highlighted group heading \"Observables in $B^-\\to\\ell^-\\bar\\nu$ decays\" to expand it."
   ]
  },
  {
   "cell_type": "code",
   "execution_count": 1,
   "metadata": {
    "ExecuteTime": {
     "end_time": "2021-10-21T13:14:05.769244Z",
     "start_time": "2021-10-21T13:14:05.744729Z"
    },
    "execution": {
     "iopub.execute_input": "2024-06-11T10:21:18.516449Z",
     "iopub.status.busy": "2024-06-11T10:21:18.516261Z",
     "iopub.status.idle": "2024-06-11T10:21:19.410168Z",
     "shell.execute_reply": "2024-06-11T10:21:19.409521Z"
    }
   },
   "outputs": [
    {
     "data": {
      "text/html": [
       "\n",
       "        <script>\n",
       "            function toggle_group(group_title, id) {\n",
       "                var table = group_title.parentNode.parentNode.parentNode.parentNode\n",
       "                var query = 'tbody[id=\"' + id + '\"]'\n",
       "                var group = table.querySelector(query)\n",
       "                if (group.style.visibility == \"collapse\") {\n",
       "                    group.style.visibility = \"visible\"\n",
       "                } else {\n",
       "                    group.style.visibility = \"collapse\"\n",
       "                }\n",
       "            }\n",
       "            function toggle_av(opt_anchor, id) {\n",
       "                var query_dots   = 'span.dots[id=\"' + id + '\"]'\n",
       "                var query_values = 'span.values[id=\"' + id + '\"]'\n",
       "                var dots   = opt_anchor.querySelector(query_dots)\n",
       "                var values = opt_anchor.querySelector(query_values)\n",
       "                if (dots.style.display == \"none\") {\n",
       "                    dots.style.display   = \"inline\"\n",
       "                    values.style.display = \"none\"\n",
       "                } else {\n",
       "                    dots.style.display   = \"none\"\n",
       "                    values.style.display = \"inline\"\n",
       "                }\n",
       "            }\n",
       "        </script>\n",
       "        <style>\n",
       "            td.qn     { text-align: left;   }\n",
       "            td.sym    { text-align: center; }\n",
       "            td.unit   { text-align: right;  }\n",
       "            td.optkey { text-align: left;   }\n",
       "            td.optav  { text-align: left;   }\n",
       "            td.optdef { text-align: left;   }\n",
       "        </style>\n",
       "        <table>\n",
       "            <colgroup>\n",
       "                <col width=\"25%\" id=\"qn\"          style=\"min-width: 200px; text-align: left\">\n",
       "                <col width=\"20%\" id=\"symbol\"      style=\"min-width: 200px\">\n",
       "                <col width=\"5%\"  id=\"unit\"        style=\"min-width:  50px\">\n",
       "                <col width=\"20%\" id=\"kv\"          style=\"min-width: 200px\">\n",
       "                <col width=\"10%\" id=\"opt-key\"     style=\"min-width:  75px\">\n",
       "                <col width=\"10%\" id=\"opt-allowed\" style=\"min-width:  75px\">\n",
       "                <col width=\"10%\" id=\"opt-default\" style=\"min-width:  75px\">\n",
       "            </colgroup>\n",
       "            <thead>\n",
       "                <tr>\n",
       "                    <th rowspan=\"2\">qualified name</th>\n",
       "                    <th rowspan=\"2\">symbol</th>\n",
       "                    <th rowspan=\"2\">unit</th>\n",
       "                    <th rowspan=\"2\">kinematic<br> variables</th>\n",
       "                    <th colspan=3>options</th>\n",
       "                </tr>\n",
       "                <tr>\n",
       "                    <th>key</th>\n",
       "                    <th>values</th>\n",
       "                    <th>default</th>\n",
       "                </tr>\n",
       "            </thead>\n",
       "        \n",
       "                <tr>\n",
       "                    <th style=\"text-align:left\" colspan=8><big>Observables in (semi)leptonic $b$-hadron decays</big></th>\n",
       "                </tr>\n",
       "                    <tbody>\n",
       "                        <tr>\n",
       "                            <th style=\"text-align:left\" colspan=8>\n",
       "                                <a style=\"text-decoration: none\" onclick=\"toggle_group(this, 'grp0')\">Observables in $B^-\\to \\ell^-\\bar\\nu$ decays</a>\n",
       "                            </th>\n",
       "                        </tr>\n",
       "                    </tbody>\n",
       "                \n",
       "                    <tbody style=\"visibility:collapse\" id=\"grp0\">\n",
       "                    <tr>\n",
       "                        <td style=\"text-align:left\" colspan=8>The option \"l\" selects the charged lepton flavor.</td>\n",
       "                    </tr>\n",
       "                \n",
       "                        <tr>\n",
       "                            <th class=\"qn\"     rowspan=\"4\"><tt>B_c->lnu::BR</tt></th>\n",
       "                            <td class=\"sym\"    rowspan=\"4\">$$\\mathcal{B}(B_c^- \\to \\ell^-\\bar\\nu)$$</td>\n",
       "                            <td class=\"unit\"   rowspan=\"4\">&mdash;</td>\n",
       "                            <td class=\"kv\"     rowspan=\"4\">&mdash;</td>\n",
       "                            <td class=\"optkey\" rowspan=\"1\"><tt>model</tt></td>\n",
       "                            <td class=\"optav\"  rowspan=\"1\"><a onclick=\"toggle_av(this, 'grp0-obs0-opt0')\">\n",
       "                            <span class=\"dots\"   id=\"grp0-obs0-opt0\" style=\"display: inline; text-align: left\">...</span>\n",
       "                            <span class=\"values\" id=\"grp0-obs0-opt0\" style=\"display: none;   text-align: left\">\n",
       "                           <tt>CKM</tt><br/><tt>SM</tt><br/><tt>WET</tt><br/><tt>WET-SMEFT</tt>\n",
       "                            </span>\n",
       "                        </a></td>\n",
       "                            <td class=\"optdef\" rowspan=\"1\"><tt>SM</tt></td>\n",
       "                        </tr>\n",
       "                    \n",
       "                            <tr>\n",
       "                                <td class=\"optkey\" rowspan=\"1\"><tt>cp-conjugate</tt></td>\n",
       "                                <td class=\"optav\"  rowspan=\"1\"><a onclick=\"toggle_av(this, 'grp0-obs0-opt1')\">\n",
       "                            <span class=\"dots\"   id=\"grp0-obs0-opt1\" style=\"display: inline; text-align: left\">...</span>\n",
       "                            <span class=\"values\" id=\"grp0-obs0-opt1\" style=\"display: none;   text-align: left\">\n",
       "                           <tt>true</tt><br/><tt>false</tt>\n",
       "                            </span>\n",
       "                        </a></td>\n",
       "                                <td class=\"optdef\" rowspan=\"1\"><tt>false</tt></td>\n",
       "                            </tr>\n",
       "                        \n",
       "                            <tr>\n",
       "                                <td class=\"optkey\" rowspan=\"1\"><tt>l</tt></td>\n",
       "                                <td class=\"optav\"  rowspan=\"1\"><a onclick=\"toggle_av(this, 'grp0-obs0-opt2')\">\n",
       "                            <span class=\"dots\"   id=\"grp0-obs0-opt2\" style=\"display: inline; text-align: left\">...</span>\n",
       "                            <span class=\"values\" id=\"grp0-obs0-opt2\" style=\"display: none;   text-align: left\">\n",
       "                           <tt>e</tt><br/><tt>mu</tt><br/><tt>tau</tt>\n",
       "                            </span>\n",
       "                        </a></td>\n",
       "                                <td class=\"optdef\" rowspan=\"1\"><tt>mu</tt></td>\n",
       "                            </tr>\n",
       "                        \n",
       "                            <tr>\n",
       "                                <td class=\"optkey\" rowspan=\"1\"><tt>q</tt></td>\n",
       "                                <td class=\"optav\"  rowspan=\"1\"><a onclick=\"toggle_av(this, 'grp0-obs0-opt3')\">\n",
       "                            <span class=\"dots\"   id=\"grp0-obs0-opt3\" style=\"display: inline; text-align: left\">...</span>\n",
       "                            <span class=\"values\" id=\"grp0-obs0-opt3\" style=\"display: none;   text-align: left\">\n",
       "                           <tt>c</tt><br/><tt>u</tt>\n",
       "                            </span>\n",
       "                        </a></td>\n",
       "                                <td class=\"optdef\" rowspan=\"1\"><tt>c</tt></td>\n",
       "                            </tr>\n",
       "                            </tbody></table>"
      ],
      "text/plain": [
       "<eos.observable.Observables at 0x7f50fd37e110>"
      ]
     },
     "execution_count": 1,
     "metadata": {},
     "output_type": "execute_result"
    }
   ],
   "source": [
    "import eos\n",
    "eos.Observables(prefix='B_c', name='BR')"
   ]
  },
  {
   "cell_type": "markdown",
   "metadata": {},
   "source": [
    "The next example looks for `'B->Dlnu'` in the prefix part and `'BR'` in the name part."
   ]
  },
  {
   "cell_type": "markdown",
   "metadata": {},
   "source": [
    "Again, you might need to click on the highlighted group heading \"Observables in $B\\to \\bar{D}\\ell^-\\bar\\nu$ decays\" to see the observables."
   ]
  },
  {
   "cell_type": "code",
   "execution_count": 2,
   "metadata": {
    "execution": {
     "iopub.execute_input": "2024-06-11T10:21:19.412589Z",
     "iopub.status.busy": "2024-06-11T10:21:19.412304Z",
     "iopub.status.idle": "2024-06-11T10:21:19.418887Z",
     "shell.execute_reply": "2024-06-11T10:21:19.418335Z"
    }
   },
   "outputs": [
    {
     "data": {
      "text/html": [
       "\n",
       "        <script>\n",
       "            function toggle_group(group_title, id) {\n",
       "                var table = group_title.parentNode.parentNode.parentNode.parentNode\n",
       "                var query = 'tbody[id=\"' + id + '\"]'\n",
       "                var group = table.querySelector(query)\n",
       "                if (group.style.visibility == \"collapse\") {\n",
       "                    group.style.visibility = \"visible\"\n",
       "                } else {\n",
       "                    group.style.visibility = \"collapse\"\n",
       "                }\n",
       "            }\n",
       "            function toggle_av(opt_anchor, id) {\n",
       "                var query_dots   = 'span.dots[id=\"' + id + '\"]'\n",
       "                var query_values = 'span.values[id=\"' + id + '\"]'\n",
       "                var dots   = opt_anchor.querySelector(query_dots)\n",
       "                var values = opt_anchor.querySelector(query_values)\n",
       "                if (dots.style.display == \"none\") {\n",
       "                    dots.style.display   = \"inline\"\n",
       "                    values.style.display = \"none\"\n",
       "                } else {\n",
       "                    dots.style.display   = \"none\"\n",
       "                    values.style.display = \"inline\"\n",
       "                }\n",
       "            }\n",
       "        </script>\n",
       "        <style>\n",
       "            td.qn     { text-align: left;   }\n",
       "            td.sym    { text-align: center; }\n",
       "            td.unit   { text-align: right;  }\n",
       "            td.optkey { text-align: left;   }\n",
       "            td.optav  { text-align: left;   }\n",
       "            td.optdef { text-align: left;   }\n",
       "        </style>\n",
       "        <table>\n",
       "            <colgroup>\n",
       "                <col width=\"25%\" id=\"qn\"          style=\"min-width: 200px; text-align: left\">\n",
       "                <col width=\"20%\" id=\"symbol\"      style=\"min-width: 200px\">\n",
       "                <col width=\"5%\"  id=\"unit\"        style=\"min-width:  50px\">\n",
       "                <col width=\"20%\" id=\"kv\"          style=\"min-width: 200px\">\n",
       "                <col width=\"10%\" id=\"opt-key\"     style=\"min-width:  75px\">\n",
       "                <col width=\"10%\" id=\"opt-allowed\" style=\"min-width:  75px\">\n",
       "                <col width=\"10%\" id=\"opt-default\" style=\"min-width:  75px\">\n",
       "            </colgroup>\n",
       "            <thead>\n",
       "                <tr>\n",
       "                    <th rowspan=\"2\">qualified name</th>\n",
       "                    <th rowspan=\"2\">symbol</th>\n",
       "                    <th rowspan=\"2\">unit</th>\n",
       "                    <th rowspan=\"2\">kinematic<br> variables</th>\n",
       "                    <th colspan=3>options</th>\n",
       "                </tr>\n",
       "                <tr>\n",
       "                    <th>key</th>\n",
       "                    <th>values</th>\n",
       "                    <th>default</th>\n",
       "                </tr>\n",
       "            </thead>\n",
       "        \n",
       "                <tr>\n",
       "                    <th style=\"text-align:left\" colspan=8><big>Observables in (semi)leptonic $b$-hadron decays</big></th>\n",
       "                </tr>\n",
       "                    <tbody>\n",
       "                        <tr>\n",
       "                            <th style=\"text-align:left\" colspan=8>\n",
       "                                <a style=\"text-decoration: none\" onclick=\"toggle_group(this, 'grp3')\">Observables in $B\\to \\bar{D} \\ell^-\\bar\\nu$ decays</a>\n",
       "                            </th>\n",
       "                        </tr>\n",
       "                    </tbody>\n",
       "                \n",
       "                    <tbody style=\"visibility:collapse\" id=\"grp3\">\n",
       "                    <tr>\n",
       "                        <td style=\"text-align:left\" colspan=8>The option \"l\" selects the charged lepton flavor. The option \"q\" selects the spectator quark flavor. The option \"form-factors\" selects the form factor parametrization.</td>\n",
       "                    </tr>\n",
       "                \n",
       "                        <tr>\n",
       "                            <th class=\"qn\"     rowspan=\"7\"><tt>B->Dlnu::BR</tt></th>\n",
       "                            <td class=\"sym\"    rowspan=\"7\">$$\\mathcal{B}(B\\to \\bar{D}\\ell^-\\bar\\nu)$$</td>\n",
       "                            <td class=\"unit\"   rowspan=\"7\">&mdash;</td>\n",
       "                            <td class=\"kv\"     rowspan=\"7\"><tt>q2_min</tt><br><tt>q2_max</tt></td>\n",
       "                            <td class=\"optkey\" rowspan=\"1\"><tt>model</tt></td>\n",
       "                            <td class=\"optav\"  rowspan=\"1\"><a onclick=\"toggle_av(this, 'grp3-obs0-opt0')\">\n",
       "                            <span class=\"dots\"   id=\"grp3-obs0-opt0\" style=\"display: inline; text-align: left\">...</span>\n",
       "                            <span class=\"values\" id=\"grp3-obs0-opt0\" style=\"display: none;   text-align: left\">\n",
       "                           <tt>CKM</tt><br/><tt>SM</tt><br/><tt>WET</tt><br/><tt>WET-SMEFT</tt>\n",
       "                            </span>\n",
       "                        </a></td>\n",
       "                            <td class=\"optdef\" rowspan=\"1\"><tt>SM</tt></td>\n",
       "                        </tr>\n",
       "                    \n",
       "                            <tr>\n",
       "                                <td class=\"optkey\" rowspan=\"1\"><tt>form-factors</tt></td>\n",
       "                                <td class=\"optav\"  rowspan=\"1\"><a onclick=\"toggle_av(this, 'grp3-obs0-opt1')\">\n",
       "                            <span class=\"dots\"   id=\"grp3-obs0-opt1\" style=\"display: inline; text-align: left\">...</span>\n",
       "                            <span class=\"values\" id=\"grp3-obs0-opt1\" style=\"display: none;   text-align: left\">\n",
       "                           <tt>B-LCSR</tt><br/><tt>BCL2008</tt><br/><tt>BCL2008-4</tt><br/><tt>BCL2008-5</tt><br/><tt>BFW2010</tt><br/><tt>BGJvD2019</tt><br/><tt>BGL1997</tt><br/><tt>BSZ2015</tt><br/><tt>DKMMO2008</tt><br/><tt>KMPW2010</tt>\n",
       "                            </span>\n",
       "                        </a></td>\n",
       "                                <td class=\"optdef\" rowspan=\"1\"><tt></tt></td>\n",
       "                            </tr>\n",
       "                        \n",
       "                            <tr>\n",
       "                                <td class=\"optkey\" rowspan=\"1\"><tt>cp-conjugate</tt></td>\n",
       "                                <td class=\"optav\"  rowspan=\"1\"><a onclick=\"toggle_av(this, 'grp3-obs0-opt2')\">\n",
       "                            <span class=\"dots\"   id=\"grp3-obs0-opt2\" style=\"display: inline; text-align: left\">...</span>\n",
       "                            <span class=\"values\" id=\"grp3-obs0-opt2\" style=\"display: none;   text-align: left\">\n",
       "                           <tt>true</tt><br/><tt>false</tt>\n",
       "                            </span>\n",
       "                        </a></td>\n",
       "                                <td class=\"optdef\" rowspan=\"1\"><tt>false</tt></td>\n",
       "                            </tr>\n",
       "                        \n",
       "                            <tr>\n",
       "                                <td class=\"optkey\" rowspan=\"1\"><tt>l</tt></td>\n",
       "                                <td class=\"optav\"  rowspan=\"1\"><a onclick=\"toggle_av(this, 'grp3-obs0-opt3')\">\n",
       "                            <span class=\"dots\"   id=\"grp3-obs0-opt3\" style=\"display: inline; text-align: left\">...</span>\n",
       "                            <span class=\"values\" id=\"grp3-obs0-opt3\" style=\"display: none;   text-align: left\">\n",
       "                           <tt>e</tt><br/><tt>mu</tt><br/><tt>tau</tt>\n",
       "                            </span>\n",
       "                        </a></td>\n",
       "                                <td class=\"optdef\" rowspan=\"1\"><tt>mu</tt></td>\n",
       "                            </tr>\n",
       "                        \n",
       "                            <tr>\n",
       "                                <td class=\"optkey\" rowspan=\"1\"><tt>U</tt></td>\n",
       "                                <td class=\"optav\"  rowspan=\"1\"><a onclick=\"toggle_av(this, 'grp3-obs0-opt4')\">\n",
       "                            <span class=\"dots\"   id=\"grp3-obs0-opt4\" style=\"display: inline; text-align: left\">...</span>\n",
       "                            <span class=\"values\" id=\"grp3-obs0-opt4\" style=\"display: none;   text-align: left\">\n",
       "                           <tt>c</tt><br/><tt>u</tt>\n",
       "                            </span>\n",
       "                        </a></td>\n",
       "                                <td class=\"optdef\" rowspan=\"1\"><tt>c</tt></td>\n",
       "                            </tr>\n",
       "                        \n",
       "                            <tr>\n",
       "                                <td class=\"optkey\" rowspan=\"1\"><tt>q</tt></td>\n",
       "                                <td class=\"optav\"  rowspan=\"1\"><a onclick=\"toggle_av(this, 'grp3-obs0-opt5')\">\n",
       "                            <span class=\"dots\"   id=\"grp3-obs0-opt5\" style=\"display: inline; text-align: left\">...</span>\n",
       "                            <span class=\"values\" id=\"grp3-obs0-opt5\" style=\"display: none;   text-align: left\">\n",
       "                           <tt>u</tt><br/><tt>d</tt><br/><tt>s</tt>\n",
       "                            </span>\n",
       "                        </a></td>\n",
       "                                <td class=\"optdef\" rowspan=\"1\"><tt>d</tt></td>\n",
       "                            </tr>\n",
       "                        \n",
       "                            <tr>\n",
       "                                <td class=\"optkey\" rowspan=\"1\"><tt>I</tt></td>\n",
       "                                <td class=\"optav\"  rowspan=\"1\"><a onclick=\"toggle_av(this, 'grp3-obs0-opt6')\">\n",
       "                            <span class=\"dots\"   id=\"grp3-obs0-opt6\" style=\"display: inline; text-align: left\">...</span>\n",
       "                            <span class=\"values\" id=\"grp3-obs0-opt6\" style=\"display: none;   text-align: left\">\n",
       "                           <tt>1</tt><br/><tt>0</tt><br/><tt>1/2</tt>\n",
       "                            </span>\n",
       "                        </a></td>\n",
       "                                <td class=\"optdef\" rowspan=\"1\"><tt>1</tt></td>\n",
       "                            </tr>\n",
       "                        \n",
       "                        <tr>\n",
       "                            <th class=\"qn\"     rowspan=\"7\"><tt>B->Dlnu::dBR/dq2</tt></th>\n",
       "                            <td class=\"sym\"    rowspan=\"7\">$$d\\mathcal{B}(B\\to \\bar{D}\\ell^-\\bar\\nu)/dq^2$$</td>\n",
       "                            <td class=\"unit\"   rowspan=\"7\">$$\\left[ \\textrm{GeV}^{-2} \\right]$$</td>\n",
       "                            <td class=\"kv\"     rowspan=\"7\"><tt>q2</tt></td>\n",
       "                            <td class=\"optkey\" rowspan=\"1\"><tt>model</tt></td>\n",
       "                            <td class=\"optav\"  rowspan=\"1\"><a onclick=\"toggle_av(this, 'grp3-obs1-opt0')\">\n",
       "                            <span class=\"dots\"   id=\"grp3-obs1-opt0\" style=\"display: inline; text-align: left\">...</span>\n",
       "                            <span class=\"values\" id=\"grp3-obs1-opt0\" style=\"display: none;   text-align: left\">\n",
       "                           <tt>CKM</tt><br/><tt>SM</tt><br/><tt>WET</tt><br/><tt>WET-SMEFT</tt>\n",
       "                            </span>\n",
       "                        </a></td>\n",
       "                            <td class=\"optdef\" rowspan=\"1\"><tt>SM</tt></td>\n",
       "                        </tr>\n",
       "                    \n",
       "                            <tr>\n",
       "                                <td class=\"optkey\" rowspan=\"1\"><tt>form-factors</tt></td>\n",
       "                                <td class=\"optav\"  rowspan=\"1\"><a onclick=\"toggle_av(this, 'grp3-obs1-opt1')\">\n",
       "                            <span class=\"dots\"   id=\"grp3-obs1-opt1\" style=\"display: inline; text-align: left\">...</span>\n",
       "                            <span class=\"values\" id=\"grp3-obs1-opt1\" style=\"display: none;   text-align: left\">\n",
       "                           <tt>B-LCSR</tt><br/><tt>BCL2008</tt><br/><tt>BCL2008-4</tt><br/><tt>BCL2008-5</tt><br/><tt>BFW2010</tt><br/><tt>BGJvD2019</tt><br/><tt>BGL1997</tt><br/><tt>BSZ2015</tt><br/><tt>DKMMO2008</tt><br/><tt>KMPW2010</tt>\n",
       "                            </span>\n",
       "                        </a></td>\n",
       "                                <td class=\"optdef\" rowspan=\"1\"><tt></tt></td>\n",
       "                            </tr>\n",
       "                        \n",
       "                            <tr>\n",
       "                                <td class=\"optkey\" rowspan=\"1\"><tt>cp-conjugate</tt></td>\n",
       "                                <td class=\"optav\"  rowspan=\"1\"><a onclick=\"toggle_av(this, 'grp3-obs1-opt2')\">\n",
       "                            <span class=\"dots\"   id=\"grp3-obs1-opt2\" style=\"display: inline; text-align: left\">...</span>\n",
       "                            <span class=\"values\" id=\"grp3-obs1-opt2\" style=\"display: none;   text-align: left\">\n",
       "                           <tt>true</tt><br/><tt>false</tt>\n",
       "                            </span>\n",
       "                        </a></td>\n",
       "                                <td class=\"optdef\" rowspan=\"1\"><tt>false</tt></td>\n",
       "                            </tr>\n",
       "                        \n",
       "                            <tr>\n",
       "                                <td class=\"optkey\" rowspan=\"1\"><tt>l</tt></td>\n",
       "                                <td class=\"optav\"  rowspan=\"1\"><a onclick=\"toggle_av(this, 'grp3-obs1-opt3')\">\n",
       "                            <span class=\"dots\"   id=\"grp3-obs1-opt3\" style=\"display: inline; text-align: left\">...</span>\n",
       "                            <span class=\"values\" id=\"grp3-obs1-opt3\" style=\"display: none;   text-align: left\">\n",
       "                           <tt>e</tt><br/><tt>mu</tt><br/><tt>tau</tt>\n",
       "                            </span>\n",
       "                        </a></td>\n",
       "                                <td class=\"optdef\" rowspan=\"1\"><tt>mu</tt></td>\n",
       "                            </tr>\n",
       "                        \n",
       "                            <tr>\n",
       "                                <td class=\"optkey\" rowspan=\"1\"><tt>U</tt></td>\n",
       "                                <td class=\"optav\"  rowspan=\"1\"><a onclick=\"toggle_av(this, 'grp3-obs1-opt4')\">\n",
       "                            <span class=\"dots\"   id=\"grp3-obs1-opt4\" style=\"display: inline; text-align: left\">...</span>\n",
       "                            <span class=\"values\" id=\"grp3-obs1-opt4\" style=\"display: none;   text-align: left\">\n",
       "                           <tt>c</tt><br/><tt>u</tt>\n",
       "                            </span>\n",
       "                        </a></td>\n",
       "                                <td class=\"optdef\" rowspan=\"1\"><tt>c</tt></td>\n",
       "                            </tr>\n",
       "                        \n",
       "                            <tr>\n",
       "                                <td class=\"optkey\" rowspan=\"1\"><tt>q</tt></td>\n",
       "                                <td class=\"optav\"  rowspan=\"1\"><a onclick=\"toggle_av(this, 'grp3-obs1-opt5')\">\n",
       "                            <span class=\"dots\"   id=\"grp3-obs1-opt5\" style=\"display: inline; text-align: left\">...</span>\n",
       "                            <span class=\"values\" id=\"grp3-obs1-opt5\" style=\"display: none;   text-align: left\">\n",
       "                           <tt>u</tt><br/><tt>d</tt><br/><tt>s</tt>\n",
       "                            </span>\n",
       "                        </a></td>\n",
       "                                <td class=\"optdef\" rowspan=\"1\"><tt>d</tt></td>\n",
       "                            </tr>\n",
       "                        \n",
       "                            <tr>\n",
       "                                <td class=\"optkey\" rowspan=\"1\"><tt>I</tt></td>\n",
       "                                <td class=\"optav\"  rowspan=\"1\"><a onclick=\"toggle_av(this, 'grp3-obs1-opt6')\">\n",
       "                            <span class=\"dots\"   id=\"grp3-obs1-opt6\" style=\"display: inline; text-align: left\">...</span>\n",
       "                            <span class=\"values\" id=\"grp3-obs1-opt6\" style=\"display: none;   text-align: left\">\n",
       "                           <tt>1</tt><br/><tt>0</tt><br/><tt>1/2</tt>\n",
       "                            </span>\n",
       "                        </a></td>\n",
       "                                <td class=\"optdef\" rowspan=\"1\"><tt>1</tt></td>\n",
       "                            </tr>\n",
       "                        \n",
       "                        <tr>\n",
       "                            <th class=\"qn\"     rowspan=\"7\"><tt>B->Dlnu::d^2BR/dq2/dcos(theta_l)</tt></th>\n",
       "                            <td class=\"sym\"    rowspan=\"7\">$$d^2\\mathcal{B}(B\\to \\bar{D}\\ell^-\\bar\\nu)/dq^2/d\\cos(\\theta_l)$$</td>\n",
       "                            <td class=\"unit\"   rowspan=\"7\">$$\\left[ \\textrm{GeV}^{-2} \\right]$$</td>\n",
       "                            <td class=\"kv\"     rowspan=\"7\"><tt>q2</tt><br><tt>cos(theta_l)</tt></td>\n",
       "                            <td class=\"optkey\" rowspan=\"1\"><tt>model</tt></td>\n",
       "                            <td class=\"optav\"  rowspan=\"1\"><a onclick=\"toggle_av(this, 'grp3-obs2-opt0')\">\n",
       "                            <span class=\"dots\"   id=\"grp3-obs2-opt0\" style=\"display: inline; text-align: left\">...</span>\n",
       "                            <span class=\"values\" id=\"grp3-obs2-opt0\" style=\"display: none;   text-align: left\">\n",
       "                           <tt>CKM</tt><br/><tt>SM</tt><br/><tt>WET</tt><br/><tt>WET-SMEFT</tt>\n",
       "                            </span>\n",
       "                        </a></td>\n",
       "                            <td class=\"optdef\" rowspan=\"1\"><tt>SM</tt></td>\n",
       "                        </tr>\n",
       "                    \n",
       "                            <tr>\n",
       "                                <td class=\"optkey\" rowspan=\"1\"><tt>form-factors</tt></td>\n",
       "                                <td class=\"optav\"  rowspan=\"1\"><a onclick=\"toggle_av(this, 'grp3-obs2-opt1')\">\n",
       "                            <span class=\"dots\"   id=\"grp3-obs2-opt1\" style=\"display: inline; text-align: left\">...</span>\n",
       "                            <span class=\"values\" id=\"grp3-obs2-opt1\" style=\"display: none;   text-align: left\">\n",
       "                           <tt>B-LCSR</tt><br/><tt>BCL2008</tt><br/><tt>BCL2008-4</tt><br/><tt>BCL2008-5</tt><br/><tt>BFW2010</tt><br/><tt>BGJvD2019</tt><br/><tt>BGL1997</tt><br/><tt>BSZ2015</tt><br/><tt>DKMMO2008</tt><br/><tt>KMPW2010</tt>\n",
       "                            </span>\n",
       "                        </a></td>\n",
       "                                <td class=\"optdef\" rowspan=\"1\"><tt></tt></td>\n",
       "                            </tr>\n",
       "                        \n",
       "                            <tr>\n",
       "                                <td class=\"optkey\" rowspan=\"1\"><tt>cp-conjugate</tt></td>\n",
       "                                <td class=\"optav\"  rowspan=\"1\"><a onclick=\"toggle_av(this, 'grp3-obs2-opt2')\">\n",
       "                            <span class=\"dots\"   id=\"grp3-obs2-opt2\" style=\"display: inline; text-align: left\">...</span>\n",
       "                            <span class=\"values\" id=\"grp3-obs2-opt2\" style=\"display: none;   text-align: left\">\n",
       "                           <tt>true</tt><br/><tt>false</tt>\n",
       "                            </span>\n",
       "                        </a></td>\n",
       "                                <td class=\"optdef\" rowspan=\"1\"><tt>false</tt></td>\n",
       "                            </tr>\n",
       "                        \n",
       "                            <tr>\n",
       "                                <td class=\"optkey\" rowspan=\"1\"><tt>l</tt></td>\n",
       "                                <td class=\"optav\"  rowspan=\"1\"><a onclick=\"toggle_av(this, 'grp3-obs2-opt3')\">\n",
       "                            <span class=\"dots\"   id=\"grp3-obs2-opt3\" style=\"display: inline; text-align: left\">...</span>\n",
       "                            <span class=\"values\" id=\"grp3-obs2-opt3\" style=\"display: none;   text-align: left\">\n",
       "                           <tt>e</tt><br/><tt>mu</tt><br/><tt>tau</tt>\n",
       "                            </span>\n",
       "                        </a></td>\n",
       "                                <td class=\"optdef\" rowspan=\"1\"><tt>mu</tt></td>\n",
       "                            </tr>\n",
       "                        \n",
       "                            <tr>\n",
       "                                <td class=\"optkey\" rowspan=\"1\"><tt>U</tt></td>\n",
       "                                <td class=\"optav\"  rowspan=\"1\"><a onclick=\"toggle_av(this, 'grp3-obs2-opt4')\">\n",
       "                            <span class=\"dots\"   id=\"grp3-obs2-opt4\" style=\"display: inline; text-align: left\">...</span>\n",
       "                            <span class=\"values\" id=\"grp3-obs2-opt4\" style=\"display: none;   text-align: left\">\n",
       "                           <tt>c</tt><br/><tt>u</tt>\n",
       "                            </span>\n",
       "                        </a></td>\n",
       "                                <td class=\"optdef\" rowspan=\"1\"><tt>c</tt></td>\n",
       "                            </tr>\n",
       "                        \n",
       "                            <tr>\n",
       "                                <td class=\"optkey\" rowspan=\"1\"><tt>q</tt></td>\n",
       "                                <td class=\"optav\"  rowspan=\"1\"><a onclick=\"toggle_av(this, 'grp3-obs2-opt5')\">\n",
       "                            <span class=\"dots\"   id=\"grp3-obs2-opt5\" style=\"display: inline; text-align: left\">...</span>\n",
       "                            <span class=\"values\" id=\"grp3-obs2-opt5\" style=\"display: none;   text-align: left\">\n",
       "                           <tt>u</tt><br/><tt>d</tt><br/><tt>s</tt>\n",
       "                            </span>\n",
       "                        </a></td>\n",
       "                                <td class=\"optdef\" rowspan=\"1\"><tt>d</tt></td>\n",
       "                            </tr>\n",
       "                        \n",
       "                            <tr>\n",
       "                                <td class=\"optkey\" rowspan=\"1\"><tt>I</tt></td>\n",
       "                                <td class=\"optav\"  rowspan=\"1\"><a onclick=\"toggle_av(this, 'grp3-obs2-opt6')\">\n",
       "                            <span class=\"dots\"   id=\"grp3-obs2-opt6\" style=\"display: inline; text-align: left\">...</span>\n",
       "                            <span class=\"values\" id=\"grp3-obs2-opt6\" style=\"display: none;   text-align: left\">\n",
       "                           <tt>1</tt><br/><tt>0</tt><br/><tt>1/2</tt>\n",
       "                            </span>\n",
       "                        </a></td>\n",
       "                                <td class=\"optdef\" rowspan=\"1\"><tt>1</tt></td>\n",
       "                            </tr>\n",
       "                            </tbody></table>"
      ],
      "text/plain": [
       "<eos.observable.Observables at 0x7f50fcb48220>"
      ]
     },
     "execution_count": 2,
     "metadata": {},
     "output_type": "execute_result"
    }
   ],
   "source": [
    "eos.Observables(prefix='B->Dlnu', name='BR')"
   ]
  },
  {
   "cell_type": "markdown",
   "metadata": {},
   "source": [
    "## Constructing and Evaluating an Observable"
   ]
  },
  {
   "cell_type": "markdown",
   "metadata": {},
   "source": [
    "The following is an example on how to interact with EOS at the most basic level. In the process, a few concepts will become clear. For a more elaborate example using Monte Carlo sampling techniques, see the next section."
   ]
  },
  {
   "cell_type": "markdown",
   "metadata": {},
   "source": [
    "To make theory predictions of any observable, EOS requires its full name, its [eos.Parameters](../reference/python.rst#eos.Parameters) object, its [eos.Kinematics](../reference/python.rst#eos.Kinematics) object, and its [eos.Options](../reference/python.rst#eos.Options) object. As a first example, we will use a very simple observable: the branching ratio of $B_c^-\\to \\ell^-\\bar\\nu$, which is represented by the name ``B_c->lnu::BR``, which was uncovered earlier. The ``B_c->lnu::BR`` is a well formed [eos.QualifiedName](../reference/python.rst#eos.QualifiedName), which is used throughout EOS to address observables and other objects. Additional information about any given observable can be obtained by displaying the full database entry, which also contains information about the kinematic variables required:"
   ]
  },
  {
   "cell_type": "code",
   "execution_count": 3,
   "metadata": {
    "ExecuteTime": {
     "end_time": "2021-10-21T13:14:05.797896Z",
     "start_time": "2021-10-21T13:14:05.772607Z"
    },
    "execution": {
     "iopub.execute_input": "2024-06-11T10:21:19.421114Z",
     "iopub.status.busy": "2024-06-11T10:21:19.420796Z",
     "iopub.status.idle": "2024-06-11T10:21:19.425413Z",
     "shell.execute_reply": "2024-06-11T10:21:19.424952Z"
    },
    "scrolled": true
   },
   "outputs": [
    {
     "data": {
      "text/html": [
       "<table>\n",
       "<tr><th>QualifedName</th><td><tt style=\"color:grey\">B_c->lnu::BR</tt></td></tr><tr><th>Description</th><td>$$\\mathcal{B}(B_c^- \\to \\ell^-\\bar\\nu)$$</td></tr></table>"
      ],
      "text/plain": [
       "<_eos.ObservableEntry at 0x7f50fcafe0a0>"
      ]
     },
     "execution_count": 3,
     "metadata": {},
     "output_type": "execute_result"
    }
   ],
   "source": [
    "eos.Observables()['B_c->lnu::BR']"
   ]
  },
  {
   "cell_type": "markdown",
   "metadata": {},
   "source": [
    "Note that in the above we display a single observable by name using the ``[]`` operator.\n",
    "\n",
    "From the above output we understand that the observable ``B_c->lnu::BR`` expects no kinematic variables (since none is listed).\n",
    "We proceed to create an [eos.Observable](../reference/python.rst#eos.Observable) object for ``B_c->lnu::BR`` with the default set of parameters and options,\n",
    "and then display it:"
   ]
  },
  {
   "cell_type": "code",
   "execution_count": 4,
   "metadata": {
    "ExecuteTime": {
     "end_time": "2021-10-21T13:14:05.994572Z",
     "start_time": "2021-10-21T13:14:05.800758Z"
    },
    "execution": {
     "iopub.execute_input": "2024-06-11T10:21:19.427559Z",
     "iopub.status.busy": "2024-06-11T10:21:19.427131Z",
     "iopub.status.idle": "2024-06-11T10:21:19.432120Z",
     "shell.execute_reply": "2024-06-11T10:21:19.431554Z"
    }
   },
   "outputs": [
    {
     "data": {
      "text/html": [
       "\n",
       "        <table>\n",
       "            <tr>\n",
       "                <th>B_c->lnu::BR</th>\n",
       "                <td colspan=\"2\">(eos.Observable)</td>\n",
       "            </tr>\n",
       "            <tr>\n",
       "                <th rowspan=\"1\">kinematics</th>\n",
       "                <td colspan=2>none</td>\n",
       "            </tr>\n",
       "            \n",
       "            <tr>\n",
       "                <th rowspan=\"1\">options</th>\n",
       "                <th>q</th><td>c</td>\n",
       "            </tr>\n",
       "            \n",
       "            <tr>\n",
       "                <th>current value</th>\n",
       "                <td colspan=\"2\"><tt>9.883e-05</tt></td>\n",
       "            </tr>\n",
       "        </table>"
      ],
      "text/plain": [
       "<_eos.Observable at 0x7f50fcafdf50>"
      ]
     },
     "metadata": {},
     "output_type": "display_data"
    }
   ],
   "source": [
    "parameters = eos.Parameters.Defaults()\n",
    "obs = eos.Observable.make('B_c->lnu::BR', parameters, eos.Kinematics(), eos.Options())\n",
    "display(obs)"
   ]
  },
  {
   "cell_type": "markdown",
   "metadata": {},
   "source": [
    "The default option ``l=mu`` select $\\ell=\\mu$ as the lepton flavour. The value of the observable is shown\n",
    "to be about $9.8\\cdot 10^{-5}$; unfortunately, no experiment has been able to see this decay to date.\n",
    "\n",
    "By setting the ``l`` option to the value ``tau``, we create a different observable representing the $B_c^-\\to \\tau^-\\bar\\nu$ branching ratio:"
   ]
  },
  {
   "cell_type": "code",
   "execution_count": 5,
   "metadata": {
    "ExecuteTime": {
     "end_time": "2021-10-21T13:14:06.010353Z",
     "start_time": "2021-10-21T13:14:05.997515Z"
    },
    "execution": {
     "iopub.execute_input": "2024-06-11T10:21:19.434113Z",
     "iopub.status.busy": "2024-06-11T10:21:19.433937Z",
     "iopub.status.idle": "2024-06-11T10:21:19.438012Z",
     "shell.execute_reply": "2024-06-11T10:21:19.437549Z"
    }
   },
   "outputs": [
    {
     "data": {
      "text/html": [
       "\n",
       "        <table>\n",
       "            <tr>\n",
       "                <th>B_c->lnu::BR</th>\n",
       "                <td colspan=\"2\">(eos.Observable)</td>\n",
       "            </tr>\n",
       "            <tr>\n",
       "                <th rowspan=\"1\">kinematics</th>\n",
       "                <td colspan=2>none</td>\n",
       "            </tr>\n",
       "            \n",
       "            <tr>\n",
       "                <th rowspan=\"2\">options</th>\n",
       "                <th>l</th><td>tau</td>\n",
       "            </tr>\n",
       "            <tr><th>q</th><td>c</td></tr>\n",
       "            <tr>\n",
       "                <th>current value</th>\n",
       "                <td colspan=\"2\"><tt>0.02366</tt></td>\n",
       "            </tr>\n",
       "        </table>"
      ],
      "text/plain": [
       "<_eos.Observable at 0x7f50fcafe180>"
      ]
     },
     "metadata": {},
     "output_type": "display_data"
    }
   ],
   "source": [
    "obs = eos.Observable.make('B_c->lnu::BR', parameters, eos.Kinematics(), eos.Options(l='tau'))\n",
    "display(obs)"
   ]
  },
  {
   "cell_type": "markdown",
   "metadata": {},
   "source": [
    "The new observable yields a value of $2.4\\%$."
   ]
  },
  {
   "cell_type": "markdown",
   "metadata": {},
   "source": [
    "\n",
    "So far we have only evaluated an observable without kinematic dependence.\n",
    "To change this up, we will now transition to the second example, the differential branching fraction for $\\bar{B}\\to D\\ell^-\\bar\\nu$ accessible through the name ``B->Dlnu::dBR/dq2``.\n"
   ]
  },
  {
   "cell_type": "code",
   "execution_count": 6,
   "metadata": {
    "execution": {
     "iopub.execute_input": "2024-06-11T10:21:19.439941Z",
     "iopub.status.busy": "2024-06-11T10:21:19.439771Z",
     "iopub.status.idle": "2024-06-11T10:21:19.444105Z",
     "shell.execute_reply": "2024-06-11T10:21:19.443627Z"
    }
   },
   "outputs": [
    {
     "data": {
      "text/html": [
       "<table>\n",
       "<tr><th>QualifedName</th><td><tt style=\"color:grey\">B->Dlnu::dBR/dq2</tt></td></tr><tr><th>Description</th><td>$$d\\mathcal{B}(B\\to \\bar{D}\\ell^-\\bar\\nu)/dq^2$$</td></tr><tr><th rowspan=1>Kinematic Variables</th><td>q2</td></tr></table>"
      ],
      "text/plain": [
       "<_eos.ObservableEntry at 0x7f50fcafe1f0>"
      ]
     },
     "execution_count": 6,
     "metadata": {},
     "output_type": "execute_result"
    }
   ],
   "source": [
    "eos.Observables()['B->Dlnu::dBR/dq2']"
   ]
  },
  {
   "cell_type": "markdown",
   "metadata": {},
   "source": [
    "The differential branching fraction is accessible just as we did before, with the exception of providing the kinematic variables through an [eos.Kinematics](../reference/python.rst#eos.Kinematics) object."
   ]
  },
  {
   "cell_type": "code",
   "execution_count": 7,
   "metadata": {
    "execution": {
     "iopub.execute_input": "2024-06-11T10:21:19.446247Z",
     "iopub.status.busy": "2024-06-11T10:21:19.445892Z",
     "iopub.status.idle": "2024-06-11T10:21:19.450101Z",
     "shell.execute_reply": "2024-06-11T10:21:19.449634Z"
    }
   },
   "outputs": [
    {
     "data": {
      "text/html": [
       "\n",
       "        <table>\n",
       "            <tr>\n",
       "                <th>B->Dlnu::dBR/dq2</th>\n",
       "                <td colspan=\"2\">(eos.Observable)</td>\n",
       "            </tr>\n",
       "            <tr>\n",
       "                <th rowspan=\"1\">kinematics</th>\n",
       "                <th>q2</th><td>4.0</td>\n",
       "            </tr>\n",
       "            \n",
       "            <tr>\n",
       "                <th rowspan=\"3\">options</th>\n",
       "                <th>I</th><td>1/2</td>\n",
       "            </tr>\n",
       "            <tr><th>U</th><td>c</td></tr>\n",
       "<tr><th>l</th><td>tau</td></tr>\n",
       "            <tr>\n",
       "                <th>current value</th>\n",
       "                <td colspan=\"2\"><tt>0.0003846</tt></td>\n",
       "            </tr>\n",
       "        </table>"
      ],
      "text/plain": [
       "<_eos.Observable at 0x7f50fcafe340>"
      ]
     },
     "metadata": {},
     "output_type": "display_data"
    }
   ],
   "source": [
    "obs = eos.Observable.make('B->Dlnu::dBR/dq2', parameters, eos.Kinematics(q2=4.0), eos.Options(l='tau'))\n",
    "display(obs)"
   ]
  },
  {
   "cell_type": "markdown",
   "metadata": {},
   "source": [
    "This is not very helpful, since we can only look into a single observable at a single kinematic point at a time. To better illustrate the differential branching ratio,\n",
    "we use EOS's plot functions:"
   ]
  },
  {
   "cell_type": "code",
   "execution_count": 8,
   "metadata": {
    "ExecuteTime": {
     "end_time": "2021-10-21T13:14:09.734410Z",
     "start_time": "2021-10-21T13:14:06.013163Z"
    },
    "execution": {
     "iopub.execute_input": "2024-06-11T10:21:19.452020Z",
     "iopub.status.busy": "2024-06-11T10:21:19.451836Z",
     "iopub.status.idle": "2024-06-11T10:21:19.857674Z",
     "shell.execute_reply": "2024-06-11T10:21:19.857001Z"
    }
   },
   "outputs": [
    {
     "data": {
      "image/png": "[encoded data removed]",
      "text/plain": [
       "<Figure size 640x480 with 1 Axes>"
      ]
     },
     "metadata": {},
     "output_type": "display_data"
    }
   ],
   "source": [
    "plot_args = {\n",
    "    'plot': {\n",
    "        'x': { 'label': r'$q^2$', 'unit': r'$\\textnormal{GeV}^2$', 'range': [0.0, 11.60] },\n",
    "        'y': { 'label': r'$d\\mathcal{B}/dq^2$',                    'range': [0.0,  5e-3] },\n",
    "        'legend': { 'location': 'upper center' }\n",
    "    },\n",
    "    'contents': [\n",
    "        {\n",
    "            'label': r'$\\ell=\\mu$',\n",
    "            'type': 'observable',\n",
    "            'observable': 'B->Dlnu::dBR/dq2;l=mu',\n",
    "            'variable': 'q2',\n",
    "            'range': [0.02, 11.60],\n",
    "        },\n",
    "        {\n",
    "            'label': r'$\\ell=\\tau$',\n",
    "            'type': 'observable',\n",
    "            'observable': 'B->Dlnu::dBR/dq2;l=tau',\n",
    "            'variable': 'q2',\n",
    "            'range': [3.17, 11.60],\n",
    "        }\n",
    "    ]\n",
    "}\n",
    "_ = eos.plot.Plotter(plot_args).plot()"
   ]
  },
  {
   "cell_type": "markdown",
   "metadata": {},
   "source": [
    "The above shows two differential branching ratios: one for $\\ell = \\mu$ and one for $\\ell=\\tau$. The two are distinguished by specifying the `'l'` option as part of the observable's qualified name."
   ]
  },
  {
   "cell_type": "markdown",
   "metadata": {},
   "source": [
    "## Estimating Theory Uncertainties"
   ]
  },
  {
   "cell_type": "markdown",
   "metadata": {},
   "source": [
    "To estimate theoretical uncertainties of an observable $O$, EOS uses Bayesian statistics.\n",
    "Bayesian Statistics interprets the theory parameters as random variables $\\vec\\vartheta$ and assigns *a priori*\n",
    "probability density functions (prior PDFs) for each parameter, $P_0(\\vec\\vartheta)$.\n",
    "Random variates of the observables should then be distributed $O \\sim P_{0,O}$, where\n",
    "$$\n",
    "    P_{0,O}(o) = \\int d^N\\vartheta \\delta(O(\\vec\\vartheta) - o) \\, P_0(\\vec\\vartheta)\n",
    "$$\n",
    "with $N=\\dim \\vec\\vartheta$. We call $P_{0,O}(o)$ the prior-predictive distribution."
   ]
  },
  {
   "cell_type": "markdown",
   "metadata": {},
   "source": [
    "In many cases, the prior PDF $P_0(\\vec\\vartheta)$ is not readily available. Instead, only theoretical likelihoods $P(\\text{data}|\\vec\\vartheta)$ are available.\n",
    "In those case, we can use Bayes theorem to obtain the *a posteriori* PDF via\n",
    "$$\n",
    "    P(\\vec\\vartheta|\\text{data}) = \\frac{P(\\text{data}|\\vec\\vartheta) P_0(\\vec\\vartheta)}{P(\\text{data})}\\,.\n",
    "$$\n",
    "The definition of a posterior-predictive distribution then reads\n",
    "$$\n",
    "    P_{O}(o) = \\int d^N\\vartheta \\delta(O(\\vec\\vartheta) - o) \\, P(\\vec\\vartheta|\\text{data})\n",
    "$$"
   ]
  },
  {
   "cell_type": "markdown",
   "metadata": {},
   "source": [
    "EOS provides the means to draw and store Monte Carlo samples for a prior PDF $P_0(\\vec\\vartheta)$, a posterior PDF $P(\\vec\\vartheta|\\text{data})$, and predictive distributions. We store this data within a hierarchy of directories below a \"base directory\". For the purpose of the following examples, we set this base directory to ``./predictions-data``, stored in a convenient global variable."
   ]
  },
  {
   "cell_type": "code",
   "execution_count": 9,
   "metadata": {
    "execution": {
     "iopub.execute_input": "2024-06-11T10:21:19.860212Z",
     "iopub.status.busy": "2024-06-11T10:21:19.859813Z",
     "iopub.status.idle": "2024-06-11T10:21:19.862586Z",
     "shell.execute_reply": "2024-06-11T10:21:19.862085Z"
    }
   },
   "outputs": [],
   "source": [
    "EOS_BASE_DIRECTORY='./predictions-data'"
   ]
  },
  {
   "cell_type": "markdown",
   "metadata": {},
   "source": [
    "We continue with the first example from earlier: the branching ratio of $\\bar{B}_c^- \\to \\ell^-\\bar\\nu$ decays. To leading order in $\\alpha_e$, the decay amplitude is parametrized in terms of a single hadronic matrix element. The latter is known as the $B_c$ decay constant $f_{B_c}$, which is available within EOS as the parameter with qualified name `decay-constant::B_c`:"
   ]
  },
  {
   "cell_type": "code",
   "execution_count": 10,
   "metadata": {
    "execution": {
     "iopub.execute_input": "2024-06-11T10:21:19.864880Z",
     "iopub.status.busy": "2024-06-11T10:21:19.864528Z",
     "iopub.status.idle": "2024-06-11T10:21:19.869946Z",
     "shell.execute_reply": "2024-06-11T10:21:19.869356Z"
    }
   },
   "outputs": [
    {
     "data": {
      "text/html": [
       "\n",
       "    <table>\n",
       "        <tr>\n",
       "            <th>$$f_{B_c^\\pm}$$</th>\n",
       "            <td>(eos.Parameter)</td>\n",
       "        </tr>\n",
       "        <tr>\n",
       "            <th>current value</th>\n",
       "            <td><tt>0.434</tt></td>\n",
       "        </tr>\n",
       "        <tr>\n",
       "            <th>default value</th>\n",
       "            <td><tt>0.434</tt></td>\n",
       "        </tr>\n",
       "    </table>"
      ],
      "text/plain": [
       "<_eos.Parameter at 0x7f50fcb0be40>"
      ]
     },
     "execution_count": 10,
     "metadata": {},
     "output_type": "execute_result"
    }
   ],
   "source": [
    "eos.Parameters()['decay-constant::B_c']"
   ]
  },
  {
   "cell_type": "markdown",
   "metadata": {},
   "source": [
    "We assume Gaussian prior distributions for the decay constants of the $B_c$ meson with central value $0.434\\,\\text{GeV}$ and standard deviation $0.043\\,\\text{GeV}$.\n",
    "We specify the prior through the following contents of an analysis file:\n",
    "```yaml\n",
    "priors:\n",
    "  - name: DecayConstant\n",
    "    descriptions:\n",
    "      - { parameter: 'decay-constant::B_c',      min:  0.219, max: 0.649, type: 'gaussian', central: 0.434, sigma: 0.043 }\n",
    "  # ...\n",
    "\n",
    "posteriors:\n",
    "  - name: DecayConstant\n",
    "    prior:\n",
    "      - DecayConstant\n",
    "    likelihood: []\n",
    "  # ...\n",
    "\n",
    "predictions:\n",
    "  - name: Bc-to-tau-nu\n",
    "    observables:\n",
    "      - name: B_c->lnu::BR;l=tau\n",
    "  # ...\n",
    "```\n",
    "The range ``min`` to ``max`` is chosen to contain +/-5 standard deviations of the Gaussian bell curve. The above is a snippet of the accompanying file ``predictions.yaml``."
   ]
  },
  {
   "cell_type": "markdown",
   "metadata": {},
   "source": [
    "To draw samples from the (fake) posterior ``DecayConstant``, we use EOS ``tasks`` framework. A task is a repeatedly used piece of code that can rely on the output of previous tasks and store its results for following tasks or further processing with custom Python code.\n",
    "\n",
    "The task to draw random samples from a (fake) posterior that contains only prior information and no likelihood is called ``sample_prior``. It is called as follows within Python:"
   ]
  },
  {
   "cell_type": "code",
   "execution_count": 11,
   "metadata": {
    "execution": {
     "iopub.execute_input": "2024-06-11T10:21:19.872213Z",
     "iopub.status.busy": "2024-06-11T10:21:19.871863Z",
     "iopub.status.idle": "2024-06-11T10:21:19.952685Z",
     "shell.execute_reply": "2024-06-11T10:21:19.952205Z"
    }
   },
   "outputs": [
    {
     "data": {
      "application/vnd.jupyter.widget-view+json": {
       "model_id": "92901480b2a043bdb2607534c26bb2fc",
       "version_major": 2,
       "version_minor": 0
      },
      "text/plain": [
       "Accordion(children=(Output(layout=Layout(height='200px', overflow='auto')),), titles=('DecayConstant/samples',…"
      ]
     },
     "metadata": {},
     "output_type": "display_data"
    }
   ],
   "source": [
    "eos.tasks.sample_prior('./predictions.yaml', 'DecayConstant', base_directory=EOS_BASE_DIRECTORY, N=2000, seed=42)"
   ]
  },
  {
   "cell_type": "markdown",
   "metadata": {},
   "source": [
    "As a result of running this task, the contents of our base directory now looks as follows:"
   ]
  },
  {
   "cell_type": "code",
   "execution_count": 12,
   "metadata": {
    "execution": {
     "iopub.execute_input": "2024-06-11T10:21:19.954899Z",
     "iopub.status.busy": "2024-06-11T10:21:19.954557Z",
     "iopub.status.idle": "2024-06-11T10:21:20.215208Z",
     "shell.execute_reply": "2024-06-11T10:21:20.214479Z"
    }
   },
   "outputs": [
    {
     "name": "stdout",
     "output_type": "stream",
     "text": [
      "/usr/bin/sh: 1: tree: not found\r\n"
     ]
    }
   ],
   "source": [
    "!tree ./predictions-data"
   ]
  },
  {
   "cell_type": "markdown",
   "metadata": {},
   "source": [
    "If needed, we can inspect these samples by loading them from disk. This is achieved through the ``eos.data.ImportanceSamples`` class. For example, we can use it to confirm that indeed 2000 samples have been produced:"
   ]
  },
  {
   "cell_type": "code",
   "execution_count": 13,
   "metadata": {
    "execution": {
     "iopub.execute_input": "2024-06-11T10:21:20.218011Z",
     "iopub.status.busy": "2024-06-11T10:21:20.217660Z",
     "iopub.status.idle": "2024-06-11T10:21:20.223393Z",
     "shell.execute_reply": "2024-06-11T10:21:20.222845Z"
    }
   },
   "outputs": [
    {
     "data": {
      "text/plain": [
       "(2000, 1)"
      ]
     },
     "metadata": {},
     "output_type": "display_data"
    }
   ],
   "source": [
    "output = eos.data.ImportanceSamples(EOS_BASE_DIRECTORY + '/DecayConstant/samples')\n",
    "display(output.samples.shape)"
   ]
  },
  {
   "cell_type": "markdown",
   "metadata": {},
   "source": [
    "We can now pass the previously-obtained prior samples to the ``predict-observables`` task, thereby producing samples of the prior-predictive PDF for the observable at hand:"
   ]
  },
  {
   "cell_type": "code",
   "execution_count": 14,
   "metadata": {
    "execution": {
     "iopub.execute_input": "2024-06-11T10:21:20.225689Z",
     "iopub.status.busy": "2024-06-11T10:21:20.225257Z",
     "iopub.status.idle": "2024-06-11T10:21:20.306237Z",
     "shell.execute_reply": "2024-06-11T10:21:20.305725Z"
    }
   },
   "outputs": [
    {
     "data": {
      "application/vnd.jupyter.widget-view+json": {
       "model_id": "722d0aec8c854b9c809d58ee8453edbd",
       "version_major": 2,
       "version_minor": 0
      },
      "text/plain": [
       "Accordion(children=(Output(layout=Layout(height='200px', overflow='auto')),), titles=('DecayConstant/pred-Bc-t…"
      ]
     },
     "metadata": {},
     "output_type": "display_data"
    }
   ],
   "source": [
    "eos.tasks.predict_observables('./predictions.yaml', 'DecayConstant', 'Bc-to-tau-nu', base_directory=EOS_BASE_DIRECTORY)"
   ]
  },
  {
   "cell_type": "markdown",
   "metadata": {},
   "source": [
    "The resulting prior-samples are stored in a directory named for the prediction set (``pred-Bc-to-tau-nu``) within the posterior directory (``DecayConstant``):"
   ]
  },
  {
   "cell_type": "code",
   "execution_count": 15,
   "metadata": {
    "execution": {
     "iopub.execute_input": "2024-06-11T10:21:20.309534Z",
     "iopub.status.busy": "2024-06-11T10:21:20.309362Z",
     "iopub.status.idle": "2024-06-11T10:21:20.555328Z",
     "shell.execute_reply": "2024-06-11T10:21:20.554637Z"
    }
   },
   "outputs": [
    {
     "name": "stdout",
     "output_type": "stream",
     "text": [
      "/usr/bin/sh: 1: tree: not found\r\n"
     ]
    }
   ],
   "source": [
    "!tree ./predictions-data"
   ]
  },
  {
   "cell_type": "markdown",
   "metadata": {},
   "source": [
    "We can inspect the so-obtained predictive samples using the ``eos.data.Prediction`` class. The following code loads the samples from disk and compute the (weighted) average and standard deviation:"
   ]
  },
  {
   "cell_type": "code",
   "execution_count": 16,
   "metadata": {
    "execution": {
     "iopub.execute_input": "2024-06-11T10:21:20.558312Z",
     "iopub.status.busy": "2024-06-11T10:21:20.557921Z",
     "iopub.status.idle": "2024-06-11T10:21:20.564257Z",
     "shell.execute_reply": "2024-06-11T10:21:20.563791Z"
    }
   },
   "outputs": [
    {
     "name": "stdout",
     "output_type": "stream",
     "text": [
      "BR(B_c->tau nu) = 2.39 +/- 0.47 %\n"
     ]
    }
   ],
   "source": [
    "import numpy as np\n",
    "prediction = eos.data.Prediction(EOS_BASE_DIRECTORY + '/DecayConstant/pred-Bc-to-tau-nu')\n",
    "avg = np.average(prediction.samples[:, 0], weights=prediction.weights, axis=0)\n",
    "std = np.sqrt(np.average((prediction.samples[:, 0] - avg)**2, weights=prediction.weights, axis=0))\n",
    "print(f'BR(B_c->tau nu) = {100 * avg:.2f} +/- {100 * std:.2f} %')"
   ]
  },
  {
   "cell_type": "markdown",
   "metadata": {},
   "source": [
    "We carry on using the previously shown second example: the integrated branching ratios of $\\bar{B}^-\\to D^0\\left\\lbrace\\mu^-, \\tau^-\\right\\rbrace\\bar\\nu$ decays.\n",
    "The largest source of theoretical uncertainty in these decays arises from the hadronic matrix elements, i.e.,\n",
    "from the form factors $f^{B\\to \\bar{D}}_+(q^2)$ and $f^{B\\to \\bar{D}}_0(q^2)$.\n",
    "Both form factors have been obtained independently using lattice QCD simulations by the HPQCD and Fermilab/MILC (FNAL+MILC) collaborations.\n",
    "No prior PDF $P_0$ is available; hence, we have to construct a suitable likelihood.\n",
    "We construct a joint likelihood for both form factors at different $q^2$ values of each prediction are available in EOS as `Constraint` objects under the names ``B->D::f_++f_0@HPQCD2015A`` and ``B->D::f_++f_0@FNAL+MILC2015B``.\n",
    "\n",
    "To use these constraints, we must first decide how to parametrize the form factors.\n",
    "For what follows we will use a simplified series expansion (abbreviated SSE) up to order $N = 2$.\n",
    "The form factors are written as ([BFW:2010A], [BSZ:2015A]): $$f_i(z) = \\frac{1}{1 - q^2/m_{R_i}^2} \\sum_{k=0}^N \\alpha^{f_i}_k z^k \\, , \\qquad \\text{with } z(q^2, t_0) = \\frac{\\sqrt{t_+ - q^2} - \\sqrt{t_+ - t_0}}{\\sqrt{t_+ - q^2} + \\sqrt{t_+ - t_0}}.$$"
   ]
  },
  {
   "cell_type": "markdown",
   "metadata": {},
   "source": [
    "We specify the posterior with this combined likelihood through the following contents of an analysis file:\n",
    "```yaml\n",
    "priors:\n",
    "  # other prior components\n",
    "  - name: FF-SSE\n",
    "    descriptions:\n",
    "        { parameter: 'B->D::alpha^f+_0@BSZ2015', min:  0.0, max:  1.0, type: 'uniform' }\n",
    "        { parameter: 'B->D::alpha^f+_1@BSZ2015', min: -5.0, max: +5.0, type: 'uniform' }\n",
    "        { parameter: 'B->D::alpha^f+_2@BSZ2015', min: -5.0, max: +5.0, type: 'uniform' }\n",
    "        { parameter: 'B->D::alpha^f0_1@BSZ2015', min: -5.0, max: +5.0, type: 'uniform' }\n",
    "        { parameter: 'B->D::alpha^f0_2@BSZ2015', min: -5.0, max: +5.0, type: 'uniform' }\n",
    "\n",
    "likelihoods:\n",
    "  - name: FF-LQCD\n",
    "    constraints:\n",
    "      - 'B->D::f_++f_0@HPQCD:2015A'\n",
    "      - 'B->D::f_++f_0@FNAL+MILC:2015B'\n",
    "\n",
    "posteriors:\n",
    "  # other posteriors\n",
    "  - name: FF-LQCD-SSE\n",
    "    global_options:\n",
    "      form-factors: BSZ2015\n",
    "    prior:\n",
    "      - FF-SSE\n",
    "    likelihood:\n",
    "      - FF-LQCD\n",
    "\n",
    "predictions:\n",
    "  # other predictions\n",
    "  - name: B-to-D-mu-nu\n",
    "    observables:\n",
    "      - name: B->Dlnu::dBR/dq2;l=mu\n",
    "        kinematics: [ { q2:  0.02 }, { q2:  0.05 }, { q2:  0.10 }, { q2:  0.15 }, { q2:  0.20 }, { q2:  0.25 },\n",
    "                      { q2:  0.30 }, { q2:  0.35 }, { q2:  0.40 }, { q2:  0.45 }, { q2:  0.50 }, { q2:  0.55 },\n",
    "                      { q2:  0.60 }, { q2:  0.65 }, { q2:  0.70 }, { q2:  0.75 }, { q2:  0.80 }, { q2:  0.85 },\n",
    "                      { q2:  0.90 }, { q2:  0.95 }, { q2:  1.0  }, { q2:  1.5  }, { q2:  2.0  }, { q2:  2.5  },\n",
    "                      { q2:  3.0  }, { q2:  4.0  }, { q2:  5.0  }, { q2:  6.0 }, { q2:  7.0 }, { q2:  8.0 },\n",
    "                      { q2:  9.0  }, { q2: 10.0  }, { q2: 11.0  }, { q2: 11.6 } ]\n",
    "\n",
    "  - name: B-to-D-tau-nu\n",
    "    observables:\n",
    "      - name: B->Dlnu::dBR/dq2;l=tau\n",
    "        kinematics: [ { q2:  3.2  }, { q2:  4.0 }, { q2:  5.0 }, { q2:  6.0 }, { q2:  7.0 }, { q2:  8.0 },\n",
    "                      { q2:  9.0  }, { q2: 10.0 }, { q2: 11.0 }, { q2: 11.6 } ]\n",
    "```"
   ]
  },
  {
   "cell_type": "markdown",
   "metadata": {},
   "source": [
    "In the above, we made sure to provide the option `form-factors=BSZ2015` to ensure that the right form factor parametrization is used."
   ]
  },
  {
   "cell_type": "markdown",
   "metadata": {},
   "source": [
    "As before, the first step is to sample from the log(posterior). To samples from an intractable posterior PDF, EOS provides the ``sample-nested`` tasks that interfaces with the ``dynesty`` software.\n",
    "The latter implements black-box posterior sampling by means of the dynamical nested sampling algorithm. The latter requires as controlling input the number of live points (``nlive``) and a threshold for the estimate of the remaining log evidence (``dlogz``). Increasing the former or decreasing the latter will lead to a larger number of importance samples and a longer sampling time.\n",
    "We refer to the ``dynesty`` documentation for a detailed explanation of both quantities."
   ]
  },
  {
   "cell_type": "markdown",
   "metadata": {},
   "source": [
    "\n",
    "A typical call to ``sample-nested`` reads:"
   ]
  },
  {
   "cell_type": "code",
   "execution_count": 17,
   "metadata": {
    "ExecuteTime": {
     "end_time": "2021-10-21T13:14:39.797617Z",
     "start_time": "2021-10-21T13:14:11.584844Z"
    },
    "execution": {
     "iopub.execute_input": "2024-06-11T10:21:20.566495Z",
     "iopub.status.busy": "2024-06-11T10:21:20.566192Z",
     "iopub.status.idle": "2024-06-11T10:21:37.896696Z",
     "shell.execute_reply": "2024-06-11T10:21:37.896172Z"
    }
   },
   "outputs": [
    {
     "data": {
      "application/vnd.jupyter.widget-view+json": {
       "model_id": "e14e8c0895eb45b793c0a6a1dafac29c",
       "version_major": 2,
       "version_minor": 0
      },
      "text/plain": [
       "Accordion(children=(Output(layout=Layout(height='200px', overflow='auto')),), titles=('FF-LQCD-SSE/nested',))"
      ]
     },
     "metadata": {},
     "output_type": "display_data"
    }
   ],
   "source": [
    "eos.tasks.sample_nested('predictions.yaml', 'FF-LQCD-SSE', base_directory=EOS_BASE_DIRECTORY, nlive=250, dlogz=0.5, seed=42)"
   ]
  },
  {
   "cell_type": "markdown",
   "metadata": {},
   "source": [
    "The state of our base directory for storing the associated data now looks as follows:"
   ]
  },
  {
   "cell_type": "code",
   "execution_count": 18,
   "metadata": {
    "execution": {
     "iopub.execute_input": "2024-06-11T10:21:38.135618Z",
     "iopub.status.busy": "2024-06-11T10:21:38.135434Z",
     "iopub.status.idle": "2024-06-11T10:21:38.396275Z",
     "shell.execute_reply": "2024-06-11T10:21:38.395537Z"
    }
   },
   "outputs": [
    {
     "name": "stdout",
     "output_type": "stream",
     "text": [
      "/usr/bin/sh: 1: tree: not found\r\n"
     ]
    }
   ],
   "source": [
    "!tree -L 2 ./predictions-data"
   ]
  },
  {
   "cell_type": "markdown",
   "metadata": {},
   "source": [
    "The posterior samples at hand, we can then produce the posterior-predictive samples as before, using the ``predict-observables`` task for our two prediction sets ``B-to-D-mu-nu`` and ``B-to-D-tau-nu``:"
   ]
  },
  {
   "cell_type": "code",
   "execution_count": 19,
   "metadata": {
    "execution": {
     "iopub.execute_input": "2024-06-11T10:21:38.399391Z",
     "iopub.status.busy": "2024-06-11T10:21:38.398988Z",
     "iopub.status.idle": "2024-06-11T10:21:40.525956Z",
     "shell.execute_reply": "2024-06-11T10:21:40.525458Z"
    }
   },
   "outputs": [
    {
     "data": {
      "application/vnd.jupyter.widget-view+json": {
       "model_id": "f257edd9071c434eb16cd7399762bbde",
       "version_major": 2,
       "version_minor": 0
      },
      "text/plain": [
       "Accordion(children=(Output(layout=Layout(height='200px', overflow='auto')),), titles=('FF-LQCD-SSE/pred-B-to-D…"
      ]
     },
     "metadata": {},
     "output_type": "display_data"
    },
    {
     "data": {
      "application/vnd.jupyter.widget-view+json": {
       "model_id": "89d99bc3de104edbab977bc380ae08c9",
       "version_major": 2,
       "version_minor": 0
      },
      "text/plain": [
       "Accordion(children=(Output(layout=Layout(height='200px', overflow='auto')),), titles=('FF-LQCD-SSE/pred-B-to-D…"
      ]
     },
     "metadata": {},
     "output_type": "display_data"
    }
   ],
   "source": [
    "eos.tasks.predict_observables('predictions.yaml', 'FF-LQCD-SSE', 'B-to-D-mu-nu',  base_directory=EOS_BASE_DIRECTORY)\n",
    "eos.tasks.predict_observables('predictions.yaml', 'FF-LQCD-SSE', 'B-to-D-tau-nu', base_directory=EOS_BASE_DIRECTORY)"
   ]
  },
  {
   "cell_type": "markdown",
   "metadata": {},
   "source": [
    "Using the EOS plotting framework, we readily illustrate the posterior-predictive distributions as functions of the momentum transfer $q^2$:"
   ]
  },
  {
   "cell_type": "code",
   "execution_count": 20,
   "metadata": {
    "ExecuteTime": {
     "end_time": "2021-10-21T13:14:58.765178Z",
     "start_time": "2021-10-21T13:14:58.034351Z"
    },
    "execution": {
     "iopub.execute_input": "2024-06-11T10:21:40.531917Z",
     "iopub.status.busy": "2024-06-11T10:21:40.531682Z",
     "iopub.status.idle": "2024-06-11T10:21:40.965645Z",
     "shell.execute_reply": "2024-06-11T10:21:40.965030Z"
    }
   },
   "outputs": [
    {
     "data": {
      "image/png": "[encoded data removed]",
      "text/plain": [
       "<Figure size 640x480 with 1 Axes>"
      ]
     },
     "metadata": {},
     "output_type": "display_data"
    }
   ],
   "source": [
    "plot_args = {\n",
    "    'plot': {\n",
    "        'x': { 'label': r'$q^2$', 'unit': r'$\\textnormal{GeV}^2$', 'range': [0.0, 11.60] },\n",
    "        'y': { 'label': r'$d\\mathcal{B}/dq^2$',                    'range': [0.0,  5e-3] },\n",
    "        'legend': { 'location': 'upper center' }\n",
    "    },\n",
    "    'contents': [\n",
    "        {\n",
    "          'label': r'$\\ell=\\mu$', 'type': 'uncertainty', 'range': [0.02, 11.60],\n",
    "          'data-file': f'{EOS_BASE_DIRECTORY}/FF-LQCD-SSE/pred-B-to-D-mu-nu'\n",
    "        },\n",
    "        {\n",
    "          'label': r'$\\ell=\\tau$','type': 'uncertainty', 'range': [3.17, 11.60],\n",
    "          'data-file': f'{EOS_BASE_DIRECTORY}/FF-LQCD-SSE/pred-B-to-D-tau-nu'\n",
    "        },\n",
    "    ]\n",
    "}\n",
    "_ = eos.plot.Plotter(plot_args).plot()"
   ]
  },
  {
   "cell_type": "markdown",
   "metadata": {},
   "source": [
    "For details on the plotting framework, including a list of the supported plot types, we refer to the reference part of the documentation."
   ]
  }
 ],
 "metadata": {
  "kernelspec": {
   "display_name": "Python 3",
   "language": "python",
   "name": "python3"
  },
  "language_info": {
   "codemirror_mode": {
    "name": "ipython",
    "version": 3
   },
   "file_extension": ".py",
   "mimetype": "text/x-python",
   "name": "python",
   "nbconvert_exporter": "python",
   "pygments_lexer": "ipython3",
   "version": "3.10.12"
  },
  "toc": {
   "base_numbering": 1,
   "nav_menu": {},
   "number_sections": true,
   "sideBar": true,
   "skip_h1_title": false,
   "title_cell": "Table of Contents",
   "title_sidebar": "Contents",
   "toc_cell": false,
   "toc_position": {},
   "toc_section_display": true,
   "toc_window_display": false
  },
  "widgets": {
   "application/vnd.jupyter.widget-state+json": {
    "state": {
     "0245b6a09c25461f8e993c5d526bd7cb": {
      "model_module": "@jupyter-widgets/base",
      "model_module_version": "2.0.0",
      "model_name": "LayoutModel",
      "state": {
       "_model_module": "@jupyter-widgets/base",
       "_model_module_version": "2.0.0",
       "_model_name": "LayoutModel",
       "_view_count": null,
       "_view_module": "@jupyter-widgets/base",
       "_view_module_version": "2.0.0",
       "_view_name": "LayoutView",
       "align_content": null,
       "align_items": null,
       "align_self": null,
       "border_bottom": null,
       "border_left": null,
       "border_right": null,
       "border_top": null,
       "bottom": null,
       "display": null,
       "flex": null,
       "flex_flow": null,
       "grid_area": null,
       "grid_auto_columns": null,
       "grid_auto_flow": null,
       "grid_auto_rows": null,
       "grid_column": null,
       "grid_gap": null,
       "grid_row": null,
       "grid_template_areas": null,
       "grid_template_columns": null,
       "grid_template_rows": null,
       "height": null,
       "justify_content": null,
       "justify_items": null,
       "left": null,
       "margin": null,
       "max_height": null,
       "max_width": null,
       "min_height": null,
       "min_width": null,
       "object_fit": null,
       "object_position": null,
       "order": null,
       "overflow": null,
       "padding": null,
       "right": null,
       "top": null,
       "visibility": null,
       "width": null
      }
     },
     "06b6b4b2174143858c82126354c62df5": {
      "model_module": "@jupyter-widgets/base",
      "model_module_version": "2.0.0",
      "model_name": "LayoutModel",
      "state": {
       "_model_module": "@jupyter-widgets/base",
       "_model_module_version": "2.0.0",
       "_model_name": "LayoutModel",
       "_view_count": null,
       "_view_module": "@jupyter-widgets/base",
       "_view_module_version": "2.0.0",
       "_view_name": "LayoutView",
       "align_content": null,
       "align_items": null,
       "align_self": null,
       "border_bottom": null,
       "border_left": null,
       "border_right": null,
       "border_top": null,
       "bottom": null,
       "display": null,
       "flex": null,
       "flex_flow": null,
       "grid_area": null,
       "grid_auto_columns": null,
       "grid_auto_flow": null,
       "grid_auto_rows": null,
       "grid_column": null,
       "grid_gap": null,
       "grid_row": null,
       "grid_template_areas": null,
       "grid_template_columns": null,
       "grid_template_rows": null,
       "height": null,
       "justify_content": null,
       "justify_items": null,
       "left": null,
       "margin": null,
       "max_height": null,
       "max_width": null,
       "min_height": null,
       "min_width": null,
       "object_fit": null,
       "object_position": null,
       "order": null,
       "overflow": null,
       "padding": null,
       "right": null,
       "top": null,
       "visibility": null,
       "width": null
      }
     },
     "087af385620d4b5e9d9584e6e0f5775a": {
      "model_module": "@jupyter-widgets/controls",
      "model_module_version": "2.0.0",
      "model_name": "HTMLModel",
      "state": {
       "_dom_classes": [],
       "_model_module": "@jupyter-widgets/controls",
       "_model_module_version": "2.0.0",
       "_model_name": "HTMLModel",
       "_view_count": null,
       "_view_module": "@jupyter-widgets/controls",
       "_view_module_version": "2.0.0",
       "_view_name": "HTMLView",
       "description": "",
       "description_allow_html": false,
       "layout": "IPY_MODEL_7dd6435802d842b1b52fbd07aeb76463",
       "placeholder": "​",
       "style": "IPY_MODEL_59ffa14f41f241a3a151746671071b9d",
       "tabbable": null,
       "tooltip": null,
       "value": " 14691/14691 [00:00&lt;00:00, 19482.05it/s]"
      }
     },
     "0a2a4025f88f4e939d623c4f77990bea": {
      "model_module": "@jupyter-widgets/controls",
      "model_module_version": "2.0.0",
      "model_name": "HTMLModel",
      "state": {
       "_dom_classes": [],
       "_model_module": "@jupyter-widgets/controls",
       "_model_module_version": "2.0.0",
       "_model_name": "HTMLModel",
       "_view_count": null,
       "_view_module": "@jupyter-widgets/controls",
       "_view_module_version": "2.0.0",
       "_view_name": "HTMLView",
       "description": "",
       "description_allow_html": false,
       "layout": "IPY_MODEL_06b6b4b2174143858c82126354c62df5",
       "placeholder": "​",
       "style": "IPY_MODEL_940ac20f32de4f3ba2a3572f092e7324",
       "tabbable": null,
       "tooltip": null,
       "value": "100%"
      }
     },
     "0a68fd04074f44b0964c08dfb77fc3d8": {
      "model_module": "@jupyter-widgets/controls",
      "model_module_version": "2.0.0",
      "model_name": "HTMLStyleModel",
      "state": {
       "_model_module": "@jupyter-widgets/controls",
       "_model_module_version": "2.0.0",
       "_model_name": "HTMLStyleModel",
       "_view_count": null,
       "_view_module": "@jupyter-widgets/base",
       "_view_module_version": "2.0.0",
       "_view_name": "StyleView",
       "background": null,
       "description_width": "",
       "font_size": null,
       "text_color": null
      }
     },
     "0c9757c3eb924308a434853f5df71c88": {
      "model_module": "@jupyter-widgets/controls",
      "model_module_version": "2.0.0",
      "model_name": "HBoxModel",
      "state": {
       "_dom_classes": [],
       "_model_module": "@jupyter-widgets/controls",
       "_model_module_version": "2.0.0",
       "_model_name": "HBoxModel",
       "_view_count": null,
       "_view_module": "@jupyter-widgets/controls",
       "_view_module_version": "2.0.0",
       "_view_name": "HBoxView",
       "box_style": "",
       "children": [
        "IPY_MODEL_e1dcc272e0594838a795e248fb0179b3",
        "IPY_MODEL_ca9a337e502742b586001d4f585feb1e",
        "IPY_MODEL_20d146f617784fa285576c6f08d552e4"
       ],
       "layout": "IPY_MODEL_7ae742f2565644a29a32ae567ef72960",
       "tabbable": null,
       "tooltip": null
      }
     },
     "0eb6047febb34bfa8fcdc73befc03b11": {
      "model_module": "@jupyter-widgets/base",
      "model_module_version": "2.0.0",
      "model_name": "LayoutModel",
      "state": {
       "_model_module": "@jupyter-widgets/base",
       "_model_module_version": "2.0.0",
       "_model_name": "LayoutModel",
       "_view_count": null,
       "_view_module": "@jupyter-widgets/base",
       "_view_module_version": "2.0.0",
       "_view_name": "LayoutView",
       "align_content": null,
       "align_items": null,
       "align_self": null,
       "border_bottom": null,
       "border_left": null,
       "border_right": null,
       "border_top": null,
       "bottom": null,
       "display": null,
       "flex": null,
       "flex_flow": null,
       "grid_area": null,
       "grid_auto_columns": null,
       "grid_auto_flow": null,
       "grid_auto_rows": null,
       "grid_column": null,
       "grid_gap": null,
       "grid_row": null,
       "grid_template_areas": null,
       "grid_template_columns": null,
       "grid_template_rows": null,
       "height": null,
       "justify_content": null,
       "justify_items": null,
       "left": null,
       "margin": null,
       "max_height": null,
       "max_width": null,
       "min_height": null,
       "min_width": null,
       "object_fit": null,
       "object_position": null,
       "order": null,
       "overflow": null,
       "padding": null,
       "right": null,
       "top": null,
       "visibility": null,
       "width": null
      }
     },
     "1012288fe0e7436f9f2603f8a77ffd6d": {
      "model_module": "@jupyter-widgets/controls",
      "model_module_version": "2.0.0",
      "model_name": "HTMLStyleModel",
      "state": {
       "_model_module": "@jupyter-widgets/controls",
       "_model_module_version": "2.0.0",
       "_model_name": "HTMLStyleModel",
       "_view_count": null,
       "_view_module": "@jupyter-widgets/base",
       "_view_module_version": "2.0.0",
       "_view_name": "StyleView",
       "background": null,
       "description_width": "",
       "font_size": null,
       "text_color": null
      }
     },
     "13889f5c6e4c481ea879b2ba5899e9cd": {
      "model_module": "@jupyter-widgets/base",
      "model_module_version": "2.0.0",
      "model_name": "LayoutModel",
      "state": {
       "_model_module": "@jupyter-widgets/base",
       "_model_module_version": "2.0.0",
       "_model_name": "LayoutModel",
       "_view_count": null,
       "_view_module": "@jupyter-widgets/base",
       "_view_module_version": "2.0.0",
       "_view_name": "LayoutView",
       "align_content": null,
       "align_items": null,
       "align_self": null,
       "border_bottom": null,
       "border_left": null,
       "border_right": null,
       "border_top": null,
       "bottom": null,
       "display": null,
       "flex": null,
       "flex_flow": null,
       "grid_area": null,
       "grid_auto_columns": null,
       "grid_auto_flow": null,
       "grid_auto_rows": null,
       "grid_column": null,
       "grid_gap": null,
       "grid_row": null,
       "grid_template_areas": null,
       "grid_template_columns": null,
       "grid_template_rows": null,
       "height": null,
       "justify_content": null,
       "justify_items": null,
       "left": null,
       "margin": null,
       "max_height": null,
       "max_width": null,
       "min_height": null,
       "min_width": null,
       "object_fit": null,
       "object_position": null,
       "order": null,
       "overflow": null,
       "padding": null,
       "right": null,
       "top": null,
       "visibility": null,
       "width": null
      }
     },
     "156cfcd6ba564448a7f64ddc8cbc74ae": {
      "model_module": "@jupyter-widgets/controls",
      "model_module_version": "2.0.0",
      "model_name": "ProgressStyleModel",
      "state": {
       "_model_module": "@jupyter-widgets/controls",
       "_model_module_version": "2.0.0",
       "_model_name": "ProgressStyleModel",
       "_view_count": null,
       "_view_module": "@jupyter-widgets/base",
       "_view_module_version": "2.0.0",
       "_view_name": "StyleView",
       "bar_color": null,
       "description_width": ""
      }
     },
     "18d521d1ce524390847c100b9a60e281": {
      "model_module": "@jupyter-widgets/base",
      "model_module_version": "2.0.0",
      "model_name": "LayoutModel",
      "state": {
       "_model_module": "@jupyter-widgets/base",
       "_model_module_version": "2.0.0",
       "_model_name": "LayoutModel",
       "_view_count": null,
       "_view_module": "@jupyter-widgets/base",
       "_view_module_version": "2.0.0",
       "_view_name": "LayoutView",
       "align_content": null,
       "align_items": null,
       "align_self": null,
       "border_bottom": null,
       "border_left": null,
       "border_right": null,
       "border_top": null,
       "bottom": null,
       "display": null,
       "flex": null,
       "flex_flow": null,
       "grid_area": null,
       "grid_auto_columns": null,
       "grid_auto_flow": null,
       "grid_auto_rows": null,
       "grid_column": null,
       "grid_gap": null,
       "grid_row": null,
       "grid_template_areas": null,
       "grid_template_columns": null,
       "grid_template_rows": null,
       "height": null,
       "justify_content": null,
       "justify_items": null,
       "left": null,
       "margin": null,
       "max_height": null,
       "max_width": null,
       "min_height": null,
       "min_width": null,
       "object_fit": null,
       "object_position": null,
       "order": null,
       "overflow": null,
       "padding": null,
       "right": null,
       "top": null,
       "visibility": null,
       "width": null
      }
     },
     "1d1367f3336d4aa5945e585b35a591cc": {
      "model_module": "@jupyter-widgets/base",
      "model_module_version": "2.0.0",
      "model_name": "LayoutModel",
      "state": {
       "_model_module": "@jupyter-widgets/base",
       "_model_module_version": "2.0.0",
       "_model_name": "LayoutModel",
       "_view_count": null,
       "_view_module": "@jupyter-widgets/base",
       "_view_module_version": "2.0.0",
       "_view_name": "LayoutView",
       "align_content": null,
       "align_items": null,
       "align_self": null,
       "border_bottom": null,
       "border_left": null,
       "border_right": null,
       "border_top": null,
       "bottom": null,
       "display": null,
       "flex": null,
       "flex_flow": null,
       "grid_area": null,
       "grid_auto_columns": null,
       "grid_auto_flow": null,
       "grid_auto_rows": null,
       "grid_column": null,
       "grid_gap": null,
       "grid_row": null,
       "grid_template_areas": null,
       "grid_template_columns": null,
       "grid_template_rows": null,
       "height": "200px",
       "justify_content": null,
       "justify_items": null,
       "left": null,
       "margin": null,
       "max_height": null,
       "max_width": null,
       "min_height": null,
       "min_width": null,
       "object_fit": null,
       "object_position": null,
       "order": null,
       "overflow": "auto",
       "padding": null,
       "right": null,
       "top": null,
       "visibility": null,
       "width": null
      }
     },
     "20d146f617784fa285576c6f08d552e4": {
      "model_module": "@jupyter-widgets/controls",
      "model_module_version": "2.0.0",
      "model_name": "HTMLModel",
      "state": {
       "_dom_classes": [],
       "_model_module": "@jupyter-widgets/controls",
       "_model_module_version": "2.0.0",
       "_model_name": "HTMLModel",
       "_view_count": null,
       "_view_module": "@jupyter-widgets/controls",
       "_view_module_version": "2.0.0",
       "_view_name": "HTMLView",
       "description": "",
       "description_allow_html": false,
       "layout": "IPY_MODEL_0eb6047febb34bfa8fcdc73befc03b11",
       "placeholder": "​",
       "style": "IPY_MODEL_58051a175794450890e3057bf69f15ed",
       "tabbable": null,
       "tooltip": null,
       "value": " 2000/2000 [00:00&lt;00:00, 38301.52it/s]"
      }
     },
     "2424db79916e4d6884e57c3b1ddf1891": {
      "model_module": "@jupyter-widgets/base",
      "model_module_version": "2.0.0",
      "model_name": "LayoutModel",
      "state": {
       "_model_module": "@jupyter-widgets/base",
       "_model_module_version": "2.0.0",
       "_model_name": "LayoutModel",
       "_view_count": null,
       "_view_module": "@jupyter-widgets/base",
       "_view_module_version": "2.0.0",
       "_view_name": "LayoutView",
       "align_content": null,
       "align_items": null,
       "align_self": null,
       "border_bottom": null,
       "border_left": null,
       "border_right": null,
       "border_top": null,
       "bottom": null,
       "display": null,
       "flex": null,
       "flex_flow": null,
       "grid_area": null,
       "grid_auto_columns": null,
       "grid_auto_flow": null,
       "grid_auto_rows": null,
       "grid_column": null,
       "grid_gap": null,
       "grid_row": null,
       "grid_template_areas": null,
       "grid_template_columns": null,
       "grid_template_rows": null,
       "height": "200px",
       "justify_content": null,
       "justify_items": null,
       "left": null,
       "margin": null,
       "max_height": null,
       "max_width": null,
       "min_height": null,
       "min_width": null,
       "object_fit": null,
       "object_position": null,
       "order": null,
       "overflow": "auto",
       "padding": null,
       "right": null,
       "top": null,
       "visibility": null,
       "width": null
      }
     },
     "2bc1acacbe8249c8871f3108b187748e": {
      "model_module": "@jupyter-widgets/controls",
      "model_module_version": "2.0.0",
      "model_name": "HBoxModel",
      "state": {
       "_dom_classes": [],
       "_model_module": "@jupyter-widgets/controls",
       "_model_module_version": "2.0.0",
       "_model_name": "HBoxModel",
       "_view_count": null,
       "_view_module": "@jupyter-widgets/controls",
       "_view_module_version": "2.0.0",
       "_view_name": "HBoxView",
       "box_style": "",
       "children": [
        "IPY_MODEL_0a2a4025f88f4e939d623c4f77990bea",
        "IPY_MODEL_9485a696704d45e09d11989715406675",
        "IPY_MODEL_087af385620d4b5e9d9584e6e0f5775a"
       ],
       "layout": "IPY_MODEL_678ffcd645fd4ab4b00b1f0377606048",
       "tabbable": null,
       "tooltip": null
      }
     },
     "41b895814e46476886013d574bbc5642": {
      "model_module": "@jupyter-widgets/base",
      "model_module_version": "2.0.0",
      "model_name": "LayoutModel",
      "state": {
       "_model_module": "@jupyter-widgets/base",
       "_model_module_version": "2.0.0",
       "_model_name": "LayoutModel",
       "_view_count": null,
       "_view_module": "@jupyter-widgets/base",
       "_view_module_version": "2.0.0",
       "_view_name": "LayoutView",
       "align_content": null,
       "align_items": null,
       "align_self": null,
       "border_bottom": null,
       "border_left": null,
       "border_right": null,
       "border_top": null,
       "bottom": null,
       "display": null,
       "flex": null,
       "flex_flow": null,
       "grid_area": null,
       "grid_auto_columns": null,
       "grid_auto_flow": null,
       "grid_auto_rows": null,
       "grid_column": null,
       "grid_gap": null,
       "grid_row": null,
       "grid_template_areas": null,
       "grid_template_columns": null,
       "grid_template_rows": null,
       "height": null,
       "justify_content": null,
       "justify_items": null,
       "left": null,
       "margin": null,
       "max_height": null,
       "max_width": null,
       "min_height": null,
       "min_width": null,
       "object_fit": null,
       "object_position": null,
       "order": null,
       "overflow": null,
       "padding": null,
       "right": null,
       "top": null,
       "visibility": null,
       "width": null
      }
     },
     "552a4d5e69124df89383dbbf0ad08f0b": {
      "model_module": "@jupyter-widgets/base",
      "model_module_version": "2.0.0",
      "model_name": "LayoutModel",
      "state": {
       "_model_module": "@jupyter-widgets/base",
       "_model_module_version": "2.0.0",
       "_model_name": "LayoutModel",
       "_view_count": null,
       "_view_module": "@jupyter-widgets/base",
       "_view_module_version": "2.0.0",
       "_view_name": "LayoutView",
       "align_content": null,
       "align_items": null,
       "align_self": null,
       "border_bottom": null,
       "border_left": null,
       "border_right": null,
       "border_top": null,
       "bottom": null,
       "display": null,
       "flex": null,
       "flex_flow": null,
       "grid_area": null,
       "grid_auto_columns": null,
       "grid_auto_flow": null,
       "grid_auto_rows": null,
       "grid_column": null,
       "grid_gap": null,
       "grid_row": null,
       "grid_template_areas": null,
       "grid_template_columns": null,
       "grid_template_rows": null,
       "height": null,
       "justify_content": null,
       "justify_items": null,
       "left": null,
       "margin": null,
       "max_height": null,
       "max_width": null,
       "min_height": null,
       "min_width": null,
       "object_fit": null,
       "object_position": null,
       "order": null,
       "overflow": null,
       "padding": null,
       "right": null,
       "top": null,
       "visibility": null,
       "width": null
      }
     },
     "55724907fc054d2b9a03808d46d51567": {
      "model_module": "@jupyter-widgets/controls",
      "model_module_version": "2.0.0",
      "model_name": "FloatProgressModel",
      "state": {
       "_dom_classes": [],
       "_model_module": "@jupyter-widgets/controls",
       "_model_module_version": "2.0.0",
       "_model_name": "FloatProgressModel",
       "_view_count": null,
       "_view_module": "@jupyter-widgets/controls",
       "_view_module_version": "2.0.0",
       "_view_name": "ProgressView",
       "bar_style": "success",
       "description": "",
       "description_allow_html": false,
       "layout": "IPY_MODEL_13889f5c6e4c481ea879b2ba5899e9cd",
       "max": 14691.0,
       "min": 0.0,
       "orientation": "horizontal",
       "style": "IPY_MODEL_a5b26255dd6045c399f77d12ff3ffea4",
       "tabbable": null,
       "tooltip": null,
       "value": 14691.0
      }
     },
     "58051a175794450890e3057bf69f15ed": {
      "model_module": "@jupyter-widgets/controls",
      "model_module_version": "2.0.0",
      "model_name": "HTMLStyleModel",
      "state": {
       "_model_module": "@jupyter-widgets/controls",
       "_model_module_version": "2.0.0",
       "_model_name": "HTMLStyleModel",
       "_view_count": null,
       "_view_module": "@jupyter-widgets/base",
       "_view_module_version": "2.0.0",
       "_view_name": "StyleView",
       "background": null,
       "description_width": "",
       "font_size": null,
       "text_color": null
      }
     },
     "59ffa14f41f241a3a151746671071b9d": {
      "model_module": "@jupyter-widgets/controls",
      "model_module_version": "2.0.0",
      "model_name": "HTMLStyleModel",
      "state": {
       "_model_module": "@jupyter-widgets/controls",
       "_model_module_version": "2.0.0",
       "_model_name": "HTMLStyleModel",
       "_view_count": null,
       "_view_module": "@jupyter-widgets/base",
       "_view_module_version": "2.0.0",
       "_view_name": "StyleView",
       "background": null,
       "description_width": "",
       "font_size": null,
       "text_color": null
      }
     },
     "6411bce5051d42c2affd893751a95154": {
      "model_module": "@jupyter-widgets/base",
      "model_module_version": "2.0.0",
      "model_name": "LayoutModel",
      "state": {
       "_model_module": "@jupyter-widgets/base",
       "_model_module_version": "2.0.0",
       "_model_name": "LayoutModel",
       "_view_count": null,
       "_view_module": "@jupyter-widgets/base",
       "_view_module_version": "2.0.0",
       "_view_name": "LayoutView",
       "align_content": null,
       "align_items": null,
       "align_self": null,
       "border_bottom": null,
       "border_left": null,
       "border_right": null,
       "border_top": null,
       "bottom": null,
       "display": null,
       "flex": null,
       "flex_flow": null,
       "grid_area": null,
       "grid_auto_columns": null,
       "grid_auto_flow": null,
       "grid_auto_rows": null,
       "grid_column": null,
       "grid_gap": null,
       "grid_row": null,
       "grid_template_areas": null,
       "grid_template_columns": null,
       "grid_template_rows": null,
       "height": "200px",
       "justify_content": null,
       "justify_items": null,
       "left": null,
       "margin": null,
       "max_height": null,
       "max_width": null,
       "min_height": null,
       "min_width": null,
       "object_fit": null,
       "object_position": null,
       "order": null,
       "overflow": "auto",
       "padding": null,
       "right": null,
       "top": null,
       "visibility": null,
       "width": null
      }
     },
     "66e47bd36cd04c38b74492b1f44ad88d": {
      "model_module": "@jupyter-widgets/controls",
      "model_module_version": "2.0.0",
      "model_name": "HBoxModel",
      "state": {
       "_dom_classes": [],
       "_model_module": "@jupyter-widgets/controls",
       "_model_module_version": "2.0.0",
       "_model_name": "HBoxModel",
       "_view_count": null,
       "_view_module": "@jupyter-widgets/controls",
       "_view_module_version": "2.0.0",
       "_view_name": "HBoxView",
       "box_style": "",
       "children": [
        "IPY_MODEL_fe3ed8024553474fa4915fe414c7c500",
        "IPY_MODEL_55724907fc054d2b9a03808d46d51567",
        "IPY_MODEL_e38685ca20b242ee85b3efd482a44dcd"
       ],
       "layout": "IPY_MODEL_41b895814e46476886013d574bbc5642",
       "tabbable": null,
       "tooltip": null
      }
     },
     "66f2bc75bf7a4549a35a34e770a85750": {
      "model_module": "@jupyter-widgets/output",
      "model_module_version": "1.0.0",
      "model_name": "OutputModel",
      "state": {
       "_dom_classes": [],
       "_model_module": "@jupyter-widgets/output",
       "_model_module_version": "1.0.0",
       "_model_name": "OutputModel",
       "_view_count": null,
       "_view_module": "@jupyter-widgets/output",
       "_view_module_version": "1.0.0",
       "_view_name": "OutputView",
       "layout": "IPY_MODEL_9aac94e8a83a48948d54568e3b04d043",
       "msg_id": "",
       "outputs": [],
       "tabbable": null,
       "tooltip": null
      }
     },
     "678ffcd645fd4ab4b00b1f0377606048": {
      "model_module": "@jupyter-widgets/base",
      "model_module_version": "2.0.0",
      "model_name": "LayoutModel",
      "state": {
       "_model_module": "@jupyter-widgets/base",
       "_model_module_version": "2.0.0",
       "_model_name": "LayoutModel",
       "_view_count": null,
       "_view_module": "@jupyter-widgets/base",
       "_view_module_version": "2.0.0",
       "_view_name": "LayoutView",
       "align_content": null,
       "align_items": null,
       "align_self": null,
       "border_bottom": null,
       "border_left": null,
       "border_right": null,
       "border_top": null,
       "bottom": null,
       "display": null,
       "flex": null,
       "flex_flow": null,
       "grid_area": null,
       "grid_auto_columns": null,
       "grid_auto_flow": null,
       "grid_auto_rows": null,
       "grid_column": null,
       "grid_gap": null,
       "grid_row": null,
       "grid_template_areas": null,
       "grid_template_columns": null,
       "grid_template_rows": null,
       "height": null,
       "justify_content": null,
       "justify_items": null,
       "left": null,
       "margin": null,
       "max_height": null,
       "max_width": null,
       "min_height": null,
       "min_width": null,
       "object_fit": null,
       "object_position": null,
       "order": null,
       "overflow": null,
       "padding": null,
       "right": null,
       "top": null,
       "visibility": null,
       "width": null
      }
     },
     "722d0aec8c854b9c809d58ee8453edbd": {
      "model_module": "@jupyter-widgets/controls",
      "model_module_version": "2.0.0",
      "model_name": "AccordionModel",
      "state": {
       "_dom_classes": [],
       "_model_module": "@jupyter-widgets/controls",
       "_model_module_version": "2.0.0",
       "_model_name": "AccordionModel",
       "_view_count": null,
       "_view_module": "@jupyter-widgets/controls",
       "_view_module_version": "2.0.0",
       "_view_name": "AccordionView",
       "box_style": "",
       "children": [
        "IPY_MODEL_c47931a3d969473bb047f81a72167514"
       ],
       "layout": "IPY_MODEL_b5f93d11974143a1ad5567d5221a3c92",
       "selected_index": null,
       "tabbable": null,
       "titles": [
        "DecayConstant/pred-Bc-to-tau-nu"
       ],
       "tooltip": null
      }
     },
     "7362c72986b34747971dfd5ff2f7ca8c": {
      "model_module": "@jupyter-widgets/base",
      "model_module_version": "2.0.0",
      "model_name": "LayoutModel",
      "state": {
       "_model_module": "@jupyter-widgets/base",
       "_model_module_version": "2.0.0",
       "_model_name": "LayoutModel",
       "_view_count": null,
       "_view_module": "@jupyter-widgets/base",
       "_view_module_version": "2.0.0",
       "_view_name": "LayoutView",
       "align_content": null,
       "align_items": null,
       "align_self": null,
       "border_bottom": null,
       "border_left": null,
       "border_right": null,
       "border_top": null,
       "bottom": null,
       "display": null,
       "flex": null,
       "flex_flow": null,
       "grid_area": null,
       "grid_auto_columns": null,
       "grid_auto_flow": null,
       "grid_auto_rows": null,
       "grid_column": null,
       "grid_gap": null,
       "grid_row": null,
       "grid_template_areas": null,
       "grid_template_columns": null,
       "grid_template_rows": null,
       "height": null,
       "justify_content": null,
       "justify_items": null,
       "left": null,
       "margin": null,
       "max_height": null,
       "max_width": null,
       "min_height": null,
       "min_width": null,
       "object_fit": null,
       "object_position": null,
       "order": null,
       "overflow": null,
       "padding": null,
       "right": null,
       "top": null,
       "visibility": null,
       "width": null
      }
     },
     "7ae742f2565644a29a32ae567ef72960": {
      "model_module": "@jupyter-widgets/base",
      "model_module_version": "2.0.0",
      "model_name": "LayoutModel",
      "state": {
       "_model_module": "@jupyter-widgets/base",
       "_model_module_version": "2.0.0",
       "_model_name": "LayoutModel",
       "_view_count": null,
       "_view_module": "@jupyter-widgets/base",
       "_view_module_version": "2.0.0",
       "_view_name": "LayoutView",
       "align_content": null,
       "align_items": null,
       "align_self": null,
       "border_bottom": null,
       "border_left": null,
       "border_right": null,
       "border_top": null,
       "bottom": null,
       "display": null,
       "flex": null,
       "flex_flow": null,
       "grid_area": null,
       "grid_auto_columns": null,
       "grid_auto_flow": null,
       "grid_auto_rows": null,
       "grid_column": null,
       "grid_gap": null,
       "grid_row": null,
       "grid_template_areas": null,
       "grid_template_columns": null,
       "grid_template_rows": null,
       "height": null,
       "justify_content": null,
       "justify_items": null,
       "left": null,
       "margin": null,
       "max_height": null,
       "max_width": null,
       "min_height": null,
       "min_width": null,
       "object_fit": null,
       "object_position": null,
       "order": null,
       "overflow": null,
       "padding": null,
       "right": null,
       "top": null,
       "visibility": null,
       "width": null
      }
     },
     "7dd6435802d842b1b52fbd07aeb76463": {
      "model_module": "@jupyter-widgets/base",
      "model_module_version": "2.0.0",
      "model_name": "LayoutModel",
      "state": {
       "_model_module": "@jupyter-widgets/base",
       "_model_module_version": "2.0.0",
       "_model_name": "LayoutModel",
       "_view_count": null,
       "_view_module": "@jupyter-widgets/base",
       "_view_module_version": "2.0.0",
       "_view_name": "LayoutView",
       "align_content": null,
       "align_items": null,
       "align_self": null,
       "border_bottom": null,
       "border_left": null,
       "border_right": null,
       "border_top": null,
       "bottom": null,
       "display": null,
       "flex": null,
       "flex_flow": null,
       "grid_area": null,
       "grid_auto_columns": null,
       "grid_auto_flow": null,
       "grid_auto_rows": null,
       "grid_column": null,
       "grid_gap": null,
       "grid_row": null,
       "grid_template_areas": null,
       "grid_template_columns": null,
       "grid_template_rows": null,
       "height": null,
       "justify_content": null,
       "justify_items": null,
       "left": null,
       "margin": null,
       "max_height": null,
       "max_width": null,
       "min_height": null,
       "min_width": null,
       "object_fit": null,
       "object_position": null,
       "order": null,
       "overflow": null,
       "padding": null,
       "right": null,
       "top": null,
       "visibility": null,
       "width": null
      }
     },
     "7e83826c83f44856a225e52c21a477bf": {
      "model_module": "@jupyter-widgets/base",
      "model_module_version": "2.0.0",
      "model_name": "LayoutModel",
      "state": {
       "_model_module": "@jupyter-widgets/base",
       "_model_module_version": "2.0.0",
       "_model_name": "LayoutModel",
       "_view_count": null,
       "_view_module": "@jupyter-widgets/base",
       "_view_module_version": "2.0.0",
       "_view_name": "LayoutView",
       "align_content": null,
       "align_items": null,
       "align_self": null,
       "border_bottom": null,
       "border_left": null,
       "border_right": null,
       "border_top": null,
       "bottom": null,
       "display": null,
       "flex": null,
       "flex_flow": null,
       "grid_area": null,
       "grid_auto_columns": null,
       "grid_auto_flow": null,
       "grid_auto_rows": null,
       "grid_column": null,
       "grid_gap": null,
       "grid_row": null,
       "grid_template_areas": null,
       "grid_template_columns": null,
       "grid_template_rows": null,
       "height": "200px",
       "justify_content": null,
       "justify_items": null,
       "left": null,
       "margin": null,
       "max_height": null,
       "max_width": null,
       "min_height": null,
       "min_width": null,
       "object_fit": null,
       "object_position": null,
       "order": null,
       "overflow": "auto",
       "padding": null,
       "right": null,
       "top": null,
       "visibility": null,
       "width": null
      }
     },
     "7f33ef13206b4e4abfb03910f6349e10": {
      "model_module": "@jupyter-widgets/controls",
      "model_module_version": "2.0.0",
      "model_name": "ProgressStyleModel",
      "state": {
       "_model_module": "@jupyter-widgets/controls",
       "_model_module_version": "2.0.0",
       "_model_name": "ProgressStyleModel",
       "_view_count": null,
       "_view_module": "@jupyter-widgets/base",
       "_view_module_version": "2.0.0",
       "_view_name": "StyleView",
       "bar_color": null,
       "description_width": ""
      }
     },
     "89b848066e5d4773915803debefa6180": {
      "model_module": "@jupyter-widgets/base",
      "model_module_version": "2.0.0",
      "model_name": "LayoutModel",
      "state": {
       "_model_module": "@jupyter-widgets/base",
       "_model_module_version": "2.0.0",
       "_model_name": "LayoutModel",
       "_view_count": null,
       "_view_module": "@jupyter-widgets/base",
       "_view_module_version": "2.0.0",
       "_view_name": "LayoutView",
       "align_content": null,
       "align_items": null,
       "align_self": null,
       "border_bottom": null,
       "border_left": null,
       "border_right": null,
       "border_top": null,
       "bottom": null,
       "display": null,
       "flex": null,
       "flex_flow": null,
       "grid_area": null,
       "grid_auto_columns": null,
       "grid_auto_flow": null,
       "grid_auto_rows": null,
       "grid_column": null,
       "grid_gap": null,
       "grid_row": null,
       "grid_template_areas": null,
       "grid_template_columns": null,
       "grid_template_rows": null,
       "height": null,
       "justify_content": null,
       "justify_items": null,
       "left": null,
       "margin": null,
       "max_height": null,
       "max_width": null,
       "min_height": null,
       "min_width": null,
       "object_fit": null,
       "object_position": null,
       "order": null,
       "overflow": null,
       "padding": null,
       "right": null,
       "top": null,
       "visibility": null,
       "width": null
      }
     },
     "89d99bc3de104edbab977bc380ae08c9": {
      "model_module": "@jupyter-widgets/controls",
      "model_module_version": "2.0.0",
      "model_name": "AccordionModel",
      "state": {
       "_dom_classes": [],
       "_model_module": "@jupyter-widgets/controls",
       "_model_module_version": "2.0.0",
       "_model_name": "AccordionModel",
       "_view_count": null,
       "_view_module": "@jupyter-widgets/controls",
       "_view_module_version": "2.0.0",
       "_view_name": "AccordionView",
       "box_style": "",
       "children": [
        "IPY_MODEL_8a98111a5b8c4c1b815370393251dda2"
       ],
       "layout": "IPY_MODEL_0245b6a09c25461f8e993c5d526bd7cb",
       "selected_index": null,
       "tabbable": null,
       "titles": [
        "FF-LQCD-SSE/pred-B-to-D-tau-nu"
       ],
       "tooltip": null
      }
     },
     "8a98111a5b8c4c1b815370393251dda2": {
      "model_module": "@jupyter-widgets/output",
      "model_module_version": "1.0.0",
      "model_name": "OutputModel",
      "state": {
       "_dom_classes": [],
       "_model_module": "@jupyter-widgets/output",
       "_model_module_version": "1.0.0",
       "_model_name": "OutputModel",
       "_view_count": null,
       "_view_module": "@jupyter-widgets/output",
       "_view_module_version": "1.0.0",
       "_view_name": "OutputView",
       "layout": "IPY_MODEL_1d1367f3336d4aa5945e585b35a591cc",
       "msg_id": "",
       "outputs": [
        {
         "data": {
          "application/vnd.jupyter.widget-view+json": {
           "model_id": "2bc1acacbe8249c8871f3108b187748e",
           "version_major": 2,
           "version_minor": 0
          },
          "text/plain": "  0%|          | 0/14691 [00:00<?, ?it/s]"
         },
         "metadata": {},
         "output_type": "display_data"
        }
       ],
       "tabbable": null,
       "tooltip": null
      }
     },
     "92901480b2a043bdb2607534c26bb2fc": {
      "model_module": "@jupyter-widgets/controls",
      "model_module_version": "2.0.0",
      "model_name": "AccordionModel",
      "state": {
       "_dom_classes": [],
       "_model_module": "@jupyter-widgets/controls",
       "_model_module_version": "2.0.0",
       "_model_name": "AccordionModel",
       "_view_count": null,
       "_view_module": "@jupyter-widgets/controls",
       "_view_module_version": "2.0.0",
       "_view_name": "AccordionView",
       "box_style": "",
       "children": [
        "IPY_MODEL_66f2bc75bf7a4549a35a34e770a85750"
       ],
       "layout": "IPY_MODEL_d96268c5ffb94e2d987d352f4c20daf8",
       "selected_index": null,
       "tabbable": null,
       "titles": [
        "DecayConstant/samples"
       ],
       "tooltip": null
      }
     },
     "940ac20f32de4f3ba2a3572f092e7324": {
      "model_module": "@jupyter-widgets/controls",
      "model_module_version": "2.0.0",
      "model_name": "HTMLStyleModel",
      "state": {
       "_model_module": "@jupyter-widgets/controls",
       "_model_module_version": "2.0.0",
       "_model_name": "HTMLStyleModel",
       "_view_count": null,
       "_view_module": "@jupyter-widgets/base",
       "_view_module_version": "2.0.0",
       "_view_name": "StyleView",
       "background": null,
       "description_width": "",
       "font_size": null,
       "text_color": null
      }
     },
     "9485a696704d45e09d11989715406675": {
      "model_module": "@jupyter-widgets/controls",
      "model_module_version": "2.0.0",
      "model_name": "FloatProgressModel",
      "state": {
       "_dom_classes": [],
       "_model_module": "@jupyter-widgets/controls",
       "_model_module_version": "2.0.0",
       "_model_name": "FloatProgressModel",
       "_view_count": null,
       "_view_module": "@jupyter-widgets/controls",
       "_view_module_version": "2.0.0",
       "_view_name": "ProgressView",
       "bar_style": "success",
       "description": "",
       "description_allow_html": false,
       "layout": "IPY_MODEL_d75a4fdc6f894d3e94be3fecde519302",
       "max": 14691.0,
       "min": 0.0,
       "orientation": "horizontal",
       "style": "IPY_MODEL_7f33ef13206b4e4abfb03910f6349e10",
       "tabbable": null,
       "tooltip": null,
       "value": 14691.0
      }
     },
     "9aac94e8a83a48948d54568e3b04d043": {
      "model_module": "@jupyter-widgets/base",
      "model_module_version": "2.0.0",
      "model_name": "LayoutModel",
      "state": {
       "_model_module": "@jupyter-widgets/base",
       "_model_module_version": "2.0.0",
       "_model_name": "LayoutModel",
       "_view_count": null,
       "_view_module": "@jupyter-widgets/base",
       "_view_module_version": "2.0.0",
       "_view_name": "LayoutView",
       "align_content": null,
       "align_items": null,
       "align_self": null,
       "border_bottom": null,
       "border_left": null,
       "border_right": null,
       "border_top": null,
       "bottom": null,
       "display": null,
       "flex": null,
       "flex_flow": null,
       "grid_area": null,
       "grid_auto_columns": null,
       "grid_auto_flow": null,
       "grid_auto_rows": null,
       "grid_column": null,
       "grid_gap": null,
       "grid_row": null,
       "grid_template_areas": null,
       "grid_template_columns": null,
       "grid_template_rows": null,
       "height": "200px",
       "justify_content": null,
       "justify_items": null,
       "left": null,
       "margin": null,
       "max_height": null,
       "max_width": null,
       "min_height": null,
       "min_width": null,
       "object_fit": null,
       "object_position": null,
       "order": null,
       "overflow": "auto",
       "padding": null,
       "right": null,
       "top": null,
       "visibility": null,
       "width": null
      }
     },
     "9b26268cbb8244f9a7cf44110d9207cb": {
      "model_module": "@jupyter-widgets/base",
      "model_module_version": "2.0.0",
      "model_name": "LayoutModel",
      "state": {
       "_model_module": "@jupyter-widgets/base",
       "_model_module_version": "2.0.0",
       "_model_name": "LayoutModel",
       "_view_count": null,
       "_view_module": "@jupyter-widgets/base",
       "_view_module_version": "2.0.0",
       "_view_name": "LayoutView",
       "align_content": null,
       "align_items": null,
       "align_self": null,
       "border_bottom": null,
       "border_left": null,
       "border_right": null,
       "border_top": null,
       "bottom": null,
       "display": null,
       "flex": null,
       "flex_flow": null,
       "grid_area": null,
       "grid_auto_columns": null,
       "grid_auto_flow": null,
       "grid_auto_rows": null,
       "grid_column": null,
       "grid_gap": null,
       "grid_row": null,
       "grid_template_areas": null,
       "grid_template_columns": null,
       "grid_template_rows": null,
       "height": null,
       "justify_content": null,
       "justify_items": null,
       "left": null,
       "margin": null,
       "max_height": null,
       "max_width": null,
       "min_height": null,
       "min_width": null,
       "object_fit": null,
       "object_position": null,
       "order": null,
       "overflow": null,
       "padding": null,
       "right": null,
       "top": null,
       "visibility": null,
       "width": null
      }
     },
     "a279a0ac575f411db75a2ce62bb50acd": {
      "model_module": "@jupyter-widgets/controls",
      "model_module_version": "2.0.0",
      "model_name": "HTMLStyleModel",
      "state": {
       "_model_module": "@jupyter-widgets/controls",
       "_model_module_version": "2.0.0",
       "_model_name": "HTMLStyleModel",
       "_view_count": null,
       "_view_module": "@jupyter-widgets/base",
       "_view_module_version": "2.0.0",
       "_view_name": "StyleView",
       "background": null,
       "description_width": "",
       "font_size": null,
       "text_color": null
      }
     },
     "a5b26255dd6045c399f77d12ff3ffea4": {
      "model_module": "@jupyter-widgets/controls",
      "model_module_version": "2.0.0",
      "model_name": "ProgressStyleModel",
      "state": {
       "_model_module": "@jupyter-widgets/controls",
       "_model_module_version": "2.0.0",
       "_model_name": "ProgressStyleModel",
       "_view_count": null,
       "_view_module": "@jupyter-widgets/base",
       "_view_module_version": "2.0.0",
       "_view_name": "StyleView",
       "bar_color": null,
       "description_width": ""
      }
     },
     "ac0f1f03487344419090702041fadc17": {
      "model_module": "@jupyter-widgets/output",
      "model_module_version": "1.0.0",
      "model_name": "OutputModel",
      "state": {
       "_dom_classes": [],
       "_model_module": "@jupyter-widgets/output",
       "_model_module_version": "1.0.0",
       "_model_name": "OutputModel",
       "_view_count": null,
       "_view_module": "@jupyter-widgets/output",
       "_view_module_version": "1.0.0",
       "_view_name": "OutputView",
       "layout": "IPY_MODEL_7e83826c83f44856a225e52c21a477bf",
       "msg_id": "",
       "outputs": [
        {
         "name": "stderr",
         "output_type": "stream",
         "text": "\r0it [00:00, ?it/s]\r235it [00:00, 2343.88it/s, batch: 0 | bound: 0 | nc: 3 | ncall: 409 | eff(%): 35.660 | loglstar:   -inf < -4996.163 <    inf | logz: -5003.316 +/-  0.169 | dlogz: 4971.252 >  0.500]\r470it [00:00, 1733.88it/s, batch: 0 | bound: 0 | nc: 22 | ncall: 1485 | eff(%): 27.089 | loglstar:   -inf < -1939.157 <    inf | logz: -1946.838 +/-  0.170 | dlogz: 1898.597 >  0.500]\r653it [00:00, 1067.49it/s, batch: 0 | bound: 0 | nc: 9 | ncall: 3411 | eff(%): 17.837 | loglstar:   -inf < -932.009 <    inf | logz: -940.356 +/-  0.175 | dlogz: 891.064 >  0.500]    \r784it [00:00, 779.46it/s, batch: 0 | bound: 0 | nc: 14 | ncall: 5623 | eff(%): 13.349 | loglstar:   -inf < -599.723 <    inf | logz: -608.771 +/-  0.185 | dlogz: 616.620 >  0.500]\r882it [00:01, 566.34it/s, batch: 0 | bound: 0 | nc: 33 | ncall: 8332 | eff(%): 10.277 | loglstar:   -inf < -440.045 <    inf | logz: -448.425 +/-  0.180 | dlogz: 456.281 >  0.500]\r955it [00:01, 526.38it/s, batch: 0 | bound: 1 | nc: 1 | ncall: 8902 | eff(%): 10.435 | loglstar:   -inf < -363.853 <    inf | logz: -372.310 +/-  0.178 | dlogz: 385.488 >  0.500] \r1030it [00:01, 564.29it/s, batch: 0 | bound: 2 | nc: 5 | ncall: 9151 | eff(%): 10.956 | loglstar:   -inf < -295.520 <    inf | logz: -304.572 +/-  0.184 | dlogz: 317.539 >  0.500]\r1106it [00:01, 595.17it/s, batch: 0 | bound: 3 | nc: 5 | ncall: 9418 | eff(%): 11.440 | loglstar:   -inf < -222.065 <    inf | logz: -230.951 +/-  0.183 | dlogz: 250.146 >  0.500]\r1203it [00:01, 639.69it/s, batch: 0 | bound: 4 | nc: 6 | ncall: 9796 | eff(%): 11.975 | loglstar:   -inf < -162.232 <    inf | logz: -171.429 +/-  0.186 | dlogz: 192.313 >  0.500]\r1293it [00:01, 661.80it/s, batch: 0 | bound: 5 | nc: 1 | ncall: 10168 | eff(%): 12.411 | loglstar:   -inf < -118.087 <    inf | logz: -127.611 +/-  0.186 | dlogz: 158.411 >  0.500]\r1397it [00:01, 702.78it/s, batch: 0 | bound: 6 | nc: 3 | ncall: 10546 | eff(%): 12.940 | loglstar:   -inf < -83.620 <    inf | logz: -93.402 +/-  0.187 | dlogz: 129.553 >  0.500]  \r1499it [00:02, 735.37it/s, batch: 0 | bound: 7 | nc: 6 | ncall: 10932 | eff(%): 13.405 | loglstar:   -inf < -58.886 <    inf | logz: -69.377 +/-  0.194 | dlogz: 105.297 >  0.500]\r1593it [00:02, 746.39it/s, batch: 0 | bound: 8 | nc: 1 | ncall: 11302 | eff(%): 13.790 | loglstar:   -inf < -37.943 <    inf | logz: -48.196 +/-  0.194 | dlogz: 83.505 >  0.500] \r1716it [00:02, 804.89it/s, batch: 0 | bound: 9 | nc: 3 | ncall: 11679 | eff(%): 14.385 | loglstar:   -inf < -15.349 <    inf | logz: -25.669 +/-  0.192 | dlogz: 60.391 >  0.500]\r1864it [00:02, 865.97it/s, batch: 0 | bound: 10 | nc: 3 | ncall: 12067 | eff(%): 15.134 | loglstar:   -inf <  1.702 <    inf | logz: -8.957 +/-  0.197 | dlogz: 45.691 >  0.500] \r2002it [00:02, 917.61it/s, batch: 0 | bound: 11 | nc: 3 | ncall: 12444 | eff(%): 15.771 | loglstar:   -inf < 12.992 <    inf | logz:  2.281 +/-  0.197 | dlogz: 33.867 >  0.500]\r2095it [00:02, 855.84it/s, batch: 0 | bound: 12 | nc: 5 | ncall: 12873 | eff(%): 15.964 | loglstar:   -inf < 18.714 <    inf | logz:  7.821 +/-  0.198 | dlogz: 30.773 >  0.500]\r2188it [00:02, 833.50it/s, batch: 0 | bound: 13 | nc: 2 | ncall: 13200 | eff(%): 16.268 | loglstar:   -inf < 23.752 <    inf | logz: 12.461 +/-  0.201 | dlogz: 28.100 >  0.500]\r2292it [00:02, 826.64it/s, batch: 0 | bound: 14 | nc: 2 | ncall: 13577 | eff(%): 16.576 | loglstar:   -inf < 29.256 <    inf | logz: 17.510 +/-  0.205 | dlogz: 22.636 >  0.500]\r2375it [00:03, 760.20it/s, batch: 0 | bound: 15 | nc: 1 | ncall: 13996 | eff(%): 16.671 | loglstar:   -inf < 32.779 <    inf | logz: 20.915 +/-  0.207 | dlogz: 18.890 >  0.500]\r2458it [00:03, 728.06it/s, batch: 0 | bound: 16 | nc: 3 | ncall: 14331 | eff(%): 16.858 | loglstar:   -inf < 35.045 <    inf | logz: 23.459 +/-  0.206 | dlogz: 15.996 >  0.500]\r2538it [00:03, 698.60it/s, batch: 0 | bound: 17 | nc: 6 | ncall: 14722 | eff(%): 16.952 | loglstar:   -inf < 37.460 <    inf | logz: 25.398 +/-  0.208 | dlogz: 13.741 >  0.500]\r2642it [00:03, 730.54it/s, batch: 0 | bound: 18 | nc: 3 | ncall: 15094 | eff(%): 17.218 | loglstar:   -inf < 39.632 <    inf | logz: 27.572 +/-  0.209 | dlogz: 11.142 >  0.500]\r2744it [00:03, 753.04it/s, batch: 0 | bound: 19 | nc: 2 | ncall: 15470 | eff(%): 17.455 | loglstar:   -inf < 41.458 <    inf | logz: 29.201 +/-  0.211 | dlogz:  9.104 >  0.500]\r2863it [00:03, 793.37it/s, batch: 0 | bound: 20 | nc: 2 | ncall: 15845 | eff(%): 17.788 | loglstar:   -inf < 43.169 <    inf | logz: 30.704 +/-  0.213 | dlogz:  7.122 >  0.500]\r2964it [00:03, 776.04it/s, batch: 0 | bound: 21 | nc: 3 | ncall: 16224 | eff(%): 17.992 | loglstar:   -inf < 44.358 <    inf | logz: 31.699 +/-  0.214 | dlogz:  5.786 >  0.500]\r3052it [00:03, 766.11it/s, batch: 0 | bound: 22 | nc: 3 | ncall: 16601 | eff(%): 18.112 | loglstar:   -inf < 45.202 <    inf | logz: 32.427 +/-  0.215 | dlogz:  4.711 >  0.500]\r3181it [00:04, 808.14it/s, batch: 0 | bound: 23 | nc: 2 | ncall: 16977 | eff(%): 18.465 | loglstar:   -inf < 46.115 <    inf | logz: 33.200 +/-  0.216 | dlogz:  3.531 >  0.500]\r3262it [00:04, 764.06it/s, batch: 0 | bound: 24 | nc: 1 | ncall: 17360 | eff(%): 18.524 | loglstar:   -inf < 46.577 <    inf | logz: 33.561 +/-  0.217 | dlogz:  2.873 >  0.500]\r3359it [00:04, 776.23it/s, batch: 0 | bound: 25 | nc: 3 | ncall: 17734 | eff(%): 18.678 | loglstar:   -inf < 47.017 <    inf | logz: 33.896 +/-  0.218 | dlogz:  2.208 >  0.500]\r3467it [00:04, 791.57it/s, batch: 0 | bound: 26 | nc: 1 | ncall: 18108 | eff(%): 18.885 | loglstar:   -inf < 47.429 <    inf | logz: 34.179 +/-  0.218 | dlogz:  1.602 >  0.500]\r3609it [00:04, 879.70it/s, batch: 0 | bound: 27 | nc: 1 | ncall: 18484 | eff(%): 19.264 | loglstar:   -inf < 47.971 <    inf | logz: 34.451 +/-  0.219 | dlogz:  0.998 >  0.500]\r3744it [00:04, 925.65it/s, batch: 0 | bound: 28 | nc: 1 | ncall: 18866 | eff(%): 19.586 | loglstar:   -inf < 48.309 <    inf | logz: 34.635 +/-  0.220 | dlogz:  0.624 >  0.500]\r4056it [00:05, 1067.96it/s, batch: 1 | bound: 0 | nc: 1 | ncall: 19282 | eff(%): 21.035 | loglstar: 49.200 < 48.740 <    inf | logz: 34.985 +/-  0.389 | stop:  9.065]          \r4205it [00:05, 1054.92it/s, batch: 1 | bound: 3 | nc: 2 | ncall: 19663 | eff(%): 20.871 | loglstar: 49.200 < 48.656 <    inf | logz: 34.985 +/-  0.389 | stop:  9.065]\r4353it [00:05, 1069.54it/s, batch: 1 | bound: 4 | nc: 1 | ncall: 20039 | eff(%): 21.209 | loglstar: 49.200 < 48.851 <    inf | logz: 34.985 +/-  0.389 | stop:  9.065]\r4458it [00:05, 985.70it/s, batch: 1 | bound: 5 | nc: 16 | ncall: 20443 | eff(%): 21.302 | loglstar: 49.200 < 48.958 <    inf | logz: 34.985 +/-  0.389 | stop:  9.065]\r4555it [00:05, 920.05it/s, batch: 1 | bound: 6 | nc: 1 | ncall: 20814 | eff(%): 21.386 | loglstar: 49.200 < 49.044 <    inf | logz: 34.985 +/-  0.389 | stop:  9.065] \r4705it [00:05, 990.91it/s, batch: 1 | bound: 7 | nc: 2 | ncall: 21170 | eff(%): 21.727 | loglstar: 49.200 < 49.145 <    inf | logz: 34.985 +/-  0.389 | stop:  9.065]\r4878it [00:05, 1074.77it/s, batch: 1 | bound: 8 | nc: 1 | ncall: 21548 | eff(%): 22.140 | loglstar: 49.200 < 49.247 <    inf | logz: 34.985 +/-  0.389 | stop:  9.065]\r5022it [00:05, 1071.13it/s, batch: 1 | bound: 9 | nc: 1 | ncall: 21932 | eff(%): 22.403 | loglstar: 49.200 < 49.305 <    inf | logz: 34.985 +/-  0.389 | stop:  9.065]\r5129it [00:06, 987.88it/s, batch: 1 | bound: 10 | nc: 2 | ncall: 22325 | eff(%): 22.486 | loglstar: 49.200 < 49.339 <    inf | logz: 34.985 +/-  0.389 | stop:  9.065]\r5276it [00:06, 1030.36it/s, batch: 1 | bound: 11 | nc: 1 | ncall: 22689 | eff(%): 22.767 | loglstar: 49.200 < 49.375 <    inf | logz: 34.985 +/-  0.389 | stop:  9.065]\r5647it [00:06, 1044.13it/s, batch: 2 | bound: 0 | nc: 4 | ncall: 23418 | eff(%): 24.114 | loglstar: 46.040 < 46.345 < 48.225 | logz: 34.982 +/-  0.215 | stop:  7.013] \r5751it [00:06, 994.45it/s, batch: 2 | bound: 3 | nc: 4 | ncall: 23824 | eff(%): 23.361 | loglstar: 46.040 < 46.603 < 48.225 | logz: 34.982 +/-  0.215 | stop:  7.013] \r5864it [00:06, 971.95it/s, batch: 2 | bound: 4 | nc: 2 | ncall: 24175 | eff(%): 23.485 | loglstar: 46.040 < 47.112 < 48.225 | logz: 34.982 +/-  0.215 | stop:  7.013]\r5962it [00:06, 931.61it/s, batch: 2 | bound: 5 | nc: 3 | ncall: 24553 | eff(%): 23.522 | loglstar: 46.040 < 47.466 < 48.225 | logz: 34.982 +/-  0.215 | stop:  7.013]\r6083it [00:07, 927.12it/s, batch: 2 | bound: 6 | nc: 1 | ncall: 24927 | eff(%): 23.650 | loglstar: 46.040 < 47.892 < 48.225 | logz: 34.982 +/-  0.215 | stop:  7.013]\r6209it [00:07, 941.62it/s, batch: 2 | bound: 7 | nc: 5 | ncall: 25308 | eff(%): 23.787 | loglstar: 46.040 < 48.192 < 48.225 | logz: 34.982 +/-  0.215 | stop:  7.013]\r6467it [00:07, 914.96it/s, batch: 3 | bound: 0 | nc: 6 | ncall: 26120 | eff(%): 24.759 | loglstar: 45.374 < 47.552 < 46.049 | logz: 34.961 +/-  0.174 | stop:  4.138]\r6814it [00:07, 978.38it/s, batch: 4 | bound: 0 | nc: 1 | ncall: 26925 | eff(%): 25.307 | loglstar: 44.905 < 47.017 < 45.377 | logz: 34.980 +/-  0.163 | stop:  3.436]\r7123it [00:08, 975.37it/s, batch: 5 | bound: 0 | nc: 1 | ncall: 27629 | eff(%): 25.781 | loglstar: 44.476 < 47.715 < 44.910 | logz: 34.978 +/-  0.156 | stop:  3.073]\r7416it [00:08, 946.47it/s, batch: 6 | bound: 0 | nc: 1 | ncall: 28303 | eff(%): 26.202 | loglstar: 44.052 < 45.623 < 48.412 | logz: 34.981 +/-  0.151 | stop:  2.841]\r7522it [00:08, 924.76it/s, batch: 6 | bound: 3 | nc: 2 | ncall: 28687 | eff(%): 25.703 | loglstar: 44.052 < 45.098 < 48.412 | logz: 34.981 +/-  0.151 | stop:  2.841]\r7613it [00:08, 882.27it/s, batch: 6 | bound: 4 | nc: 2 | ncall: 29098 | eff(%): 25.654 | loglstar: 44.052 < 45.796 < 48.412 | logz: 34.981 +/-  0.151 | stop:  2.841]\r7712it [00:08, 870.00it/s, batch: 6 | bound: 5 | nc: 6 | ncall: 29444 | eff(%): 25.688 | loglstar: 44.052 < 46.420 < 48.412 | logz: 34.981 +/-  0.151 | stop:  2.841]\r7824it [00:08, 872.70it/s, batch: 6 | bound: 6 | nc: 3 | ncall: 29818 | eff(%): 25.740 | loglstar: 44.052 < 47.000 < 48.412 | logz: 34.981 +/-  0.151 | stop:  2.841]\r7979it [00:09, 958.27it/s, batch: 6 | bound: 7 | nc: 1 | ncall: 30191 | eff(%): 25.932 | loglstar: 44.052 < 47.565 < 48.412 | logz: 34.981 +/-  0.151 | stop:  2.841]\r8114it [00:09, 984.18it/s, batch: 6 | bound: 8 | nc: 2 | ncall: 30568 | eff(%): 26.051 | loglstar: 44.052 < 47.996 < 48.412 | logz: 34.981 +/-  0.151 | stop:  2.841]\r8227it [00:09, 957.36it/s, batch: 6 | bound: 9 | nc: 2 | ncall: 30949 | eff(%): 26.095 | loglstar: 44.052 < 48.278 < 48.412 | logz: 34.981 +/-  0.151 | stop:  2.841]\r8556it [00:09, 974.15it/s, batch: 7 | bound: 0 | nc: 1 | ncall: 31704 | eff(%): 26.987 | loglstar: 43.619 < 44.209 < 48.023 | logz: 34.970 +/-  0.134 | stop:  2.108]\r8653it [00:09, 923.72it/s, batch: 7 | bound: 3 | nc: 1 | ncall: 32082 | eff(%): 26.535 | loglstar: 43.619 < 44.578 < 48.023 | logz: 34.970 +/-  0.134 | stop:  2.108]\r8744it [00:09, 865.47it/s, batch: 7 | bound: 4 | nc: 3 | ncall: 32516 | eff(%): 26.462 | loglstar: 43.619 < 45.243 < 48.023 | logz: 34.970 +/-  0.134 | stop:  2.108]\r8837it [00:10, 846.78it/s, batch: 7 | bound: 5 | nc: 1 | ncall: 32843 | eff(%): 26.481 | loglstar: 43.619 < 45.906 < 48.023 | logz: 34.970 +/-  0.134 | stop:  2.108]\r8956it [00:10, 869.48it/s, batch: 7 | bound: 6 | nc: 1 | ncall: 33224 | eff(%): 26.535 | loglstar: 43.619 < 46.725 < 48.023 | logz: 34.970 +/-  0.134 | stop:  2.108]\r9081it [00:10, 911.05it/s, batch: 7 | bound: 7 | nc: 1 | ncall: 33606 | eff(%): 26.604 | loglstar: 43.619 < 47.383 < 48.023 | logz: 34.970 +/-  0.134 | stop:  2.108]\r9203it [00:10, 935.35it/s, batch: 7 | bound: 8 | nc: 1 | ncall: 33981 | eff(%): 26.668 | loglstar: 43.619 < 47.854 < 48.023 | logz: 34.970 +/-  0.134 | stop:  2.108]\r9509it [00:10, 903.73it/s, batch: 8 | bound: 0 | nc: 3 | ncall: 34643 | eff(%): 27.449 | loglstar: 43.109 < 47.348 < 47.996 | logz: 34.969 +/-  0.125 | stop:  1.736]\r9658it [00:10, 950.19it/s, batch: 8 | bound: 3 | nc: 1 | ncall: 35019 | eff(%): 27.081 | loglstar: 43.109 < 44.820 < 47.996 | logz: 34.969 +/-  0.125 | stop:  1.736]\r9783it [00:11, 964.39it/s, batch: 8 | bound: 4 | nc: 2 | ncall: 35399 | eff(%): 27.142 | loglstar: 43.109 < 45.837 < 47.996 | logz: 34.969 +/-  0.125 | stop:  1.736]\r9882it [00:11, 888.35it/s, batch: 8 | bound: 5 | nc: 4 | ncall: 35805 | eff(%): 27.111 | loglstar: 43.109 < 46.477 < 47.996 | logz: 34.969 +/-  0.125 | stop:  1.736]\r9980it [00:11, 867.19it/s, batch: 8 | bound: 6 | nc: 1 | ncall: 36170 | eff(%): 27.109 | loglstar: 43.109 < 46.889 < 47.996 | logz: 34.969 +/-  0.125 | stop:  1.736]\r10067it [00:11, 823.87it/s, batch: 8 | bound: 7 | nc: 7 | ncall: 36578 | eff(%): 27.045 | loglstar: 43.109 < 47.275 < 47.996 | logz: 34.969 +/-  0.125 | stop:  1.736]\r10156it [00:11, 808.44it/s, batch: 8 | bound: 8 | nc: 2 | ncall: 36927 | eff(%): 27.031 | loglstar: 43.109 < 47.609 < 47.996 | logz: 34.969 +/-  0.125 | stop:  1.736]\r10258it [00:11, 799.43it/s, batch: 8 | bound: 9 | nc: 1 | ncall: 37301 | eff(%): 27.033 | loglstar: 43.109 < 47.959 < 47.996 | logz: 34.969 +/-  0.125 | stop:  1.736]\r10525it [00:12, 738.36it/s, batch: 9 | bound: 0 | nc: 1 | ncall: 37974 | eff(%): 27.716 | loglstar: 42.627 < 44.369 < 48.412 | logz: 34.988 +/-  0.117 | stop:  1.476]\r10602it [00:12, 689.35it/s, batch: 9 | bound: 3 | nc: 7 | ncall: 38475 | eff(%): 26.913 | loglstar: 42.627 < 43.460 < 48.412 | logz: 34.988 +/-  0.117 | stop:  1.476]\r10672it [00:12, 653.43it/s, batch: 9 | bound: 4 | nc: 1 | ncall: 38876 | eff(%): 26.817 | loglstar: 42.627 < 44.304 < 48.412 | logz: 34.988 +/-  0.117 | stop:  1.476]\r10756it [00:12, 678.55it/s, batch: 9 | bound: 5 | nc: 5 | ncall: 39123 | eff(%): 26.862 | loglstar: 42.627 < 44.942 < 48.412 | logz: 34.988 +/-  0.117 | stop:  1.476]\r10835it [00:12, 664.56it/s, batch: 9 | bound: 6 | nc: 4 | ncall: 39497 | eff(%): 26.809 | loglstar: 42.627 < 45.648 < 48.412 | logz: 34.988 +/-  0.117 | stop:  1.476]\r10941it [00:12, 702.47it/s, batch: 9 | bound: 7 | nc: 1 | ncall: 39874 | eff(%): 26.821 | loglstar: 42.627 < 46.442 < 48.412 | logz: 34.988 +/-  0.117 | stop:  1.476]\r11097it [00:12, 832.13it/s, batch: 9 | bound: 8 | nc: 1 | ncall: 40253 | eff(%): 26.953 | loglstar: 42.627 < 47.184 < 48.412 | logz: 34.988 +/-  0.117 | stop:  1.476]\r11181it [00:12, 795.46it/s, batch: 9 | bound: 9 | nc: 1 | ncall: 40631 | eff(%): 26.910 | loglstar: 42.627 < 47.600 < 48.412 | logz: 34.988 +/-  0.117 | stop:  1.476]\r11298it [00:13, 831.13it/s, batch: 9 | bound: 10 | nc: 1 | ncall: 41009 | eff(%): 26.946 | loglstar: 42.627 < 47.965 < 48.412 | logz: 34.988 +/-  0.117 | stop:  1.476]\r11441it [00:13, 905.04it/s, batch: 9 | bound: 11 | nc: 3 | ncall: 41386 | eff(%): 27.044 | loglstar: 42.627 < 48.283 < 48.412 | logz: 34.988 +/-  0.117 | stop:  1.476]\r11753it [00:13, 745.76it/s, batch: 10 | bound: 0 | nc: 1 | ncall: 42506 | eff(%): 27.650 | loglstar: 42.047 < 43.453 < 48.412 | logz: 34.974 +/-  0.110 | stop:  1.260]\r11866it [00:13, 768.43it/s, batch: 10 | bound: 3 | nc: 5 | ncall: 42889 | eff(%): 26.724 | loglstar: 42.047 < 43.529 < 48.412 | logz: 34.974 +/-  0.110 | stop:  1.260]\r11950it [00:13, 751.03it/s, batch: 10 | bound: 4 | nc: 4 | ncall: 43280 | eff(%): 26.678 | loglstar: 42.047 < 44.328 < 48.412 | logz: 34.974 +/-  0.110 | stop:  1.260]\r12053it [00:14, 760.17it/s, batch: 10 | bound: 5 | nc: 1 | ncall: 43636 | eff(%): 26.696 | loglstar: 42.047 < 45.237 < 48.412 | logz: 34.974 +/-  0.110 | stop:  1.260]\r12168it [00:14, 787.52it/s, batch: 10 | bound: 6 | nc: 5 | ncall: 44018 | eff(%): 26.725 | loglstar: 42.047 < 46.132 < 48.412 | logz: 34.974 +/-  0.110 | stop:  1.260]\r12271it [00:14, 804.53it/s, batch: 10 | bound: 7 | nc: 3 | ncall: 44392 | eff(%): 26.731 | loglstar: 42.047 < 46.773 < 48.412 | logz: 34.974 +/-  0.110 | stop:  1.260]\r12387it [00:14, 831.34it/s, batch: 10 | bound: 8 | nc: 4 | ncall: 44773 | eff(%): 26.762 | loglstar: 42.047 < 47.342 < 48.412 | logz: 34.974 +/-  0.110 | stop:  1.260]\r12550it [00:14, 944.93it/s, batch: 10 | bound: 9 | nc: 1 | ncall: 45146 | eff(%): 26.897 | loglstar: 42.047 < 47.915 < 48.412 | logz: 34.974 +/-  0.110 | stop:  1.260]\r12678it [00:14, 954.98it/s, batch: 10 | bound: 10 | nc: 2 | ncall: 45523 | eff(%): 26.954 | loglstar: 42.047 < 48.284 < 48.412 | logz: 34.974 +/-  0.110 | stop:  1.260]\r12987it [00:15, 815.73it/s, batch: 11 | bound: 0 | nc: 3 | ncall: 47176 | eff(%): 27.529 | loglstar: 41.407 < 44.018 < 48.971 | logz: 34.968 +/-  0.104 | stop:  1.103] \r13077it [00:15, 786.99it/s, batch: 11 | bound: 3 | nc: 2 | ncall: 47612 | eff(%): 26.940 | loglstar: 41.407 < 42.698 < 48.971 | logz: 34.968 +/-  0.104 | stop:  1.103]\r13160it [00:15, 759.06it/s, batch: 11 | bound: 4 | nc: 3 | ncall: 48014 | eff(%): 26.888 | loglstar: 41.407 < 43.937 < 48.971 | logz: 34.968 +/-  0.104 | stop:  1.103]\r13238it [00:15, 741.58it/s, batch: 11 | bound: 5 | nc: 6 | ncall: 48329 | eff(%): 26.875 | loglstar: 41.407 < 44.649 < 48.971 | logz: 34.968 +/-  0.104 | stop:  1.103]\r13318it [00:15, 729.31it/s, batch: 11 | bound: 6 | nc: 2 | ncall: 48683 | eff(%): 26.844 | loglstar: 41.407 < 45.333 < 48.971 | logz: 34.968 +/-  0.104 | stop:  1.103]\r13462it [00:15, 836.10it/s, batch: 11 | bound: 7 | nc: 1 | ncall: 49057 | eff(%): 26.932 | loglstar: 41.407 < 46.334 < 48.971 | logz: 34.968 +/-  0.104 | stop:  1.103]\r13585it [00:15, 870.08it/s, batch: 11 | bound: 8 | nc: 4 | ncall: 49438 | eff(%): 26.972 | loglstar: 41.407 < 46.961 < 48.971 | logz: 34.968 +/-  0.104 | stop:  1.103]\r13718it [00:16, 903.22it/s, batch: 11 | bound: 9 | nc: 2 | ncall: 49812 | eff(%): 27.035 | loglstar: 41.407 < 47.511 < 48.971 | logz: 34.968 +/-  0.104 | stop:  1.103]\r13848it [00:16, 928.13it/s, batch: 11 | bound: 10 | nc: 2 | ncall: 50187 | eff(%): 27.091 | loglstar: 41.407 < 47.911 < 48.971 | logz: 34.968 +/-  0.104 | stop:  1.103]\r14013it [00:16, 1014.67it/s, batch: 11 | bound: 11 | nc: 4 | ncall: 50566 | eff(%): 27.212 | loglstar: 41.407 < 48.331 < 48.971 | logz: 34.968 +/-  0.104 | stop:  1.103]\r14120it [00:16, 961.92it/s, batch: 11 | bound: 12 | nc: 1 | ncall: 50938 | eff(%): 27.223 | loglstar: 41.407 < 48.534 < 48.971 | logz: 34.968 +/-  0.104 | stop:  1.103] \r14225it [00:16, 929.98it/s, batch: 11 | bound: 13 | nc: 5 | ncall: 51318 | eff(%): 27.226 | loglstar: 41.407 < 48.712 < 48.971 | logz: 34.968 +/-  0.104 | stop:  1.103]\r14392it [00:16, 1024.79it/s, batch: 11 | bound: 14 | nc: 1 | ncall: 51689 | eff(%): 27.352 | loglstar: 41.407 < 48.921 < 48.971 | logz: 34.968 +/-  0.104 | stop:  1.103]\r14691it [00:16, 1257.33it/s, batch: 11 | bound: 14 | nc: 1 | ncall: 52021 | eff(%): 27.877 | loglstar: 41.407 < 49.436 < 48.971 | logz: 34.968 +/-  0.104 | stop:  0.949]\r14691it [00:16, 868.85it/s, batch: 11 | bound: 14 | nc: 1 | ncall: 52021 | eff(%): 27.877 | loglstar: 41.407 < 49.436 < 48.971 | logz: 34.968 +/-  0.104 | stop:  0.949] \n"
        }
       ],
       "tabbable": null,
       "tooltip": null
      }
     },
     "b5f93d11974143a1ad5567d5221a3c92": {
      "model_module": "@jupyter-widgets/base",
      "model_module_version": "2.0.0",
      "model_name": "LayoutModel",
      "state": {
       "_model_module": "@jupyter-widgets/base",
       "_model_module_version": "2.0.0",
       "_model_name": "LayoutModel",
       "_view_count": null,
       "_view_module": "@jupyter-widgets/base",
       "_view_module_version": "2.0.0",
       "_view_name": "LayoutView",
       "align_content": null,
       "align_items": null,
       "align_self": null,
       "border_bottom": null,
       "border_left": null,
       "border_right": null,
       "border_top": null,
       "bottom": null,
       "display": null,
       "flex": null,
       "flex_flow": null,
       "grid_area": null,
       "grid_auto_columns": null,
       "grid_auto_flow": null,
       "grid_auto_rows": null,
       "grid_column": null,
       "grid_gap": null,
       "grid_row": null,
       "grid_template_areas": null,
       "grid_template_columns": null,
       "grid_template_rows": null,
       "height": null,
       "justify_content": null,
       "justify_items": null,
       "left": null,
       "margin": null,
       "max_height": null,
       "max_width": null,
       "min_height": null,
       "min_width": null,
       "object_fit": null,
       "object_position": null,
       "order": null,
       "overflow": null,
       "padding": null,
       "right": null,
       "top": null,
       "visibility": null,
       "width": null
      }
     },
     "c47931a3d969473bb047f81a72167514": {
      "model_module": "@jupyter-widgets/output",
      "model_module_version": "1.0.0",
      "model_name": "OutputModel",
      "state": {
       "_dom_classes": [],
       "_model_module": "@jupyter-widgets/output",
       "_model_module_version": "1.0.0",
       "_model_name": "OutputModel",
       "_view_count": null,
       "_view_module": "@jupyter-widgets/output",
       "_view_module_version": "1.0.0",
       "_view_name": "OutputView",
       "layout": "IPY_MODEL_6411bce5051d42c2affd893751a95154",
       "msg_id": "",
       "outputs": [
        {
         "data": {
          "application/vnd.jupyter.widget-view+json": {
           "model_id": "0c9757c3eb924308a434853f5df71c88",
           "version_major": 2,
           "version_minor": 0
          },
          "text/plain": "  0%|          | 0/2000 [00:00<?, ?it/s]"
         },
         "metadata": {},
         "output_type": "display_data"
        }
       ],
       "tabbable": null,
       "tooltip": null
      }
     },
     "ca9a337e502742b586001d4f585feb1e": {
      "model_module": "@jupyter-widgets/controls",
      "model_module_version": "2.0.0",
      "model_name": "FloatProgressModel",
      "state": {
       "_dom_classes": [],
       "_model_module": "@jupyter-widgets/controls",
       "_model_module_version": "2.0.0",
       "_model_name": "FloatProgressModel",
       "_view_count": null,
       "_view_module": "@jupyter-widgets/controls",
       "_view_module_version": "2.0.0",
       "_view_name": "ProgressView",
       "bar_style": "success",
       "description": "",
       "description_allow_html": false,
       "layout": "IPY_MODEL_552a4d5e69124df89383dbbf0ad08f0b",
       "max": 2000.0,
       "min": 0.0,
       "orientation": "horizontal",
       "style": "IPY_MODEL_156cfcd6ba564448a7f64ddc8cbc74ae",
       "tabbable": null,
       "tooltip": null,
       "value": 2000.0
      }
     },
     "ccfeb476e9814099a913e236aae03cf2": {
      "model_module": "@jupyter-widgets/output",
      "model_module_version": "1.0.0",
      "model_name": "OutputModel",
      "state": {
       "_dom_classes": [],
       "_model_module": "@jupyter-widgets/output",
       "_model_module_version": "1.0.0",
       "_model_name": "OutputModel",
       "_view_count": null,
       "_view_module": "@jupyter-widgets/output",
       "_view_module_version": "1.0.0",
       "_view_name": "OutputView",
       "layout": "IPY_MODEL_2424db79916e4d6884e57c3b1ddf1891",
       "msg_id": "",
       "outputs": [
        {
         "data": {
          "application/vnd.jupyter.widget-view+json": {
           "model_id": "66e47bd36cd04c38b74492b1f44ad88d",
           "version_major": 2,
           "version_minor": 0
          },
          "text/plain": "  0%|          | 0/14691 [00:00<?, ?it/s]"
         },
         "metadata": {},
         "output_type": "display_data"
        }
       ],
       "tabbable": null,
       "tooltip": null
      }
     },
     "d75a4fdc6f894d3e94be3fecde519302": {
      "model_module": "@jupyter-widgets/base",
      "model_module_version": "2.0.0",
      "model_name": "LayoutModel",
      "state": {
       "_model_module": "@jupyter-widgets/base",
       "_model_module_version": "2.0.0",
       "_model_name": "LayoutModel",
       "_view_count": null,
       "_view_module": "@jupyter-widgets/base",
       "_view_module_version": "2.0.0",
       "_view_name": "LayoutView",
       "align_content": null,
       "align_items": null,
       "align_self": null,
       "border_bottom": null,
       "border_left": null,
       "border_right": null,
       "border_top": null,
       "bottom": null,
       "display": null,
       "flex": null,
       "flex_flow": null,
       "grid_area": null,
       "grid_auto_columns": null,
       "grid_auto_flow": null,
       "grid_auto_rows": null,
       "grid_column": null,
       "grid_gap": null,
       "grid_row": null,
       "grid_template_areas": null,
       "grid_template_columns": null,
       "grid_template_rows": null,
       "height": null,
       "justify_content": null,
       "justify_items": null,
       "left": null,
       "margin": null,
       "max_height": null,
       "max_width": null,
       "min_height": null,
       "min_width": null,
       "object_fit": null,
       "object_position": null,
       "order": null,
       "overflow": null,
       "padding": null,
       "right": null,
       "top": null,
       "visibility": null,
       "width": null
      }
     },
     "d96268c5ffb94e2d987d352f4c20daf8": {
      "model_module": "@jupyter-widgets/base",
      "model_module_version": "2.0.0",
      "model_name": "LayoutModel",
      "state": {
       "_model_module": "@jupyter-widgets/base",
       "_model_module_version": "2.0.0",
       "_model_name": "LayoutModel",
       "_view_count": null,
       "_view_module": "@jupyter-widgets/base",
       "_view_module_version": "2.0.0",
       "_view_name": "LayoutView",
       "align_content": null,
       "align_items": null,
       "align_self": null,
       "border_bottom": null,
       "border_left": null,
       "border_right": null,
       "border_top": null,
       "bottom": null,
       "display": null,
       "flex": null,
       "flex_flow": null,
       "grid_area": null,
       "grid_auto_columns": null,
       "grid_auto_flow": null,
       "grid_auto_rows": null,
       "grid_column": null,
       "grid_gap": null,
       "grid_row": null,
       "grid_template_areas": null,
       "grid_template_columns": null,
       "grid_template_rows": null,
       "height": null,
       "justify_content": null,
       "justify_items": null,
       "left": null,
       "margin": null,
       "max_height": null,
       "max_width": null,
       "min_height": null,
       "min_width": null,
       "object_fit": null,
       "object_position": null,
       "order": null,
       "overflow": null,
       "padding": null,
       "right": null,
       "top": null,
       "visibility": null,
       "width": null
      }
     },
     "e14e8c0895eb45b793c0a6a1dafac29c": {
      "model_module": "@jupyter-widgets/controls",
      "model_module_version": "2.0.0",
      "model_name": "AccordionModel",
      "state": {
       "_dom_classes": [],
       "_model_module": "@jupyter-widgets/controls",
       "_model_module_version": "2.0.0",
       "_model_name": "AccordionModel",
       "_view_count": null,
       "_view_module": "@jupyter-widgets/controls",
       "_view_module_version": "2.0.0",
       "_view_name": "AccordionView",
       "box_style": "",
       "children": [
        "IPY_MODEL_ac0f1f03487344419090702041fadc17"
       ],
       "layout": "IPY_MODEL_18d521d1ce524390847c100b9a60e281",
       "selected_index": null,
       "tabbable": null,
       "titles": [
        "FF-LQCD-SSE/nested"
       ],
       "tooltip": null
      }
     },
     "e1dcc272e0594838a795e248fb0179b3": {
      "model_module": "@jupyter-widgets/controls",
      "model_module_version": "2.0.0",
      "model_name": "HTMLModel",
      "state": {
       "_dom_classes": [],
       "_model_module": "@jupyter-widgets/controls",
       "_model_module_version": "2.0.0",
       "_model_name": "HTMLModel",
       "_view_count": null,
       "_view_module": "@jupyter-widgets/controls",
       "_view_module_version": "2.0.0",
       "_view_name": "HTMLView",
       "description": "",
       "description_allow_html": false,
       "layout": "IPY_MODEL_89b848066e5d4773915803debefa6180",
       "placeholder": "​",
       "style": "IPY_MODEL_1012288fe0e7436f9f2603f8a77ffd6d",
       "tabbable": null,
       "tooltip": null,
       "value": "100%"
      }
     },
     "e38685ca20b242ee85b3efd482a44dcd": {
      "model_module": "@jupyter-widgets/controls",
      "model_module_version": "2.0.0",
      "model_name": "HTMLModel",
      "state": {
       "_dom_classes": [],
       "_model_module": "@jupyter-widgets/controls",
       "_model_module_version": "2.0.0",
       "_model_name": "HTMLModel",
       "_view_count": null,
       "_view_module": "@jupyter-widgets/controls",
       "_view_module_version": "2.0.0",
       "_view_name": "HTMLView",
       "description": "",
       "description_allow_html": false,
       "layout": "IPY_MODEL_e4a8bd48587e4a68b1c0fe5ab370b4ae",
       "placeholder": "​",
       "style": "IPY_MODEL_a279a0ac575f411db75a2ce62bb50acd",
       "tabbable": null,
       "tooltip": null,
       "value": " 14691/14691 [00:01&lt;00:00, 11691.28it/s]"
      }
     },
     "e4a8bd48587e4a68b1c0fe5ab370b4ae": {
      "model_module": "@jupyter-widgets/base",
      "model_module_version": "2.0.0",
      "model_name": "LayoutModel",
      "state": {
       "_model_module": "@jupyter-widgets/base",
       "_model_module_version": "2.0.0",
       "_model_name": "LayoutModel",
       "_view_count": null,
       "_view_module": "@jupyter-widgets/base",
       "_view_module_version": "2.0.0",
       "_view_name": "LayoutView",
       "align_content": null,
       "align_items": null,
       "align_self": null,
       "border_bottom": null,
       "border_left": null,
       "border_right": null,
       "border_top": null,
       "bottom": null,
       "display": null,
       "flex": null,
       "flex_flow": null,
       "grid_area": null,
       "grid_auto_columns": null,
       "grid_auto_flow": null,
       "grid_auto_rows": null,
       "grid_column": null,
       "grid_gap": null,
       "grid_row": null,
       "grid_template_areas": null,
       "grid_template_columns": null,
       "grid_template_rows": null,
       "height": null,
       "justify_content": null,
       "justify_items": null,
       "left": null,
       "margin": null,
       "max_height": null,
       "max_width": null,
       "min_height": null,
       "min_width": null,
       "object_fit": null,
       "object_position": null,
       "order": null,
       "overflow": null,
       "padding": null,
       "right": null,
       "top": null,
       "visibility": null,
       "width": null
      }
     },
     "f257edd9071c434eb16cd7399762bbde": {
      "model_module": "@jupyter-widgets/controls",
      "model_module_version": "2.0.0",
      "model_name": "AccordionModel",
      "state": {
       "_dom_classes": [],
       "_model_module": "@jupyter-widgets/controls",
       "_model_module_version": "2.0.0",
       "_model_name": "AccordionModel",
       "_view_count": null,
       "_view_module": "@jupyter-widgets/controls",
       "_view_module_version": "2.0.0",
       "_view_name": "AccordionView",
       "box_style": "",
       "children": [
        "IPY_MODEL_ccfeb476e9814099a913e236aae03cf2"
       ],
       "layout": "IPY_MODEL_7362c72986b34747971dfd5ff2f7ca8c",
       "selected_index": null,
       "tabbable": null,
       "titles": [
        "FF-LQCD-SSE/pred-B-to-D-mu-nu"
       ],
       "tooltip": null
      }
     },
     "fe3ed8024553474fa4915fe414c7c500": {
      "model_module": "@jupyter-widgets/controls",
      "model_module_version": "2.0.0",
      "model_name": "HTMLModel",
      "state": {
       "_dom_classes": [],
       "_model_module": "@jupyter-widgets/controls",
       "_model_module_version": "2.0.0",
       "_model_name": "HTMLModel",
       "_view_count": null,
       "_view_module": "@jupyter-widgets/controls",
       "_view_module_version": "2.0.0",
       "_view_name": "HTMLView",
       "description": "",
       "description_allow_html": false,
       "layout": "IPY_MODEL_9b26268cbb8244f9a7cf44110d9207cb",
       "placeholder": "​",
       "style": "IPY_MODEL_0a68fd04074f44b0964c08dfb77fc3d8",
       "tabbable": null,
       "tooltip": null,
       "value": "100%"
      }
     }
    },
    "version_major": 2,
    "version_minor": 0
   }
  }
 },
 "nbformat": 4,
 "nbformat_minor": 2
}
