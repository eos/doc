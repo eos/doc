{
 "cells": [
  {
   "cell_type": "markdown",
   "metadata": {},
   "source": [
    "# Parameter Inference"
   ]
  },
  {
   "cell_type": "markdown",
   "metadata": {},
   "source": [
    "EOS can infer parameters based on a database of experimental or theoretical constraints and its built-in observables.\n",
    "The examples in this notebook illustrate how to find a specific constraint from the list of all built-in observables,\n",
    "include them in an analysis file,\n",
    "and infer mean value and standard deviation of a list of parameters through sampling methods."
   ]
  },
  {
   "cell_type": "code",
   "execution_count": 1,
   "metadata": {
    "execution": {
     "iopub.execute_input": "2024-09-10T06:43:01.961957Z",
     "iopub.status.busy": "2024-09-10T06:43:01.961564Z",
     "iopub.status.idle": "2024-09-10T06:43:02.649148Z",
     "shell.execute_reply": "2024-09-10T06:43:02.648557Z"
    }
   },
   "outputs": [],
   "source": [
    "import eos\n",
    "import numpy as np"
   ]
  },
  {
   "cell_type": "markdown",
   "metadata": {},
   "source": [
    "## Listing the built-in Constraints"
   ]
  },
  {
   "cell_type": "markdown",
   "metadata": {},
   "source": [
    "The full list of built-in constraints for the most-recent EOS release is available online [here](https://eos.github.io/doc/reference/constraints). You can also show this list using the [eos.Constraints](../reference/python.rst#eos.Constraints) class.  Searching for a specific constraint is possible by filtering for specific strings in the constraint name’s *prefix*, *name*, or *suffix* parts. The following example only shows constraints that contain a `'->D'` in the prefix part:"
   ]
  },
  {
   "cell_type": "code",
   "execution_count": 2,
   "metadata": {
    "ExecuteTime": {
     "end_time": "2021-10-21T13:15:08.490501Z",
     "start_time": "2021-10-21T13:15:07.686555Z"
    },
    "execution": {
     "iopub.execute_input": "2024-09-10T06:43:02.651805Z",
     "iopub.status.busy": "2024-09-10T06:43:02.651543Z",
     "iopub.status.idle": "2024-09-10T06:43:03.027107Z",
     "shell.execute_reply": "2024-09-10T06:43:03.026522Z"
    }
   },
   "outputs": [
    {
     "data": {
      "text/html": [
       "\n",
       "        <script>\n",
       "            function toggle_obs(obs_anchor, id) {\n",
       "                var query_dots   = 'span.dots[id=\"' + id + '\"]'\n",
       "                var query_values = 'span.values[id=\"' + id + '\"]'\n",
       "                var dots   = obs_anchor.querySelector(query_dots)\n",
       "                var values = obs_anchor.querySelector(query_values)\n",
       "                if (dots.style.display == \"none\") {\n",
       "                    dots.style.display   = \"inline\"\n",
       "                    values.style.display = \"none\"\n",
       "                } else {\n",
       "                    dots.style.display   = \"none\"\n",
       "                    values.style.display = \"inline\"\n",
       "                }\n",
       "            }\n",
       "        </script>\n",
       "        <table>\n",
       "            <colgroup>\n",
       "                <col width=\"50%\" id=\"qn\"     style=\"min-width: 200px\">\n",
       "                <col width=\"25%\" id=\"type\"   style=\"min-width: 200px\">\n",
       "                <col width=\"15%\" id=\"type\"   style=\"min-width: 100px\">\n",
       "                <col width=\"10%\" id=\"ref\"    style=\"min-width: 100px\">\n",
       "            </colgroup>\n",
       "            <thead>\n",
       "                <tr>\n",
       "                    <th>qualified name</th>\n",
       "                    <th>observables</th>\n",
       "                    <th>type</th>\n",
       "                    <th>reference</th>\n",
       "                </tr>\n",
       "            </thead>\n",
       "                <tr>\n",
       "                    <td><tt>B^0->D^+e^-nu::BRs@Belle:2015A</tt></td>\n",
       "                    <td><a onclick=\"toggle_obs(this, 'con0-obs')\">\n",
       "                <span class=\"dots\"   id=\"con0-obs\" style=\"display: inline; text-align: left\">...</span>\n",
       "                <span class=\"values\" id=\"con0-obs\" style=\"display: none;   text-align: left\">\n",
       "               <tt>B->Dlnu::BR</tt>\n",
       "                </span>\n",
       "            </a></td>\n",
       "                    <td>MultivariateGaussian(Covariance)</td>\n",
       "                    <td><a \" href=\"https://arxiv.org/abs/1510.03657\"\">Belle:2015A</a></td>\n",
       "                </tr>\n",
       "                <tr>\n",
       "                    <td><tt>B^0->D^+l^-nu::KinematicalDistribution[w]@Belle:2015A</tt></td>\n",
       "                    <td><a onclick=\"toggle_obs(this, 'con0-obs')\">\n",
       "                <span class=\"dots\"   id=\"con0-obs\" style=\"display: inline; text-align: left\">...</span>\n",
       "                <span class=\"values\" id=\"con0-obs\" style=\"display: none;   text-align: left\">\n",
       "               <tt>B->Dlnu::P(w_min,w_max)</tt>\n",
       "                </span>\n",
       "            </a></td>\n",
       "                    <td>MultivariateGaussian(Covariance)</td>\n",
       "                    <td><a \" href=\"https://arxiv.org/abs/1510.03657\"\">Belle:2015A</a></td>\n",
       "                </tr>\n",
       "                <tr>\n",
       "                    <td><tt>B^0->D^+mu^-nu::BRs@Belle:2015A</tt></td>\n",
       "                    <td><a onclick=\"toggle_obs(this, 'con0-obs')\">\n",
       "                <span class=\"dots\"   id=\"con0-obs\" style=\"display: inline; text-align: left\">...</span>\n",
       "                <span class=\"values\" id=\"con0-obs\" style=\"display: none;   text-align: left\">\n",
       "               <tt>B->Dlnu::BR</tt>\n",
       "                </span>\n",
       "            </a></td>\n",
       "                    <td>MultivariateGaussian(Covariance)</td>\n",
       "                    <td><a \" href=\"https://arxiv.org/abs/1510.03657\"\">Belle:2015A</a></td>\n",
       "                </tr>\n",
       "            </table>\n",
       "        "
      ],
      "text/plain": [
       "<eos.constraint.Constraints at 0x7f54802f3ab0>"
      ]
     },
     "execution_count": 2,
     "metadata": {},
     "output_type": "execute_result"
    }
   ],
   "source": [
    "eos.Constraints(prefix='B^0->D^+')"
   ]
  },
  {
   "cell_type": "markdown",
   "metadata": {},
   "source": [
    "## Visualizing the built-in Constraints"
   ]
  },
  {
   "cell_type": "markdown",
   "metadata": {},
   "source": [
    "For what follows we will use the two experimental constraints ``B^0->D^+e^-nu::BRs@Belle:2015A``\n",
    "and ``B^0->D^+mu^-nu::BRs@Belle:2015A``, to infer the CKM matrix element $|V_{cb}|$. We can readily\n",
    "display these two constraints, along with the default theory prediction (without any uncertainties),\n",
    "using the following code:"
   ]
  },
  {
   "cell_type": "code",
   "execution_count": 3,
   "metadata": {
    "ExecuteTime": {
     "end_time": "2021-10-21T13:15:11.112132Z",
     "start_time": "2021-10-21T13:15:08.493463Z"
    },
    "execution": {
     "iopub.execute_input": "2024-09-10T06:43:03.029244Z",
     "iopub.status.busy": "2024-09-10T06:43:03.029051Z",
     "iopub.status.idle": "2024-09-10T06:43:04.773456Z",
     "shell.execute_reply": "2024-09-10T06:43:04.772804Z"
    }
   },
   "outputs": [
    {
     "data": {
      "image/png": "[encoded data removed]",
      "text/plain": [
       "<Figure size 640x480 with 1 Axes>"
      ]
     },
     "metadata": {},
     "output_type": "display_data"
    }
   ],
   "source": [
    "plot_args = {\n",
    "    'plot': {\n",
    "        'x': { 'label': r'$q^2$', 'unit': r'$\\textnormal{GeV}^2$', 'range': [0.0, 11.63] },\n",
    "        'y': { 'label': r'$d\\mathcal{B}/dq^2$',                    'range': [0.0,  5e-3] },\n",
    "        'legend': { 'location': 'lower left' }\n",
    "    },\n",
    "    'contents': [\n",
    "        {\n",
    "            'label': r'$\\ell=e$',\n",
    "            'type': 'observable',\n",
    "            'observable': 'B->Dlnu::dBR/dq2;l=e,q=d',\n",
    "            'variable': 'q2',\n",
    "            'color': 'black',\n",
    "            'range': [0.02, 11.63],\n",
    "        },\n",
    "        {\n",
    "            'label': r'Belle 2015 $\\ell=e,\\, q=d$',\n",
    "            'type': 'constraint',\n",
    "            'color': 'C0',\n",
    "            'constraints': 'B^0->D^+e^-nu::BRs@Belle:2015A',\n",
    "            'observable': 'B->Dlnu::BR',\n",
    "            'variable': 'q2',\n",
    "            'rescale-by-width': True\n",
    "        },\n",
    "        {\n",
    "            'label': r'Belle 2015 $\\ell=\\mu,\\,q=d$',\n",
    "            'type': 'constraint',\n",
    "            'color': 'C1',\n",
    "            'constraints': 'B^0->D^+mu^-nu::BRs@Belle:2015A',\n",
    "            'observable': 'B->Dlnu::BR',\n",
    "            'variable': 'q2',\n",
    "            'rescale-by-width': True\n",
    "        },\n",
    "    ]\n",
    "}\n",
    "_ = eos.plot.Plotter(plot_args).plot()"
   ]
  },
  {
   "cell_type": "markdown",
   "metadata": {},
   "source": [
    "## Defining the analysis\n",
    "\n",
    "To define our statistical analysis for the inference of $|V_{cb}|$ from measurements\n",
    "of the $\\bar{B}\\to D\\ell^-\\bar\\nu$ branching ratios, we must decide how to parametrize\n",
    "the hadronic form factors that emerge in semileptonic $\\bar{B}\\to D$ transitions and\n",
    "how to constraint them. On top of the theoretical constraints and form factor coefficient priors as in `predictions.yaml`, we must add a prior for varying the CKM element and experimental constraints from which to extract it.\n",
    "We only vary the absolute value of the CKM element `CKM::abs(V_cb)`, as the complex phase of the CKM element `CKM::arg(V_cb)` is not accessible from $b\\to c \\ell \\bar \\nu$.\n",
    "In order to use this parametrization of the CKM elements, we must use the model `CKM` in the analysis.\n",
    "\n",
    "These additions to the likelihood and priors, seen in the analysis file `inference.yaml`, look like\n",
    "```yaml\n",
    "priors:\n",
    "  - name: CKM\n",
    "    descriptions:\n",
    "      - { parameter: 'CKM::abs(V_cb)',           min:  38e-3, max:  45e-3 , type: 'uniform' }\n",
    "\n",
    "  - name: FF\n",
    "    # as in both predictions.yaml and inference.yaml\n",
    "\n",
    "likelihoods:\n",
    "  - name: B-to-D-l-nu\n",
    "    constraints:\n",
    "      - 'B^0->D^+e^-nu::BRs@Belle:2015A;form-factors=BSZ2015'\n",
    "      - 'B^0->D^+mu^-nu::BRs@Belle:2015A;form-factors=BSZ2015'\n",
    "\n",
    "  - name: FF-LQCD\n",
    "    # as in both predictions.yaml and inference.yaml\n",
    "```\n",
    "\n"
   ]
  },
  {
   "cell_type": "markdown",
   "metadata": {},
   "source": [
    "## Sampling from the posterior\n",
    "\n",
    "EOS provides the means to draw and store Monte Carlo samples for a prior PDF $P_0(\\vec\\vartheta)$, a posterior PDF $P(\\vec\\vartheta|\\text{data})$, and predictive distributions using [eos.tasks.sample_nested](../reference/python.rst#eos.tasks.sample_nested). We store this data within a hierarchy of directories below a \"base directory\". For the purpose of the following examples, we set this base directory to ``./inference-data``, stored in a convenient global variable."
   ]
  },
  {
   "cell_type": "code",
   "execution_count": 4,
   "metadata": {
    "execution": {
     "iopub.execute_input": "2024-09-10T06:43:04.775745Z",
     "iopub.status.busy": "2024-09-10T06:43:04.775444Z",
     "iopub.status.idle": "2024-09-10T06:43:04.778152Z",
     "shell.execute_reply": "2024-09-10T06:43:04.777671Z"
    }
   },
   "outputs": [],
   "source": [
    "EOS_BASE_DIRECTORY='./inference-data'"
   ]
  },
  {
   "cell_type": "code",
   "execution_count": 5,
   "metadata": {
    "execution": {
     "iopub.execute_input": "2024-09-10T06:43:04.780148Z",
     "iopub.status.busy": "2024-09-10T06:43:04.779828Z",
     "iopub.status.idle": "2024-09-10T06:43:43.358260Z",
     "shell.execute_reply": "2024-09-10T06:43:43.357752Z"
    }
   },
   "outputs": [
    {
     "data": {
      "application/vnd.jupyter.widget-view+json": {
       "model_id": "0955ccb0e70141a696e3c695e68d7153",
       "version_major": 2,
       "version_minor": 0
      },
      "text/plain": [
       "Accordion(children=(Output(layout=Layout(height='200px', overflow='auto')),), titles=('CKM/nested',))"
      ]
     },
     "metadata": {},
     "output_type": "display_data"
    }
   ],
   "source": [
    "eos.tasks.sample_nested('inference.yaml', 'CKM', base_directory=EOS_BASE_DIRECTORY, nlive=250, dlogz=0.5, seed=42)"
   ]
  },
  {
   "cell_type": "markdown",
   "metadata": {},
   "source": [
    "## Inferring the $|V_{cb}|$ parameter\n",
    "\n",
    "The distribution of the parameter samples, here using $|V_{cb}|$ as an example, can be inspected using regular histograms or a smooth histogram based on a kernel density estimate (KDE). The samples are automatically processed, when specifying the ``data-file`` directory and the ``variable`` as histogram plotting arguments. For the KDE, the parameter ``bandwidth`` regulates the smoothing. EOS applies a relative bandwidth factor with respect to SciPy's best bandwidth estimate, i.e., specifying `'bandwidth': 2` doubles SciPy's estimate for the bandwidth."
   ]
  },
  {
   "cell_type": "code",
   "execution_count": 6,
   "metadata": {
    "execution": {
     "iopub.execute_input": "2024-09-10T06:43:43.952873Z",
     "iopub.status.busy": "2024-09-10T06:43:43.952708Z",
     "iopub.status.idle": "2024-09-10T06:43:45.453727Z",
     "shell.execute_reply": "2024-09-10T06:43:45.453217Z"
    }
   },
   "outputs": [
    {
     "data": {
      "image/png": "[encoded data removed]",
      "text/plain": [
       "<Figure size 640x480 with 1 Axes>"
      ]
     },
     "metadata": {},
     "output_type": "display_data"
    }
   ],
   "source": [
    "plot_args = {\n",
    "    'plot': {\n",
    "        'x': { 'label': r'$|V_{cb}|$', 'range': [38e-3, 47e-3] },\n",
    "        'legend': { 'location': 'upper left' }\n",
    "    },\n",
    "    'contents': [\n",
    "        {\n",
    "            'type': 'histogram',\n",
    "            'variable': 'CKM::abs(V_cb)',\n",
    "            'data-file': EOS_BASE_DIRECTORY+'/CKM/samples'\n",
    "        },\n",
    "        {\n",
    "            'type': 'kde', 'color': 'C0', 'label': 'posterior', 'bandwidth': 2,\n",
    "            'range': [39e-3, 45e-3],\n",
    "            'variable': 'CKM::abs(V_cb)',\n",
    "            'data-file': EOS_BASE_DIRECTORY+'/CKM/samples'\n",
    "        }\n",
    "    ]\n",
    "}\n",
    "_ = eos.plot.Plotter(plot_args).plot()"
   ]
  },
  {
   "cell_type": "markdown",
   "metadata": {},
   "source": [
    "To extract further information from the parameter samples, we can load the sample values using [eos.data.ImportanceSamples](../reference/python.rst#eos.data.ImportanceSamples):"
   ]
  },
  {
   "cell_type": "code",
   "execution_count": 7,
   "metadata": {
    "execution": {
     "iopub.execute_input": "2024-09-10T06:43:45.456322Z",
     "iopub.status.busy": "2024-09-10T06:43:45.455776Z",
     "iopub.status.idle": "2024-09-10T06:43:45.461264Z",
     "shell.execute_reply": "2024-09-10T06:43:45.460792Z"
    }
   },
   "outputs": [],
   "source": [
    "parameter_samples = eos.data.ImportanceSamples(EOS_BASE_DIRECTORY+'/CKM/samples')"
   ]
  },
  {
   "cell_type": "markdown",
   "metadata": {},
   "source": [
    "We can compute the mean value and its standard deviation using ``numpy`` methods, including the sample ``weights``."
   ]
  },
  {
   "cell_type": "code",
   "execution_count": 8,
   "metadata": {
    "execution": {
     "iopub.execute_input": "2024-09-10T06:43:45.463213Z",
     "iopub.status.busy": "2024-09-10T06:43:45.463028Z",
     "iopub.status.idle": "2024-09-10T06:43:45.466863Z",
     "shell.execute_reply": "2024-09-10T06:43:45.466369Z"
    }
   },
   "outputs": [
    {
     "name": "stdout",
     "output_type": "stream",
     "text": [
      "$|V_{cb}|$ = 0.0420 +/- 0.0009\n"
     ]
    }
   ],
   "source": [
    "mean = np.average(parameter_samples.samples[:,0], weights = parameter_samples.weights)\n",
    "std = np.sqrt(np.average((parameter_samples.samples[:,0]-mean)**2, weights = parameter_samples.weights))\n",
    "\n",
    "print(f'$|V_{{cb}}|$ = {mean:.4f} +/- {std:.4f}')"
   ]
  },
  {
   "cell_type": "markdown",
   "metadata": {},
   "source": [
    "We can also illustrate the correlation between $|V_{cb}|$ and any form factor parameter. Here, we use the normalization of the form factors at $q^2 = 0$ as an example. The ``data`` passed to the plotter consists of the 2d parameter samples and the corresponding sample weights.\n",
    "Contours of equal probability at the $68\\%$ and $95\\%$ levels can be generated using a KDE as follows:"
   ]
  },
  {
   "cell_type": "code",
   "execution_count": 9,
   "metadata": {
    "execution": {
     "iopub.execute_input": "2024-09-10T06:43:45.468808Z",
     "iopub.status.busy": "2024-09-10T06:43:45.468620Z",
     "iopub.status.idle": "2024-09-10T06:43:47.815130Z",
     "shell.execute_reply": "2024-09-10T06:43:47.814542Z"
    }
   },
   "outputs": [
    {
     "data": {
      "image/png": "[encoded data removed]",
      "text/plain": [
       "<Figure size 640x480 with 1 Axes>"
      ]
     },
     "metadata": {},
     "output_type": "display_data"
    }
   ],
   "source": [
    "plot_args = {\n",
    "    'plot': {\n",
    "        'x': { 'label': r'$|V_{cb}|$', 'range': [38e-3, 47e-3] },\n",
    "        'y': { 'label': r'$f_+(0)$',   'range': [0.6, 0.75] },\n",
    "    },\n",
    "    'contents': [\n",
    "        {\n",
    "            'type': 'kde2D', 'color': 'C1', 'label': 'posterior',\n",
    "            'levels': [68, 95], 'contours': ['lines','areas'], 'bandwidth':3,\n",
    "            'data': {\n",
    "                'samples': parameter_samples.samples[:, (0,1)],\n",
    "                'weights': parameter_samples.weights\n",
    "            }\n",
    "        }\n",
    "    ]\n",
    "}\n",
    "_ = eos.plot.Plotter(plot_args).plot()"
   ]
  },
  {
   "cell_type": "markdown",
   "metadata": {},
   "source": [
    "Here the `bandwidth` parameter takes the same role as in the 1D histogram."
   ]
  },
  {
   "cell_type": "markdown",
   "metadata": {},
   "source": [
    "## Aside: validating the posterior\n",
    "\n",
    "As an additional step we can visualize the resulting theory prediction (with uncertainties), as was done in the beginning of this notebook. For further details, you can consult the ``predictions.ipynb`` notebook."
   ]
  },
  {
   "cell_type": "code",
   "execution_count": 10,
   "metadata": {
    "execution": {
     "iopub.execute_input": "2024-09-10T06:43:47.817673Z",
     "iopub.status.busy": "2024-09-10T06:43:47.817311Z",
     "iopub.status.idle": "2024-09-10T06:43:49.304641Z",
     "shell.execute_reply": "2024-09-10T06:43:49.304012Z"
    }
   },
   "outputs": [
    {
     "data": {
      "application/vnd.jupyter.widget-view+json": {
       "model_id": "410b3193d66246079c206dd9ba184c4c",
       "version_major": 2,
       "version_minor": 0
      },
      "text/plain": [
       "Accordion(children=(Output(layout=Layout(height='200px', overflow='auto')),), titles=('CKM/pred-B-to-D-e-nu',)…"
      ]
     },
     "metadata": {},
     "output_type": "display_data"
    }
   ],
   "source": [
    "eos.predict_observables('inference.yaml','CKM','B-to-D-e-nu', base_directory=EOS_BASE_DIRECTORY)"
   ]
  },
  {
   "cell_type": "code",
   "execution_count": 11,
   "metadata": {
    "execution": {
     "iopub.execute_input": "2024-09-10T06:43:49.309120Z",
     "iopub.status.busy": "2024-09-10T06:43:49.308719Z",
     "iopub.status.idle": "2024-09-10T06:43:49.649689Z",
     "shell.execute_reply": "2024-09-10T06:43:49.649047Z"
    }
   },
   "outputs": [
    {
     "data": {
      "image/png": "[encoded data removed]",
      "text/plain": [
       "<Figure size 640x480 with 1 Axes>"
      ]
     },
     "metadata": {},
     "output_type": "display_data"
    }
   ],
   "source": [
    "plot_args = {\n",
    "    'plot': {\n",
    "        'x': { 'label': r'$q^2$', 'unit': r'$\\textnormal{GeV}^2$', 'range': [0.0, 11.63] },\n",
    "        'y': { 'label': r'$d\\mathcal{B}/dq^2$',                    'range': [0.0,  5e-3] },\n",
    "        'legend': { 'location': 'lower left' }\n",
    "    },\n",
    "    'contents': [\n",
    "        {\n",
    "          'label': r'$\\ell=e$', 'type': 'uncertainty', 'range': [3.0e-7, 11.60],\n",
    "          'data-file': EOS_BASE_DIRECTORY+'/CKM/pred-B-to-D-e-nu',\n",
    "        },\n",
    "        {\n",
    "            'label': r'Belle 2015 $\\ell=e,\\, q=d$',\n",
    "            'type': 'constraint',\n",
    "            'color': 'C0',\n",
    "            'constraints': 'B^0->D^+e^-nu::BRs@Belle:2015A',\n",
    "            'observable': 'B->Dlnu::BR',\n",
    "            'variable': 'q2',\n",
    "            'rescale-by-width': True\n",
    "        },\n",
    "        {\n",
    "            'label': r'Belle 2015 $\\ell=\\mu,\\,q=d$',\n",
    "            'type': 'constraint',\n",
    "            'color': 'C1',\n",
    "            'constraints': 'B^0->D^+mu^-nu::BRs@Belle:2015A',\n",
    "            'observable': 'B->Dlnu::BR',\n",
    "            'variable': 'q2',\n",
    "            'rescale-by-width': True\n",
    "        },\n",
    "    ]\n",
    "}\n",
    "_ = eos.plot.Plotter(plot_args).plot()"
   ]
  },
  {
   "cell_type": "code",
   "execution_count": null,
   "metadata": {},
   "outputs": [],
   "source": []
  }
 ],
 "metadata": {
  "kernelspec": {
   "display_name": "Python 3",
   "language": "python",
   "name": "python3"
  },
  "language_info": {
   "codemirror_mode": {
    "name": "ipython",
    "version": 3
   },
   "file_extension": ".py",
   "mimetype": "text/x-python",
   "name": "python",
   "nbconvert_exporter": "python",
   "pygments_lexer": "ipython3",
   "version": "3.10.12"
  },
  "toc": {
   "base_numbering": 1,
   "nav_menu": {},
   "number_sections": true,
   "sideBar": true,
   "skip_h1_title": false,
   "title_cell": "Table of Contents",
   "title_sidebar": "Contents",
   "toc_cell": false,
   "toc_position": {},
   "toc_section_display": true,
   "toc_window_display": false
  },
  "widgets": {
   "application/vnd.jupyter.widget-state+json": {
    "state": {
     "0955ccb0e70141a696e3c695e68d7153": {
      "model_module": "@jupyter-widgets/controls",
      "model_module_version": "2.0.0",
      "model_name": "AccordionModel",
      "state": {
       "_dom_classes": [],
       "_model_module": "@jupyter-widgets/controls",
       "_model_module_version": "2.0.0",
       "_model_name": "AccordionModel",
       "_view_count": null,
       "_view_module": "@jupyter-widgets/controls",
       "_view_module_version": "2.0.0",
       "_view_name": "AccordionView",
       "box_style": "",
       "children": [
        "IPY_MODEL_5bf3aba1a34948ae84fa2606a58e5c6c"
       ],
       "layout": "IPY_MODEL_50bf52788dee4e49bd98378294fe68a1",
       "selected_index": null,
       "tabbable": null,
       "titles": [
        "CKM/nested"
       ],
       "tooltip": null
      }
     },
     "0c904ce1072c405e8c2f318fe5d956b0": {
      "model_module": "@jupyter-widgets/base",
      "model_module_version": "2.0.0",
      "model_name": "LayoutModel",
      "state": {
       "_model_module": "@jupyter-widgets/base",
       "_model_module_version": "2.0.0",
       "_model_name": "LayoutModel",
       "_view_count": null,
       "_view_module": "@jupyter-widgets/base",
       "_view_module_version": "2.0.0",
       "_view_name": "LayoutView",
       "align_content": null,
       "align_items": null,
       "align_self": null,
       "border_bottom": null,
       "border_left": null,
       "border_right": null,
       "border_top": null,
       "bottom": null,
       "display": null,
       "flex": null,
       "flex_flow": null,
       "grid_area": null,
       "grid_auto_columns": null,
       "grid_auto_flow": null,
       "grid_auto_rows": null,
       "grid_column": null,
       "grid_gap": null,
       "grid_row": null,
       "grid_template_areas": null,
       "grid_template_columns": null,
       "grid_template_rows": null,
       "height": null,
       "justify_content": null,
       "justify_items": null,
       "left": null,
       "margin": null,
       "max_height": null,
       "max_width": null,
       "min_height": null,
       "min_width": null,
       "object_fit": null,
       "object_position": null,
       "order": null,
       "overflow": null,
       "padding": null,
       "right": null,
       "top": null,
       "visibility": null,
       "width": null
      }
     },
     "2a7c6d2443384063b45253bea5ecb759": {
      "model_module": "@jupyter-widgets/controls",
      "model_module_version": "2.0.0",
      "model_name": "HTMLModel",
      "state": {
       "_dom_classes": [],
       "_model_module": "@jupyter-widgets/controls",
       "_model_module_version": "2.0.0",
       "_model_name": "HTMLModel",
       "_view_count": null,
       "_view_module": "@jupyter-widgets/controls",
       "_view_module_version": "2.0.0",
       "_view_name": "HTMLView",
       "description": "",
       "description_allow_html": false,
       "layout": "IPY_MODEL_b5e57b15b2d7411d8cefddf17cbaf7e5",
       "placeholder": "​",
       "style": "IPY_MODEL_c63ff22bf6b448fd99386b721d74ddc2",
       "tabbable": null,
       "tooltip": null,
       "value": " 14523/14523 [00:01&lt;00:00, 10440.06it/s]"
      }
     },
     "340010fb02074df6a9ac048fcfec3dc7": {
      "model_module": "@jupyter-widgets/controls",
      "model_module_version": "2.0.0",
      "model_name": "HTMLStyleModel",
      "state": {
       "_model_module": "@jupyter-widgets/controls",
       "_model_module_version": "2.0.0",
       "_model_name": "HTMLStyleModel",
       "_view_count": null,
       "_view_module": "@jupyter-widgets/base",
       "_view_module_version": "2.0.0",
       "_view_name": "StyleView",
       "background": null,
       "description_width": "",
       "font_size": null,
       "text_color": null
      }
     },
     "410b3193d66246079c206dd9ba184c4c": {
      "model_module": "@jupyter-widgets/controls",
      "model_module_version": "2.0.0",
      "model_name": "AccordionModel",
      "state": {
       "_dom_classes": [],
       "_model_module": "@jupyter-widgets/controls",
       "_model_module_version": "2.0.0",
       "_model_name": "AccordionModel",
       "_view_count": null,
       "_view_module": "@jupyter-widgets/controls",
       "_view_module_version": "2.0.0",
       "_view_name": "AccordionView",
       "box_style": "",
       "children": [
        "IPY_MODEL_564a2acbe5a34d41bdcc22c257044221"
       ],
       "layout": "IPY_MODEL_0c904ce1072c405e8c2f318fe5d956b0",
       "selected_index": null,
       "tabbable": null,
       "titles": [
        "CKM/pred-B-to-D-e-nu"
       ],
       "tooltip": null
      }
     },
     "45769077984c4e5793ddbf9a561d40ef": {
      "model_module": "@jupyter-widgets/base",
      "model_module_version": "2.0.0",
      "model_name": "LayoutModel",
      "state": {
       "_model_module": "@jupyter-widgets/base",
       "_model_module_version": "2.0.0",
       "_model_name": "LayoutModel",
       "_view_count": null,
       "_view_module": "@jupyter-widgets/base",
       "_view_module_version": "2.0.0",
       "_view_name": "LayoutView",
       "align_content": null,
       "align_items": null,
       "align_self": null,
       "border_bottom": null,
       "border_left": null,
       "border_right": null,
       "border_top": null,
       "bottom": null,
       "display": null,
       "flex": null,
       "flex_flow": null,
       "grid_area": null,
       "grid_auto_columns": null,
       "grid_auto_flow": null,
       "grid_auto_rows": null,
       "grid_column": null,
       "grid_gap": null,
       "grid_row": null,
       "grid_template_areas": null,
       "grid_template_columns": null,
       "grid_template_rows": null,
       "height": null,
       "justify_content": null,
       "justify_items": null,
       "left": null,
       "margin": null,
       "max_height": null,
       "max_width": null,
       "min_height": null,
       "min_width": null,
       "object_fit": null,
       "object_position": null,
       "order": null,
       "overflow": null,
       "padding": null,
       "right": null,
       "top": null,
       "visibility": null,
       "width": null
      }
     },
     "48558bfdc0214efa9993d0b0d16cc015": {
      "model_module": "@jupyter-widgets/base",
      "model_module_version": "2.0.0",
      "model_name": "LayoutModel",
      "state": {
       "_model_module": "@jupyter-widgets/base",
       "_model_module_version": "2.0.0",
       "_model_name": "LayoutModel",
       "_view_count": null,
       "_view_module": "@jupyter-widgets/base",
       "_view_module_version": "2.0.0",
       "_view_name": "LayoutView",
       "align_content": null,
       "align_items": null,
       "align_self": null,
       "border_bottom": null,
       "border_left": null,
       "border_right": null,
       "border_top": null,
       "bottom": null,
       "display": null,
       "flex": null,
       "flex_flow": null,
       "grid_area": null,
       "grid_auto_columns": null,
       "grid_auto_flow": null,
       "grid_auto_rows": null,
       "grid_column": null,
       "grid_gap": null,
       "grid_row": null,
       "grid_template_areas": null,
       "grid_template_columns": null,
       "grid_template_rows": null,
       "height": null,
       "justify_content": null,
       "justify_items": null,
       "left": null,
       "margin": null,
       "max_height": null,
       "max_width": null,
       "min_height": null,
       "min_width": null,
       "object_fit": null,
       "object_position": null,
       "order": null,
       "overflow": null,
       "padding": null,
       "right": null,
       "top": null,
       "visibility": null,
       "width": null
      }
     },
     "50bf52788dee4e49bd98378294fe68a1": {
      "model_module": "@jupyter-widgets/base",
      "model_module_version": "2.0.0",
      "model_name": "LayoutModel",
      "state": {
       "_model_module": "@jupyter-widgets/base",
       "_model_module_version": "2.0.0",
       "_model_name": "LayoutModel",
       "_view_count": null,
       "_view_module": "@jupyter-widgets/base",
       "_view_module_version": "2.0.0",
       "_view_name": "LayoutView",
       "align_content": null,
       "align_items": null,
       "align_self": null,
       "border_bottom": null,
       "border_left": null,
       "border_right": null,
       "border_top": null,
       "bottom": null,
       "display": null,
       "flex": null,
       "flex_flow": null,
       "grid_area": null,
       "grid_auto_columns": null,
       "grid_auto_flow": null,
       "grid_auto_rows": null,
       "grid_column": null,
       "grid_gap": null,
       "grid_row": null,
       "grid_template_areas": null,
       "grid_template_columns": null,
       "grid_template_rows": null,
       "height": null,
       "justify_content": null,
       "justify_items": null,
       "left": null,
       "margin": null,
       "max_height": null,
       "max_width": null,
       "min_height": null,
       "min_width": null,
       "object_fit": null,
       "object_position": null,
       "order": null,
       "overflow": null,
       "padding": null,
       "right": null,
       "top": null,
       "visibility": null,
       "width": null
      }
     },
     "564a2acbe5a34d41bdcc22c257044221": {
      "model_module": "@jupyter-widgets/output",
      "model_module_version": "1.0.0",
      "model_name": "OutputModel",
      "state": {
       "_dom_classes": [],
       "_model_module": "@jupyter-widgets/output",
       "_model_module_version": "1.0.0",
       "_model_name": "OutputModel",
       "_view_count": null,
       "_view_module": "@jupyter-widgets/output",
       "_view_module_version": "1.0.0",
       "_view_name": "OutputView",
       "layout": "IPY_MODEL_b8e0366ae1124401811e258afb0ab911",
       "msg_id": "",
       "outputs": [
        {
         "data": {
          "application/vnd.jupyter.widget-view+json": {
           "model_id": "fa43d9be824a48898500fd560dab9ca8",
           "version_major": 2,
           "version_minor": 0
          },
          "text/plain": "  0%|          | 0/14523 [00:00<?, ?it/s]"
         },
         "metadata": {},
         "output_type": "display_data"
        }
       ],
       "tabbable": null,
       "tooltip": null
      }
     },
     "5bf3aba1a34948ae84fa2606a58e5c6c": {
      "model_module": "@jupyter-widgets/output",
      "model_module_version": "1.0.0",
      "model_name": "OutputModel",
      "state": {
       "_dom_classes": [],
       "_model_module": "@jupyter-widgets/output",
       "_model_module_version": "1.0.0",
       "_model_name": "OutputModel",
       "_view_count": null,
       "_view_module": "@jupyter-widgets/output",
       "_view_module_version": "1.0.0",
       "_view_name": "OutputView",
       "layout": "IPY_MODEL_8acdac1949e7407397cb0cc434225841",
       "msg_id": "",
       "outputs": [
        {
         "name": "stderr",
         "output_type": "stream",
         "text": "\r0it [00:00, ?it/s]\r1it [00:00,  9.45it/s, batch: 0 | bound: 0 | nc: 1 | ncall: 1 | eff(%):  0.398 | loglstar:   -inf < -13552.521 <    inf | logz: -13558.740 +/-  0.158 | dlogz:    inf >  0.500]\r123it [00:00, 701.97it/s, batch: 0 | bound: 0 | nc: 1 | ncall: 175 | eff(%): 28.941 | loglstar:   -inf < -2429.517 <    inf | logz: -2436.223 +/-  0.164 | dlogz: 2616.944 >  0.500]\r208it [00:00, 768.20it/s, batch: 0 | bound: 0 | nc: 1 | ncall: 353 | eff(%): 34.494 | loglstar:   -inf < -1251.932 <    inf | logz: -1258.977 +/-  0.168 | dlogz: 1446.897 >  0.500]\r286it [00:00, 740.29it/s, batch: 0 | bound: 0 | nc: 2 | ncall: 563 | eff(%): 35.178 | loglstar:   -inf < -731.401 <    inf | logz: -738.659 +/-  0.167 | dlogz: 926.705 >  0.500]   \r361it [00:00, 602.76it/s, batch: 0 | bound: 0 | nc: 15 | ncall: 890 | eff(%): 31.667 | loglstar:   -inf < -416.785 <    inf | logz: -424.275 +/-  0.168 | dlogz: 611.543 >  0.500]\r425it [00:00, 486.60it/s, batch: 0 | bound: 0 | nc: 15 | ncall: 1263 | eff(%): 28.090 | loglstar:   -inf < -279.413 <    inf | logz: -287.291 +/-  0.176 | dlogz: 475.848 >  0.500]\r479it [00:00, 394.13it/s, batch: 0 | bound: 0 | nc: 16 | ncall: 1687 | eff(%): 24.729 | loglstar:   -inf < -192.878 <    inf | logz: -200.582 +/-  0.166 | dlogz: 386.231 >  0.500]\r524it [00:01, 343.95it/s, batch: 0 | bound: 0 | nc: 3 | ncall: 2063 | eff(%): 22.655 | loglstar:   -inf < -123.315 <    inf | logz: -129.789 +/-  0.154 | dlogz: 314.228 >  0.500] \r563it [00:01, 303.49it/s, batch: 0 | bound: 0 | nc: 6 | ncall: 2425 | eff(%): 21.047 | loglstar:   -inf < -73.820 <    inf | logz: -80.650 +/-  0.157 | dlogz: 265.026 >  0.500]  \r597it [00:01, 266.71it/s, batch: 0 | bound: 0 | nc: 1 | ncall: 2787 | eff(%): 19.658 | loglstar:   -inf < -44.378 <    inf | logz: -51.767 +/-  0.163 | dlogz: 236.193 >  0.500]\r626it [00:01, 249.59it/s, batch: 0 | bound: 0 | nc: 11 | ncall: 3079 | eff(%): 18.804 | loglstar:   -inf < -17.213 <    inf | logz: -25.500 +/-  0.172 | dlogz: 210.631 >  0.500]\r653it [00:01, 209.74it/s, batch: 0 | bound: 0 | nc: 5 | ncall: 3479 | eff(%): 17.511 | loglstar:   -inf < -5.446 <    inf | logz: -12.620 +/-  0.158 | dlogz: 196.556 >  0.500]  \r676it [00:02, 196.66it/s, batch: 0 | bound: 0 | nc: 16 | ncall: 3776 | eff(%): 16.791 | loglstar:   -inf <  5.997 <    inf | logz: -1.505 +/-  0.161 | dlogz: 185.474 >  0.500]\r697it [00:02, 172.71it/s, batch: 0 | bound: 0 | nc: 2 | ncall: 4123 | eff(%): 15.939 | loglstar:   -inf < 15.340 <    inf | logz:  8.099 +/-  0.165 | dlogz: 175.687 >  0.500] \r715it [00:02, 159.42it/s, batch: 0 | bound: 0 | nc: 5 | ncall: 4422 | eff(%): 15.304 | loglstar:   -inf < 24.339 <    inf | logz: 17.256 +/-  0.160 | dlogz: 166.343 >  0.500]\r732it [00:02, 156.64it/s, batch: 0 | bound: 0 | nc: 36 | ncall: 4660 | eff(%): 14.908 | loglstar:   -inf < 37.992 <    inf | logz: 29.412 +/-  0.174 | dlogz: 155.005 >  0.500]\r748it [00:02, 141.13it/s, batch: 0 | bound: 0 | nc: 4 | ncall: 4965 | eff(%): 14.343 | loglstar:   -inf < 44.599 <    inf | logz: 37.161 +/-  0.166 | dlogz: 146.394 >  0.500] \r763it [00:02, 129.26it/s, batch: 0 | bound: 0 | nc: 25 | ncall: 5257 | eff(%): 13.855 | loglstar:   -inf < 55.091 <    inf | logz: 47.002 +/-  0.174 | dlogz: 136.971 >  0.500]\r776it [00:02, 123.22it/s, batch: 0 | bound: 0 | nc: 28 | ncall: 5509 | eff(%): 13.475 | loglstar:   -inf < 59.732 <    inf | logz: 51.894 +/-  0.163 | dlogz: 131.595 >  0.500]\r789it [00:03, 105.88it/s, batch: 0 | bound: 0 | nc: 7 | ncall: 5871 | eff(%): 12.890 | loglstar:   -inf < 63.876 <    inf | logz: 56.160 +/-  0.161 | dlogz: 127.576 >  0.500] \r800it [00:03, 103.47it/s, batch: 0 | bound: 0 | nc: 22 | ncall: 6105 | eff(%): 12.589 | loglstar:   -inf < 66.051 <    inf | logz: 58.707 +/-  0.158 | dlogz: 124.887 >  0.500]\r812it [00:03, 105.84it/s, batch: 0 | bound: 0 | nc: 25 | ncall: 6324 | eff(%): 12.352 | loglstar:   -inf < 70.488 <    inf | logz: 62.982 +/-  0.165 | dlogz: 120.639 >  0.500]\r823it [00:03, 98.08it/s, batch: 0 | bound: 0 | nc: 2 | ncall: 6609 | eff(%): 11.999 | loglstar:   -inf < 75.077 <    inf | logz: 67.459 +/-  0.165 | dlogz: 116.169 >  0.500]  \r833it [00:03, 94.87it/s, batch: 0 | bound: 0 | nc: 34 | ncall: 6848 | eff(%): 11.736 | loglstar:   -inf < 79.841 <    inf | logz: 72.292 +/-  0.166 | dlogz: 111.243 >  0.500]\r843it [00:03, 89.32it/s, batch: 0 | bound: 0 | nc: 8 | ncall: 7112 | eff(%): 11.451 | loglstar:   -inf < 82.242 <    inf | logz: 74.733 +/-  0.162 | dlogz: 108.748 >  0.500] \r852it [00:03, 76.63it/s, batch: 0 | bound: 0 | nc: 59 | ncall: 7442 | eff(%): 11.076 | loglstar:   -inf < 85.396 <    inf | logz: 77.671 +/-  0.164 | dlogz: 105.800 >  0.500]\r862it [00:03, 81.39it/s, batch: 0 | bound: 0 | nc: 40 | ncall: 7650 | eff(%): 10.911 | loglstar:   -inf < 87.588 <    inf | logz: 79.999 +/-  0.162 | dlogz: 103.399 >  0.500]\r871it [00:04, 76.94it/s, batch: 0 | bound: 0 | nc: 7 | ncall: 7913 | eff(%): 10.670 | loglstar:   -inf < 89.591 <    inf | logz: 82.007 +/-  0.161 | dlogz: 101.305 >  0.500] \r879it [00:04, 68.08it/s, batch: 0 | bound: 0 | nc: 6 | ncall: 8236 | eff(%): 10.358 | loglstar:   -inf < 91.183 <    inf | logz: 83.742 +/-  0.161 | dlogz: 99.506 >  0.500] \r887it [00:04, 58.26it/s, batch: 0 | bound: 0 | nc: 56 | ncall: 8636 | eff(%):  9.982 | loglstar:   -inf < 93.739 <    inf | logz: 85.739 +/-  0.164 | dlogz: 97.600 >  0.500]\r914it [00:04, 104.08it/s, batch: 0 | bound: 1 | nc: 4 | ncall: 8707 | eff(%): 10.204 | loglstar:   -inf < 103.733 <    inf | logz: 96.024 +/-  0.168 | dlogz: 87.132 >  0.500]\r982it [00:04, 238.72it/s, batch: 0 | bound: 1 | nc: 6 | ncall: 8894 | eff(%): 10.739 | loglstar:   -inf < 119.261 <    inf | logz: 111.519 +/-  0.165 | dlogz: 71.313 >  0.500]\r1019it [00:04, 255.20it/s, batch: 0 | bound: 2 | nc: 5 | ncall: 9022 | eff(%): 10.990 | loglstar:   -inf < 126.103 <    inf | logz: 118.294 +/-  0.167 | dlogz: 64.776 >  0.500]\r1082it [00:04, 349.20it/s, batch: 0 | bound: 2 | nc: 1 | ncall: 9198 | eff(%): 11.452 | loglstar:   -inf < 135.957 <    inf | logz: 127.748 +/-  0.168 | dlogz: 55.077 >  0.500]\r1138it [00:04, 402.54it/s, batch: 0 | bound: 2 | nc: 4 | ncall: 9389 | eff(%): 11.806 | loglstar:   -inf < 143.505 <    inf | logz: 135.653 +/-  0.169 | dlogz: 49.277 >  0.500]\r1182it [00:05, 396.22it/s, batch: 0 | bound: 3 | nc: 5 | ncall: 9490 | eff(%): 12.136 | loglstar:   -inf < 147.890 <    inf | logz: 140.170 +/-  0.166 | dlogz: 46.716 >  0.500]\r1228it [00:05, 410.15it/s, batch: 0 | bound: 3 | nc: 14 | ncall: 9685 | eff(%): 12.360 | loglstar:   -inf < 153.584 <    inf | logz: 145.266 +/-  0.171 | dlogz: 41.481 >  0.500]\r1271it [00:05, 331.60it/s, batch: 0 | bound: 4 | nc: 4 | ncall: 9923 | eff(%): 12.494 | loglstar:   -inf < 156.364 <    inf | logz: 148.427 +/-  0.166 | dlogz: 38.093 >  0.500] \r1308it [00:05, 284.76it/s, batch: 0 | bound: 5 | nc: 2 | ncall: 10158 | eff(%): 12.567 | loglstar:   -inf < 159.145 <    inf | logz: 151.207 +/-  0.168 | dlogz: 35.161 >  0.500]\r1378it [00:05, 377.14it/s, batch: 0 | bound: 5 | nc: 2 | ncall: 10342 | eff(%): 13.010 | loglstar:   -inf < 164.516 <    inf | logz: 156.102 +/-  0.173 | dlogz: 30.843 >  0.500]\r1431it [00:05, 360.06it/s, batch: 0 | bound: 6 | nc: 1 | ncall: 10531 | eff(%): 13.273 | loglstar:   -inf < 167.923 <    inf | logz: 159.584 +/-  0.172 | dlogz: 27.133 >  0.500]\r1499it [00:05, 432.84it/s, batch: 0 | bound: 6 | nc: 2 | ncall: 10718 | eff(%): 13.667 | loglstar:   -inf < 171.203 <    inf | logz: 162.837 +/-  0.172 | dlogz: 23.597 >  0.500]\r1551it [00:05, 452.37it/s, batch: 0 | bound: 6 | nc: 6 | ncall: 10910 | eff(%): 13.898 | loglstar:   -inf < 174.454 <    inf | logz: 165.772 +/-  0.176 | dlogz: 20.459 >  0.500]\r1601it [00:06, 422.10it/s, batch: 0 | bound: 7 | nc: 1 | ncall: 11048 | eff(%): 14.171 | loglstar:   -inf < 176.723 <    inf | logz: 168.108 +/-  0.176 | dlogz: 18.484 >  0.500]\r1664it [00:06, 474.26it/s, batch: 0 | bound: 7 | nc: 8 | ncall: 11231 | eff(%): 14.494 | loglstar:   -inf < 178.948 <    inf | logz: 170.262 +/-  0.175 | dlogz: 16.072 >  0.500]\r1715it [00:06, 453.19it/s, batch: 0 | bound: 8 | nc: 2 | ncall: 11348 | eff(%): 14.787 | loglstar:   -inf < 180.393 <    inf | logz: 171.676 +/-  0.175 | dlogz: 14.450 >  0.500]\r1772it [00:06, 481.99it/s, batch: 0 | bound: 8 | nc: 3 | ncall: 11537 | eff(%): 15.034 | loglstar:   -inf < 181.862 <    inf | logz: 173.082 +/-  0.176 | dlogz: 12.813 >  0.500]\r1823it [00:06, 441.47it/s, batch: 0 | bound: 9 | nc: 9 | ncall: 11690 | eff(%): 15.268 | loglstar:   -inf < 182.744 <    inf | logz: 174.025 +/-  0.176 | dlogz: 11.660 >  0.500]\r1870it [00:06, 400.24it/s, batch: 0 | bound: 9 | nc: 5 | ncall: 11974 | eff(%): 15.298 | loglstar:   -inf < 183.652 <    inf | logz: 174.801 +/-  0.176 | dlogz: 10.899 >  0.500]\r1912it [00:06, 333.29it/s, batch: 0 | bound: 10 | nc: 5 | ncall: 12212 | eff(%): 15.343 | loglstar:   -inf < 184.335 <    inf | logz: 175.432 +/-  0.177 | dlogz: 10.099 >  0.500]\r1949it [00:07, 341.18it/s, batch: 0 | bound: 10 | nc: 1 | ncall: 12407 | eff(%): 15.399 | loglstar:   -inf < 184.985 <    inf | logz: 175.957 +/-  0.177 | dlogz:  9.426 >  0.500]\r1986it [00:07, 333.27it/s, batch: 0 | bound: 11 | nc: 1 | ncall: 12518 | eff(%): 15.555 | loglstar:   -inf < 185.539 <    inf | logz: 176.466 +/-  0.178 | dlogz:  8.768 >  0.500]\r2047it [00:07, 402.03it/s, batch: 0 | bound: 11 | nc: 1 | ncall: 12705 | eff(%): 15.801 | loglstar:   -inf < 186.451 <    inf | logz: 177.212 +/-  0.180 | dlogz:  7.778 >  0.500]\r2090it [00:07, 360.58it/s, batch: 0 | bound: 12 | nc: 1 | ncall: 12880 | eff(%): 15.918 | loglstar:   -inf < 187.074 <    inf | logz: 177.690 +/-  0.180 | dlogz:  7.626 >  0.500]\r2132it [00:07, 374.29it/s, batch: 0 | bound: 12 | nc: 7 | ncall: 13055 | eff(%): 16.024 | loglstar:   -inf < 187.663 <    inf | logz: 178.160 +/-  0.182 | dlogz:  6.988 >  0.500]\r2172it [00:07, 336.36it/s, batch: 0 | bound: 13 | nc: 2 | ncall: 13223 | eff(%): 16.121 | loglstar:   -inf < 188.183 <    inf | logz: 178.583 +/-  0.183 | dlogz:  6.406 >  0.500]\r2242it [00:07, 422.92it/s, batch: 0 | bound: 13 | nc: 7 | ncall: 13413 | eff(%): 16.409 | loglstar:   -inf < 188.992 <    inf | logz: 179.265 +/-  0.185 | dlogz:  5.446 >  0.500]\r2288it [00:07, 381.84it/s, batch: 0 | bound: 14 | nc: 3 | ncall: 13587 | eff(%): 16.535 | loglstar:   -inf < 189.436 <    inf | logz: 179.634 +/-  0.185 | dlogz:  4.895 >  0.500]\r2342it [00:08, 419.74it/s, batch: 0 | bound: 14 | nc: 4 | ncall: 13778 | eff(%): 16.695 | loglstar:   -inf < 189.866 <    inf | logz: 180.024 +/-  0.186 | dlogz:  4.351 >  0.500]\r2390it [00:08, 382.31it/s, batch: 0 | bound: 15 | nc: 2 | ncall: 13962 | eff(%): 16.817 | loglstar:   -inf < 190.270 <    inf | logz: 180.332 +/-  0.187 | dlogz:  3.860 >  0.500]\r2446it [00:08, 425.58it/s, batch: 0 | bound: 15 | nc: 9 | ncall: 14151 | eff(%): 16.985 | loglstar:   -inf < 190.604 <    inf | logz: 180.632 +/-  0.187 | dlogz:  3.349 >  0.500]\r2492it [00:08, 376.12it/s, batch: 0 | bound: 16 | nc: 7 | ncall: 14353 | eff(%): 17.065 | loglstar:   -inf < 190.897 <    inf | logz: 180.847 +/-  0.188 | dlogz:  2.968 >  0.500]\r2542it [00:08, 405.53it/s, batch: 0 | bound: 16 | nc: 3 | ncall: 14546 | eff(%): 17.180 | loglstar:   -inf < 191.159 <    inf | logz: 181.052 +/-  0.188 | dlogz:  2.587 >  0.500]\r2586it [00:08, 362.12it/s, batch: 0 | bound: 17 | nc: 13 | ncall: 14728 | eff(%): 17.265 | loglstar:   -inf < 191.367 <    inf | logz: 181.211 +/-  0.189 | dlogz:  2.364 >  0.500]\r2625it [00:08, 339.48it/s, batch: 0 | bound: 17 | nc: 1 | ncall: 14983 | eff(%): 17.232 | loglstar:   -inf < 191.550 <    inf | logz: 181.337 +/-  0.189 | dlogz:  2.112 >  0.500] \r2661it [00:08, 315.24it/s, batch: 0 | bound: 18 | nc: 1 | ncall: 15138 | eff(%): 17.293 | loglstar:   -inf < 191.701 <    inf | logz: 181.442 +/-  0.189 | dlogz:  1.897 >  0.500]\r2704it [00:09, 340.48it/s, batch: 0 | bound: 18 | nc: 6 | ncall: 15335 | eff(%): 17.350 | loglstar:   -inf < 191.906 <    inf | logz: 181.558 +/-  0.190 | dlogz:  1.658 >  0.500]\r2740it [00:09, 305.53it/s, batch: 0 | bound: 19 | nc: 2 | ncall: 15504 | eff(%): 17.392 | loglstar:   -inf < 192.049 <    inf | logz: 181.646 +/-  0.190 | dlogz:  1.475 >  0.500]\r2809it [00:09, 397.61it/s, batch: 0 | bound: 19 | nc: 4 | ncall: 15674 | eff(%): 17.640 | loglstar:   -inf < 192.337 <    inf | logz: 181.797 +/-  0.191 | dlogz:  1.163 >  0.500]\r2863it [00:09, 381.27it/s, batch: 0 | bound: 20 | nc: 1 | ncall: 15850 | eff(%): 17.783 | loglstar:   -inf < 192.507 <    inf | logz: 181.899 +/-  0.191 | dlogz:  1.015 >  0.500]\r2916it [00:09, 416.51it/s, batch: 0 | bound: 20 | nc: 18 | ncall: 16038 | eff(%): 17.903 | loglstar:   -inf < 192.650 <    inf | logz: 181.985 +/-  0.192 | dlogz:  0.836 >  0.500]\r2962it [00:09, 372.24it/s, batch: 0 | bound: 21 | nc: 1 | ncall: 16226 | eff(%): 17.978 | loglstar:   -inf < 192.750 <    inf | logz: 182.049 +/-  0.192 | dlogz:  0.720 >  0.500] \r3004it [00:09, 382.24it/s, batch: 0 | bound: 21 | nc: 8 | ncall: 16398 | eff(%): 18.044 | loglstar:   -inf < 192.842 <    inf | logz: 182.100 +/-  0.192 | dlogz:  0.613 >  0.500]\r3045it [00:09, 384.58it/s, batch: 0 | bound: 21 | nc: 5 | ncall: 16602 | eff(%): 18.069 | loglstar:   -inf < 192.921 <    inf | logz: 182.144 +/-  0.192 | dlogz:  0.523 >  0.500]\r3306it [00:10, 390.37it/s, batch: 1 | bound: 0 | nc: 8 | ncall: 16873 | eff(%): 19.593 | loglstar: 193.673 < 193.481 <    inf | logz: 182.463 +/-  0.344 | stop:  9.293]          \r3348it [00:10, 394.11it/s, batch: 1 | bound: 2 | nc: 9 | ncall: 17059 | eff(%): 18.617 | loglstar: 193.673 < 193.021 <    inf | logz: 182.463 +/-  0.344 | stop:  9.293]\r3389it [00:10, 360.24it/s, batch: 1 | bound: 3 | nc: 1 | ncall: 17253 | eff(%): 18.643 | loglstar: 193.673 < 193.097 <    inf | logz: 182.463 +/-  0.344 | stop:  9.293]\r3461it [00:10, 421.09it/s, batch: 1 | bound: 3 | nc: 3 | ncall: 17439 | eff(%): 18.847 | loglstar: 193.673 < 193.234 <    inf | logz: 182.463 +/-  0.344 | stop:  9.293]\r3510it [00:11, 387.21it/s, batch: 1 | bound: 4 | nc: 5 | ncall: 17634 | eff(%): 18.913 | loglstar: 193.673 < 193.302 <    inf | logz: 182.463 +/-  0.344 | stop:  9.293]\r3582it [00:11, 450.02it/s, batch: 1 | bound: 4 | nc: 11 | ncall: 17825 | eff(%): 19.104 | loglstar: 193.673 < 193.379 <    inf | logz: 182.463 +/-  0.344 | stop:  9.293]\r3633it [00:11, 413.48it/s, batch: 1 | bound: 5 | nc: 1 | ncall: 18007 | eff(%): 19.190 | loglstar: 193.673 < 193.428 <    inf | logz: 182.463 +/-  0.344 | stop:  9.293] \r3678it [00:11, 407.67it/s, batch: 1 | bound: 5 | nc: 3 | ncall: 18229 | eff(%): 19.202 | loglstar: 193.673 < 193.490 <    inf | logz: 182.463 +/-  0.344 | stop:  9.293]\r3722it [00:11, 354.69it/s, batch: 1 | bound: 6 | nc: 4 | ncall: 18454 | eff(%): 19.206 | loglstar: 193.673 < 193.532 <    inf | logz: 182.463 +/-  0.344 | stop:  9.293]\r3760it [00:11, 330.35it/s, batch: 1 | bound: 6 | nc: 7 | ncall: 18733 | eff(%): 19.127 | loglstar: 193.673 < 193.561 <    inf | logz: 182.463 +/-  0.344 | stop:  9.293]\r3795it [00:11, 322.86it/s, batch: 1 | bound: 7 | nc: 2 | ncall: 18837 | eff(%): 19.204 | loglstar: 193.673 < 193.590 <    inf | logz: 182.463 +/-  0.344 | stop:  9.293]\r3856it [00:12, 390.49it/s, batch: 1 | bound: 7 | nc: 7 | ncall: 19023 | eff(%): 19.330 | loglstar: 193.673 < 193.631 <    inf | logz: 182.463 +/-  0.344 | stop:  9.293]\r3898it [00:12, 349.25it/s, batch: 1 | bound: 8 | nc: 2 | ncall: 19205 | eff(%): 19.364 | loglstar: 193.673 < 193.656 <    inf | logz: 182.463 +/-  0.344 | stop:  9.293]\r3957it [00:12, 406.47it/s, batch: 1 | bound: 8 | nc: 3 | ncall: 19394 | eff(%): 19.474 | loglstar: 193.673 < 193.695 <    inf | logz: 182.463 +/-  0.344 | stop:  9.293]\r4001it [00:12, 377.67it/s, batch: 1 | bound: 9 | nc: 1 | ncall: 19546 | eff(%): 19.545 | loglstar: 193.673 < 193.713 <    inf | logz: 182.463 +/-  0.344 | stop:  9.293]\r4058it [00:12, 424.16it/s, batch: 1 | bound: 9 | nc: 6 | ncall: 19737 | eff(%): 19.640 | loglstar: 193.673 < 193.746 <    inf | logz: 182.463 +/-  0.344 | stop:  9.293]\r4103it [00:12, 372.18it/s, batch: 1 | bound: 10 | nc: 1 | ncall: 19909 | eff(%): 19.694 | loglstar: 193.673 < 193.764 <    inf | logz: 182.463 +/-  0.344 | stop:  9.293]\r4161it [00:12, 419.93it/s, batch: 1 | bound: 10 | nc: 12 | ncall: 20105 | eff(%): 19.786 | loglstar: 193.673 < 193.782 <    inf | logz: 182.463 +/-  0.344 | stop:  9.293]\r4212it [00:12, 391.70it/s, batch: 1 | bound: 11 | nc: 2 | ncall: 20272 | eff(%): 19.871 | loglstar: 193.673 < 193.805 <    inf | logz: 182.463 +/-  0.344 | stop:  9.293] \r4284it [00:13, 468.18it/s, batch: 1 | bound: 11 | nc: 9 | ncall: 20449 | eff(%): 20.043 | loglstar: 193.673 < 193.829 <    inf | logz: 182.463 +/-  0.344 | stop:  9.293]\r4335it [00:13, 474.39it/s, batch: 1 | bound: 11 | nc: 8 | ncall: 20644 | eff(%): 20.098 | loglstar: 193.673 < 193.847 <    inf | logz: 182.463 +/-  0.344 | stop:  9.293]\r4385it [00:13, 473.97it/s, batch: 1 | bound: 12 | nc: 1 | ncall: 20734 | eff(%): 20.246 | loglstar: 193.673 < 193.862 <    inf | logz: 182.463 +/-  0.344 | stop:  9.293]\r4460it [00:13, 548.85it/s, batch: 1 | bound: 12 | nc: 3 | ncall: 20919 | eff(%): 20.418 | loglstar: 193.673 < 193.882 <    inf | logz: 182.463 +/-  0.344 | stop:  9.293]\r4517it [00:13, 499.36it/s, batch: 1 | bound: 13 | nc: 2 | ncall: 21066 | eff(%): 20.540 | loglstar: 193.673 < 193.897 <    inf | logz: 182.463 +/-  0.344 | stop:  9.293]\r4591it [00:13, 562.50it/s, batch: 1 | bound: 13 | nc: 1 | ncall: 21245 | eff(%): 20.708 | loglstar: 193.673 < 193.913 <    inf | logz: 182.463 +/-  0.344 | stop:  9.293]\r4887it [00:14, 545.38it/s, batch: 2 | bound: 0 | nc: 1 | ncall: 22319 | eff(%): 21.896 | loglstar: 190.713 < 192.641 < 192.752 | logz: 182.461 +/-  0.188 | stop:  6.988]\r4945it [00:14, 519.76it/s, batch: 2 | bound: 2 | nc: 1 | ncall: 22578 | eff(%): 21.346 | loglstar: 190.713 < 191.016 < 192.752 | logz: 182.461 +/-  0.188 | stop:  6.988]\r4998it [00:14, 469.56it/s, batch: 2 | bound: 3 | nc: 1 | ncall: 22780 | eff(%): 21.388 | loglstar: 190.713 < 191.295 < 192.752 | logz: 182.461 +/-  0.188 | stop:  6.988]\r5045it [00:14, 466.12it/s, batch: 2 | bound: 3 | nc: 4 | ncall: 22972 | eff(%): 21.413 | loglstar: 190.713 < 191.499 < 192.752 | logz: 182.461 +/-  0.188 | stop:  6.988]\r5091it [00:14, 412.69it/s, batch: 2 | bound: 4 | nc: 1 | ncall: 23171 | eff(%): 21.428 | loglstar: 190.713 < 191.711 < 192.752 | logz: 182.461 +/-  0.188 | stop:  6.988]\r5154it [00:14, 454.18it/s, batch: 2 | bound: 4 | nc: 8 | ncall: 23361 | eff(%): 21.521 | loglstar: 190.713 < 191.950 < 192.752 | logz: 182.461 +/-  0.188 | stop:  6.988]\r5201it [00:14, 408.16it/s, batch: 2 | bound: 5 | nc: 3 | ncall: 23533 | eff(%): 21.562 | loglstar: 190.713 < 192.127 < 192.752 | logz: 182.461 +/-  0.188 | stop:  6.988]\r5246it [00:15, 413.01it/s, batch: 2 | bound: 5 | nc: 13 | ncall: 23735 | eff(%): 21.568 | loglstar: 190.713 < 192.301 < 192.752 | logz: 182.461 +/-  0.188 | stop:  6.988]\r5289it [00:15, 378.65it/s, batch: 2 | bound: 6 | nc: 1 | ncall: 23900 | eff(%): 21.598 | loglstar: 190.713 < 192.427 < 192.752 | logz: 182.461 +/-  0.188 | stop:  6.988] \r5338it [00:15, 404.60it/s, batch: 2 | bound: 6 | nc: 7 | ncall: 24092 | eff(%): 21.629 | loglstar: 190.713 < 192.575 < 192.752 | logz: 182.461 +/-  0.188 | stop:  6.988]\r5380it [00:15, 354.31it/s, batch: 2 | bound: 7 | nc: 2 | ncall: 24287 | eff(%): 21.628 | loglstar: 190.713 < 192.675 < 192.752 | logz: 182.461 +/-  0.188 | stop:  6.988]\r5486it [00:15, 522.37it/s, batch: 2 | bound: 7 | nc: 1 | ncall: 24517 | eff(%): 21.910 | loglstar: 190.713 < 192.903 < 192.752 | logz: 182.461 +/-  0.188 | stop:  6.988]\r5670it [00:16, 360.72it/s, batch: 3 | bound: 0 | nc: 5 | ncall: 25039 | eff(%): 22.645 | loglstar: 190.039 < 191.010 < 190.724 | logz: 182.437 +/-  0.153 | stop:  4.210]\r5719it [00:16, 368.56it/s, batch: 3 | bound: 2 | nc: 2 | ncall: 25261 | eff(%): 21.826 | loglstar: 190.039 < 190.358 < 190.724 | logz: 182.437 +/-  0.153 | stop:  4.210]\r5766it [00:16, 349.21it/s, batch: 3 | bound: 3 | nc: 1 | ncall: 25460 | eff(%): 21.839 | loglstar: 190.039 < 190.602 < 190.724 | logz: 182.437 +/-  0.153 | stop:  4.210]\r6041it [00:16, 464.06it/s, batch: 4 | bound: 0 | nc: 3 | ncall: 26463 | eff(%): 22.828 | loglstar: 189.503 < 189.725 < 190.040 | logz: 182.403 +/-  0.144 | stop:  3.493]\r6095it [00:17, 473.84it/s, batch: 4 | bound: 2 | nc: 2 | ncall: 26644 | eff(%): 22.467 | loglstar: 189.503 < 189.905 < 190.040 | logz: 182.403 +/-  0.144 | stop:  3.493]\r6367it [00:17, 469.74it/s, batch: 5 | bound: 0 | nc: 4 | ncall: 27241 | eff(%): 23.373 | loglstar: 189.076 < 189.970 < 189.511 | logz: 182.406 +/-  0.137 | stop:  3.080]\r6416it [00:17, 469.96it/s, batch: 5 | bound: 2 | nc: 3 | ncall: 27432 | eff(%): 22.815 | loglstar: 189.076 < 189.457 < 189.511 | logz: 182.406 +/-  0.137 | stop:  3.080]\r6673it [00:18, 471.94it/s, batch: 6 | bound: 0 | nc: 8 | ncall: 28151 | eff(%): 23.704 | loglstar: 188.544 < 188.643 < 192.706 | logz: 182.397 +/-  0.133 | stop:  2.828]\r6721it [00:18, 470.45it/s, batch: 6 | bound: 2 | nc: 3 | ncall: 28343 | eff(%): 23.180 | loglstar: 188.544 < 188.926 < 192.706 | logz: 182.397 +/-  0.133 | stop:  2.828]\r6769it [00:18, 436.33it/s, batch: 6 | bound: 3 | nc: 6 | ncall: 28541 | eff(%): 23.187 | loglstar: 188.544 < 189.429 < 192.706 | logz: 182.397 +/-  0.133 | stop:  2.828]\r6816it [00:18, 439.81it/s, batch: 6 | bound: 3 | nc: 9 | ncall: 28734 | eff(%): 23.195 | loglstar: 188.544 < 189.808 < 192.706 | logz: 182.397 +/-  0.133 | stop:  2.828]\r6860it [00:18, 395.32it/s, batch: 6 | bound: 4 | nc: 4 | ncall: 28941 | eff(%): 23.181 | loglstar: 188.544 < 190.101 < 192.706 | logz: 182.397 +/-  0.133 | stop:  2.828]\r6912it [00:18, 417.29it/s, batch: 6 | bound: 4 | nc: 4 | ncall: 29123 | eff(%): 23.214 | loglstar: 188.544 < 190.511 < 192.706 | logz: 182.397 +/-  0.133 | stop:  2.828]\r6957it [00:19, 385.77it/s, batch: 6 | bound: 5 | nc: 1 | ncall: 29279 | eff(%): 23.243 | loglstar: 188.544 < 190.716 < 192.706 | logz: 182.397 +/-  0.133 | stop:  2.828]\r6996it [00:19, 369.12it/s, batch: 6 | bound: 5 | nc: 3 | ncall: 29518 | eff(%): 23.189 | loglstar: 188.544 < 190.944 < 192.706 | logz: 182.397 +/-  0.133 | stop:  2.828]\r7033it [00:19, 329.67it/s, batch: 6 | bound: 6 | nc: 3 | ncall: 29702 | eff(%): 23.170 | loglstar: 188.544 < 191.131 < 192.706 | logz: 182.397 +/-  0.133 | stop:  2.828]\r7082it [00:19, 363.48it/s, batch: 6 | bound: 6 | nc: 12 | ncall: 29897 | eff(%): 23.182 | loglstar: 188.544 < 191.421 < 192.706 | logz: 182.397 +/-  0.133 | stop:  2.828]\r7120it [00:19, 321.23it/s, batch: 6 | bound: 7 | nc: 9 | ncall: 30085 | eff(%): 23.164 | loglstar: 188.544 < 191.643 < 192.706 | logz: 182.397 +/-  0.133 | stop:  2.828] \r7158it [00:19, 333.03it/s, batch: 6 | bound: 7 | nc: 15 | ncall: 30282 | eff(%): 23.140 | loglstar: 188.544 < 191.813 < 192.706 | logz: 182.397 +/-  0.133 | stop:  2.828]\r7193it [00:19, 287.56it/s, batch: 6 | bound: 8 | nc: 15 | ncall: 30491 | eff(%): 23.097 | loglstar: 188.544 < 191.975 < 192.706 | logz: 182.397 +/-  0.133 | stop:  2.828]\r7237it [00:20, 322.45it/s, batch: 6 | bound: 8 | nc: 5 | ncall: 30671 | eff(%): 23.104 | loglstar: 188.544 < 192.134 < 192.706 | logz: 182.397 +/-  0.133 | stop:  2.828] \r7272it [00:20, 303.06it/s, batch: 6 | bound: 9 | nc: 3 | ncall: 30811 | eff(%): 23.113 | loglstar: 188.544 < 192.248 < 192.706 | logz: 182.397 +/-  0.133 | stop:  2.828]\r7317it [00:20, 337.21it/s, batch: 6 | bound: 9 | nc: 11 | ncall: 30990 | eff(%): 23.124 | loglstar: 188.544 < 192.389 < 192.706 | logz: 182.397 +/-  0.133 | stop:  2.828]\r7372it [00:20, 345.49it/s, batch: 6 | bound: 10 | nc: 7 | ncall: 31166 | eff(%): 23.169 | loglstar: 188.544 < 192.525 < 192.706 | logz: 182.397 +/-  0.133 | stop:  2.828]\r7427it [00:20, 394.79it/s, batch: 6 | bound: 10 | nc: 2 | ncall: 31352 | eff(%): 23.206 | loglstar: 188.544 < 192.654 < 192.706 | logz: 182.397 +/-  0.133 | stop:  2.828]\r7704it [00:21, 447.30it/s, batch: 7 | bound: 0 | nc: 6 | ncall: 32092 | eff(%): 24.006 | loglstar: 188.135 < 189.889 < 192.345 | logz: 182.397 +/-  0.119 | stop:  2.147] \r7756it [00:21, 456.63it/s, batch: 7 | bound: 2 | nc: 4 | ncall: 32274 | eff(%): 23.558 | loglstar: 188.135 < 188.641 < 192.345 | logz: 182.397 +/-  0.119 | stop:  2.147]\r7812it [00:21, 468.69it/s, batch: 7 | bound: 2 | nc: 18 | ncall: 32477 | eff(%): 23.583 | loglstar: 188.135 < 189.236 < 192.345 | logz: 182.397 +/-  0.119 | stop:  2.147]\r7860it [00:21, 368.45it/s, batch: 7 | bound: 3 | nc: 16 | ncall: 32841 | eff(%): 23.470 | loglstar: 188.135 < 189.653 < 192.345 | logz: 182.397 +/-  0.119 | stop:  2.147]\r7900it [00:21, 345.46it/s, batch: 7 | bound: 4 | nc: 1 | ncall: 33007 | eff(%): 23.473 | loglstar: 188.135 < 190.056 < 192.345 | logz: 182.397 +/-  0.119 | stop:  2.147] \r7947it [00:21, 368.87it/s, batch: 7 | bound: 4 | nc: 1 | ncall: 33192 | eff(%): 23.483 | loglstar: 188.135 < 190.337 < 192.345 | logz: 182.397 +/-  0.119 | stop:  2.147]\r7987it [00:21, 352.31it/s, batch: 7 | bound: 5 | nc: 1 | ncall: 33330 | eff(%): 23.506 | loglstar: 188.135 < 190.601 < 192.345 | logz: 182.397 +/-  0.119 | stop:  2.147]\r8047it [00:22, 406.02it/s, batch: 7 | bound: 5 | nc: 9 | ncall: 33496 | eff(%): 23.567 | loglstar: 188.135 < 190.985 < 192.345 | logz: 182.397 +/-  0.119 | stop:  2.147]\r8091it [00:22, 368.57it/s, batch: 7 | bound: 6 | nc: 4 | ncall: 33668 | eff(%): 23.577 | loglstar: 188.135 < 191.208 < 192.345 | logz: 182.397 +/-  0.119 | stop:  2.147]\r8132it [00:22, 378.11it/s, batch: 7 | bound: 6 | nc: 5 | ncall: 33861 | eff(%): 23.564 | loglstar: 188.135 < 191.368 < 192.345 | logz: 182.397 +/-  0.119 | stop:  2.147]\r8172it [00:22, 358.28it/s, batch: 7 | bound: 7 | nc: 7 | ncall: 33993 | eff(%): 23.590 | loglstar: 188.135 < 191.551 < 192.345 | logz: 182.397 +/-  0.119 | stop:  2.147]\r8217it [00:22, 377.84it/s, batch: 7 | bound: 7 | nc: 11 | ncall: 34192 | eff(%): 23.584 | loglstar: 188.135 < 191.738 < 192.345 | logz: 182.397 +/-  0.119 | stop:  2.147]\r8256it [00:22, 334.56it/s, batch: 7 | bound: 8 | nc: 1 | ncall: 34368 | eff(%): 23.577 | loglstar: 188.135 < 191.912 < 192.345 | logz: 182.397 +/-  0.119 | stop:  2.147] \r8308it [00:22, 379.87it/s, batch: 7 | bound: 8 | nc: 11 | ncall: 34551 | eff(%): 23.602 | loglstar: 188.135 < 192.076 < 192.345 | logz: 182.397 +/-  0.119 | stop:  2.147]\r8361it [00:22, 364.23it/s, batch: 7 | bound: 9 | nc: 1 | ncall: 34742 | eff(%): 23.625 | loglstar: 188.135 < 192.234 < 192.345 | logz: 182.397 +/-  0.119 | stop:  2.147] \r8646it [00:23, 403.49it/s, batch: 8 | bound: 0 | nc: 5 | ncall: 35480 | eff(%): 24.369 | loglstar: 187.656 < 190.059 < 188.136 | logz: 182.394 +/-  0.111 | stop:  1.771]\r8939it [00:24, 456.29it/s, batch: 9 | bound: 0 | nc: 1 | ncall: 36442 | eff(%): 24.529 | loglstar: 187.129 < 191.907 < 192.943 | logz: 182.384 +/-  0.110 | stop:  1.717]\r9002it [00:24, 473.53it/s, batch: 9 | bound: 2 | nc: 6 | ncall: 36624 | eff(%): 24.220 | loglstar: 187.129 < 187.857 < 192.943 | logz: 182.384 +/-  0.110 | stop:  1.717]\r9055it [00:24, 479.85it/s, batch: 9 | bound: 2 | nc: 4 | ncall: 36797 | eff(%): 24.250 | loglstar: 187.129 < 188.535 < 192.943 | logz: 182.384 +/-  0.110 | stop:  1.717]\r9105it [00:24, 447.02it/s, batch: 9 | bound: 3 | nc: 4 | ncall: 36974 | eff(%): 24.269 | loglstar: 187.129 < 189.088 < 192.943 | logz: 182.384 +/-  0.110 | stop:  1.717]\r9150it [00:24, 437.16it/s, batch: 9 | bound: 3 | nc: 6 | ncall: 37190 | eff(%): 24.249 | loglstar: 187.129 < 189.494 < 192.943 | logz: 182.384 +/-  0.110 | stop:  1.717]\r9194it [00:24, 416.93it/s, batch: 9 | bound: 4 | nc: 1 | ncall: 37314 | eff(%): 24.286 | loglstar: 187.129 < 189.874 < 192.943 | logz: 182.384 +/-  0.110 | stop:  1.717]\r9247it [00:24, 440.17it/s, batch: 9 | bound: 4 | nc: 1 | ncall: 37503 | eff(%): 24.305 | loglstar: 187.129 < 190.374 < 192.943 | logz: 182.384 +/-  0.110 | stop:  1.717]\r9292it [00:25, 380.88it/s, batch: 9 | bound: 5 | nc: 1 | ncall: 37707 | eff(%): 24.293 | loglstar: 187.129 < 190.730 < 192.943 | logz: 182.384 +/-  0.110 | stop:  1.717]\r9331it [00:25, 315.88it/s, batch: 9 | bound: 6 | nc: 2 | ncall: 37971 | eff(%): 24.228 | loglstar: 187.129 < 190.967 < 192.943 | logz: 182.384 +/-  0.110 | stop:  1.717]\r9372it [00:25, 333.01it/s, batch: 9 | bound: 6 | nc: 10 | ncall: 38170 | eff(%): 24.209 | loglstar: 187.129 < 191.213 < 192.943 | logz: 182.384 +/-  0.110 | stop:  1.717]\r9408it [00:25, 308.48it/s, batch: 9 | bound: 7 | nc: 1 | ncall: 38338 | eff(%): 24.197 | loglstar: 187.129 < 191.379 < 192.943 | logz: 182.384 +/-  0.110 | stop:  1.717] \r9480it [00:25, 400.83it/s, batch: 9 | bound: 7 | nc: 2 | ncall: 38519 | eff(%): 24.269 | loglstar: 187.129 < 191.661 < 192.943 | logz: 182.384 +/-  0.110 | stop:  1.717]\r9536it [00:25, 381.51it/s, batch: 9 | bound: 8 | nc: 9 | ncall: 38712 | eff(%): 24.292 | loglstar: 187.129 < 191.949 < 192.943 | logz: 182.384 +/-  0.110 | stop:  1.717]\r9584it [00:25, 402.55it/s, batch: 9 | bound: 8 | nc: 7 | ncall: 38904 | eff(%): 24.296 | loglstar: 187.129 < 192.156 < 192.943 | logz: 182.384 +/-  0.110 | stop:  1.717]\r9627it [00:25, 356.13it/s, batch: 9 | bound: 9 | nc: 3 | ncall: 39098 | eff(%): 24.285 | loglstar: 187.129 < 192.286 < 192.943 | logz: 182.384 +/-  0.110 | stop:  1.717]\r9666it [00:26, 353.41it/s, batch: 9 | bound: 9 | nc: 2 | ncall: 39314 | eff(%): 24.252 | loglstar: 187.129 < 192.399 < 192.943 | logz: 182.384 +/-  0.110 | stop:  1.717]\r9704it [00:26, 325.33it/s, batch: 9 | bound: 10 | nc: 1 | ncall: 39480 | eff(%): 24.246 | loglstar: 187.129 < 192.544 < 192.943 | logz: 182.384 +/-  0.110 | stop:  1.717]\r9760it [00:26, 381.93it/s, batch: 9 | bound: 10 | nc: 11 | ncall: 39668 | eff(%): 24.272 | loglstar: 187.129 < 192.669 < 192.943 | logz: 182.384 +/-  0.110 | stop:  1.717]\r9801it [00:26, 344.93it/s, batch: 9 | bound: 11 | nc: 10 | ncall: 39843 | eff(%): 24.268 | loglstar: 187.129 < 192.776 < 192.943 | logz: 182.384 +/-  0.110 | stop:  1.717]\r9849it [00:26, 375.48it/s, batch: 9 | bound: 11 | nc: 8 | ncall: 40041 | eff(%): 24.268 | loglstar: 187.129 < 192.890 < 192.943 | logz: 182.384 +/-  0.110 | stop:  1.717] \r10124it [00:27, 432.33it/s, batch: 10 | bound: 0 | nc: 2 | ncall: 40710 | eff(%): 24.869 | loglstar: 186.473 < 186.807 < 193.383 | logz: 182.397 +/-  0.102 | stop:  1.436]\r10166it [00:27, 430.44it/s, batch: 10 | bound: 2 | nc: 3 | ncall: 40894 | eff(%): 24.502 | loglstar: 186.473 < 187.024 < 193.383 | logz: 182.397 +/-  0.102 | stop:  1.436]\r10208it [00:27, 385.69it/s, batch: 10 | bound: 3 | nc: 2 | ncall: 41102 | eff(%): 24.481 | loglstar: 186.473 < 187.563 < 193.383 | logz: 182.397 +/-  0.102 | stop:  1.436]\r10279it [00:27, 442.23it/s, batch: 10 | bound: 3 | nc: 1 | ncall: 41282 | eff(%): 24.545 | loglstar: 186.473 < 188.310 < 193.383 | logz: 182.397 +/-  0.102 | stop:  1.436]\r10340it [00:27, 422.94it/s, batch: 10 | bound: 4 | nc: 8 | ncall: 41473 | eff(%): 24.579 | loglstar: 186.473 < 188.894 < 193.383 | logz: 182.397 +/-  0.102 | stop:  1.436]\r10389it [00:27, 436.28it/s, batch: 10 | bound: 4 | nc: 1 | ncall: 41663 | eff(%): 24.584 | loglstar: 186.473 < 189.302 < 193.383 | logz: 182.397 +/-  0.102 | stop:  1.436]\r10435it [00:27, 385.74it/s, batch: 10 | bound: 5 | nc: 4 | ncall: 41866 | eff(%): 24.575 | loglstar: 186.473 < 189.681 < 193.383 | logz: 182.397 +/-  0.102 | stop:  1.436]\r10503it [00:28, 445.38it/s, batch: 10 | bound: 5 | nc: 15 | ncall: 42051 | eff(%): 24.628 | loglstar: 186.473 < 190.069 < 193.383 | logz: 182.397 +/-  0.102 | stop:  1.436]\r10551it [00:28, 397.37it/s, batch: 10 | bound: 6 | nc: 2 | ncall: 42245 | eff(%): 24.628 | loglstar: 186.473 < 190.498 < 193.383 | logz: 182.397 +/-  0.102 | stop:  1.436] \r10600it [00:28, 418.48it/s, batch: 10 | bound: 6 | nc: 7 | ncall: 42427 | eff(%): 24.638 | loglstar: 186.473 < 190.738 < 193.383 | logz: 182.397 +/-  0.102 | stop:  1.436]\r10645it [00:28, 342.11it/s, batch: 10 | bound: 7 | nc: 7 | ncall: 42699 | eff(%): 24.587 | loglstar: 186.473 < 190.989 < 193.383 | logz: 182.397 +/-  0.102 | stop:  1.436]\r10683it [00:28, 329.25it/s, batch: 10 | bound: 7 | nc: 4 | ncall: 42953 | eff(%): 24.531 | loglstar: 186.473 < 191.190 < 193.383 | logz: 182.397 +/-  0.102 | stop:  1.436]\r10719it [00:28, 316.49it/s, batch: 10 | bound: 8 | nc: 1 | ncall: 43079 | eff(%): 24.543 | loglstar: 186.473 < 191.381 < 193.383 | logz: 182.397 +/-  0.102 | stop:  1.436]\r10771it [00:28, 363.65it/s, batch: 10 | bound: 8 | nc: 4 | ncall: 43265 | eff(%): 24.557 | loglstar: 186.473 < 191.609 < 193.383 | logz: 182.397 +/-  0.102 | stop:  1.436]\r10810it [00:29, 338.04it/s, batch: 10 | bound: 9 | nc: 1 | ncall: 43406 | eff(%): 24.567 | loglstar: 186.473 < 191.746 < 193.383 | logz: 182.397 +/-  0.102 | stop:  1.436]\r10856it [00:29, 366.35it/s, batch: 10 | bound: 9 | nc: 6 | ncall: 43598 | eff(%): 24.564 | loglstar: 186.473 < 191.903 < 193.383 | logz: 182.397 +/-  0.102 | stop:  1.436]\r10897it [00:29, 345.91it/s, batch: 10 | bound: 10 | nc: 2 | ncall: 43742 | eff(%): 24.577 | loglstar: 186.473 < 192.069 < 193.383 | logz: 182.397 +/-  0.102 | stop:  1.436]\r10939it [00:29, 362.83it/s, batch: 10 | bound: 10 | nc: 4 | ncall: 43935 | eff(%): 24.565 | loglstar: 186.473 < 192.249 < 193.383 | logz: 182.397 +/-  0.102 | stop:  1.436]\r10991it [00:29, 348.02it/s, batch: 10 | bound: 11 | nc: 6 | ncall: 44121 | eff(%): 24.579 | loglstar: 186.473 < 192.395 < 193.383 | logz: 182.397 +/-  0.102 | stop:  1.436]\r11034it [00:29, 366.85it/s, batch: 10 | bound: 11 | nc: 3 | ncall: 44315 | eff(%): 24.569 | loglstar: 186.473 < 192.503 < 193.383 | logz: 182.397 +/-  0.102 | stop:  1.436]\r11072it [00:29, 315.06it/s, batch: 10 | bound: 12 | nc: 5 | ncall: 44522 | eff(%): 24.540 | loglstar: 186.473 < 192.618 < 193.383 | logz: 182.397 +/-  0.102 | stop:  1.436]\r11127it [00:29, 366.48it/s, batch: 10 | bound: 12 | nc: 12 | ncall: 44722 | eff(%): 24.553 | loglstar: 186.473 < 192.734 < 193.383 | logz: 182.397 +/-  0.102 | stop:  1.436]\r11166it [00:30, 313.34it/s, batch: 10 | bound: 13 | nc: 2 | ncall: 44929 | eff(%): 24.527 | loglstar: 186.473 < 192.810 < 193.383 | logz: 182.397 +/-  0.102 | stop:  1.436] \r11214it [00:30, 349.92it/s, batch: 10 | bound: 13 | nc: 8 | ncall: 45117 | eff(%): 24.531 | loglstar: 186.473 < 192.908 < 193.383 | logz: 182.397 +/-  0.102 | stop:  1.436]\r11252it [00:30, 325.24it/s, batch: 10 | bound: 14 | nc: 3 | ncall: 45270 | eff(%): 24.532 | loglstar: 186.473 < 192.985 < 193.383 | logz: 182.397 +/-  0.102 | stop:  1.436]\r11317it [00:30, 404.06it/s, batch: 10 | bound: 14 | nc: 2 | ncall: 45449 | eff(%): 24.578 | loglstar: 186.473 < 193.090 < 193.383 | logz: 182.397 +/-  0.102 | stop:  1.436]\r11365it [00:30, 420.73it/s, batch: 10 | bound: 14 | nc: 20 | ncall: 45646 | eff(%): 24.577 | loglstar: 186.473 < 193.149 < 193.383 | logz: 182.397 +/-  0.102 | stop:  1.436]\r11410it [00:30, 384.57it/s, batch: 10 | bound: 15 | nc: 1 | ncall: 45793 | eff(%): 24.596 | loglstar: 186.473 < 193.228 < 193.383 | logz: 182.397 +/-  0.102 | stop:  1.436] \r11451it [00:30, 378.70it/s, batch: 10 | bound: 15 | nc: 1 | ncall: 46009 | eff(%): 24.570 | loglstar: 186.473 < 193.288 < 193.383 | logz: 182.397 +/-  0.102 | stop:  1.436]\r11491it [00:30, 378.48it/s, batch: 10 | bound: 16 | nc: 2 | ncall: 46093 | eff(%): 24.612 | loglstar: 186.473 < 193.330 < 193.383 | logz: 182.397 +/-  0.102 | stop:  1.436]\r11778it [00:31, 461.24it/s, batch: 11 | bound: 0 | nc: 2 | ncall: 46777 | eff(%): 25.179 | loglstar: 185.783 < 186.073 < 192.942 | logz: 182.359 +/-  0.093 | stop:  1.182] \r11822it [00:31, 457.41it/s, batch: 11 | bound: 2 | nc: 4 | ncall: 46956 | eff(%): 24.880 | loglstar: 185.783 < 186.426 < 192.942 | logz: 182.359 +/-  0.093 | stop:  1.182]\r11865it [00:31, 452.50it/s, batch: 11 | bound: 2 | nc: 9 | ncall: 47146 | eff(%): 24.871 | loglstar: 185.783 < 187.044 < 192.942 | logz: 182.359 +/-  0.093 | stop:  1.182]\r11908it [00:31, 376.67it/s, batch: 11 | bound: 3 | nc: 28 | ncall: 47410 | eff(%): 24.824 | loglstar: 185.783 < 187.657 < 192.942 | logz: 182.359 +/-  0.093 | stop:  1.182]\r11945it [00:32, 341.10it/s, batch: 11 | bound: 4 | nc: 7 | ncall: 47584 | eff(%): 24.811 | loglstar: 185.783 < 188.106 < 192.942 | logz: 182.359 +/-  0.093 | stop:  1.182] \r11999it [00:32, 379.96it/s, batch: 11 | bound: 4 | nc: 3 | ncall: 47764 | eff(%): 24.830 | loglstar: 185.783 < 188.678 < 192.942 | logz: 182.359 +/-  0.093 | stop:  1.182]\r12039it [00:32, 349.95it/s, batch: 11 | bound: 5 | nc: 1 | ncall: 47923 | eff(%): 24.831 | loglstar: 185.783 < 189.091 < 192.942 | logz: 182.359 +/-  0.093 | stop:  1.182]\r12075it [00:32, 323.47it/s, batch: 11 | bound: 5 | nc: 11 | ncall: 48198 | eff(%): 24.765 | loglstar: 185.783 < 189.470 < 192.942 | logz: 182.359 +/-  0.093 | stop:  1.182]\r12108it [00:32, 280.40it/s, batch: 11 | bound: 6 | nc: 3 | ncall: 48414 | eff(%): 24.723 | loglstar: 185.783 < 189.828 < 192.942 | logz: 182.359 +/-  0.093 | stop:  1.182] \r12145it [00:32, 298.25it/s, batch: 11 | bound: 6 | nc: 13 | ncall: 48609 | eff(%): 24.701 | loglstar: 185.783 < 190.142 < 192.942 | logz: 182.359 +/-  0.093 | stop:  1.182]\r12176it [00:32, 285.28it/s, batch: 11 | bound: 7 | nc: 3 | ncall: 48725 | eff(%): 24.705 | loglstar: 185.783 < 190.389 < 192.942 | logz: 182.359 +/-  0.093 | stop:  1.182] \r12231it [00:32, 344.45it/s, batch: 11 | bound: 7 | nc: 14 | ncall: 48926 | eff(%): 24.716 | loglstar: 185.783 < 190.774 < 192.942 | logz: 182.359 +/-  0.093 | stop:  1.182]\r12267it [00:33, 313.36it/s, batch: 11 | bound: 8 | nc: 4 | ncall: 49084 | eff(%): 24.710 | loglstar: 185.783 < 190.977 < 192.942 | logz: 182.359 +/-  0.093 | stop:  1.182] \r12310it [00:33, 340.32it/s, batch: 11 | bound: 8 | nc: 8 | ncall: 49275 | eff(%): 24.702 | loglstar: 185.783 < 191.171 < 192.942 | logz: 182.359 +/-  0.093 | stop:  1.182]\r12346it [00:33, 305.91it/s, batch: 11 | bound: 9 | nc: 1 | ncall: 49451 | eff(%): 24.687 | loglstar: 185.783 < 191.384 < 192.942 | logz: 182.359 +/-  0.093 | stop:  1.182]\r12401it [00:33, 361.15it/s, batch: 11 | bound: 9 | nc: 16 | ncall: 49650 | eff(%): 24.698 | loglstar: 185.783 < 191.615 < 192.942 | logz: 182.359 +/-  0.093 | stop:  1.182]\r12440it [00:33, 322.42it/s, batch: 11 | bound: 10 | nc: 7 | ncall: 49830 | eff(%): 24.687 | loglstar: 185.783 < 191.790 < 192.942 | logz: 182.359 +/-  0.093 | stop:  1.182]\r12493it [00:33, 372.09it/s, batch: 11 | bound: 10 | nc: 4 | ncall: 50018 | eff(%): 24.700 | loglstar: 185.783 < 191.985 < 192.942 | logz: 182.359 +/-  0.093 | stop:  1.182]\r12534it [00:33, 334.16it/s, batch: 11 | bound: 11 | nc: 2 | ncall: 50198 | eff(%): 24.694 | loglstar: 185.783 < 192.136 < 192.942 | logz: 182.359 +/-  0.093 | stop:  1.182]\r12581it [00:33, 364.62it/s, batch: 11 | bound: 11 | nc: 6 | ncall: 50395 | eff(%): 24.690 | loglstar: 185.783 < 192.288 < 192.942 | logz: 182.359 +/-  0.093 | stop:  1.182]\r12623it [00:34, 331.01it/s, batch: 11 | bound: 12 | nc: 7 | ncall: 50580 | eff(%): 24.683 | loglstar: 185.783 < 192.410 < 192.942 | logz: 182.359 +/-  0.093 | stop:  1.182]\r12664it [00:34, 346.23it/s, batch: 11 | bound: 12 | nc: 10 | ncall: 50776 | eff(%): 24.669 | loglstar: 185.783 < 192.546 < 192.942 | logz: 182.359 +/-  0.093 | stop:  1.182]\r12702it [00:34, 315.68it/s, batch: 11 | bound: 13 | nc: 1 | ncall: 50952 | eff(%): 24.658 | loglstar: 185.783 < 192.635 < 192.942 | logz: 182.359 +/-  0.093 | stop:  1.182] \r12757it [00:34, 372.93it/s, batch: 11 | bound: 13 | nc: 2 | ncall: 51138 | eff(%): 24.676 | loglstar: 185.783 < 192.752 < 192.942 | logz: 182.359 +/-  0.093 | stop:  1.182]\r12804it [00:34, 395.53it/s, batch: 11 | bound: 13 | nc: 16 | ncall: 51331 | eff(%): 24.675 | loglstar: 185.783 < 192.837 < 192.942 | logz: 182.359 +/-  0.093 | stop:  1.182]\r12846it [00:34, 380.97it/s, batch: 11 | bound: 14 | nc: 3 | ncall: 51444 | eff(%): 24.702 | loglstar: 185.783 < 192.929 < 192.942 | logz: 182.359 +/-  0.093 | stop:  1.182] \r13104it [00:35, 383.62it/s, batch: 12 | bound: 0 | nc: 2 | ncall: 52034 | eff(%): 25.184 | loglstar: 185.082 < 186.744 < 192.942 | logz: 182.369 +/-  0.088 | stop:  1.038] \r13153it [00:35, 396.44it/s, batch: 12 | bound: 2 | nc: 6 | ncall: 52222 | eff(%): 24.816 | loglstar: 185.082 < 185.967 < 192.942 | logz: 182.369 +/-  0.088 | stop:  1.038]\r13202it [00:35, 378.56it/s, batch: 12 | bound: 3 | nc: 1 | ncall: 52411 | eff(%): 24.820 | loglstar: 185.082 < 186.494 < 192.942 | logz: 182.369 +/-  0.088 | stop:  1.038]\r13261it [00:35, 413.81it/s, batch: 12 | bound: 3 | nc: 9 | ncall: 52602 | eff(%): 24.841 | loglstar: 185.082 < 187.145 < 192.942 | logz: 182.369 +/-  0.088 | stop:  1.038]\r13318it [00:35, 397.18it/s, batch: 12 | bound: 4 | nc: 1 | ncall: 52789 | eff(%): 24.861 | loglstar: 185.082 < 187.897 < 192.942 | logz: 182.369 +/-  0.088 | stop:  1.038]\r13381it [00:35, 442.71it/s, batch: 12 | bound: 4 | nc: 3 | ncall: 52978 | eff(%): 24.891 | loglstar: 185.082 < 188.512 < 192.942 | logz: 182.369 +/-  0.088 | stop:  1.038]\r13432it [00:36, 405.22it/s, batch: 12 | bound: 5 | nc: 2 | ncall: 53165 | eff(%): 24.899 | loglstar: 185.082 < 189.171 < 192.942 | logz: 182.369 +/-  0.088 | stop:  1.038]\r13484it [00:36, 429.09it/s, batch: 12 | bound: 5 | nc: 3 | ncall: 53354 | eff(%): 24.908 | loglstar: 185.082 < 189.709 < 192.942 | logz: 182.369 +/-  0.088 | stop:  1.038]\r13530it [00:36, 371.76it/s, batch: 12 | bound: 6 | nc: 1 | ncall: 53564 | eff(%): 24.896 | loglstar: 185.082 < 189.989 < 192.942 | logz: 182.369 +/-  0.088 | stop:  1.038]\r13584it [00:36, 407.58it/s, batch: 12 | bound: 6 | nc: 7 | ncall: 53756 | eff(%): 24.908 | loglstar: 185.082 < 190.362 < 192.942 | logz: 182.369 +/-  0.088 | stop:  1.038]\r13629it [00:36, 376.26it/s, batch: 12 | bound: 7 | nc: 4 | ncall: 53921 | eff(%): 24.915 | loglstar: 185.082 < 190.629 < 192.942 | logz: 182.369 +/-  0.088 | stop:  1.038]\r13694it [00:36, 438.34it/s, batch: 12 | bound: 7 | nc: 8 | ncall: 54099 | eff(%): 24.953 | loglstar: 185.082 < 190.998 < 192.942 | logz: 182.369 +/-  0.088 | stop:  1.038]\r13746it [00:36, 457.87it/s, batch: 12 | bound: 7 | nc: 2 | ncall: 54289 | eff(%): 24.961 | loglstar: 185.082 < 191.311 < 192.942 | logz: 182.369 +/-  0.088 | stop:  1.038]\r13795it [00:37, 394.67it/s, batch: 12 | bound: 8 | nc: 3 | ncall: 54502 | eff(%): 24.953 | loglstar: 185.082 < 191.538 < 192.942 | logz: 182.369 +/-  0.088 | stop:  1.038]\r13838it [00:37, 328.22it/s, batch: 12 | bound: 9 | nc: 1 | ncall: 54747 | eff(%): 24.921 | loglstar: 185.082 < 191.759 < 192.942 | logz: 182.369 +/-  0.088 | stop:  1.038]\r13890it [00:37, 365.03it/s, batch: 12 | bound: 9 | nc: 14 | ncall: 54949 | eff(%): 24.924 | loglstar: 185.082 < 191.947 < 192.942 | logz: 182.369 +/-  0.088 | stop:  1.038]\r13931it [00:37, 323.99it/s, batch: 12 | bound: 10 | nc: 1 | ncall: 55157 | eff(%): 24.904 | loglstar: 185.082 < 192.093 < 192.942 | logz: 182.369 +/-  0.088 | stop:  1.038]\r13979it [00:37, 357.55it/s, batch: 12 | bound: 10 | nc: 5 | ncall: 55348 | eff(%): 24.905 | loglstar: 185.082 < 192.225 < 192.942 | logz: 182.369 +/-  0.088 | stop:  1.038]\r14018it [00:37, 339.72it/s, batch: 12 | bound: 11 | nc: 1 | ncall: 55483 | eff(%): 24.915 | loglstar: 185.082 < 192.380 < 192.942 | logz: 182.369 +/-  0.088 | stop:  1.038]\r14055it [00:37, 342.94it/s, batch: 12 | bound: 11 | nc: 1 | ncall: 55686 | eff(%): 24.891 | loglstar: 185.082 < 192.501 < 192.942 | logz: 182.369 +/-  0.088 | stop:  1.038]\r14091it [00:37, 313.94it/s, batch: 12 | bound: 12 | nc: 3 | ncall: 55843 | eff(%): 24.885 | loglstar: 185.082 < 192.591 < 192.942 | logz: 182.369 +/-  0.088 | stop:  1.038]\r14154it [00:38, 392.28it/s, batch: 12 | bound: 12 | nc: 7 | ncall: 56029 | eff(%): 24.915 | loglstar: 185.082 < 192.706 < 192.942 | logz: 182.369 +/-  0.088 | stop:  1.038]\r14196it [00:38, 348.91it/s, batch: 12 | bound: 13 | nc: 1 | ncall: 56207 | eff(%): 24.911 | loglstar: 185.082 < 192.810 < 192.942 | logz: 182.369 +/-  0.088 | stop:  1.038]\r14254it [00:38, 405.50it/s, batch: 12 | bound: 13 | nc: 9 | ncall: 56389 | eff(%): 24.933 | loglstar: 185.082 < 192.899 < 192.942 | logz: 182.369 +/-  0.088 | stop:  1.038]\r14523it [00:38, 844.20it/s, batch: 12 | bound: 13 | nc: 1 | ncall: 56704 | eff(%): 25.374 | loglstar: 185.082 < 193.963 < 192.942 | logz: 182.369 +/-  0.088 | stop:  0.922]\r14523it [00:38, 377.41it/s, batch: 12 | bound: 13 | nc: 1 | ncall: 56704 | eff(%): 25.374 | loglstar: 185.082 < 193.963 < 192.942 | logz: 182.369 +/-  0.088 | stop:  0.922]\n"
        }
       ],
       "tabbable": null,
       "tooltip": null
      }
     },
     "685c697f04ce4d46a1d0b83ab10c05e6": {
      "model_module": "@jupyter-widgets/controls",
      "model_module_version": "2.0.0",
      "model_name": "ProgressStyleModel",
      "state": {
       "_model_module": "@jupyter-widgets/controls",
       "_model_module_version": "2.0.0",
       "_model_name": "ProgressStyleModel",
       "_view_count": null,
       "_view_module": "@jupyter-widgets/base",
       "_view_module_version": "2.0.0",
       "_view_name": "StyleView",
       "bar_color": null,
       "description_width": ""
      }
     },
     "81c94a7c87354afa8237574293e80ba8": {
      "model_module": "@jupyter-widgets/controls",
      "model_module_version": "2.0.0",
      "model_name": "FloatProgressModel",
      "state": {
       "_dom_classes": [],
       "_model_module": "@jupyter-widgets/controls",
       "_model_module_version": "2.0.0",
       "_model_name": "FloatProgressModel",
       "_view_count": null,
       "_view_module": "@jupyter-widgets/controls",
       "_view_module_version": "2.0.0",
       "_view_name": "ProgressView",
       "bar_style": "success",
       "description": "",
       "description_allow_html": false,
       "layout": "IPY_MODEL_48558bfdc0214efa9993d0b0d16cc015",
       "max": 14523.0,
       "min": 0.0,
       "orientation": "horizontal",
       "style": "IPY_MODEL_685c697f04ce4d46a1d0b83ab10c05e6",
       "tabbable": null,
       "tooltip": null,
       "value": 14523.0
      }
     },
     "8613d0b40e66461e8c1f9cb6a239027f": {
      "model_module": "@jupyter-widgets/base",
      "model_module_version": "2.0.0",
      "model_name": "LayoutModel",
      "state": {
       "_model_module": "@jupyter-widgets/base",
       "_model_module_version": "2.0.0",
       "_model_name": "LayoutModel",
       "_view_count": null,
       "_view_module": "@jupyter-widgets/base",
       "_view_module_version": "2.0.0",
       "_view_name": "LayoutView",
       "align_content": null,
       "align_items": null,
       "align_self": null,
       "border_bottom": null,
       "border_left": null,
       "border_right": null,
       "border_top": null,
       "bottom": null,
       "display": null,
       "flex": null,
       "flex_flow": null,
       "grid_area": null,
       "grid_auto_columns": null,
       "grid_auto_flow": null,
       "grid_auto_rows": null,
       "grid_column": null,
       "grid_gap": null,
       "grid_row": null,
       "grid_template_areas": null,
       "grid_template_columns": null,
       "grid_template_rows": null,
       "height": null,
       "justify_content": null,
       "justify_items": null,
       "left": null,
       "margin": null,
       "max_height": null,
       "max_width": null,
       "min_height": null,
       "min_width": null,
       "object_fit": null,
       "object_position": null,
       "order": null,
       "overflow": null,
       "padding": null,
       "right": null,
       "top": null,
       "visibility": null,
       "width": null
      }
     },
     "8acdac1949e7407397cb0cc434225841": {
      "model_module": "@jupyter-widgets/base",
      "model_module_version": "2.0.0",
      "model_name": "LayoutModel",
      "state": {
       "_model_module": "@jupyter-widgets/base",
       "_model_module_version": "2.0.0",
       "_model_name": "LayoutModel",
       "_view_count": null,
       "_view_module": "@jupyter-widgets/base",
       "_view_module_version": "2.0.0",
       "_view_name": "LayoutView",
       "align_content": null,
       "align_items": null,
       "align_self": null,
       "border_bottom": null,
       "border_left": null,
       "border_right": null,
       "border_top": null,
       "bottom": null,
       "display": null,
       "flex": null,
       "flex_flow": null,
       "grid_area": null,
       "grid_auto_columns": null,
       "grid_auto_flow": null,
       "grid_auto_rows": null,
       "grid_column": null,
       "grid_gap": null,
       "grid_row": null,
       "grid_template_areas": null,
       "grid_template_columns": null,
       "grid_template_rows": null,
       "height": "200px",
       "justify_content": null,
       "justify_items": null,
       "left": null,
       "margin": null,
       "max_height": null,
       "max_width": null,
       "min_height": null,
       "min_width": null,
       "object_fit": null,
       "object_position": null,
       "order": null,
       "overflow": "auto",
       "padding": null,
       "right": null,
       "top": null,
       "visibility": null,
       "width": null
      }
     },
     "b5e57b15b2d7411d8cefddf17cbaf7e5": {
      "model_module": "@jupyter-widgets/base",
      "model_module_version": "2.0.0",
      "model_name": "LayoutModel",
      "state": {
       "_model_module": "@jupyter-widgets/base",
       "_model_module_version": "2.0.0",
       "_model_name": "LayoutModel",
       "_view_count": null,
       "_view_module": "@jupyter-widgets/base",
       "_view_module_version": "2.0.0",
       "_view_name": "LayoutView",
       "align_content": null,
       "align_items": null,
       "align_self": null,
       "border_bottom": null,
       "border_left": null,
       "border_right": null,
       "border_top": null,
       "bottom": null,
       "display": null,
       "flex": null,
       "flex_flow": null,
       "grid_area": null,
       "grid_auto_columns": null,
       "grid_auto_flow": null,
       "grid_auto_rows": null,
       "grid_column": null,
       "grid_gap": null,
       "grid_row": null,
       "grid_template_areas": null,
       "grid_template_columns": null,
       "grid_template_rows": null,
       "height": null,
       "justify_content": null,
       "justify_items": null,
       "left": null,
       "margin": null,
       "max_height": null,
       "max_width": null,
       "min_height": null,
       "min_width": null,
       "object_fit": null,
       "object_position": null,
       "order": null,
       "overflow": null,
       "padding": null,
       "right": null,
       "top": null,
       "visibility": null,
       "width": null
      }
     },
     "b8e0366ae1124401811e258afb0ab911": {
      "model_module": "@jupyter-widgets/base",
      "model_module_version": "2.0.0",
      "model_name": "LayoutModel",
      "state": {
       "_model_module": "@jupyter-widgets/base",
       "_model_module_version": "2.0.0",
       "_model_name": "LayoutModel",
       "_view_count": null,
       "_view_module": "@jupyter-widgets/base",
       "_view_module_version": "2.0.0",
       "_view_name": "LayoutView",
       "align_content": null,
       "align_items": null,
       "align_self": null,
       "border_bottom": null,
       "border_left": null,
       "border_right": null,
       "border_top": null,
       "bottom": null,
       "display": null,
       "flex": null,
       "flex_flow": null,
       "grid_area": null,
       "grid_auto_columns": null,
       "grid_auto_flow": null,
       "grid_auto_rows": null,
       "grid_column": null,
       "grid_gap": null,
       "grid_row": null,
       "grid_template_areas": null,
       "grid_template_columns": null,
       "grid_template_rows": null,
       "height": "200px",
       "justify_content": null,
       "justify_items": null,
       "left": null,
       "margin": null,
       "max_height": null,
       "max_width": null,
       "min_height": null,
       "min_width": null,
       "object_fit": null,
       "object_position": null,
       "order": null,
       "overflow": "auto",
       "padding": null,
       "right": null,
       "top": null,
       "visibility": null,
       "width": null
      }
     },
     "c63ff22bf6b448fd99386b721d74ddc2": {
      "model_module": "@jupyter-widgets/controls",
      "model_module_version": "2.0.0",
      "model_name": "HTMLStyleModel",
      "state": {
       "_model_module": "@jupyter-widgets/controls",
       "_model_module_version": "2.0.0",
       "_model_name": "HTMLStyleModel",
       "_view_count": null,
       "_view_module": "@jupyter-widgets/base",
       "_view_module_version": "2.0.0",
       "_view_name": "StyleView",
       "background": null,
       "description_width": "",
       "font_size": null,
       "text_color": null
      }
     },
     "fa43d9be824a48898500fd560dab9ca8": {
      "model_module": "@jupyter-widgets/controls",
      "model_module_version": "2.0.0",
      "model_name": "HBoxModel",
      "state": {
       "_dom_classes": [],
       "_model_module": "@jupyter-widgets/controls",
       "_model_module_version": "2.0.0",
       "_model_name": "HBoxModel",
       "_view_count": null,
       "_view_module": "@jupyter-widgets/controls",
       "_view_module_version": "2.0.0",
       "_view_name": "HBoxView",
       "box_style": "",
       "children": [
        "IPY_MODEL_fc0fbb2cb040453c8406705e91c30917",
        "IPY_MODEL_81c94a7c87354afa8237574293e80ba8",
        "IPY_MODEL_2a7c6d2443384063b45253bea5ecb759"
       ],
       "layout": "IPY_MODEL_45769077984c4e5793ddbf9a561d40ef",
       "tabbable": null,
       "tooltip": null
      }
     },
     "fc0fbb2cb040453c8406705e91c30917": {
      "model_module": "@jupyter-widgets/controls",
      "model_module_version": "2.0.0",
      "model_name": "HTMLModel",
      "state": {
       "_dom_classes": [],
       "_model_module": "@jupyter-widgets/controls",
       "_model_module_version": "2.0.0",
       "_model_name": "HTMLModel",
       "_view_count": null,
       "_view_module": "@jupyter-widgets/controls",
       "_view_module_version": "2.0.0",
       "_view_name": "HTMLView",
       "description": "",
       "description_allow_html": false,
       "layout": "IPY_MODEL_8613d0b40e66461e8c1f9cb6a239027f",
       "placeholder": "​",
       "style": "IPY_MODEL_340010fb02074df6a9ac048fcfec3dc7",
       "tabbable": null,
       "tooltip": null,
       "value": "100%"
      }
     }
    },
    "version_major": 2,
    "version_minor": 0
   }
  }
 },
 "nbformat": 4,
 "nbformat_minor": 2
}
