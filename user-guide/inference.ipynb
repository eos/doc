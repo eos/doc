{
 "cells": [
  {
   "cell_type": "markdown",
   "metadata": {},
   "source": [
    "# Parameter Inference"
   ]
  },
  {
   "cell_type": "markdown",
   "metadata": {},
   "source": [
    "EOS can infer parameters based on a database of experimental or theoretical constraints and its built-in observables.\n",
    "The examples in this notebook illustrate how to find a specific constraint from the list of all built-in observables,\n",
    "include them in an analysis file,\n",
    "and infer mean value and standard deviation of a list of parameters through sampling methods."
   ]
  },
  {
   "cell_type": "code",
   "execution_count": 1,
   "metadata": {
    "execution": {
     "iopub.execute_input": "2024-10-22T06:42:23.727083Z",
     "iopub.status.busy": "2024-10-22T06:42:23.726589Z",
     "iopub.status.idle": "2024-10-22T06:42:24.442196Z",
     "shell.execute_reply": "2024-10-22T06:42:24.441559Z"
    }
   },
   "outputs": [],
   "source": [
    "import eos\n",
    "import numpy as np"
   ]
  },
  {
   "cell_type": "markdown",
   "metadata": {},
   "source": [
    "## Listing the built-in Constraints"
   ]
  },
  {
   "cell_type": "markdown",
   "metadata": {},
   "source": [
    "The full list of built-in constraints for the most-recent EOS release is available online [here](https://eos.github.io/doc/reference/constraints). You can also show this list using the [eos.Constraints](../reference/python.rst#eos.Constraints) class.  Searching for a specific constraint is possible by filtering for specific strings in the constraint name’s *prefix*, *name*, or *suffix* parts. The following example only shows constraints that contain a `'->D'` in the prefix part:"
   ]
  },
  {
   "cell_type": "code",
   "execution_count": 2,
   "metadata": {
    "ExecuteTime": {
     "end_time": "2021-10-21T13:15:08.490501Z",
     "start_time": "2021-10-21T13:15:07.686555Z"
    },
    "execution": {
     "iopub.execute_input": "2024-10-22T06:42:24.444992Z",
     "iopub.status.busy": "2024-10-22T06:42:24.444522Z",
     "iopub.status.idle": "2024-10-22T06:42:24.897450Z",
     "shell.execute_reply": "2024-10-22T06:42:24.896834Z"
    }
   },
   "outputs": [
    {
     "data": {
      "text/html": [
       "\n",
       "        <script>\n",
       "            function toggle_obs(obs_anchor, id) {\n",
       "                var query_dots   = 'span.dots[id=\"' + id + '\"]'\n",
       "                var query_values = 'span.values[id=\"' + id + '\"]'\n",
       "                var dots   = obs_anchor.querySelector(query_dots)\n",
       "                var values = obs_anchor.querySelector(query_values)\n",
       "                if (dots.style.display == \"none\") {\n",
       "                    dots.style.display   = \"inline\"\n",
       "                    values.style.display = \"none\"\n",
       "                } else {\n",
       "                    dots.style.display   = \"none\"\n",
       "                    values.style.display = \"inline\"\n",
       "                }\n",
       "            }\n",
       "        </script>\n",
       "        <table>\n",
       "            <colgroup>\n",
       "                <col width=\"50%\" id=\"qn\"     style=\"min-width: 200px\">\n",
       "                <col width=\"25%\" id=\"type\"   style=\"min-width: 200px\">\n",
       "                <col width=\"15%\" id=\"type\"   style=\"min-width: 100px\">\n",
       "                <col width=\"10%\" id=\"ref\"    style=\"min-width: 100px\">\n",
       "            </colgroup>\n",
       "            <thead>\n",
       "                <tr>\n",
       "                    <th>qualified name</th>\n",
       "                    <th>observables</th>\n",
       "                    <th>type</th>\n",
       "                    <th>reference</th>\n",
       "                </tr>\n",
       "            </thead>\n",
       "                <tr>\n",
       "                    <td><tt>B^0->D^+e^-nu::BRs@Belle:2015A</tt></td>\n",
       "                    <td><a onclick=\"toggle_obs(this, 'con0-obs')\">\n",
       "                <span class=\"dots\"   id=\"con0-obs\" style=\"display: inline; text-align: left\">...</span>\n",
       "                <span class=\"values\" id=\"con0-obs\" style=\"display: none;   text-align: left\">\n",
       "               <tt>B->Dlnu::BR</tt>\n",
       "                </span>\n",
       "            </a></td>\n",
       "                    <td>MultivariateGaussian(Covariance)</td>\n",
       "                    <td><a \" href=\"https://arxiv.org/abs/1510.03657\"\">Belle:2015A</a></td>\n",
       "                </tr>\n",
       "                <tr>\n",
       "                    <td><tt>B^0->D^+l^-nu::KinematicalDistribution[w]@Belle:2015A</tt></td>\n",
       "                    <td><a onclick=\"toggle_obs(this, 'con0-obs')\">\n",
       "                <span class=\"dots\"   id=\"con0-obs\" style=\"display: inline; text-align: left\">...</span>\n",
       "                <span class=\"values\" id=\"con0-obs\" style=\"display: none;   text-align: left\">\n",
       "               <tt>B->Dlnu::P(w_min,w_max)</tt>\n",
       "                </span>\n",
       "            </a></td>\n",
       "                    <td>MultivariateGaussian(Covariance)</td>\n",
       "                    <td><a \" href=\"https://arxiv.org/abs/1510.03657\"\">Belle:2015A</a></td>\n",
       "                </tr>\n",
       "                <tr>\n",
       "                    <td><tt>B^0->D^+mu^-nu::BRs@Belle:2015A</tt></td>\n",
       "                    <td><a onclick=\"toggle_obs(this, 'con0-obs')\">\n",
       "                <span class=\"dots\"   id=\"con0-obs\" style=\"display: inline; text-align: left\">...</span>\n",
       "                <span class=\"values\" id=\"con0-obs\" style=\"display: none;   text-align: left\">\n",
       "               <tt>B->Dlnu::BR</tt>\n",
       "                </span>\n",
       "            </a></td>\n",
       "                    <td>MultivariateGaussian(Covariance)</td>\n",
       "                    <td><a \" href=\"https://arxiv.org/abs/1510.03657\"\">Belle:2015A</a></td>\n",
       "                </tr>\n",
       "            </table>\n",
       "        "
      ],
      "text/plain": [
       "<eos.constraint.Constraints at 0x7fe328441080>"
      ]
     },
     "execution_count": 2,
     "metadata": {},
     "output_type": "execute_result"
    }
   ],
   "source": [
    "eos.Constraints(prefix='B^0->D^+')"
   ]
  },
  {
   "cell_type": "markdown",
   "metadata": {},
   "source": [
    "## Visualizing the built-in Constraints"
   ]
  },
  {
   "cell_type": "markdown",
   "metadata": {},
   "source": [
    "For what follows we will use the two experimental constraints ``B^0->D^+e^-nu::BRs@Belle:2015A``\n",
    "and ``B^0->D^+mu^-nu::BRs@Belle:2015A``, to infer the CKM matrix element $|V_{cb}|$. We can readily\n",
    "display these two constraints, along with the default theory prediction (without any uncertainties),\n",
    "using the following code:"
   ]
  },
  {
   "cell_type": "code",
   "execution_count": 3,
   "metadata": {
    "ExecuteTime": {
     "end_time": "2021-10-21T13:15:11.112132Z",
     "start_time": "2021-10-21T13:15:08.493463Z"
    },
    "execution": {
     "iopub.execute_input": "2024-10-22T06:42:24.899668Z",
     "iopub.status.busy": "2024-10-22T06:42:24.899481Z",
     "iopub.status.idle": "2024-10-22T06:42:26.714828Z",
     "shell.execute_reply": "2024-10-22T06:42:26.714166Z"
    }
   },
   "outputs": [
    {
     "data": {
      "image/png": "[encoded data removed]",
      "text/plain": [
       "<Figure size 640x480 with 1 Axes>"
      ]
     },
     "metadata": {},
     "output_type": "display_data"
    }
   ],
   "source": [
    "plot_args = {\n",
    "    'plot': {\n",
    "        'x': { 'label': r'$q^2$', 'unit': r'$\\textnormal{GeV}^2$', 'range': [0.0, 11.63] },\n",
    "        'y': { 'label': r'$d\\mathcal{B}/dq^2$',                    'range': [0.0,  5e-3] },\n",
    "        'legend': { 'location': 'lower left' }\n",
    "    },\n",
    "    'contents': [\n",
    "        {\n",
    "            'label': r'$\\ell=e$',\n",
    "            'type': 'observable',\n",
    "            'observable': 'B->Dlnu::dBR/dq2;l=e,q=d',\n",
    "            'variable': 'q2',\n",
    "            'color': 'black',\n",
    "            'range': [0.02, 11.63],\n",
    "        },\n",
    "        {\n",
    "            'label': r'Belle 2015 $\\ell=e,\\, q=d$',\n",
    "            'type': 'constraint',\n",
    "            'color': 'C0',\n",
    "            'constraints': 'B^0->D^+e^-nu::BRs@Belle:2015A',\n",
    "            'observable': 'B->Dlnu::BR',\n",
    "            'variable': 'q2',\n",
    "            'rescale-by-width': True\n",
    "        },\n",
    "        {\n",
    "            'label': r'Belle 2015 $\\ell=\\mu,\\,q=d$',\n",
    "            'type': 'constraint',\n",
    "            'color': 'C1',\n",
    "            'constraints': 'B^0->D^+mu^-nu::BRs@Belle:2015A',\n",
    "            'observable': 'B->Dlnu::BR',\n",
    "            'variable': 'q2',\n",
    "            'rescale-by-width': True\n",
    "        },\n",
    "    ]\n",
    "}\n",
    "_ = eos.plot.Plotter(plot_args).plot()"
   ]
  },
  {
   "cell_type": "markdown",
   "metadata": {},
   "source": [
    "## Defining the analysis\n",
    "\n",
    "To define our statistical analysis for the inference of $|V_{cb}|$ from measurements\n",
    "of the $\\bar{B}\\to D\\ell^-\\bar\\nu$ branching ratios, we must decide how to parametrize\n",
    "the hadronic form factors that emerge in semileptonic $\\bar{B}\\to D$ transitions and\n",
    "how to constraint them. On top of the theoretical constraints and form factor coefficient priors as in `predictions.yaml`, we must add a prior for varying the CKM element and experimental constraints from which to extract it.\n",
    "We only vary the absolute value of the CKM element `CKM::abs(V_cb)`, as the complex phase of the CKM element `CKM::arg(V_cb)` is not accessible from $b\\to c \\ell \\bar \\nu$.\n",
    "In order to use this parametrization of the CKM elements, we must use the model `CKM` in the analysis.\n",
    "\n",
    "These additions to the likelihood and priors, seen in the analysis file `inference.yaml`, look like\n",
    "```yaml\n",
    "priors:\n",
    "  - name: CKM\n",
    "    descriptions:\n",
    "      - { parameter: 'CKM::abs(V_cb)',           min:  38e-3, max:  45e-3 , type: 'uniform' }\n",
    "\n",
    "  - name: FF\n",
    "    # as in both predictions.yaml and inference.yaml\n",
    "\n",
    "likelihoods:\n",
    "  - name: B-to-D-l-nu\n",
    "    constraints:\n",
    "      - 'B^0->D^+e^-nu::BRs@Belle:2015A;form-factors=BSZ2015'\n",
    "      - 'B^0->D^+mu^-nu::BRs@Belle:2015A;form-factors=BSZ2015'\n",
    "\n",
    "  - name: FF-LQCD\n",
    "    # as in both predictions.yaml and inference.yaml\n",
    "```\n",
    "\n"
   ]
  },
  {
   "cell_type": "markdown",
   "metadata": {},
   "source": [
    "## Sampling from the posterior\n",
    "\n",
    "EOS provides the means to draw and store Monte Carlo samples for a prior PDF $P_0(\\vec\\vartheta)$, a posterior PDF $P(\\vec\\vartheta|\\text{data})$, and predictive distributions using [eos.tasks.sample_nested](../reference/python.rst#eos.tasks.sample_nested). We store this data within a hierarchy of directories below a \"base directory\". For the purpose of the following examples, we set this base directory to ``./inference-data``, stored in a convenient global variable."
   ]
  },
  {
   "cell_type": "code",
   "execution_count": 4,
   "metadata": {
    "execution": {
     "iopub.execute_input": "2024-10-22T06:42:26.717493Z",
     "iopub.status.busy": "2024-10-22T06:42:26.717131Z",
     "iopub.status.idle": "2024-10-22T06:42:26.720050Z",
     "shell.execute_reply": "2024-10-22T06:42:26.719442Z"
    }
   },
   "outputs": [],
   "source": [
    "EOS_BASE_DIRECTORY='./inference-data'"
   ]
  },
  {
   "cell_type": "code",
   "execution_count": 5,
   "metadata": {
    "execution": {
     "iopub.execute_input": "2024-10-22T06:42:26.722396Z",
     "iopub.status.busy": "2024-10-22T06:42:26.722037Z",
     "iopub.status.idle": "2024-10-22T06:43:07.446698Z",
     "shell.execute_reply": "2024-10-22T06:43:07.446057Z"
    }
   },
   "outputs": [
    {
     "data": {
      "application/vnd.jupyter.widget-view+json": {
       "model_id": "cbd86045ab6145e0a62f7b6c61ae5de9",
       "version_major": 2,
       "version_minor": 0
      },
      "text/plain": [
       "Accordion(children=(Output(layout=Layout(height='200px', overflow='auto')),), titles=('CKM/nested',))"
      ]
     },
     "metadata": {},
     "output_type": "display_data"
    }
   ],
   "source": [
    "eos.tasks.sample_nested('inference.yaml', 'CKM', base_directory=EOS_BASE_DIRECTORY, nlive=250, dlogz=0.5, seed=42)"
   ]
  },
  {
   "cell_type": "markdown",
   "metadata": {},
   "source": [
    "## Inferring the $|V_{cb}|$ parameter\n",
    "\n",
    "The distribution of the parameter samples, here using $|V_{cb}|$ as an example, can be inspected using regular histograms or a smooth histogram based on a kernel density estimate (KDE). The samples are automatically processed, when specifying the ``data-file`` directory and the ``variable`` as histogram plotting arguments. For the KDE, the parameter ``bandwidth`` regulates the smoothing. EOS applies a relative bandwidth factor with respect to SciPy's best bandwidth estimate, i.e., specifying `'bandwidth': 2` doubles SciPy's estimate for the bandwidth."
   ]
  },
  {
   "cell_type": "code",
   "execution_count": 6,
   "metadata": {
    "execution": {
     "iopub.execute_input": "2024-10-22T06:43:08.081361Z",
     "iopub.status.busy": "2024-10-22T06:43:08.081185Z",
     "iopub.status.idle": "2024-10-22T06:43:09.639668Z",
     "shell.execute_reply": "2024-10-22T06:43:09.639010Z"
    }
   },
   "outputs": [
    {
     "data": {
      "image/png": "[encoded data removed]",
      "text/plain": [
       "<Figure size 640x480 with 1 Axes>"
      ]
     },
     "metadata": {},
     "output_type": "display_data"
    }
   ],
   "source": [
    "plot_args = {\n",
    "    'plot': {\n",
    "        'x': { 'label': r'$|V_{cb}|$', 'range': [38e-3, 47e-3] },\n",
    "        'legend': { 'location': 'upper left' }\n",
    "    },\n",
    "    'contents': [\n",
    "        {\n",
    "            'type': 'histogram',\n",
    "            'variable': 'CKM::abs(V_cb)',\n",
    "            'data-file': EOS_BASE_DIRECTORY+'/CKM/samples'\n",
    "        },\n",
    "        {\n",
    "            'type': 'kde', 'color': 'C0', 'label': 'posterior', 'bandwidth': 2,\n",
    "            'range': [39e-3, 45e-3],\n",
    "            'variable': 'CKM::abs(V_cb)',\n",
    "            'data-file': EOS_BASE_DIRECTORY+'/CKM/samples'\n",
    "        }\n",
    "    ]\n",
    "}\n",
    "_ = eos.plot.Plotter(plot_args).plot()"
   ]
  },
  {
   "cell_type": "markdown",
   "metadata": {},
   "source": [
    "To extract further information from the parameter samples, we can load the sample values using [eos.data.ImportanceSamples](../reference/python.rst#eos.data.ImportanceSamples):"
   ]
  },
  {
   "cell_type": "code",
   "execution_count": 7,
   "metadata": {
    "execution": {
     "iopub.execute_input": "2024-10-22T06:43:09.642270Z",
     "iopub.status.busy": "2024-10-22T06:43:09.641945Z",
     "iopub.status.idle": "2024-10-22T06:43:09.647620Z",
     "shell.execute_reply": "2024-10-22T06:43:09.647036Z"
    }
   },
   "outputs": [],
   "source": [
    "parameter_samples = eos.data.ImportanceSamples(EOS_BASE_DIRECTORY+'/CKM/samples')"
   ]
  },
  {
   "cell_type": "markdown",
   "metadata": {},
   "source": [
    "We can compute the mean value and its standard deviation using ``numpy`` methods, including the sample ``weights``."
   ]
  },
  {
   "cell_type": "code",
   "execution_count": 8,
   "metadata": {
    "execution": {
     "iopub.execute_input": "2024-10-22T06:43:09.650185Z",
     "iopub.status.busy": "2024-10-22T06:43:09.649719Z",
     "iopub.status.idle": "2024-10-22T06:43:09.653866Z",
     "shell.execute_reply": "2024-10-22T06:43:09.653366Z"
    }
   },
   "outputs": [
    {
     "name": "stdout",
     "output_type": "stream",
     "text": [
      "$|V_{cb}|$ = 0.0420 +/- 0.0009\n"
     ]
    }
   ],
   "source": [
    "mean = np.average(parameter_samples.samples[:,0], weights = parameter_samples.weights)\n",
    "std = np.sqrt(np.average((parameter_samples.samples[:,0]-mean)**2, weights = parameter_samples.weights))\n",
    "\n",
    "print(f'$|V_{{cb}}|$ = {mean:.4f} +/- {std:.4f}')"
   ]
  },
  {
   "cell_type": "markdown",
   "metadata": {},
   "source": [
    "We can also illustrate the correlation between $|V_{cb}|$ and any form factor parameter. Here, we use the normalization of the form factors at $q^2 = 0$ as an example. The ``data`` passed to the plotter consists of the 2d parameter samples and the corresponding sample weights.\n",
    "Contours of equal probability at the $68\\%$ and $95\\%$ levels can be generated using a KDE as follows:"
   ]
  },
  {
   "cell_type": "code",
   "execution_count": 9,
   "metadata": {
    "execution": {
     "iopub.execute_input": "2024-10-22T06:43:09.656117Z",
     "iopub.status.busy": "2024-10-22T06:43:09.655637Z",
     "iopub.status.idle": "2024-10-22T06:43:12.007741Z",
     "shell.execute_reply": "2024-10-22T06:43:12.007091Z"
    }
   },
   "outputs": [
    {
     "data": {
      "image/png": "[encoded data removed]",
      "text/plain": [
       "<Figure size 640x480 with 1 Axes>"
      ]
     },
     "metadata": {},
     "output_type": "display_data"
    }
   ],
   "source": [
    "plot_args = {\n",
    "    'plot': {\n",
    "        'x': { 'label': r'$|V_{cb}|$', 'range': [38e-3, 47e-3] },\n",
    "        'y': { 'label': r'$f_+(0)$',   'range': [0.6, 0.75] },\n",
    "    },\n",
    "    'contents': [\n",
    "        {\n",
    "            'type': 'kde2D', 'color': 'C1', 'label': 'posterior',\n",
    "            'levels': [68, 95], 'contours': ['lines','areas'], 'bandwidth':3,\n",
    "            'data': {\n",
    "                'samples': parameter_samples.samples[:, (0,1)],\n",
    "                'weights': parameter_samples.weights\n",
    "            }\n",
    "        }\n",
    "    ]\n",
    "}\n",
    "_ = eos.plot.Plotter(plot_args).plot()"
   ]
  },
  {
   "cell_type": "markdown",
   "metadata": {},
   "source": [
    "Here the `bandwidth` parameter takes the same role as in the 1D histogram."
   ]
  },
  {
   "cell_type": "markdown",
   "metadata": {},
   "source": [
    "## Aside: validating the posterior\n",
    "\n",
    "As an additional step we can visualize the resulting theory prediction (with uncertainties), as was done in the beginning of this notebook. For further details, you can consult the ``predictions.ipynb`` notebook."
   ]
  },
  {
   "cell_type": "code",
   "execution_count": 10,
   "metadata": {
    "execution": {
     "iopub.execute_input": "2024-10-22T06:43:12.010388Z",
     "iopub.status.busy": "2024-10-22T06:43:12.010024Z",
     "iopub.status.idle": "2024-10-22T06:43:13.453408Z",
     "shell.execute_reply": "2024-10-22T06:43:13.452783Z"
    }
   },
   "outputs": [
    {
     "data": {
      "application/vnd.jupyter.widget-view+json": {
       "model_id": "e395804db07b4ba3a4e6a7c5571ba636",
       "version_major": 2,
       "version_minor": 0
      },
      "text/plain": [
       "Accordion(children=(Output(layout=Layout(height='200px', overflow='auto')),), titles=('CKM/pred-B-to-D-e-nu',)…"
      ]
     },
     "metadata": {},
     "output_type": "display_data"
    }
   ],
   "source": [
    "eos.predict_observables('inference.yaml','CKM','B-to-D-e-nu', base_directory=EOS_BASE_DIRECTORY)"
   ]
  },
  {
   "cell_type": "code",
   "execution_count": 11,
   "metadata": {
    "execution": {
     "iopub.execute_input": "2024-10-22T06:43:13.456723Z",
     "iopub.status.busy": "2024-10-22T06:43:13.456536Z",
     "iopub.status.idle": "2024-10-22T06:43:13.843602Z",
     "shell.execute_reply": "2024-10-22T06:43:13.842941Z"
    }
   },
   "outputs": [
    {
     "data": {
      "image/png": "[encoded data removed]",
      "text/plain": [
       "<Figure size 640x480 with 1 Axes>"
      ]
     },
     "metadata": {},
     "output_type": "display_data"
    }
   ],
   "source": [
    "plot_args = {\n",
    "    'plot': {\n",
    "        'x': { 'label': r'$q^2$', 'unit': r'$\\textnormal{GeV}^2$', 'range': [0.0, 11.63] },\n",
    "        'y': { 'label': r'$d\\mathcal{B}/dq^2$',                    'range': [0.0,  5e-3] },\n",
    "        'legend': { 'location': 'lower left' }\n",
    "    },\n",
    "    'contents': [\n",
    "        {\n",
    "          'label': r'$\\ell=e$', 'type': 'uncertainty', 'range': [3.0e-7, 11.60],\n",
    "          'data-file': EOS_BASE_DIRECTORY+'/CKM/pred-B-to-D-e-nu',\n",
    "        },\n",
    "        {\n",
    "            'label': r'Belle 2015 $\\ell=e,\\, q=d$',\n",
    "            'type': 'constraint',\n",
    "            'color': 'C0',\n",
    "            'constraints': 'B^0->D^+e^-nu::BRs@Belle:2015A',\n",
    "            'observable': 'B->Dlnu::BR',\n",
    "            'variable': 'q2',\n",
    "            'rescale-by-width': True\n",
    "        },\n",
    "        {\n",
    "            'label': r'Belle 2015 $\\ell=\\mu,\\,q=d$',\n",
    "            'type': 'constraint',\n",
    "            'color': 'C1',\n",
    "            'constraints': 'B^0->D^+mu^-nu::BRs@Belle:2015A',\n",
    "            'observable': 'B->Dlnu::BR',\n",
    "            'variable': 'q2',\n",
    "            'rescale-by-width': True\n",
    "        },\n",
    "    ]\n",
    "}\n",
    "_ = eos.plot.Plotter(plot_args).plot()"
   ]
  },
  {
   "cell_type": "code",
   "execution_count": null,
   "metadata": {},
   "outputs": [],
   "source": []
  }
 ],
 "metadata": {
  "kernelspec": {
   "display_name": "Python 3",
   "language": "python",
   "name": "python3"
  },
  "language_info": {
   "codemirror_mode": {
    "name": "ipython",
    "version": 3
   },
   "file_extension": ".py",
   "mimetype": "text/x-python",
   "name": "python",
   "nbconvert_exporter": "python",
   "pygments_lexer": "ipython3",
   "version": "3.10.12"
  },
  "toc": {
   "base_numbering": 1,
   "nav_menu": {},
   "number_sections": true,
   "sideBar": true,
   "skip_h1_title": false,
   "title_cell": "Table of Contents",
   "title_sidebar": "Contents",
   "toc_cell": false,
   "toc_position": {},
   "toc_section_display": true,
   "toc_window_display": false
  },
  "widgets": {
   "application/vnd.jupyter.widget-state+json": {
    "state": {
     "011959c0347a4c31a2796d87ac8d420a": {
      "model_module": "@jupyter-widgets/base",
      "model_module_version": "2.0.0",
      "model_name": "LayoutModel",
      "state": {
       "_model_module": "@jupyter-widgets/base",
       "_model_module_version": "2.0.0",
       "_model_name": "LayoutModel",
       "_view_count": null,
       "_view_module": "@jupyter-widgets/base",
       "_view_module_version": "2.0.0",
       "_view_name": "LayoutView",
       "align_content": null,
       "align_items": null,
       "align_self": null,
       "border_bottom": null,
       "border_left": null,
       "border_right": null,
       "border_top": null,
       "bottom": null,
       "display": null,
       "flex": null,
       "flex_flow": null,
       "grid_area": null,
       "grid_auto_columns": null,
       "grid_auto_flow": null,
       "grid_auto_rows": null,
       "grid_column": null,
       "grid_gap": null,
       "grid_row": null,
       "grid_template_areas": null,
       "grid_template_columns": null,
       "grid_template_rows": null,
       "height": null,
       "justify_content": null,
       "justify_items": null,
       "left": null,
       "margin": null,
       "max_height": null,
       "max_width": null,
       "min_height": null,
       "min_width": null,
       "object_fit": null,
       "object_position": null,
       "order": null,
       "overflow": null,
       "padding": null,
       "right": null,
       "top": null,
       "visibility": null,
       "width": null
      }
     },
     "05e6929ed5634792a9e41efbafefd876": {
      "model_module": "@jupyter-widgets/controls",
      "model_module_version": "2.0.0",
      "model_name": "HTMLModel",
      "state": {
       "_dom_classes": [],
       "_model_module": "@jupyter-widgets/controls",
       "_model_module_version": "2.0.0",
       "_model_name": "HTMLModel",
       "_view_count": null,
       "_view_module": "@jupyter-widgets/controls",
       "_view_module_version": "2.0.0",
       "_view_name": "HTMLView",
       "description": "",
       "description_allow_html": false,
       "layout": "IPY_MODEL_7fae3662826b42ed80a7f2d0285112d4",
       "placeholder": "​",
       "style": "IPY_MODEL_277e8a087a2e459ca2d92d5bd37ffed9",
       "tabbable": null,
       "tooltip": null,
       "value": " 14523/14523 [00:01&lt;00:00, 10823.90it/s]"
      }
     },
     "087cfb166c934dd8b9f51da4743ff056": {
      "model_module": "@jupyter-widgets/output",
      "model_module_version": "1.0.0",
      "model_name": "OutputModel",
      "state": {
       "_dom_classes": [],
       "_model_module": "@jupyter-widgets/output",
       "_model_module_version": "1.0.0",
       "_model_name": "OutputModel",
       "_view_count": null,
       "_view_module": "@jupyter-widgets/output",
       "_view_module_version": "1.0.0",
       "_view_name": "OutputView",
       "layout": "IPY_MODEL_f811e59ce4c0416082c5df62634525f1",
       "msg_id": "",
       "outputs": [
        {
         "name": "stderr",
         "output_type": "stream",
         "text": "\r0it [00:00, ?it/s]\r1it [00:00,  8.90it/s, batch: 0 | bound: 0 | nc: 1 | ncall: 1 | eff(%):  0.398 | loglstar:   -inf < -13552.521 <    inf | logz: -13558.740 +/-  0.158 | dlogz:    inf >  0.500]\r116it [00:00, 646.16it/s, batch: 0 | bound: 0 | nc: 1 | ncall: 164 | eff(%): 28.019 | loglstar:   -inf < -2600.817 <    inf | logz: -2607.495 +/-  0.163 | dlogz: 2760.539 >  0.500]\r200it [00:00, 729.37it/s, batch: 0 | bound: 0 | nc: 3 | ncall: 340 | eff(%): 33.898 | loglstar:   -inf < -1376.593 <    inf | logz: -1382.794 +/-  0.151 | dlogz: 1526.630 >  0.500]\r275it [00:00, 717.99it/s, batch: 0 | bound: 0 | nc: 1 | ncall: 530 | eff(%): 35.256 | loglstar:   -inf < -772.119 <    inf | logz: -779.178 +/-  0.163 | dlogz: 966.428 >  0.500]   \r348it [00:00, 614.05it/s, batch: 0 | bound: 0 | nc: 2 | ncall: 804 | eff(%): 33.017 | loglstar:   -inf < -465.239 <    inf | logz: -472.038 +/-  0.161 | dlogz: 658.090 >  0.500]\r413it [00:00, 468.34it/s, batch: 0 | bound: 0 | nc: 30 | ncall: 1201 | eff(%): 28.463 | loglstar:   -inf < -312.309 <    inf | logz: -319.031 +/-  0.155 | dlogz: 504.264 >  0.500]\r466it [00:00, 396.27it/s, batch: 0 | bound: 0 | nc: 16 | ncall: 1567 | eff(%): 25.647 | loglstar:   -inf < -221.350 <    inf | logz: -229.312 +/-  0.174 | dlogz: 416.172 >  0.500]\r511it [00:01, 341.46it/s, batch: 0 | bound: 0 | nc: 1 | ncall: 1917 | eff(%): 23.581 | loglstar:   -inf < -135.493 <    inf | logz: -143.091 +/-  0.165 | dlogz: 328.285 >  0.500] \r550it [00:01, 290.28it/s, batch: 0 | bound: 0 | nc: 9 | ncall: 2300 | eff(%): 21.569 | loglstar:   -inf < -82.375 <    inf | logz: -90.191 +/-  0.170 | dlogz: 275.554 >  0.500]  \r583it [00:01, 259.23it/s, batch: 0 | bound: 0 | nc: 5 | ncall: 2642 | eff(%): 20.159 | loglstar:   -inf < -55.460 <    inf | logz: -62.711 +/-  0.164 | dlogz: 247.328 >  0.500]\r612it [00:01, 233.27it/s, batch: 0 | bound: 0 | nc: 2 | ncall: 2957 | eff(%): 19.083 | loglstar:   -inf < -30.112 <    inf | logz: -37.307 +/-  0.163 | dlogz: 221.612 >  0.500]\r637it [00:01, 211.58it/s, batch: 0 | bound: 0 | nc: 4 | ncall: 3267 | eff(%): 18.112 | loglstar:   -inf < -12.936 <    inf | logz: -20.010 +/-  0.158 | dlogz: 204.020 >  0.500]\r659it [00:02, 192.68it/s, batch: 0 | bound: 0 | nc: 4 | ncall: 3561 | eff(%): 17.292 | loglstar:   -inf < -3.033 <    inf | logz: -10.295 +/-  0.158 | dlogz: 194.211 >  0.500] \r679it [00:02, 180.93it/s, batch: 0 | bound: 0 | nc: 17 | ncall: 3821 | eff(%): 16.679 | loglstar:   -inf <  6.878 <    inf | logz: -0.446 +/-  0.159 | dlogz: 184.243 >  0.500]\r698it [00:02, 161.23it/s, batch: 0 | bound: 0 | nc: 5 | ncall: 4128 | eff(%): 15.943 | loglstar:   -inf < 15.369 <    inf | logz:  8.398 +/-  0.163 | dlogz: 175.272 >  0.500] \r715it [00:02, 146.66it/s, batch: 0 | bound: 0 | nc: 5 | ncall: 4422 | eff(%): 15.304 | loglstar:   -inf < 24.339 <    inf | logz: 17.256 +/-  0.160 | dlogz: 166.343 >  0.500]\r730it [00:02, 146.36it/s, batch: 0 | bound: 0 | nc: 3 | ncall: 4621 | eff(%): 14.987 | loglstar:   -inf < 35.120 <    inf | logz: 27.534 +/-  0.164 | dlogz: 156.127 >  0.500]\r745it [00:02, 127.30it/s, batch: 0 | bound: 0 | nc: 10 | ncall: 4936 | eff(%): 14.366 | loglstar:   -inf < 43.382 <    inf | logz: 35.529 +/-  0.169 | dlogz: 148.384 >  0.500]\r758it [00:02, 123.70it/s, batch: 0 | bound: 0 | nc: 12 | ncall: 5160 | eff(%): 14.011 | loglstar:   -inf < 50.619 <    inf | logz: 42.634 +/-  0.166 | dlogz: 141.008 >  0.500]\r771it [00:03, 113.44it/s, batch: 0 | bound: 0 | nc: 12 | ncall: 5438 | eff(%): 13.555 | loglstar:   -inf < 57.571 <    inf | logz: 50.116 +/-  0.164 | dlogz: 133.341 >  0.500]\r783it [00:03, 108.45it/s, batch: 0 | bound: 0 | nc: 32 | ncall: 5679 | eff(%): 13.206 | loglstar:   -inf < 61.509 <    inf | logz: 54.339 +/-  0.161 | dlogz: 129.343 >  0.500]\r794it [00:03, 101.24it/s, batch: 0 | bound: 0 | nc: 17 | ncall: 5937 | eff(%): 12.833 | loglstar:   -inf < 64.196 <    inf | logz: 57.312 +/-  0.158 | dlogz: 126.239 >  0.500]\r805it [00:03, 95.48it/s, batch: 0 | bound: 0 | nc: 26 | ncall: 6197 | eff(%): 12.486 | loglstar:   -inf < 67.541 <    inf | logz: 59.971 +/-  0.160 | dlogz: 123.702 >  0.500] \r815it [00:03, 95.53it/s, batch: 0 | bound: 0 | nc: 8 | ncall: 6401 | eff(%): 12.254 | loglstar:   -inf < 71.897 <    inf | logz: 64.135 +/-  0.165 | dlogz: 119.537 >  0.500] \r825it [00:03, 92.01it/s, batch: 0 | bound: 0 | nc: 5 | ncall: 6638 | eff(%): 11.977 | loglstar:   -inf < 76.103 <    inf | logz: 68.294 +/-  0.166 | dlogz: 115.387 >  0.500]\r835it [00:03, 88.04it/s, batch: 0 | bound: 0 | nc: 15 | ncall: 6872 | eff(%): 11.724 | loglstar:   -inf < 80.271 <    inf | logz: 72.807 +/-  0.164 | dlogz: 110.668 >  0.500]\r844it [00:03, 83.73it/s, batch: 0 | bound: 0 | nc: 1 | ncall: 7113 | eff(%): 11.463 | loglstar:   -inf < 82.586 <    inf | logz: 74.997 +/-  0.162 | dlogz: 108.455 >  0.500] \r853it [00:04, 66.75it/s, batch: 0 | bound: 0 | nc: 78 | ncall: 7520 | eff(%): 10.978 | loglstar:   -inf < 85.481 <    inf | logz: 77.944 +/-  0.164 | dlogz: 105.481 >  0.500]\r866it [00:04, 80.07it/s, batch: 0 | bound: 0 | nc: 53 | ncall: 7724 | eff(%): 10.860 | loglstar:   -inf < 88.215 <    inf | logz: 80.924 +/-  0.161 | dlogz: 102.379 >  0.500]\r875it [00:04, 66.15it/s, batch: 0 | bound: 0 | nc: 54 | ncall: 8130 | eff(%): 10.442 | loglstar:   -inf < 90.390 <    inf | logz: 82.919 +/-  0.161 | dlogz: 100.366 >  0.500]\r883it [00:04, 64.10it/s, batch: 0 | bound: 0 | nc: 52 | ncall: 8402 | eff(%): 10.206 | loglstar:   -inf < 91.891 <    inf | logz: 84.582 +/-  0.161 | dlogz: 98.640 >  0.500] \r890it [00:04, 54.21it/s, batch: 0 | bound: 1 | nc: 1 | ncall: 8643 | eff(%): 10.008 | loglstar:   -inf < 94.699 <    inf | logz: 86.768 +/-  0.166 | dlogz: 96.562 >  0.500] \r954it [00:04, 175.74it/s, batch: 0 | bound: 1 | nc: 5 | ncall: 8818 | eff(%): 10.521 | loglstar:   -inf < 113.467 <    inf | logz: 105.505 +/-  0.162 | dlogz: 77.467 >  0.500]\r1012it [00:04, 267.54it/s, batch: 0 | bound: 1 | nc: 2 | ncall: 8995 | eff(%): 10.946 | loglstar:   -inf < 124.630 <    inf | logz: 116.638 +/-  0.164 | dlogz: 66.460 >  0.500]\r1046it [00:05, 273.43it/s, batch: 0 | bound: 2 | nc: 4 | ncall: 9096 | eff(%): 11.192 | loglstar:   -inf < 130.130 <    inf | logz: 122.317 +/-  0.166 | dlogz: 60.626 >  0.500]\r1101it [00:05, 341.10it/s, batch: 0 | bound: 2 | nc: 9 | ncall: 9275 | eff(%): 11.559 | loglstar:   -inf < 138.189 <    inf | logz: 130.569 +/-  0.166 | dlogz: 54.500 >  0.500]\r1140it [00:05, 329.52it/s, batch: 0 | bound: 3 | nc: 1 | ncall: 9394 | eff(%): 11.821 | loglstar:   -inf < 143.823 <    inf | logz: 135.889 +/-  0.168 | dlogz: 49.039 >  0.500]\r1203it [00:05, 407.35it/s, batch: 0 | bound: 3 | nc: 1 | ncall: 9568 | eff(%): 12.253 | loglstar:   -inf < 150.500 <    inf | logz: 142.320 +/-  0.169 | dlogz: 44.526 >  0.500]\r1248it [00:05, 334.29it/s, batch: 0 | bound: 4 | nc: 10 | ncall: 9800 | eff(%): 12.418 | loglstar:   -inf < 154.666 <    inf | logz: 146.860 +/-  0.167 | dlogz: 39.754 >  0.500]\r1286it [00:05, 324.24it/s, batch: 0 | bound: 4 | nc: 1 | ncall: 10022 | eff(%): 12.519 | loglstar:   -inf < 157.693 <    inf | logz: 149.573 +/-  0.168 | dlogz: 36.901 >  0.500]\r1322it [00:05, 293.05it/s, batch: 0 | bound: 5 | nc: 5 | ncall: 10192 | eff(%): 12.660 | loglstar:   -inf < 159.952 <    inf | logz: 152.032 +/-  0.167 | dlogz: 34.275 >  0.500]\r1386it [00:05, 372.27it/s, batch: 0 | bound: 5 | nc: 3 | ncall: 10368 | eff(%): 13.053 | loglstar:   -inf < 165.086 <    inf | logz: 156.707 +/-  0.173 | dlogz: 30.203 >  0.500]\r1431it [00:06, 344.62it/s, batch: 0 | bound: 6 | nc: 1 | ncall: 10531 | eff(%): 13.273 | loglstar:   -inf < 167.923 <    inf | logz: 159.584 +/-  0.172 | dlogz: 27.133 >  0.500]\r1494it [00:06, 412.37it/s, batch: 0 | bound: 6 | nc: 2 | ncall: 10704 | eff(%): 13.639 | loglstar:   -inf < 171.056 <    inf | logz: 162.615 +/-  0.172 | dlogz: 23.844 >  0.500]\r1543it [00:06, 430.12it/s, batch: 0 | bound: 6 | nc: 6 | ncall: 10882 | eff(%): 13.861 | loglstar:   -inf < 174.169 <    inf | logz: 165.379 +/-  0.176 | dlogz: 20.891 >  0.500]\r1590it [00:06, 400.21it/s, batch: 0 | bound: 7 | nc: 5 | ncall: 11011 | eff(%): 14.120 | loglstar:   -inf < 176.354 <    inf | logz: 167.696 +/-  0.177 | dlogz: 18.373 >  0.500]\r1656it [00:06, 465.40it/s, batch: 0 | bound: 7 | nc: 4 | ncall: 11187 | eff(%): 14.479 | loglstar:   -inf < 178.672 <    inf | logz: 170.013 +/-  0.175 | dlogz: 16.354 >  0.500]\r1706it [00:06, 425.32it/s, batch: 0 | bound: 8 | nc: 1 | ncall: 11329 | eff(%): 14.734 | loglstar:   -inf < 180.139 <    inf | logz: 171.430 +/-  0.175 | dlogz: 14.732 >  0.500]\r1763it [00:06, 460.38it/s, batch: 0 | bound: 8 | nc: 7 | ncall: 11498 | eff(%): 15.007 | loglstar:   -inf < 181.744 <    inf | logz: 172.867 +/-  0.176 | dlogz: 13.066 >  0.500]\r1817it [00:06, 418.67it/s, batch: 0 | bound: 9 | nc: 1 | ncall: 11663 | eff(%): 15.252 | loglstar:   -inf < 182.610 <    inf | logz: 173.926 +/-  0.176 | dlogz: 11.784 >  0.500]\r1862it [00:07, 383.52it/s, batch: 0 | bound: 9 | nc: 1 | ncall: 11930 | eff(%): 15.287 | loglstar:   -inf < 183.464 <    inf | logz: 174.677 +/-  0.176 | dlogz: 11.055 >  0.500]\r1903it [00:07, 325.40it/s, batch: 0 | bound: 10 | nc: 1 | ncall: 12155 | eff(%): 15.341 | loglstar:   -inf < 184.205 <    inf | logz: 175.304 +/-  0.177 | dlogz: 10.264 >  0.500]\r1938it [00:07, 320.12it/s, batch: 0 | bound: 10 | nc: 12 | ncall: 12364 | eff(%): 15.364 | loglstar:   -inf < 184.832 <    inf | logz: 175.802 +/-  0.177 | dlogz:  9.626 >  0.500]\r1972it [00:07, 305.61it/s, batch: 0 | bound: 11 | nc: 3 | ncall: 12482 | eff(%): 15.489 | loglstar:   -inf < 185.409 <    inf | logz: 176.278 +/-  0.178 | dlogz:  9.013 >  0.500] \r2030it [00:07, 368.51it/s, batch: 0 | bound: 11 | nc: 11 | ncall: 12653 | eff(%): 15.733 | loglstar:   -inf < 186.206 <    inf | logz: 177.012 +/-  0.179 | dlogz:  8.046 >  0.500]\r2071it [00:07, 328.01it/s, batch: 0 | bound: 12 | nc: 1 | ncall: 12822 | eff(%): 15.843 | loglstar:   -inf < 186.717 <    inf | logz: 177.482 +/-  0.180 | dlogz:  7.661 >  0.500] \r2123it [00:07, 372.06it/s, batch: 0 | bound: 12 | nc: 10 | ncall: 13003 | eff(%): 16.019 | loglstar:   -inf < 187.533 <    inf | logz: 178.062 +/-  0.181 | dlogz:  7.122 >  0.500]\r2163it [00:08, 306.86it/s, batch: 0 | bound: 13 | nc: 1 | ncall: 13208 | eff(%): 16.072 | loglstar:   -inf < 188.098 <    inf | logz: 178.488 +/-  0.183 | dlogz:  6.537 >  0.500] \r2235it [00:08, 399.91it/s, batch: 0 | bound: 13 | nc: 4 | ncall: 13383 | eff(%): 16.394 | loglstar:   -inf < 188.936 <    inf | logz: 179.204 +/-  0.184 | dlogz:  5.535 >  0.500]\r2281it [00:08, 413.88it/s, batch: 0 | bound: 13 | nc: 3 | ncall: 13550 | eff(%): 16.529 | loglstar:   -inf < 189.356 <    inf | logz: 179.579 +/-  0.185 | dlogz:  4.977 >  0.500]\r2327it [00:08, 369.97it/s, batch: 0 | bound: 14 | nc: 3 | ncall: 13725 | eff(%): 16.651 | loglstar:   -inf < 189.769 <    inf | logz: 179.923 +/-  0.186 | dlogz:  4.510 >  0.500]\r2381it [00:08, 409.76it/s, batch: 0 | bound: 14 | nc: 6 | ncall: 13905 | eff(%): 16.821 | loglstar:   -inf < 190.233 <    inf | logz: 180.277 +/-  0.187 | dlogz:  3.949 >  0.500]\r2426it [00:08, 366.74it/s, batch: 0 | bound: 15 | nc: 1 | ncall: 14086 | eff(%): 16.922 | loglstar:   -inf < 190.461 <    inf | logz: 180.532 +/-  0.187 | dlogz:  3.523 >  0.500]\r2474it [00:08, 392.14it/s, batch: 0 | bound: 15 | nc: 8 | ncall: 14265 | eff(%): 17.044 | loglstar:   -inf < 190.770 <    inf | logz: 180.765 +/-  0.188 | dlogz:  3.114 >  0.500]\r2516it [00:08, 352.93it/s, batch: 0 | bound: 16 | nc: 4 | ncall: 14426 | eff(%): 17.144 | loglstar:   -inf < 191.022 <    inf | logz: 180.949 +/-  0.188 | dlogz:  2.780 >  0.500]\r2555it [00:09, 361.81it/s, batch: 0 | bound: 16 | nc: 2 | ncall: 14597 | eff(%): 17.209 | loglstar:   -inf < 191.229 <    inf | logz: 181.101 +/-  0.188 | dlogz:  2.494 >  0.500]\r2594it [00:09, 316.62it/s, batch: 0 | bound: 17 | nc: 1 | ncall: 14789 | eff(%): 17.248 | loglstar:   -inf < 191.411 <    inf | logz: 181.238 +/-  0.189 | dlogz:  2.311 >  0.500]\r2628it [00:09, 314.78it/s, batch: 0 | bound: 17 | nc: 1 | ncall: 14993 | eff(%): 17.241 | loglstar:   -inf < 191.561 <    inf | logz: 181.346 +/-  0.189 | dlogz:  2.093 >  0.500]\r2661it [00:09, 287.23it/s, batch: 0 | bound: 18 | nc: 1 | ncall: 15138 | eff(%): 17.293 | loglstar:   -inf < 191.701 <    inf | logz: 181.442 +/-  0.189 | dlogz:  1.897 >  0.500]\r2700it [00:09, 310.68it/s, batch: 0 | bound: 18 | nc: 13 | ncall: 15316 | eff(%): 17.345 | loglstar:   -inf < 191.892 <    inf | logz: 181.548 +/-  0.190 | dlogz:  1.679 >  0.500]\r2733it [00:09, 275.81it/s, batch: 0 | bound: 19 | nc: 2 | ncall: 15486 | eff(%): 17.368 | loglstar:   -inf < 192.018 <    inf | logz: 181.629 +/-  0.190 | dlogz:  1.509 >  0.500] \r2802it [00:09, 373.36it/s, batch: 0 | bound: 19 | nc: 14 | ncall: 15657 | eff(%): 17.615 | loglstar:   -inf < 192.319 <    inf | logz: 181.783 +/-  0.191 | dlogz:  1.192 >  0.500]\r2859it [00:09, 423.10it/s, batch: 0 | bound: 19 | nc: 1 | ncall: 15836 | eff(%): 17.773 | loglstar:   -inf < 192.489 <    inf | logz: 181.892 +/-  0.191 | dlogz:  1.030 >  0.500] \r2905it [00:10, 383.48it/s, batch: 0 | bound: 20 | nc: 1 | ncall: 15988 | eff(%): 17.890 | loglstar:   -inf < 192.622 <    inf | logz: 181.968 +/-  0.191 | dlogz:  0.871 >  0.500]\r2948it [00:10, 392.34it/s, batch: 0 | bound: 20 | nc: 15 | ncall: 16173 | eff(%): 17.950 | loglstar:   -inf < 192.719 <    inf | logz: 182.031 +/-  0.192 | dlogz:  0.758 >  0.500]\r2990it [00:10, 348.24it/s, batch: 0 | bound: 21 | nc: 1 | ncall: 16346 | eff(%): 18.016 | loglstar:   -inf < 192.804 <    inf | logz: 182.084 +/-  0.192 | dlogz:  0.647 >  0.500] \r3031it [00:10, 362.50it/s, batch: 0 | bound: 21 | nc: 8 | ncall: 16528 | eff(%): 18.065 | loglstar:   -inf < 192.898 <    inf | logz: 182.130 +/-  0.192 | dlogz:  0.553 >  0.500]\r3070it [00:10, 354.10it/s, batch: 0 | bound: 22 | nc: 1 | ncall: 16637 | eff(%): 18.195 | loglstar:   -inf < 192.972 <    inf | logz: 182.169 +/-  0.192 | dlogz:  0.472 >  0.500]\r3306it [00:11, 366.78it/s, batch: 1 | bound: 0 | nc: 8 | ncall: 16873 | eff(%): 19.593 | loglstar: 193.673 < 193.481 <    inf | logz: 182.463 +/-  0.344 | stop:  9.293]          \r3347it [00:11, 371.95it/s, batch: 1 | bound: 2 | nc: 8 | ncall: 17050 | eff(%): 18.620 | loglstar: 193.673 < 193.020 <    inf | logz: 182.463 +/-  0.344 | stop:  9.293]\r3385it [00:11, 370.03it/s, batch: 1 | bound: 2 | nc: 8 | ncall: 17244 | eff(%): 18.631 | loglstar: 193.673 < 193.092 <    inf | logz: 182.463 +/-  0.344 | stop:  9.293]\r3423it [00:11, 363.72it/s, batch: 1 | bound: 3 | nc: 4 | ncall: 17331 | eff(%): 18.750 | loglstar: 193.673 < 193.171 <    inf | logz: 182.463 +/-  0.344 | stop:  9.293]\r3485it [00:11, 416.58it/s, batch: 1 | bound: 3 | nc: 5 | ncall: 17506 | eff(%): 18.908 | loglstar: 193.673 < 193.276 <    inf | logz: 182.463 +/-  0.344 | stop:  9.293]\r3530it [00:11, 371.84it/s, batch: 1 | bound: 4 | nc: 7 | ncall: 17680 | eff(%): 18.973 | loglstar: 193.673 < 193.330 <    inf | logz: 182.463 +/-  0.344 | stop:  9.293]\r3590it [00:11, 420.82it/s, batch: 1 | bound: 4 | nc: 9 | ncall: 17855 | eff(%): 19.116 | loglstar: 193.673 < 193.387 <    inf | logz: 182.463 +/-  0.344 | stop:  9.293]\r3636it [00:12, 374.51it/s, batch: 1 | bound: 5 | nc: 12 | ncall: 18036 | eff(%): 19.176 | loglstar: 193.673 < 193.432 <    inf | logz: 182.463 +/-  0.344 | stop:  9.293]\r3677it [00:12, 379.20it/s, batch: 1 | bound: 5 | nc: 1 | ncall: 18226 | eff(%): 19.200 | loglstar: 193.673 < 193.489 <    inf | logz: 182.463 +/-  0.344 | stop:  9.293] \r3717it [00:12, 322.79it/s, batch: 1 | bound: 6 | nc: 9 | ncall: 18441 | eff(%): 19.193 | loglstar: 193.673 < 193.528 <    inf | logz: 182.463 +/-  0.344 | stop:  9.293]\r3752it [00:12, 310.79it/s, batch: 1 | bound: 6 | nc: 1 | ncall: 18675 | eff(%): 19.143 | loglstar: 193.673 < 193.557 <    inf | logz: 182.463 +/-  0.344 | stop:  9.293]\r3785it [00:12, 292.18it/s, batch: 1 | bound: 7 | nc: 1 | ncall: 18812 | eff(%): 19.177 | loglstar: 193.673 < 193.583 <    inf | logz: 182.463 +/-  0.344 | stop:  9.293]\r3846it [00:12, 367.43it/s, batch: 1 | bound: 7 | nc: 2 | ncall: 18985 | eff(%): 19.317 | loglstar: 193.673 < 193.628 <    inf | logz: 182.463 +/-  0.344 | stop:  9.293]\r3886it [00:12, 324.37it/s, batch: 1 | bound: 8 | nc: 6 | ncall: 19170 | eff(%): 19.338 | loglstar: 193.673 < 193.649 <    inf | logz: 182.463 +/-  0.344 | stop:  9.293]\r3940it [00:12, 375.39it/s, batch: 1 | bound: 8 | nc: 2 | ncall: 19347 | eff(%): 19.436 | loglstar: 193.673 < 193.683 <    inf | logz: 182.463 +/-  0.344 | stop:  9.293]\r3988it [00:13, 349.80it/s, batch: 1 | bound: 9 | nc: 1 | ncall: 19518 | eff(%): 19.508 | loglstar: 193.673 < 193.708 <    inf | logz: 182.463 +/-  0.344 | stop:  9.293]\r4047it [00:13, 407.17it/s, batch: 1 | bound: 9 | nc: 12 | ncall: 19689 | eff(%): 19.632 | loglstar: 193.673 < 193.741 <    inf | logz: 182.463 +/-  0.344 | stop:  9.293]\r4091it [00:13, 406.67it/s, batch: 1 | bound: 9 | nc: 2 | ncall: 19889 | eff(%): 19.655 | loglstar: 193.673 < 193.759 <    inf | logz: 182.463 +/-  0.344 | stop:  9.293] \r4134it [00:13, 386.10it/s, batch: 1 | bound: 10 | nc: 1 | ncall: 20010 | eff(%): 19.747 | loglstar: 193.673 < 193.775 <    inf | logz: 182.463 +/-  0.344 | stop:  9.293]\r4189it [00:13, 427.86it/s, batch: 1 | bound: 10 | nc: 5 | ncall: 20184 | eff(%): 19.845 | loglstar: 193.673 < 193.794 <    inf | logz: 182.463 +/-  0.344 | stop:  9.293]\r4234it [00:13, 385.68it/s, batch: 1 | bound: 11 | nc: 1 | ncall: 20325 | eff(%): 19.925 | loglstar: 193.673 < 193.812 <    inf | logz: 182.463 +/-  0.344 | stop:  9.293]\r4297it [00:13, 447.86it/s, batch: 1 | bound: 11 | nc: 1 | ncall: 20497 | eff(%): 20.059 | loglstar: 193.673 < 193.836 <    inf | logz: 182.463 +/-  0.344 | stop:  9.293]\r4345it [00:13, 399.51it/s, batch: 1 | bound: 12 | nc: 2 | ncall: 20660 | eff(%): 20.130 | loglstar: 193.673 < 193.850 <    inf | logz: 182.463 +/-  0.344 | stop:  9.293]\r4428it [00:14, 507.08it/s, batch: 1 | bound: 12 | nc: 6 | ncall: 20828 | eff(%): 20.356 | loglstar: 193.673 < 193.874 <    inf | logz: 182.463 +/-  0.344 | stop:  9.293]\r4491it [00:14, 536.24it/s, batch: 1 | bound: 12 | nc: 6 | ncall: 21011 | eff(%): 20.473 | loglstar: 193.673 < 193.891 <    inf | logz: 182.463 +/-  0.344 | stop:  9.293]\r4548it [00:14, 498.48it/s, batch: 1 | bound: 13 | nc: 1 | ncall: 21138 | eff(%): 20.614 | loglstar: 193.673 < 193.904 <    inf | logz: 182.463 +/-  0.344 | stop:  9.293]\r4616it [00:14, 544.11it/s, batch: 1 | bound: 13 | nc: 3 | ncall: 21312 | eff(%): 20.758 | loglstar: 193.673 < 193.917 <    inf | logz: 182.463 +/-  0.344 | stop:  9.293]\r4887it [00:14, 515.31it/s, batch: 2 | bound: 0 | nc: 1 | ncall: 22319 | eff(%): 21.896 | loglstar: 190.713 < 192.641 < 192.752 | logz: 182.461 +/-  0.188 | stop:  6.988]\r4942it [00:15, 490.32it/s, batch: 2 | bound: 2 | nc: 1 | ncall: 22570 | eff(%): 21.340 | loglstar: 190.713 < 191.008 < 192.752 | logz: 182.461 +/-  0.188 | stop:  6.988]\r4993it [00:15, 440.32it/s, batch: 2 | bound: 3 | nc: 1 | ncall: 22766 | eff(%): 21.380 | loglstar: 190.713 < 191.245 < 192.752 | logz: 182.461 +/-  0.188 | stop:  6.988]\r5042it [00:15, 440.42it/s, batch: 2 | bound: 3 | nc: 24 | ncall: 22961 | eff(%): 21.411 | loglstar: 190.713 < 191.489 < 192.752 | logz: 182.461 +/-  0.188 | stop:  6.988]\r5086it [00:15, 389.92it/s, batch: 2 | bound: 4 | nc: 5 | ncall: 23150 | eff(%): 21.426 | loglstar: 190.713 < 191.691 < 192.752 | logz: 182.461 +/-  0.188 | stop:  6.988] \r5144it [00:15, 425.45it/s, batch: 2 | bound: 4 | nc: 11 | ncall: 23334 | eff(%): 21.503 | loglstar: 190.713 < 191.899 < 192.752 | logz: 182.461 +/-  0.188 | stop:  6.988]\r5189it [00:15, 384.65it/s, batch: 2 | bound: 5 | nc: 5 | ncall: 23499 | eff(%): 21.543 | loglstar: 190.713 < 192.074 < 192.752 | logz: 182.461 +/-  0.188 | stop:  6.988] \r5233it [00:15, 396.73it/s, batch: 2 | bound: 5 | nc: 2 | ncall: 23673 | eff(%): 21.570 | loglstar: 190.713 < 192.265 < 192.752 | logz: 182.461 +/-  0.188 | stop:  6.988]\r5274it [00:16, 346.94it/s, batch: 2 | bound: 6 | nc: 1 | ncall: 23856 | eff(%): 21.576 | loglstar: 190.713 < 192.376 < 192.752 | logz: 182.461 +/-  0.188 | stop:  6.988]\r5327it [00:16, 388.66it/s, batch: 2 | bound: 6 | nc: 2 | ncall: 24033 | eff(%): 21.636 | loglstar: 190.713 < 192.541 < 192.752 | logz: 182.461 +/-  0.188 | stop:  6.988]\r5369it [00:16, 338.31it/s, batch: 2 | bound: 7 | nc: 14 | ncall: 24229 | eff(%): 21.634 | loglstar: 190.713 < 192.654 < 192.752 | logz: 182.461 +/-  0.188 | stop:  6.988]\r5407it [00:16, 347.43it/s, batch: 2 | bound: 7 | nc: 1 | ncall: 24412 | eff(%): 21.628 | loglstar: 190.713 < 192.720 < 192.752 | logz: 182.461 +/-  0.188 | stop:  6.988] \r5670it [00:17, 365.91it/s, batch: 3 | bound: 0 | nc: 5 | ncall: 25039 | eff(%): 22.645 | loglstar: 190.039 < 191.010 < 190.724 | logz: 182.437 +/-  0.153 | stop:  4.210]\r5709it [00:17, 366.59it/s, batch: 3 | bound: 2 | nc: 12 | ncall: 25222 | eff(%): 21.820 | loglstar: 190.039 < 190.283 < 190.724 | logz: 182.437 +/-  0.153 | stop:  4.210]\r5748it [00:17, 366.71it/s, batch: 3 | bound: 2 | nc: 15 | ncall: 25415 | eff(%): 21.808 | loglstar: 190.039 < 190.529 < 190.724 | logz: 182.437 +/-  0.153 | stop:  4.210]\r5785it [00:17, 357.21it/s, batch: 3 | bound: 3 | nc: 2 | ncall: 25505 | eff(%): 21.874 | loglstar: 190.039 < 190.705 < 190.724 | logz: 182.437 +/-  0.153 | stop:  4.210] \r6041it [00:17, 461.73it/s, batch: 4 | bound: 0 | nc: 3 | ncall: 26463 | eff(%): 22.828 | loglstar: 189.503 < 189.725 < 190.040 | logz: 182.403 +/-  0.144 | stop:  3.493]\r6091it [00:17, 466.23it/s, batch: 4 | bound: 2 | nc: 6 | ncall: 26635 | eff(%): 22.459 | loglstar: 189.503 < 189.877 < 190.040 | logz: 182.403 +/-  0.144 | stop:  3.493]\r6367it [00:18, 453.76it/s, batch: 5 | bound: 0 | nc: 4 | ncall: 27241 | eff(%): 23.373 | loglstar: 189.076 < 189.970 < 189.511 | logz: 182.406 +/-  0.137 | stop:  3.080]\r6411it [00:18, 450.62it/s, batch: 5 | bound: 2 | nc: 3 | ncall: 27416 | eff(%): 22.810 | loglstar: 189.076 < 189.394 < 189.511 | logz: 182.406 +/-  0.137 | stop:  3.080]\r6673it [00:19, 456.40it/s, batch: 6 | bound: 0 | nc: 8 | ncall: 28151 | eff(%): 23.704 | loglstar: 188.544 < 188.643 < 192.706 | logz: 182.397 +/-  0.133 | stop:  2.828]\r6718it [00:19, 451.81it/s, batch: 6 | bound: 2 | nc: 2 | ncall: 28337 | eff(%): 23.174 | loglstar: 188.544 < 188.894 < 192.706 | logz: 182.397 +/-  0.133 | stop:  2.828]\r6763it [00:19, 447.51it/s, batch: 6 | bound: 2 | nc: 15 | ncall: 28524 | eff(%): 23.180 | loglstar: 188.544 < 189.377 < 192.706 | logz: 182.397 +/-  0.133 | stop:  2.828]\r6807it [00:19, 408.74it/s, batch: 6 | bound: 3 | nc: 4 | ncall: 28704 | eff(%): 23.188 | loglstar: 188.544 < 189.752 < 192.706 | logz: 182.397 +/-  0.133 | stop:  2.828] \r6846it [00:19, 404.20it/s, batch: 6 | bound: 3 | nc: 5 | ncall: 28879 | eff(%): 23.182 | loglstar: 188.544 < 189.989 < 192.706 | logz: 182.397 +/-  0.133 | stop:  2.828]\r6885it [00:19, 368.99it/s, batch: 6 | bound: 4 | nc: 4 | ncall: 29030 | eff(%): 23.196 | loglstar: 188.544 < 190.314 < 192.706 | logz: 182.397 +/-  0.133 | stop:  2.828]\r6936it [00:19, 394.17it/s, batch: 6 | bound: 4 | nc: 11 | ncall: 29214 | eff(%): 23.224 | loglstar: 188.544 < 190.630 < 192.706 | logz: 182.397 +/-  0.133 | stop:  2.828]\r6976it [00:20, 344.90it/s, batch: 6 | bound: 5 | nc: 5 | ncall: 29403 | eff(%): 23.211 | loglstar: 188.544 < 190.829 < 192.706 | logz: 182.397 +/-  0.133 | stop:  2.828] \r7011it [00:20, 345.85it/s, batch: 6 | bound: 5 | nc: 7 | ncall: 29586 | eff(%): 23.186 | loglstar: 188.544 < 191.026 < 192.706 | logz: 182.397 +/-  0.133 | stop:  2.828]\r7046it [00:20, 310.31it/s, batch: 6 | bound: 6 | nc: 2 | ncall: 29743 | eff(%): 23.181 | loglstar: 188.544 < 191.211 < 192.706 | logz: 182.397 +/-  0.133 | stop:  2.828]\r7088it [00:20, 335.40it/s, batch: 6 | bound: 6 | nc: 3 | ncall: 29920 | eff(%): 23.185 | loglstar: 188.544 < 191.445 < 192.706 | logz: 182.397 +/-  0.133 | stop:  2.828]\r7123it [00:20, 290.82it/s, batch: 6 | bound: 7 | nc: 4 | ncall: 30098 | eff(%): 23.164 | loglstar: 188.544 < 191.651 < 192.706 | logz: 182.397 +/-  0.133 | stop:  2.828]\r7158it [00:20, 302.09it/s, batch: 6 | bound: 7 | nc: 15 | ncall: 30282 | eff(%): 23.140 | loglstar: 188.544 < 191.813 < 192.706 | logz: 182.397 +/-  0.133 | stop:  2.828]\r7190it [00:20, 261.33it/s, batch: 6 | bound: 8 | nc: 2 | ncall: 30469 | eff(%): 23.103 | loglstar: 188.544 < 191.953 < 192.706 | logz: 182.397 +/-  0.133 | stop:  2.828] \r7234it [00:21, 299.49it/s, batch: 6 | bound: 8 | nc: 10 | ncall: 30657 | eff(%): 23.105 | loglstar: 188.544 < 192.118 < 192.706 | logz: 182.397 +/-  0.133 | stop:  2.828]\r7266it [00:21, 276.95it/s, batch: 6 | bound: 9 | nc: 4 | ncall: 30798 | eff(%): 23.103 | loglstar: 188.544 < 192.242 < 192.706 | logz: 182.397 +/-  0.133 | stop:  2.828] \r7315it [00:21, 327.99it/s, batch: 6 | bound: 9 | nc: 3 | ncall: 30974 | eff(%): 23.130 | loglstar: 188.544 < 192.381 < 192.706 | logz: 182.397 +/-  0.133 | stop:  2.828]\r7371it [00:21, 383.18it/s, batch: 6 | bound: 9 | nc: 8 | ncall: 31159 | eff(%): 23.171 | loglstar: 188.544 < 192.525 < 192.706 | logz: 182.397 +/-  0.133 | stop:  2.828]\r7412it [00:21, 354.76it/s, batch: 6 | bound: 10 | nc: 3 | ncall: 31301 | eff(%): 23.197 | loglstar: 188.544 < 192.619 < 192.706 | logz: 182.397 +/-  0.133 | stop:  2.828]\r7695it [00:21, 991.00it/s, batch: 6 | bound: 10 | nc: 1 | ncall: 31681 | eff(%): 23.978 | loglstar: 188.544 < 193.653 < 192.706 | logz: 182.397 +/-  0.133 | stop:  2.828]\r7806it [00:22, 379.06it/s, batch: 7 | bound: 2 | nc: 5 | ncall: 32438 | eff(%): 23.592 | loglstar: 188.135 < 189.187 < 192.345 | logz: 182.397 +/-  0.119 | stop:  2.147] \r7889it [00:22, 317.81it/s, batch: 7 | bound: 4 | nc: 1 | ncall: 32950 | eff(%): 23.480 | loglstar: 188.135 < 189.921 < 192.345 | logz: 182.397 +/-  0.119 | stop:  2.147]\r7953it [00:22, 331.22it/s, batch: 7 | bound: 4 | nc: 10 | ncall: 33230 | eff(%): 23.475 | loglstar: 188.135 < 190.382 < 192.345 | logz: 182.397 +/-  0.119 | stop:  2.147]\r8010it [00:23, 337.96it/s, batch: 7 | bound: 5 | nc: 8 | ncall: 33400 | eff(%): 23.525 | loglstar: 188.135 < 190.748 < 192.345 | logz: 182.397 +/-  0.119 | stop:  2.147] \r8065it [00:23, 369.33it/s, batch: 7 | bound: 5 | nc: 9 | ncall: 33579 | eff(%): 23.563 | loglstar: 188.135 < 191.103 < 192.345 | logz: 182.397 +/-  0.119 | stop:  2.147]\r8117it [00:23, 351.23it/s, batch: 7 | bound: 6 | nc: 3 | ncall: 33781 | eff(%): 23.575 | loglstar: 188.135 < 191.296 < 192.345 | logz: 182.397 +/-  0.119 | stop:  2.147]\r8165it [00:23, 374.05it/s, batch: 7 | bound: 6 | nc: 2 | ncall: 33962 | eff(%): 23.591 | loglstar: 188.135 < 191.525 < 192.345 | logz: 182.397 +/-  0.119 | stop:  2.147]\r8211it [00:23, 341.83it/s, batch: 7 | bound: 7 | nc: 6 | ncall: 34160 | eff(%): 23.589 | loglstar: 188.135 < 191.709 < 192.345 | logz: 182.397 +/-  0.119 | stop:  2.147]\r8252it [00:23, 342.83it/s, batch: 7 | bound: 7 | nc: 5 | ncall: 34362 | eff(%): 23.570 | loglstar: 188.135 < 191.887 < 192.345 | logz: 182.397 +/-  0.119 | stop:  2.147]\r8291it [00:23, 335.32it/s, batch: 7 | bound: 8 | nc: 4 | ncall: 34478 | eff(%): 23.603 | loglstar: 188.135 < 192.033 < 192.345 | logz: 182.397 +/-  0.119 | stop:  2.147]\r8336it [00:23, 361.40it/s, batch: 7 | bound: 8 | nc: 1 | ncall: 34648 | eff(%): 23.617 | loglstar: 188.135 < 192.181 < 192.345 | logz: 182.397 +/-  0.119 | stop:  2.147]\r8375it [00:24, 337.09it/s, batch: 7 | bound: 9 | nc: 2 | ncall: 34786 | eff(%): 23.635 | loglstar: 188.135 < 192.281 < 192.345 | logz: 182.397 +/-  0.119 | stop:  2.147]\r8646it [00:24, 378.72it/s, batch: 8 | bound: 0 | nc: 5 | ncall: 35480 | eff(%): 24.369 | loglstar: 187.656 < 190.059 < 188.136 | logz: 182.394 +/-  0.111 | stop:  1.771]\r8939it [00:25, 432.57it/s, batch: 9 | bound: 0 | nc: 1 | ncall: 36442 | eff(%): 24.529 | loglstar: 187.129 < 191.907 < 192.943 | logz: 182.384 +/-  0.110 | stop:  1.717]\r8994it [00:25, 443.62it/s, batch: 9 | bound: 2 | nc: 5 | ncall: 36603 | eff(%): 24.213 | loglstar: 187.129 < 187.824 < 192.943 | logz: 182.384 +/-  0.110 | stop:  1.717]\r9051it [00:25, 459.41it/s, batch: 9 | bound: 2 | nc: 1 | ncall: 36778 | eff(%): 24.252 | loglstar: 187.129 < 188.502 < 192.943 | logz: 182.384 +/-  0.110 | stop:  1.717]\r9100it [00:25, 423.35it/s, batch: 9 | bound: 3 | nc: 1 | ncall: 36960 | eff(%): 24.265 | loglstar: 187.129 < 189.051 < 192.943 | logz: 182.384 +/-  0.110 | stop:  1.717]\r9143it [00:25, 412.73it/s, batch: 9 | bound: 3 | nc: 37 | ncall: 37166 | eff(%): 24.246 | loglstar: 187.129 < 189.408 < 192.943 | logz: 182.384 +/-  0.110 | stop:  1.717]\r9185it [00:25, 387.09it/s, batch: 9 | bound: 4 | nc: 3 | ncall: 37287 | eff(%): 24.280 | loglstar: 187.129 < 189.783 < 192.943 | logz: 182.384 +/-  0.110 | stop:  1.717] \r9235it [00:26, 407.58it/s, batch: 9 | bound: 4 | nc: 8 | ncall: 37468 | eff(%): 24.296 | loglstar: 187.129 < 190.283 < 192.943 | logz: 182.384 +/-  0.110 | stop:  1.717]\r9277it [00:26, 369.82it/s, batch: 9 | bound: 5 | nc: 3 | ncall: 37626 | eff(%): 24.305 | loglstar: 187.129 < 190.598 < 192.943 | logz: 182.384 +/-  0.110 | stop:  1.717]\r9315it [00:26, 355.79it/s, batch: 9 | bound: 5 | nc: 11 | ncall: 37848 | eff(%): 24.263 | loglstar: 187.129 < 190.867 < 192.943 | logz: 182.384 +/-  0.110 | stop:  1.717]\r9351it [00:26, 302.83it/s, batch: 9 | bound: 6 | nc: 6 | ncall: 38049 | eff(%): 24.230 | loglstar: 187.129 < 191.092 < 192.943 | logz: 182.384 +/-  0.110 | stop:  1.717] \r9382it [00:26, 304.07it/s, batch: 9 | bound: 6 | nc: 2 | ncall: 38235 | eff(%): 24.194 | loglstar: 187.129 < 191.261 < 192.943 | logz: 182.384 +/-  0.110 | stop:  1.717]\r9413it [00:26, 284.23it/s, batch: 9 | bound: 7 | nc: 3 | ncall: 38351 | eff(%): 24.202 | loglstar: 187.129 < 191.391 < 192.943 | logz: 182.384 +/-  0.110 | stop:  1.717]\r9479it [00:26, 374.52it/s, batch: 9 | bound: 7 | nc: 4 | ncall: 38517 | eff(%): 24.268 | loglstar: 187.129 < 191.657 < 192.943 | logz: 182.384 +/-  0.110 | stop:  1.717]\r9533it [00:26, 414.72it/s, batch: 9 | bound: 7 | nc: 3 | ncall: 38688 | eff(%): 24.300 | loglstar: 187.129 < 191.926 < 192.943 | logz: 182.384 +/-  0.110 | stop:  1.717]\r9577it [00:27, 355.75it/s, batch: 9 | bound: 8 | nc: 5 | ncall: 38880 | eff(%): 24.293 | loglstar: 187.129 < 192.129 < 192.943 | logz: 182.384 +/-  0.110 | stop:  1.717]\r9617it [00:27, 365.14it/s, batch: 9 | bound: 8 | nc: 5 | ncall: 39061 | eff(%): 24.283 | loglstar: 187.129 < 192.244 < 192.943 | logz: 182.384 +/-  0.110 | stop:  1.717]\r9656it [00:27, 311.98it/s, batch: 9 | bound: 9 | nc: 11 | ncall: 39270 | eff(%): 24.253 | loglstar: 187.129 < 192.377 < 192.943 | logz: 182.384 +/-  0.110 | stop:  1.717]\r9695it [00:27, 328.90it/s, batch: 9 | bound: 9 | nc: 9 | ncall: 39456 | eff(%): 24.238 | loglstar: 187.129 < 192.515 < 192.943 | logz: 182.384 +/-  0.110 | stop:  1.717] \r9731it [00:27, 317.56it/s, batch: 9 | bound: 10 | nc: 2 | ncall: 39570 | eff(%): 24.259 | loglstar: 187.129 < 192.608 < 192.943 | logz: 182.384 +/-  0.110 | stop:  1.717]\r9780it [00:27, 358.87it/s, batch: 9 | bound: 10 | nc: 14 | ncall: 39751 | eff(%): 24.272 | loglstar: 187.129 < 192.734 < 192.943 | logz: 182.384 +/-  0.110 | stop:  1.717]\r9818it [00:27, 325.39it/s, batch: 9 | bound: 11 | nc: 1 | ncall: 39899 | eff(%): 24.277 | loglstar: 187.129 < 192.813 < 192.943 | logz: 182.384 +/-  0.110 | stop:  1.717] \r9853it [00:27, 330.84it/s, batch: 9 | bound: 11 | nc: 10 | ncall: 40070 | eff(%): 24.261 | loglstar: 187.129 < 192.896 < 192.943 | logz: 182.384 +/-  0.110 | stop:  1.717]\r10124it [00:28, 406.84it/s, batch: 10 | bound: 0 | nc: 2 | ncall: 40710 | eff(%): 24.869 | loglstar: 186.473 < 186.807 < 193.383 | logz: 182.397 +/-  0.102 | stop:  1.436]\r10164it [00:28, 400.64it/s, batch: 10 | bound: 2 | nc: 21 | ncall: 40890 | eff(%): 24.500 | loglstar: 186.473 < 186.984 < 193.383 | logz: 182.397 +/-  0.102 | stop:  1.436]\r10202it [00:28, 356.31it/s, batch: 10 | bound: 3 | nc: 2 | ncall: 41088 | eff(%): 24.475 | loglstar: 186.473 < 187.473 < 193.383 | logz: 182.397 +/-  0.102 | stop:  1.436] \r10271it [00:28, 413.15it/s, batch: 10 | bound: 3 | nc: 6 | ncall: 41255 | eff(%): 24.542 | loglstar: 186.473 < 188.239 < 193.383 | logz: 182.397 +/-  0.102 | stop:  1.436]\r10331it [00:29, 449.73it/s, batch: 10 | bound: 3 | nc: 2 | ncall: 41432 | eff(%): 24.581 | loglstar: 186.473 < 188.828 < 193.383 | logz: 182.397 +/-  0.102 | stop:  1.436]\r10380it [00:29, 402.27it/s, batch: 10 | bound: 4 | nc: 9 | ncall: 41618 | eff(%): 24.589 | loglstar: 186.473 < 189.226 < 193.383 | logz: 182.397 +/-  0.102 | stop:  1.436]\r10423it [00:29, 403.03it/s, batch: 10 | bound: 4 | nc: 1 | ncall: 41804 | eff(%): 24.583 | loglstar: 186.473 < 189.546 < 193.383 | logz: 182.397 +/-  0.102 | stop:  1.436]\r10466it [00:29, 380.92it/s, batch: 10 | bound: 5 | nc: 2 | ncall: 41930 | eff(%): 24.611 | loglstar: 186.473 < 189.827 < 193.383 | logz: 182.397 +/-  0.102 | stop:  1.436]\r10514it [00:29, 402.66it/s, batch: 10 | bound: 5 | nc: 9 | ncall: 42105 | eff(%): 24.622 | loglstar: 186.473 < 190.172 < 193.383 | logz: 182.397 +/-  0.102 | stop:  1.436]\r10556it [00:29, 363.21it/s, batch: 10 | bound: 6 | nc: 3 | ncall: 42259 | eff(%): 24.632 | loglstar: 186.473 < 190.518 < 193.383 | logz: 182.397 +/-  0.102 | stop:  1.436]\r10602it [00:29, 384.45it/s, batch: 10 | bound: 6 | nc: 9 | ncall: 42444 | eff(%): 24.633 | loglstar: 186.473 < 190.764 < 193.383 | logz: 182.397 +/-  0.102 | stop:  1.436]\r10642it [00:30, 312.49it/s, batch: 10 | bound: 7 | nc: 1 | ncall: 42687 | eff(%): 24.587 | loglstar: 186.473 < 190.980 < 193.383 | logz: 182.397 +/-  0.102 | stop:  1.436]\r10677it [00:30, 304.97it/s, batch: 10 | bound: 7 | nc: 20 | ncall: 42912 | eff(%): 24.540 | loglstar: 186.473 < 191.151 < 193.383 | logz: 182.397 +/-  0.102 | stop:  1.436]\r10710it [00:30, 283.66it/s, batch: 10 | bound: 8 | nc: 10 | ncall: 43041 | eff(%): 24.543 | loglstar: 186.473 < 191.328 < 193.383 | logz: 182.397 +/-  0.102 | stop:  1.436]\r10759it [00:30, 331.39it/s, batch: 10 | bound: 8 | nc: 3 | ncall: 43220 | eff(%): 24.555 | loglstar: 186.473 < 191.560 < 193.383 | logz: 182.397 +/-  0.102 | stop:  1.436] \r10795it [00:30, 305.03it/s, batch: 10 | bound: 9 | nc: 4 | ncall: 43372 | eff(%): 24.552 | loglstar: 186.473 < 191.709 < 193.383 | logz: 182.397 +/-  0.102 | stop:  1.436]\r10844it [00:30, 347.81it/s, batch: 10 | bound: 9 | nc: 10 | ncall: 43554 | eff(%): 24.562 | loglstar: 186.473 < 191.864 < 193.383 | logz: 182.397 +/-  0.102 | stop:  1.436]\r10892it [00:30, 381.19it/s, batch: 10 | bound: 9 | nc: 2 | ncall: 43719 | eff(%): 24.579 | loglstar: 186.473 < 192.029 < 193.383 | logz: 182.397 +/-  0.102 | stop:  1.436] \r10933it [00:30, 325.62it/s, batch: 10 | bound: 10 | nc: 3 | ncall: 43922 | eff(%): 24.559 | loglstar: 186.473 < 192.237 < 193.383 | logz: 182.397 +/-  0.102 | stop:  1.436]\r10985it [00:31, 372.40it/s, batch: 10 | bound: 10 | nc: 2 | ncall: 44087 | eff(%): 24.584 | loglstar: 186.473 < 192.378 < 193.383 | logz: 182.397 +/-  0.102 | stop:  1.436]\r11026it [00:31, 326.64it/s, batch: 10 | bound: 11 | nc: 4 | ncall: 44273 | eff(%): 24.574 | loglstar: 186.473 < 192.473 < 193.383 | logz: 182.397 +/-  0.102 | stop:  1.436]\r11063it [00:31, 333.97it/s, batch: 10 | bound: 11 | nc: 8 | ncall: 44459 | eff(%): 24.554 | loglstar: 186.473 < 192.592 < 193.383 | logz: 182.397 +/-  0.102 | stop:  1.436]\r11099it [00:31, 295.68it/s, batch: 10 | bound: 12 | nc: 8 | ncall: 44634 | eff(%): 24.539 | loglstar: 186.473 < 192.669 < 193.383 | logz: 182.397 +/-  0.102 | stop:  1.436]\r11138it [00:31, 317.85it/s, batch: 10 | bound: 12 | nc: 4 | ncall: 44802 | eff(%): 24.534 | loglstar: 186.473 < 192.758 < 193.383 | logz: 182.397 +/-  0.102 | stop:  1.436]\r11172it [00:31, 292.77it/s, batch: 10 | bound: 13 | nc: 3 | ncall: 44941 | eff(%): 24.534 | loglstar: 186.473 < 192.824 < 193.383 | logz: 182.397 +/-  0.102 | stop:  1.436]\r11215it [00:31, 326.63it/s, batch: 10 | bound: 13 | nc: 1 | ncall: 45118 | eff(%): 24.533 | loglstar: 186.473 < 192.911 < 193.383 | logz: 182.397 +/-  0.102 | stop:  1.436]\r11252it [00:31, 301.94it/s, batch: 10 | bound: 14 | nc: 3 | ncall: 45270 | eff(%): 24.532 | loglstar: 186.473 < 192.985 < 193.383 | logz: 182.397 +/-  0.102 | stop:  1.436]\r11310it [00:32, 371.22it/s, batch: 10 | bound: 14 | nc: 4 | ncall: 45435 | eff(%): 24.570 | loglstar: 186.473 < 193.073 < 193.383 | logz: 182.397 +/-  0.102 | stop:  1.436]\r11361it [00:32, 403.62it/s, batch: 10 | bound: 14 | nc: 16 | ncall: 45620 | eff(%): 24.582 | loglstar: 186.473 < 193.145 < 193.383 | logz: 182.397 +/-  0.102 | stop:  1.436]\r11404it [00:32, 363.23it/s, batch: 10 | bound: 15 | nc: 1 | ncall: 45771 | eff(%): 24.595 | loglstar: 186.473 < 193.213 < 193.383 | logz: 182.397 +/-  0.102 | stop:  1.436] \r11444it [00:32, 369.71it/s, batch: 10 | bound: 15 | nc: 6 | ncall: 45951 | eff(%): 24.586 | loglstar: 186.473 < 193.278 < 193.383 | logz: 182.397 +/-  0.102 | stop:  1.436]\r11483it [00:32, 341.63it/s, batch: 10 | bound: 16 | nc: 2 | ncall: 46080 | eff(%): 24.602 | loglstar: 186.473 < 193.322 < 193.383 | logz: 182.397 +/-  0.102 | stop:  1.436]\r11778it [00:33, 434.93it/s, batch: 11 | bound: 0 | nc: 2 | ncall: 46777 | eff(%): 25.179 | loglstar: 185.783 < 186.073 < 192.942 | logz: 182.359 +/-  0.093 | stop:  1.182] \r11818it [00:33, 426.88it/s, batch: 11 | bound: 2 | nc: 3 | ncall: 46947 | eff(%): 24.876 | loglstar: 185.783 < 186.391 < 192.942 | logz: 182.359 +/-  0.093 | stop:  1.182]\r11862it [00:33, 428.78it/s, batch: 11 | bound: 2 | nc: 2 | ncall: 47126 | eff(%): 24.875 | loglstar: 185.783 < 187.003 < 192.942 | logz: 182.359 +/-  0.093 | stop:  1.182]\r11903it [00:33, 362.45it/s, batch: 11 | bound: 3 | nc: 2 | ncall: 47365 | eff(%): 24.837 | loglstar: 185.783 < 187.574 < 192.942 | logz: 182.359 +/-  0.093 | stop:  1.182]\r11938it [00:33, 315.84it/s, batch: 11 | bound: 4 | nc: 11 | ncall: 47570 | eff(%): 24.804 | loglstar: 185.783 < 188.011 < 192.942 | logz: 182.359 +/-  0.093 | stop:  1.182]\r11997it [00:33, 366.48it/s, batch: 11 | bound: 4 | nc: 5 | ncall: 47746 | eff(%): 24.835 | loglstar: 185.783 < 188.672 < 192.942 | logz: 182.359 +/-  0.093 | stop:  1.182] \r12036it [00:33, 327.76it/s, batch: 11 | bound: 5 | nc: 3 | ncall: 47918 | eff(%): 24.828 | loglstar: 185.783 < 189.063 < 192.942 | logz: 182.359 +/-  0.093 | stop:  1.182]\r12071it [00:34, 303.15it/s, batch: 11 | bound: 5 | nc: 2 | ncall: 48175 | eff(%): 24.769 | loglstar: 185.783 < 189.452 < 192.942 | logz: 182.359 +/-  0.093 | stop:  1.182]\r12103it [00:34, 269.93it/s, batch: 11 | bound: 6 | nc: 1 | ncall: 48362 | eff(%): 24.739 | loglstar: 185.783 < 189.804 < 192.942 | logz: 182.359 +/-  0.093 | stop:  1.182]\r12131it [00:34, 270.63it/s, batch: 11 | bound: 6 | nc: 25 | ncall: 48549 | eff(%): 24.702 | loglstar: 185.783 < 190.002 < 192.942 | logz: 182.359 +/-  0.093 | stop:  1.182]\r12159it [00:34, 252.08it/s, batch: 11 | bound: 7 | nc: 1 | ncall: 48677 | eff(%): 24.695 | loglstar: 185.783 < 190.262 < 192.942 | logz: 182.359 +/-  0.093 | stop:  1.182] \r12215it [00:34, 324.21it/s, batch: 11 | bound: 7 | nc: 3 | ncall: 48847 | eff(%): 24.723 | loglstar: 185.783 < 190.683 < 192.942 | logz: 182.359 +/-  0.093 | stop:  1.182]\r12252it [00:34, 335.65it/s, batch: 11 | bound: 7 | nc: 3 | ncall: 49031 | eff(%): 24.706 | loglstar: 185.783 < 190.912 < 192.942 | logz: 182.359 +/-  0.093 | stop:  1.182]\r12288it [00:34, 307.59it/s, batch: 11 | bound: 8 | nc: 7 | ncall: 49180 | eff(%): 24.704 | loglstar: 185.783 < 191.065 < 192.942 | logz: 182.359 +/-  0.093 | stop:  1.182]\r12328it [00:34, 329.31it/s, batch: 11 | bound: 8 | nc: 5 | ncall: 49359 | eff(%): 24.696 | loglstar: 185.783 < 191.257 < 192.942 | logz: 182.359 +/-  0.093 | stop:  1.182]\r12363it [00:35, 293.27it/s, batch: 11 | bound: 9 | nc: 2 | ncall: 49514 | eff(%): 24.689 | loglstar: 185.783 < 191.447 < 192.942 | logz: 182.359 +/-  0.093 | stop:  1.182]\r12410it [00:35, 337.09it/s, batch: 11 | bound: 9 | nc: 3 | ncall: 49692 | eff(%): 24.696 | loglstar: 185.783 < 191.640 < 192.942 | logz: 182.359 +/-  0.093 | stop:  1.182]\r12446it [00:35, 299.94it/s, batch: 11 | bound: 10 | nc: 2 | ncall: 49851 | eff(%): 24.689 | loglstar: 185.783 < 191.813 < 192.942 | logz: 182.359 +/-  0.093 | stop:  1.182]\r12496it [00:35, 346.02it/s, batch: 11 | bound: 10 | nc: 12 | ncall: 50032 | eff(%): 24.700 | loglstar: 185.783 < 191.989 < 192.942 | logz: 182.359 +/-  0.093 | stop:  1.182]\r12534it [00:35, 308.74it/s, batch: 11 | bound: 11 | nc: 2 | ncall: 50198 | eff(%): 24.694 | loglstar: 185.783 < 192.136 < 192.942 | logz: 182.359 +/-  0.093 | stop:  1.182] \r12578it [00:35, 340.39it/s, batch: 11 | bound: 11 | nc: 10 | ncall: 50379 | eff(%): 24.692 | loglstar: 185.783 < 192.281 < 192.942 | logz: 182.359 +/-  0.093 | stop:  1.182]\r12619it [00:35, 355.94it/s, batch: 11 | bound: 11 | nc: 5 | ncall: 50563 | eff(%): 24.684 | loglstar: 185.783 < 192.390 < 192.942 | logz: 182.359 +/-  0.093 | stop:  1.182] \r12657it [00:36, 311.15it/s, batch: 11 | bound: 12 | nc: 4 | ncall: 50743 | eff(%): 24.671 | loglstar: 185.783 < 192.524 < 192.942 | logz: 182.359 +/-  0.093 | stop:  1.182]\r12695it [00:36, 326.82it/s, batch: 11 | bound: 12 | nc: 9 | ncall: 50922 | eff(%): 24.659 | loglstar: 185.783 < 192.621 < 192.942 | logz: 182.359 +/-  0.093 | stop:  1.182]\r12730it [00:36, 312.99it/s, batch: 11 | bound: 13 | nc: 8 | ncall: 51036 | eff(%): 24.672 | loglstar: 185.783 < 192.698 < 192.942 | logz: 182.359 +/-  0.093 | stop:  1.182]\r12776it [00:36, 346.63it/s, batch: 11 | bound: 13 | nc: 11 | ncall: 51223 | eff(%): 24.672 | loglstar: 185.783 < 192.787 < 192.942 | logz: 182.359 +/-  0.093 | stop:  1.182]\r12812it [00:36, 322.77it/s, batch: 11 | bound: 14 | nc: 2 | ncall: 51352 | eff(%): 24.680 | loglstar: 185.783 < 192.849 < 192.942 | logz: 182.359 +/-  0.093 | stop:  1.182] \r13104it [00:37, 368.38it/s, batch: 12 | bound: 0 | nc: 2 | ncall: 52034 | eff(%): 25.184 | loglstar: 185.082 < 186.744 < 192.942 | logz: 182.369 +/-  0.088 | stop:  1.038] \r13151it [00:37, 380.54it/s, batch: 12 | bound: 2 | nc: 1 | ncall: 52201 | eff(%): 24.822 | loglstar: 185.082 < 185.931 < 192.942 | logz: 182.369 +/-  0.088 | stop:  1.038]\r13194it [00:37, 386.62it/s, batch: 12 | bound: 2 | nc: 4 | ncall: 52382 | eff(%): 24.818 | loglstar: 185.082 < 186.404 < 192.942 | logz: 182.369 +/-  0.088 | stop:  1.038]\r13234it [00:37, 372.14it/s, batch: 12 | bound: 3 | nc: 1 | ncall: 52497 | eff(%): 24.840 | loglstar: 185.082 < 186.880 < 192.942 | logz: 182.369 +/-  0.088 | stop:  1.038]\r13281it [00:37, 389.43it/s, batch: 12 | bound: 3 | nc: 5 | ncall: 52678 | eff(%): 24.843 | loglstar: 185.082 < 187.423 < 192.942 | logz: 182.369 +/-  0.088 | stop:  1.038]\r13321it [00:37, 361.82it/s, batch: 12 | bound: 4 | nc: 1 | ncall: 52801 | eff(%): 24.861 | loglstar: 185.082 < 187.916 < 192.942 | logz: 182.369 +/-  0.088 | stop:  1.038]\r13381it [00:37, 413.29it/s, batch: 12 | bound: 4 | nc: 3 | ncall: 52978 | eff(%): 24.891 | loglstar: 185.082 < 188.512 < 192.942 | logz: 182.369 +/-  0.088 | stop:  1.038]\r13429it [00:38, 427.32it/s, batch: 12 | bound: 4 | nc: 7 | ncall: 53158 | eff(%): 24.897 | loglstar: 185.082 < 189.107 < 192.942 | logz: 182.369 +/-  0.088 | stop:  1.038]\r13474it [00:38, 381.72it/s, batch: 12 | bound: 5 | nc: 1 | ncall: 53316 | eff(%): 24.907 | loglstar: 185.082 < 189.628 < 192.942 | logz: 182.369 +/-  0.088 | stop:  1.038]\r13514it [00:38, 383.61it/s, batch: 12 | bound: 5 | nc: 1 | ncall: 53501 | eff(%): 24.896 | loglstar: 185.082 < 189.906 < 192.942 | logz: 182.369 +/-  0.088 | stop:  1.038]\r13554it [00:38, 348.05it/s, batch: 12 | bound: 6 | nc: 10 | ncall: 53639 | eff(%): 24.906 | loglstar: 185.082 < 190.157 < 192.942 | logz: 182.369 +/-  0.088 | stop:  1.038]\r13596it [00:38, 365.05it/s, batch: 12 | bound: 6 | nc: 12 | ncall: 53814 | eff(%): 24.903 | loglstar: 185.082 < 190.445 < 192.942 | logz: 182.369 +/-  0.088 | stop:  1.038]\r13634it [00:38, 338.27it/s, batch: 12 | bound: 7 | nc: 1 | ncall: 53935 | eff(%): 24.918 | loglstar: 185.082 < 190.687 < 192.942 | logz: 182.369 +/-  0.088 | stop:  1.038] \r13695it [00:38, 405.96it/s, batch: 12 | bound: 7 | nc: 12 | ncall: 54111 | eff(%): 24.949 | loglstar: 185.082 < 191.002 < 192.942 | logz: 182.369 +/-  0.088 | stop:  1.038]\r13745it [00:38, 427.34it/s, batch: 12 | bound: 7 | nc: 6 | ncall: 54287 | eff(%): 24.960 | loglstar: 185.082 < 191.307 < 192.942 | logz: 182.369 +/-  0.088 | stop:  1.038] \r13790it [00:39, 365.31it/s, batch: 12 | bound: 8 | nc: 1 | ncall: 54485 | eff(%): 24.952 | loglstar: 185.082 < 191.489 < 192.942 | logz: 182.369 +/-  0.088 | stop:  1.038]\r13830it [00:39, 304.01it/s, batch: 12 | bound: 9 | nc: 6 | ncall: 54704 | eff(%): 24.926 | loglstar: 185.082 < 191.726 < 192.942 | logz: 182.369 +/-  0.088 | stop:  1.038]\r13880it [00:39, 344.71it/s, batch: 12 | bound: 9 | nc: 10 | ncall: 54890 | eff(%): 24.932 | loglstar: 185.082 < 191.913 < 192.942 | logz: 182.369 +/-  0.088 | stop:  1.038]\r13918it [00:39, 295.23it/s, batch: 12 | bound: 10 | nc: 4 | ncall: 55107 | eff(%): 24.903 | loglstar: 185.082 < 192.046 < 192.942 | logz: 182.369 +/-  0.088 | stop:  1.038]\r13959it [00:39, 317.75it/s, batch: 12 | bound: 10 | nc: 11 | ncall: 55276 | eff(%): 24.901 | loglstar: 185.082 < 192.192 < 192.942 | logz: 182.369 +/-  0.088 | stop:  1.038]\r13995it [00:39, 295.10it/s, batch: 12 | bound: 11 | nc: 1 | ncall: 55425 | eff(%): 24.899 | loglstar: 185.082 < 192.300 < 192.942 | logz: 182.369 +/-  0.088 | stop:  1.038] \r14042it [00:39, 329.56it/s, batch: 12 | bound: 11 | nc: 31 | ncall: 55618 | eff(%): 24.898 | loglstar: 185.082 < 192.445 < 192.942 | logz: 182.369 +/-  0.088 | stop:  1.038]\r14078it [00:40, 288.62it/s, batch: 12 | bound: 12 | nc: 4 | ncall: 55811 | eff(%): 24.876 | loglstar: 185.082 < 192.570 < 192.942 | logz: 182.369 +/-  0.088 | stop:  1.038] \r14136it [00:40, 356.22it/s, batch: 12 | bound: 12 | nc: 1 | ncall: 55966 | eff(%): 24.911 | loglstar: 185.082 < 192.681 < 192.942 | logz: 182.369 +/-  0.088 | stop:  1.038]\r14180it [00:40, 373.60it/s, batch: 12 | bound: 12 | nc: 9 | ncall: 56154 | eff(%): 24.906 | loglstar: 185.082 < 192.767 < 192.942 | logz: 182.369 +/-  0.088 | stop:  1.038]\r14221it [00:40, 358.38it/s, batch: 12 | bound: 13 | nc: 3 | ncall: 56269 | eff(%): 24.927 | loglstar: 185.082 < 192.853 < 192.942 | logz: 182.369 +/-  0.088 | stop:  1.038]\r14269it [00:40, 389.57it/s, batch: 12 | bound: 13 | nc: 2 | ncall: 56445 | eff(%): 24.934 | loglstar: 185.082 < 192.930 < 192.942 | logz: 182.369 +/-  0.088 | stop:  1.038]\r14523it [00:40, 831.68it/s, batch: 12 | bound: 13 | nc: 1 | ncall: 56704 | eff(%): 25.374 | loglstar: 185.082 < 193.963 < 192.942 | logz: 182.369 +/-  0.088 | stop:  0.922]\r14523it [00:40, 357.54it/s, batch: 12 | bound: 13 | nc: 1 | ncall: 56704 | eff(%): 25.374 | loglstar: 185.082 < 193.963 < 192.942 | logz: 182.369 +/-  0.088 | stop:  0.922]\n"
        }
       ],
       "tabbable": null,
       "tooltip": null
      }
     },
     "277e8a087a2e459ca2d92d5bd37ffed9": {
      "model_module": "@jupyter-widgets/controls",
      "model_module_version": "2.0.0",
      "model_name": "HTMLStyleModel",
      "state": {
       "_model_module": "@jupyter-widgets/controls",
       "_model_module_version": "2.0.0",
       "_model_name": "HTMLStyleModel",
       "_view_count": null,
       "_view_module": "@jupyter-widgets/base",
       "_view_module_version": "2.0.0",
       "_view_name": "StyleView",
       "background": null,
       "description_width": "",
       "font_size": null,
       "text_color": null
      }
     },
     "363bd0f105754775983b5a43f267fb29": {
      "model_module": "@jupyter-widgets/controls",
      "model_module_version": "2.0.0",
      "model_name": "ProgressStyleModel",
      "state": {
       "_model_module": "@jupyter-widgets/controls",
       "_model_module_version": "2.0.0",
       "_model_name": "ProgressStyleModel",
       "_view_count": null,
       "_view_module": "@jupyter-widgets/base",
       "_view_module_version": "2.0.0",
       "_view_name": "StyleView",
       "bar_color": null,
       "description_width": ""
      }
     },
     "52dcdbfb10f5493ea7cc4fcd49ef6db6": {
      "model_module": "@jupyter-widgets/base",
      "model_module_version": "2.0.0",
      "model_name": "LayoutModel",
      "state": {
       "_model_module": "@jupyter-widgets/base",
       "_model_module_version": "2.0.0",
       "_model_name": "LayoutModel",
       "_view_count": null,
       "_view_module": "@jupyter-widgets/base",
       "_view_module_version": "2.0.0",
       "_view_name": "LayoutView",
       "align_content": null,
       "align_items": null,
       "align_self": null,
       "border_bottom": null,
       "border_left": null,
       "border_right": null,
       "border_top": null,
       "bottom": null,
       "display": null,
       "flex": null,
       "flex_flow": null,
       "grid_area": null,
       "grid_auto_columns": null,
       "grid_auto_flow": null,
       "grid_auto_rows": null,
       "grid_column": null,
       "grid_gap": null,
       "grid_row": null,
       "grid_template_areas": null,
       "grid_template_columns": null,
       "grid_template_rows": null,
       "height": "200px",
       "justify_content": null,
       "justify_items": null,
       "left": null,
       "margin": null,
       "max_height": null,
       "max_width": null,
       "min_height": null,
       "min_width": null,
       "object_fit": null,
       "object_position": null,
       "order": null,
       "overflow": "auto",
       "padding": null,
       "right": null,
       "top": null,
       "visibility": null,
       "width": null
      }
     },
     "5878f4cf2559479c8a691909a6153131": {
      "model_module": "@jupyter-widgets/base",
      "model_module_version": "2.0.0",
      "model_name": "LayoutModel",
      "state": {
       "_model_module": "@jupyter-widgets/base",
       "_model_module_version": "2.0.0",
       "_model_name": "LayoutModel",
       "_view_count": null,
       "_view_module": "@jupyter-widgets/base",
       "_view_module_version": "2.0.0",
       "_view_name": "LayoutView",
       "align_content": null,
       "align_items": null,
       "align_self": null,
       "border_bottom": null,
       "border_left": null,
       "border_right": null,
       "border_top": null,
       "bottom": null,
       "display": null,
       "flex": null,
       "flex_flow": null,
       "grid_area": null,
       "grid_auto_columns": null,
       "grid_auto_flow": null,
       "grid_auto_rows": null,
       "grid_column": null,
       "grid_gap": null,
       "grid_row": null,
       "grid_template_areas": null,
       "grid_template_columns": null,
       "grid_template_rows": null,
       "height": null,
       "justify_content": null,
       "justify_items": null,
       "left": null,
       "margin": null,
       "max_height": null,
       "max_width": null,
       "min_height": null,
       "min_width": null,
       "object_fit": null,
       "object_position": null,
       "order": null,
       "overflow": null,
       "padding": null,
       "right": null,
       "top": null,
       "visibility": null,
       "width": null
      }
     },
     "7fae3662826b42ed80a7f2d0285112d4": {
      "model_module": "@jupyter-widgets/base",
      "model_module_version": "2.0.0",
      "model_name": "LayoutModel",
      "state": {
       "_model_module": "@jupyter-widgets/base",
       "_model_module_version": "2.0.0",
       "_model_name": "LayoutModel",
       "_view_count": null,
       "_view_module": "@jupyter-widgets/base",
       "_view_module_version": "2.0.0",
       "_view_name": "LayoutView",
       "align_content": null,
       "align_items": null,
       "align_self": null,
       "border_bottom": null,
       "border_left": null,
       "border_right": null,
       "border_top": null,
       "bottom": null,
       "display": null,
       "flex": null,
       "flex_flow": null,
       "grid_area": null,
       "grid_auto_columns": null,
       "grid_auto_flow": null,
       "grid_auto_rows": null,
       "grid_column": null,
       "grid_gap": null,
       "grid_row": null,
       "grid_template_areas": null,
       "grid_template_columns": null,
       "grid_template_rows": null,
       "height": null,
       "justify_content": null,
       "justify_items": null,
       "left": null,
       "margin": null,
       "max_height": null,
       "max_width": null,
       "min_height": null,
       "min_width": null,
       "object_fit": null,
       "object_position": null,
       "order": null,
       "overflow": null,
       "padding": null,
       "right": null,
       "top": null,
       "visibility": null,
       "width": null
      }
     },
     "815c9a71438c4df4b6daef4cb17402b3": {
      "model_module": "@jupyter-widgets/controls",
      "model_module_version": "2.0.0",
      "model_name": "HBoxModel",
      "state": {
       "_dom_classes": [],
       "_model_module": "@jupyter-widgets/controls",
       "_model_module_version": "2.0.0",
       "_model_name": "HBoxModel",
       "_view_count": null,
       "_view_module": "@jupyter-widgets/controls",
       "_view_module_version": "2.0.0",
       "_view_name": "HBoxView",
       "box_style": "",
       "children": [
        "IPY_MODEL_d652c8324ad64c03b8e5aa94cc45abdd",
        "IPY_MODEL_bd3de22466954e24bb50327a4823e01f",
        "IPY_MODEL_05e6929ed5634792a9e41efbafefd876"
       ],
       "layout": "IPY_MODEL_5878f4cf2559479c8a691909a6153131",
       "tabbable": null,
       "tooltip": null
      }
     },
     "9dbaf8ba166448b7b89be7ae2a71c39c": {
      "model_module": "@jupyter-widgets/base",
      "model_module_version": "2.0.0",
      "model_name": "LayoutModel",
      "state": {
       "_model_module": "@jupyter-widgets/base",
       "_model_module_version": "2.0.0",
       "_model_name": "LayoutModel",
       "_view_count": null,
       "_view_module": "@jupyter-widgets/base",
       "_view_module_version": "2.0.0",
       "_view_name": "LayoutView",
       "align_content": null,
       "align_items": null,
       "align_self": null,
       "border_bottom": null,
       "border_left": null,
       "border_right": null,
       "border_top": null,
       "bottom": null,
       "display": null,
       "flex": null,
       "flex_flow": null,
       "grid_area": null,
       "grid_auto_columns": null,
       "grid_auto_flow": null,
       "grid_auto_rows": null,
       "grid_column": null,
       "grid_gap": null,
       "grid_row": null,
       "grid_template_areas": null,
       "grid_template_columns": null,
       "grid_template_rows": null,
       "height": null,
       "justify_content": null,
       "justify_items": null,
       "left": null,
       "margin": null,
       "max_height": null,
       "max_width": null,
       "min_height": null,
       "min_width": null,
       "object_fit": null,
       "object_position": null,
       "order": null,
       "overflow": null,
       "padding": null,
       "right": null,
       "top": null,
       "visibility": null,
       "width": null
      }
     },
     "b3163d7b9be0470c8dbb2fc6d3ac9d07": {
      "model_module": "@jupyter-widgets/base",
      "model_module_version": "2.0.0",
      "model_name": "LayoutModel",
      "state": {
       "_model_module": "@jupyter-widgets/base",
       "_model_module_version": "2.0.0",
       "_model_name": "LayoutModel",
       "_view_count": null,
       "_view_module": "@jupyter-widgets/base",
       "_view_module_version": "2.0.0",
       "_view_name": "LayoutView",
       "align_content": null,
       "align_items": null,
       "align_self": null,
       "border_bottom": null,
       "border_left": null,
       "border_right": null,
       "border_top": null,
       "bottom": null,
       "display": null,
       "flex": null,
       "flex_flow": null,
       "grid_area": null,
       "grid_auto_columns": null,
       "grid_auto_flow": null,
       "grid_auto_rows": null,
       "grid_column": null,
       "grid_gap": null,
       "grid_row": null,
       "grid_template_areas": null,
       "grid_template_columns": null,
       "grid_template_rows": null,
       "height": null,
       "justify_content": null,
       "justify_items": null,
       "left": null,
       "margin": null,
       "max_height": null,
       "max_width": null,
       "min_height": null,
       "min_width": null,
       "object_fit": null,
       "object_position": null,
       "order": null,
       "overflow": null,
       "padding": null,
       "right": null,
       "top": null,
       "visibility": null,
       "width": null
      }
     },
     "bd3de22466954e24bb50327a4823e01f": {
      "model_module": "@jupyter-widgets/controls",
      "model_module_version": "2.0.0",
      "model_name": "FloatProgressModel",
      "state": {
       "_dom_classes": [],
       "_model_module": "@jupyter-widgets/controls",
       "_model_module_version": "2.0.0",
       "_model_name": "FloatProgressModel",
       "_view_count": null,
       "_view_module": "@jupyter-widgets/controls",
       "_view_module_version": "2.0.0",
       "_view_name": "ProgressView",
       "bar_style": "success",
       "description": "",
       "description_allow_html": false,
       "layout": "IPY_MODEL_011959c0347a4c31a2796d87ac8d420a",
       "max": 14523.0,
       "min": 0.0,
       "orientation": "horizontal",
       "style": "IPY_MODEL_363bd0f105754775983b5a43f267fb29",
       "tabbable": null,
       "tooltip": null,
       "value": 14523.0
      }
     },
     "c516f8ad6289449889bb3755f423d533": {
      "model_module": "@jupyter-widgets/output",
      "model_module_version": "1.0.0",
      "model_name": "OutputModel",
      "state": {
       "_dom_classes": [],
       "_model_module": "@jupyter-widgets/output",
       "_model_module_version": "1.0.0",
       "_model_name": "OutputModel",
       "_view_count": null,
       "_view_module": "@jupyter-widgets/output",
       "_view_module_version": "1.0.0",
       "_view_name": "OutputView",
       "layout": "IPY_MODEL_52dcdbfb10f5493ea7cc4fcd49ef6db6",
       "msg_id": "",
       "outputs": [
        {
         "data": {
          "application/vnd.jupyter.widget-view+json": {
           "model_id": "815c9a71438c4df4b6daef4cb17402b3",
           "version_major": 2,
           "version_minor": 0
          },
          "text/plain": "  0%|          | 0/14523 [00:00<?, ?it/s]"
         },
         "metadata": {},
         "output_type": "display_data"
        }
       ],
       "tabbable": null,
       "tooltip": null
      }
     },
     "cbd86045ab6145e0a62f7b6c61ae5de9": {
      "model_module": "@jupyter-widgets/controls",
      "model_module_version": "2.0.0",
      "model_name": "AccordionModel",
      "state": {
       "_dom_classes": [],
       "_model_module": "@jupyter-widgets/controls",
       "_model_module_version": "2.0.0",
       "_model_name": "AccordionModel",
       "_view_count": null,
       "_view_module": "@jupyter-widgets/controls",
       "_view_module_version": "2.0.0",
       "_view_name": "AccordionView",
       "box_style": "",
       "children": [
        "IPY_MODEL_087cfb166c934dd8b9f51da4743ff056"
       ],
       "layout": "IPY_MODEL_e58c2a0c9406451a901fda5f4c085e07",
       "selected_index": null,
       "tabbable": null,
       "titles": [
        "CKM/nested"
       ],
       "tooltip": null
      }
     },
     "d033c18a36654dc59cf565c0931369f1": {
      "model_module": "@jupyter-widgets/controls",
      "model_module_version": "2.0.0",
      "model_name": "HTMLStyleModel",
      "state": {
       "_model_module": "@jupyter-widgets/controls",
       "_model_module_version": "2.0.0",
       "_model_name": "HTMLStyleModel",
       "_view_count": null,
       "_view_module": "@jupyter-widgets/base",
       "_view_module_version": "2.0.0",
       "_view_name": "StyleView",
       "background": null,
       "description_width": "",
       "font_size": null,
       "text_color": null
      }
     },
     "d652c8324ad64c03b8e5aa94cc45abdd": {
      "model_module": "@jupyter-widgets/controls",
      "model_module_version": "2.0.0",
      "model_name": "HTMLModel",
      "state": {
       "_dom_classes": [],
       "_model_module": "@jupyter-widgets/controls",
       "_model_module_version": "2.0.0",
       "_model_name": "HTMLModel",
       "_view_count": null,
       "_view_module": "@jupyter-widgets/controls",
       "_view_module_version": "2.0.0",
       "_view_name": "HTMLView",
       "description": "",
       "description_allow_html": false,
       "layout": "IPY_MODEL_b3163d7b9be0470c8dbb2fc6d3ac9d07",
       "placeholder": "​",
       "style": "IPY_MODEL_d033c18a36654dc59cf565c0931369f1",
       "tabbable": null,
       "tooltip": null,
       "value": "100%"
      }
     },
     "e395804db07b4ba3a4e6a7c5571ba636": {
      "model_module": "@jupyter-widgets/controls",
      "model_module_version": "2.0.0",
      "model_name": "AccordionModel",
      "state": {
       "_dom_classes": [],
       "_model_module": "@jupyter-widgets/controls",
       "_model_module_version": "2.0.0",
       "_model_name": "AccordionModel",
       "_view_count": null,
       "_view_module": "@jupyter-widgets/controls",
       "_view_module_version": "2.0.0",
       "_view_name": "AccordionView",
       "box_style": "",
       "children": [
        "IPY_MODEL_c516f8ad6289449889bb3755f423d533"
       ],
       "layout": "IPY_MODEL_9dbaf8ba166448b7b89be7ae2a71c39c",
       "selected_index": null,
       "tabbable": null,
       "titles": [
        "CKM/pred-B-to-D-e-nu"
       ],
       "tooltip": null
      }
     },
     "e58c2a0c9406451a901fda5f4c085e07": {
      "model_module": "@jupyter-widgets/base",
      "model_module_version": "2.0.0",
      "model_name": "LayoutModel",
      "state": {
       "_model_module": "@jupyter-widgets/base",
       "_model_module_version": "2.0.0",
       "_model_name": "LayoutModel",
       "_view_count": null,
       "_view_module": "@jupyter-widgets/base",
       "_view_module_version": "2.0.0",
       "_view_name": "LayoutView",
       "align_content": null,
       "align_items": null,
       "align_self": null,
       "border_bottom": null,
       "border_left": null,
       "border_right": null,
       "border_top": null,
       "bottom": null,
       "display": null,
       "flex": null,
       "flex_flow": null,
       "grid_area": null,
       "grid_auto_columns": null,
       "grid_auto_flow": null,
       "grid_auto_rows": null,
       "grid_column": null,
       "grid_gap": null,
       "grid_row": null,
       "grid_template_areas": null,
       "grid_template_columns": null,
       "grid_template_rows": null,
       "height": null,
       "justify_content": null,
       "justify_items": null,
       "left": null,
       "margin": null,
       "max_height": null,
       "max_width": null,
       "min_height": null,
       "min_width": null,
       "object_fit": null,
       "object_position": null,
       "order": null,
       "overflow": null,
       "padding": null,
       "right": null,
       "top": null,
       "visibility": null,
       "width": null
      }
     },
     "f811e59ce4c0416082c5df62634525f1": {
      "model_module": "@jupyter-widgets/base",
      "model_module_version": "2.0.0",
      "model_name": "LayoutModel",
      "state": {
       "_model_module": "@jupyter-widgets/base",
       "_model_module_version": "2.0.0",
       "_model_name": "LayoutModel",
       "_view_count": null,
       "_view_module": "@jupyter-widgets/base",
       "_view_module_version": "2.0.0",
       "_view_name": "LayoutView",
       "align_content": null,
       "align_items": null,
       "align_self": null,
       "border_bottom": null,
       "border_left": null,
       "border_right": null,
       "border_top": null,
       "bottom": null,
       "display": null,
       "flex": null,
       "flex_flow": null,
       "grid_area": null,
       "grid_auto_columns": null,
       "grid_auto_flow": null,
       "grid_auto_rows": null,
       "grid_column": null,
       "grid_gap": null,
       "grid_row": null,
       "grid_template_areas": null,
       "grid_template_columns": null,
       "grid_template_rows": null,
       "height": "200px",
       "justify_content": null,
       "justify_items": null,
       "left": null,
       "margin": null,
       "max_height": null,
       "max_width": null,
       "min_height": null,
       "min_width": null,
       "object_fit": null,
       "object_position": null,
       "order": null,
       "overflow": "auto",
       "padding": null,
       "right": null,
       "top": null,
       "visibility": null,
       "width": null
      }
     }
    },
    "version_major": 2,
    "version_minor": 0
   }
  }
 },
 "nbformat": 4,
 "nbformat_minor": 2
}
