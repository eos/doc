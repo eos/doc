{
 "cells": [
  {
   "cell_type": "markdown",
   "metadata": {},
   "source": [
    "# Parameter Inference"
   ]
  },
  {
   "cell_type": "markdown",
   "metadata": {},
   "source": [
    "EOS can infer parameters based on a database of experimental or theoretical constraints and its built-in observables.\n",
    "The examples in this notebook illustrate how to find a specific constraint from the list of all built-in observables,\n",
    "include them in an analysis file,\n",
    "and infer mean value and standard deviation of a list of parameters through sampling methods."
   ]
  },
  {
   "cell_type": "code",
   "execution_count": 1,
   "metadata": {
    "execution": {
     "iopub.execute_input": "2025-01-14T06:42:53.732041Z",
     "iopub.status.busy": "2025-01-14T06:42:53.731873Z",
     "iopub.status.idle": "2025-01-14T06:42:54.417432Z",
     "shell.execute_reply": "2025-01-14T06:42:54.416747Z"
    }
   },
   "outputs": [],
   "source": [
    "import eos\n",
    "import numpy as np"
   ]
  },
  {
   "cell_type": "markdown",
   "metadata": {},
   "source": [
    "## Listing the built-in Constraints"
   ]
  },
  {
   "cell_type": "markdown",
   "metadata": {},
   "source": [
    "The full list of built-in constraints for the most-recent EOS release is available online [here](https://eos.github.io/doc/reference/constraints). You can also show this list using the [eos.Constraints](../reference/python.rst#eos.Constraints) class.  Searching for a specific constraint is possible by filtering for specific strings in the constraint name’s *prefix*, *name*, or *suffix* parts. The following example only shows constraints that contain a `'->D'` in the prefix part:"
   ]
  },
  {
   "cell_type": "code",
   "execution_count": 2,
   "metadata": {
    "ExecuteTime": {
     "end_time": "2021-10-21T13:15:08.490501Z",
     "start_time": "2021-10-21T13:15:07.686555Z"
    },
    "execution": {
     "iopub.execute_input": "2025-01-14T06:42:54.420205Z",
     "iopub.status.busy": "2025-01-14T06:42:54.419887Z",
     "iopub.status.idle": "2025-01-14T06:42:54.898245Z",
     "shell.execute_reply": "2025-01-14T06:42:54.897629Z"
    }
   },
   "outputs": [
    {
     "data": {
      "text/html": [
       "\n",
       "        <script>\n",
       "            function toggle_obs(obs_anchor, id) {\n",
       "                var query_dots   = 'span.dots[id=\"' + id + '\"]'\n",
       "                var query_values = 'span.values[id=\"' + id + '\"]'\n",
       "                var dots   = obs_anchor.querySelector(query_dots)\n",
       "                var values = obs_anchor.querySelector(query_values)\n",
       "                if (dots.style.display == \"none\") {\n",
       "                    dots.style.display   = \"inline\"\n",
       "                    values.style.display = \"none\"\n",
       "                } else {\n",
       "                    dots.style.display   = \"none\"\n",
       "                    values.style.display = \"inline\"\n",
       "                }\n",
       "            }\n",
       "        </script>\n",
       "        <table>\n",
       "            <colgroup>\n",
       "                <col width=\"50%\" id=\"qn\"     style=\"min-width: 200px\">\n",
       "                <col width=\"25%\" id=\"type\"   style=\"min-width: 200px\">\n",
       "                <col width=\"15%\" id=\"type\"   style=\"min-width: 100px\">\n",
       "                <col width=\"10%\" id=\"ref\"    style=\"min-width: 100px\">\n",
       "            </colgroup>\n",
       "            <thead>\n",
       "                <tr>\n",
       "                    <th>qualified name</th>\n",
       "                    <th>observables</th>\n",
       "                    <th>type</th>\n",
       "                    <th>reference</th>\n",
       "                </tr>\n",
       "            </thead>\n",
       "                <tr>\n",
       "                    <td><tt>B^0->D^+e^-nu::BRs@Belle:2015A</tt></td>\n",
       "                    <td><a onclick=\"toggle_obs(this, 'con0-obs')\">\n",
       "                <span class=\"dots\"   id=\"con0-obs\" style=\"display: inline; text-align: left\">...</span>\n",
       "                <span class=\"values\" id=\"con0-obs\" style=\"display: none;   text-align: left\">\n",
       "               <tt>B->Dlnu::BR</tt>\n",
       "                </span>\n",
       "            </a></td>\n",
       "                    <td>MultivariateGaussian(Covariance)</td>\n",
       "                    <td><a \" href=\"https://arxiv.org/abs/1510.03657\"\">Belle:2015A</a></td>\n",
       "                </tr>\n",
       "                <tr>\n",
       "                    <td><tt>B^0->D^+l^-nu::KinematicalDistribution[w]@Belle:2015A</tt></td>\n",
       "                    <td><a onclick=\"toggle_obs(this, 'con0-obs')\">\n",
       "                <span class=\"dots\"   id=\"con0-obs\" style=\"display: inline; text-align: left\">...</span>\n",
       "                <span class=\"values\" id=\"con0-obs\" style=\"display: none;   text-align: left\">\n",
       "               <tt>B->Dlnu::P(w_min,w_max)</tt>\n",
       "                </span>\n",
       "            </a></td>\n",
       "                    <td>MultivariateGaussian(Covariance)</td>\n",
       "                    <td><a \" href=\"https://arxiv.org/abs/1510.03657\"\">Belle:2015A</a></td>\n",
       "                </tr>\n",
       "                <tr>\n",
       "                    <td><tt>B^0->D^+mu^-nu::BRs@Belle:2015A</tt></td>\n",
       "                    <td><a onclick=\"toggle_obs(this, 'con0-obs')\">\n",
       "                <span class=\"dots\"   id=\"con0-obs\" style=\"display: inline; text-align: left\">...</span>\n",
       "                <span class=\"values\" id=\"con0-obs\" style=\"display: none;   text-align: left\">\n",
       "               <tt>B->Dlnu::BR</tt>\n",
       "                </span>\n",
       "            </a></td>\n",
       "                    <td>MultivariateGaussian(Covariance)</td>\n",
       "                    <td><a \" href=\"https://arxiv.org/abs/1510.03657\"\">Belle:2015A</a></td>\n",
       "                </tr>\n",
       "            </table>\n",
       "        "
      ],
      "text/plain": [
       "<eos.constraint.Constraints at 0x7f3574509f80>"
      ]
     },
     "execution_count": 2,
     "metadata": {},
     "output_type": "execute_result"
    }
   ],
   "source": [
    "eos.Constraints(prefix='B^0->D^+')"
   ]
  },
  {
   "cell_type": "markdown",
   "metadata": {},
   "source": [
    "## Visualizing the built-in Constraints"
   ]
  },
  {
   "cell_type": "markdown",
   "metadata": {},
   "source": [
    "For what follows we will use the two experimental constraints ``B^0->D^+e^-nu::BRs@Belle:2015A``\n",
    "and ``B^0->D^+mu^-nu::BRs@Belle:2015A``, to infer the CKM matrix element $|V_{cb}|$. We can readily\n",
    "display these two constraints, along with the default theory prediction (without any uncertainties),\n",
    "using the following code:"
   ]
  },
  {
   "cell_type": "code",
   "execution_count": 3,
   "metadata": {
    "ExecuteTime": {
     "end_time": "2021-10-21T13:15:11.112132Z",
     "start_time": "2021-10-21T13:15:08.493463Z"
    },
    "execution": {
     "iopub.execute_input": "2025-01-14T06:42:54.900512Z",
     "iopub.status.busy": "2025-01-14T06:42:54.900170Z",
     "iopub.status.idle": "2025-01-14T06:42:56.683548Z",
     "shell.execute_reply": "2025-01-14T06:42:56.682928Z"
    }
   },
   "outputs": [
    {
     "data": {
      "image/png": "[encoded data removed]",
      "text/plain": [
       "<Figure size 640x480 with 1 Axes>"
      ]
     },
     "metadata": {},
     "output_type": "display_data"
    }
   ],
   "source": [
    "plot_args = {\n",
    "    'plot': {\n",
    "        'x': { 'label': r'$q^2$', 'unit': r'$\\textnormal{GeV}^2$', 'range': [0.0, 11.63] },\n",
    "        'y': { 'label': r'$d\\mathcal{B}/dq^2$',                    'range': [0.0,  5e-3] },\n",
    "        'legend': { 'location': 'lower left' }\n",
    "    },\n",
    "    'contents': [\n",
    "        {\n",
    "            'label': r'$\\ell=e$',\n",
    "            'type': 'observable',\n",
    "            'observable': 'B->Dlnu::dBR/dq2;l=e,q=d',\n",
    "            'variable': 'q2',\n",
    "            'color': 'black',\n",
    "            'range': [0.02, 11.63],\n",
    "        },\n",
    "        {\n",
    "            'label': r'Belle 2015 $\\ell=e,\\, q=d$',\n",
    "            'type': 'constraint',\n",
    "            'color': 'C0',\n",
    "            'constraints': 'B^0->D^+e^-nu::BRs@Belle:2015A',\n",
    "            'observable': 'B->Dlnu::BR',\n",
    "            'variable': 'q2',\n",
    "            'rescale-by-width': True\n",
    "        },\n",
    "        {\n",
    "            'label': r'Belle 2015 $\\ell=\\mu,\\,q=d$',\n",
    "            'type': 'constraint',\n",
    "            'color': 'C1',\n",
    "            'constraints': 'B^0->D^+mu^-nu::BRs@Belle:2015A',\n",
    "            'observable': 'B->Dlnu::BR',\n",
    "            'variable': 'q2',\n",
    "            'rescale-by-width': True\n",
    "        },\n",
    "    ]\n",
    "}\n",
    "_ = eos.plot.Plotter(plot_args).plot()"
   ]
  },
  {
   "cell_type": "markdown",
   "metadata": {},
   "source": [
    "## Defining the analysis\n",
    "\n",
    "To define our statistical analysis for the inference of $|V_{cb}|$ from measurements\n",
    "of the $\\bar{B}\\to D\\ell^-\\bar\\nu$ branching ratios, we must decide how to parametrize\n",
    "the hadronic form factors that emerge in semileptonic $\\bar{B}\\to D$ transitions and\n",
    "how to constraint them. On top of the theoretical constraints and form factor coefficient priors as in `predictions.yaml`, we must add a prior for varying the CKM element and experimental constraints from which to extract it.\n",
    "We only vary the absolute value of the CKM element `CKM::abs(V_cb)`, as the complex phase of the CKM element `CKM::arg(V_cb)` is not accessible from $b\\to c \\ell \\bar \\nu$.\n",
    "In order to use this parametrization of the CKM elements, we must use the model `CKM` in the analysis.\n",
    "\n",
    "These additions to the likelihood and priors, seen in the analysis file `inference.yaml`, look like\n",
    "```yaml\n",
    "priors:\n",
    "  - name: CKM\n",
    "    descriptions:\n",
    "      - { parameter: 'CKM::abs(V_cb)',           min:  38e-3, max:  45e-3 , type: 'uniform' }\n",
    "\n",
    "  - name: FF\n",
    "    # as in both predictions.yaml and inference.yaml\n",
    "\n",
    "likelihoods:\n",
    "  - name: B-to-D-l-nu\n",
    "    constraints:\n",
    "      - 'B^0->D^+e^-nu::BRs@Belle:2015A;form-factors=BSZ2015'\n",
    "      - 'B^0->D^+mu^-nu::BRs@Belle:2015A;form-factors=BSZ2015'\n",
    "\n",
    "  - name: FF-LQCD\n",
    "    # as in both predictions.yaml and inference.yaml\n",
    "```\n",
    "\n"
   ]
  },
  {
   "cell_type": "markdown",
   "metadata": {},
   "source": [
    "## Sampling from the posterior\n",
    "\n",
    "EOS provides the means to draw and store Monte Carlo samples for a prior PDF $P_0(\\vec\\vartheta)$, a posterior PDF $P(\\vec\\vartheta|\\text{data})$, and predictive distributions using [eos.tasks.sample_nested](../reference/python.rst#eos.tasks.sample_nested). We store this data within a hierarchy of directories below a \"base directory\". For the purpose of the following examples, we set this base directory to ``./inference-data``, stored in a convenient global variable."
   ]
  },
  {
   "cell_type": "code",
   "execution_count": 4,
   "metadata": {
    "execution": {
     "iopub.execute_input": "2025-01-14T06:42:56.685991Z",
     "iopub.status.busy": "2025-01-14T06:42:56.685622Z",
     "iopub.status.idle": "2025-01-14T06:42:56.688285Z",
     "shell.execute_reply": "2025-01-14T06:42:56.687817Z"
    }
   },
   "outputs": [],
   "source": [
    "EOS_BASE_DIRECTORY='./inference-data'"
   ]
  },
  {
   "cell_type": "code",
   "execution_count": 5,
   "metadata": {
    "execution": {
     "iopub.execute_input": "2025-01-14T06:42:56.690513Z",
     "iopub.status.busy": "2025-01-14T06:42:56.690164Z",
     "iopub.status.idle": "2025-01-14T06:43:33.541506Z",
     "shell.execute_reply": "2025-01-14T06:43:33.540941Z"
    }
   },
   "outputs": [
    {
     "data": {
      "application/vnd.jupyter.widget-view+json": {
       "model_id": "60804639bd3848388c1306d35ea1477d",
       "version_major": 2,
       "version_minor": 0
      },
      "text/plain": [
       "Accordion(children=(Output(layout=Layout(height='200px', overflow='auto')),), titles=('CKM/nested',))"
      ]
     },
     "metadata": {},
     "output_type": "display_data"
    }
   ],
   "source": [
    "eos.tasks.sample_nested('inference.yaml', 'CKM', base_directory=EOS_BASE_DIRECTORY, nlive=250, dlogz=0.5, seed=42)"
   ]
  },
  {
   "cell_type": "markdown",
   "metadata": {},
   "source": [
    "## Inferring the $|V_{cb}|$ parameter\n",
    "\n",
    "The distribution of the parameter samples, here using $|V_{cb}|$ as an example, can be inspected using regular histograms or a smooth histogram based on a kernel density estimate (KDE). The samples are automatically processed, when specifying the ``data-file`` directory and the ``variable`` as histogram plotting arguments. For the KDE, the parameter ``bandwidth`` regulates the smoothing. EOS applies a relative bandwidth factor with respect to SciPy's best bandwidth estimate, i.e., specifying `'bandwidth': 2` doubles SciPy's estimate for the bandwidth."
   ]
  },
  {
   "cell_type": "code",
   "execution_count": 6,
   "metadata": {
    "execution": {
     "iopub.execute_input": "2025-01-14T06:43:34.097860Z",
     "iopub.status.busy": "2025-01-14T06:43:34.097671Z",
     "iopub.status.idle": "2025-01-14T06:43:35.655750Z",
     "shell.execute_reply": "2025-01-14T06:43:35.655122Z"
    }
   },
   "outputs": [
    {
     "data": {
      "image/png": "[encoded data removed]",
      "text/plain": [
       "<Figure size 640x480 with 1 Axes>"
      ]
     },
     "metadata": {},
     "output_type": "display_data"
    }
   ],
   "source": [
    "plot_args = {\n",
    "    'plot': {\n",
    "        'x': { 'label': r'$|V_{cb}|$', 'range': [38e-3, 47e-3] },\n",
    "        'legend': { 'location': 'upper left' }\n",
    "    },\n",
    "    'contents': [\n",
    "        {\n",
    "            'type': 'histogram',\n",
    "            'variable': 'CKM::abs(V_cb)',\n",
    "            'data-file': EOS_BASE_DIRECTORY+'/CKM/samples'\n",
    "        },\n",
    "        {\n",
    "            'type': 'kde', 'color': 'C0', 'label': 'posterior', 'bandwidth': 2,\n",
    "            'range': [39e-3, 45e-3],\n",
    "            'variable': 'CKM::abs(V_cb)',\n",
    "            'data-file': EOS_BASE_DIRECTORY+'/CKM/samples'\n",
    "        }\n",
    "    ]\n",
    "}\n",
    "_ = eos.plot.Plotter(plot_args).plot()"
   ]
  },
  {
   "cell_type": "markdown",
   "metadata": {},
   "source": [
    "To extract further information from the parameter samples, we can load the sample values using [eos.data.ImportanceSamples](../reference/python.rst#eos.data.ImportanceSamples):"
   ]
  },
  {
   "cell_type": "code",
   "execution_count": 7,
   "metadata": {
    "execution": {
     "iopub.execute_input": "2025-01-14T06:43:35.658193Z",
     "iopub.status.busy": "2025-01-14T06:43:35.657818Z",
     "iopub.status.idle": "2025-01-14T06:43:35.663534Z",
     "shell.execute_reply": "2025-01-14T06:43:35.663090Z"
    }
   },
   "outputs": [],
   "source": [
    "parameter_samples = eos.data.ImportanceSamples(EOS_BASE_DIRECTORY+'/CKM/samples')"
   ]
  },
  {
   "cell_type": "markdown",
   "metadata": {},
   "source": [
    "We can compute the mean value and its standard deviation using ``numpy`` methods, including the sample ``weights``."
   ]
  },
  {
   "cell_type": "code",
   "execution_count": 8,
   "metadata": {
    "execution": {
     "iopub.execute_input": "2025-01-14T06:43:35.665872Z",
     "iopub.status.busy": "2025-01-14T06:43:35.665402Z",
     "iopub.status.idle": "2025-01-14T06:43:35.669597Z",
     "shell.execute_reply": "2025-01-14T06:43:35.669089Z"
    }
   },
   "outputs": [
    {
     "name": "stdout",
     "output_type": "stream",
     "text": [
      "$|V_{cb}|$ = 0.0420 +/- 0.0009\n"
     ]
    }
   ],
   "source": [
    "mean = np.average(parameter_samples.samples[:,0], weights = parameter_samples.weights)\n",
    "std = np.sqrt(np.average((parameter_samples.samples[:,0]-mean)**2, weights = parameter_samples.weights))\n",
    "\n",
    "print(f'$|V_{{cb}}|$ = {mean:.4f} +/- {std:.4f}')"
   ]
  },
  {
   "cell_type": "markdown",
   "metadata": {},
   "source": [
    "We can also illustrate the correlation between $|V_{cb}|$ and any form factor parameter. Here, we use the normalization of the form factors at $q^2 = 0$ as an example. The ``data`` passed to the plotter consists of the 2d parameter samples and the corresponding sample weights.\n",
    "Contours of equal probability at the $68\\%$ and $95\\%$ levels can be generated using a KDE as follows:"
   ]
  },
  {
   "cell_type": "code",
   "execution_count": 9,
   "metadata": {
    "execution": {
     "iopub.execute_input": "2025-01-14T06:43:35.671513Z",
     "iopub.status.busy": "2025-01-14T06:43:35.671327Z",
     "iopub.status.idle": "2025-01-14T06:43:38.050286Z",
     "shell.execute_reply": "2025-01-14T06:43:38.049645Z"
    }
   },
   "outputs": [
    {
     "data": {
      "image/png": "[encoded data removed]",
      "text/plain": [
       "<Figure size 640x480 with 1 Axes>"
      ]
     },
     "metadata": {},
     "output_type": "display_data"
    }
   ],
   "source": [
    "plot_args = {\n",
    "    'plot': {\n",
    "        'x': { 'label': r'$|V_{cb}|$', 'range': [38e-3, 47e-3] },\n",
    "        'y': { 'label': r'$f_+(0)$',   'range': [0.6, 0.75] },\n",
    "    },\n",
    "    'contents': [\n",
    "        {\n",
    "            'type': 'kde2D', 'color': 'C1', 'label': 'posterior',\n",
    "            'levels': [68, 95], 'contours': ['lines','areas'], 'bandwidth':3,\n",
    "            'data': {\n",
    "                'samples': parameter_samples.samples[:, (0,1)],\n",
    "                'weights': parameter_samples.weights\n",
    "            }\n",
    "        }\n",
    "    ]\n",
    "}\n",
    "_ = eos.plot.Plotter(plot_args).plot()"
   ]
  },
  {
   "cell_type": "markdown",
   "metadata": {},
   "source": [
    "Here the `bandwidth` parameter takes the same role as in the 1D histogram."
   ]
  },
  {
   "cell_type": "markdown",
   "metadata": {},
   "source": [
    "## Aside: validating the posterior\n",
    "\n",
    "As an additional step we can visualize the resulting theory prediction (with uncertainties), as was done in the beginning of this notebook. For further details, you can consult the ``predictions.ipynb`` notebook."
   ]
  },
  {
   "cell_type": "code",
   "execution_count": 10,
   "metadata": {
    "execution": {
     "iopub.execute_input": "2025-01-14T06:43:38.052804Z",
     "iopub.status.busy": "2025-01-14T06:43:38.052321Z",
     "iopub.status.idle": "2025-01-14T06:43:39.509136Z",
     "shell.execute_reply": "2025-01-14T06:43:39.508512Z"
    }
   },
   "outputs": [
    {
     "data": {
      "application/vnd.jupyter.widget-view+json": {
       "model_id": "835e96dd97984e319e82934978d7fdc5",
       "version_major": 2,
       "version_minor": 0
      },
      "text/plain": [
       "Accordion(children=(Output(layout=Layout(height='200px', overflow='auto')),), titles=('CKM/pred-B-to-D-e-nu',)…"
      ]
     },
     "metadata": {},
     "output_type": "display_data"
    }
   ],
   "source": [
    "eos.predict_observables('inference.yaml','CKM','B-to-D-e-nu', base_directory=EOS_BASE_DIRECTORY)"
   ]
  },
  {
   "cell_type": "code",
   "execution_count": 11,
   "metadata": {
    "execution": {
     "iopub.execute_input": "2025-01-14T06:43:39.512716Z",
     "iopub.status.busy": "2025-01-14T06:43:39.512539Z",
     "iopub.status.idle": "2025-01-14T06:43:39.892915Z",
     "shell.execute_reply": "2025-01-14T06:43:39.892296Z"
    }
   },
   "outputs": [
    {
     "data": {
      "image/png": "[encoded data removed]",
      "text/plain": [
       "<Figure size 640x480 with 1 Axes>"
      ]
     },
     "metadata": {},
     "output_type": "display_data"
    }
   ],
   "source": [
    "plot_args = {\n",
    "    'plot': {\n",
    "        'x': { 'label': r'$q^2$', 'unit': r'$\\textnormal{GeV}^2$', 'range': [0.0, 11.63] },\n",
    "        'y': { 'label': r'$d\\mathcal{B}/dq^2$',                    'range': [0.0,  5e-3] },\n",
    "        'legend': { 'location': 'lower left' }\n",
    "    },\n",
    "    'contents': [\n",
    "        {\n",
    "          'label': r'$\\ell=e$', 'type': 'uncertainty', 'range': [3.0e-7, 11.60],\n",
    "          'data-file': EOS_BASE_DIRECTORY+'/CKM/pred-B-to-D-e-nu',\n",
    "        },\n",
    "        {\n",
    "            'label': r'Belle 2015 $\\ell=e,\\, q=d$',\n",
    "            'type': 'constraint',\n",
    "            'color': 'C0',\n",
    "            'constraints': 'B^0->D^+e^-nu::BRs@Belle:2015A',\n",
    "            'observable': 'B->Dlnu::BR',\n",
    "            'variable': 'q2',\n",
    "            'rescale-by-width': True\n",
    "        },\n",
    "        {\n",
    "            'label': r'Belle 2015 $\\ell=\\mu,\\,q=d$',\n",
    "            'type': 'constraint',\n",
    "            'color': 'C1',\n",
    "            'constraints': 'B^0->D^+mu^-nu::BRs@Belle:2015A',\n",
    "            'observable': 'B->Dlnu::BR',\n",
    "            'variable': 'q2',\n",
    "            'rescale-by-width': True\n",
    "        },\n",
    "    ]\n",
    "}\n",
    "_ = eos.plot.Plotter(plot_args).plot()"
   ]
  },
  {
   "cell_type": "code",
   "execution_count": null,
   "metadata": {},
   "outputs": [],
   "source": []
  }
 ],
 "metadata": {
  "kernelspec": {
   "display_name": "Python 3",
   "language": "python",
   "name": "python3"
  },
  "language_info": {
   "codemirror_mode": {
    "name": "ipython",
    "version": 3
   },
   "file_extension": ".py",
   "mimetype": "text/x-python",
   "name": "python",
   "nbconvert_exporter": "python",
   "pygments_lexer": "ipython3",
   "version": "3.10.12"
  },
  "toc": {
   "base_numbering": 1,
   "nav_menu": {},
   "number_sections": true,
   "sideBar": true,
   "skip_h1_title": false,
   "title_cell": "Table of Contents",
   "title_sidebar": "Contents",
   "toc_cell": false,
   "toc_position": {},
   "toc_section_display": true,
   "toc_window_display": false
  },
  "widgets": {
   "application/vnd.jupyter.widget-state+json": {
    "state": {
     "0430dfb07e58497b9db1e80041aae78d": {
      "model_module": "@jupyter-widgets/base",
      "model_module_version": "2.0.0",
      "model_name": "LayoutModel",
      "state": {
       "_model_module": "@jupyter-widgets/base",
       "_model_module_version": "2.0.0",
       "_model_name": "LayoutModel",
       "_view_count": null,
       "_view_module": "@jupyter-widgets/base",
       "_view_module_version": "2.0.0",
       "_view_name": "LayoutView",
       "align_content": null,
       "align_items": null,
       "align_self": null,
       "border_bottom": null,
       "border_left": null,
       "border_right": null,
       "border_top": null,
       "bottom": null,
       "display": null,
       "flex": null,
       "flex_flow": null,
       "grid_area": null,
       "grid_auto_columns": null,
       "grid_auto_flow": null,
       "grid_auto_rows": null,
       "grid_column": null,
       "grid_gap": null,
       "grid_row": null,
       "grid_template_areas": null,
       "grid_template_columns": null,
       "grid_template_rows": null,
       "height": null,
       "justify_content": null,
       "justify_items": null,
       "left": null,
       "margin": null,
       "max_height": null,
       "max_width": null,
       "min_height": null,
       "min_width": null,
       "object_fit": null,
       "object_position": null,
       "order": null,
       "overflow": null,
       "padding": null,
       "right": null,
       "top": null,
       "visibility": null,
       "width": null
      }
     },
     "052e89e86d7b4c4ebd7808ac1e092be9": {
      "model_module": "@jupyter-widgets/controls",
      "model_module_version": "2.0.0",
      "model_name": "HTMLModel",
      "state": {
       "_dom_classes": [],
       "_model_module": "@jupyter-widgets/controls",
       "_model_module_version": "2.0.0",
       "_model_name": "HTMLModel",
       "_view_count": null,
       "_view_module": "@jupyter-widgets/controls",
       "_view_module_version": "2.0.0",
       "_view_name": "HTMLView",
       "description": "",
       "description_allow_html": false,
       "layout": "IPY_MODEL_c5bfd6be6317443082a0f7dd6b61611d",
       "placeholder": "​",
       "style": "IPY_MODEL_746112b578a84374848a53823f57a341",
       "tabbable": null,
       "tooltip": null,
       "value": " 14523/14523 [00:01&lt;00:00, 10630.27it/s]"
      }
     },
     "28cfab5406964f6a8af61bdd2b49304c": {
      "model_module": "@jupyter-widgets/controls",
      "model_module_version": "2.0.0",
      "model_name": "FloatProgressModel",
      "state": {
       "_dom_classes": [],
       "_model_module": "@jupyter-widgets/controls",
       "_model_module_version": "2.0.0",
       "_model_name": "FloatProgressModel",
       "_view_count": null,
       "_view_module": "@jupyter-widgets/controls",
       "_view_module_version": "2.0.0",
       "_view_name": "ProgressView",
       "bar_style": "success",
       "description": "",
       "description_allow_html": false,
       "layout": "IPY_MODEL_de82cb4c04b44d65bec0b2b4d5d2bae0",
       "max": 14523.0,
       "min": 0.0,
       "orientation": "horizontal",
       "style": "IPY_MODEL_6acad33f615c4f04b89f3fa5fd68f3b1",
       "tabbable": null,
       "tooltip": null,
       "value": 14523.0
      }
     },
     "5dbb7d9445a6471cba6bb1761b7f0e50": {
      "model_module": "@jupyter-widgets/base",
      "model_module_version": "2.0.0",
      "model_name": "LayoutModel",
      "state": {
       "_model_module": "@jupyter-widgets/base",
       "_model_module_version": "2.0.0",
       "_model_name": "LayoutModel",
       "_view_count": null,
       "_view_module": "@jupyter-widgets/base",
       "_view_module_version": "2.0.0",
       "_view_name": "LayoutView",
       "align_content": null,
       "align_items": null,
       "align_self": null,
       "border_bottom": null,
       "border_left": null,
       "border_right": null,
       "border_top": null,
       "bottom": null,
       "display": null,
       "flex": null,
       "flex_flow": null,
       "grid_area": null,
       "grid_auto_columns": null,
       "grid_auto_flow": null,
       "grid_auto_rows": null,
       "grid_column": null,
       "grid_gap": null,
       "grid_row": null,
       "grid_template_areas": null,
       "grid_template_columns": null,
       "grid_template_rows": null,
       "height": null,
       "justify_content": null,
       "justify_items": null,
       "left": null,
       "margin": null,
       "max_height": null,
       "max_width": null,
       "min_height": null,
       "min_width": null,
       "object_fit": null,
       "object_position": null,
       "order": null,
       "overflow": null,
       "padding": null,
       "right": null,
       "top": null,
       "visibility": null,
       "width": null
      }
     },
     "5dbec89ac20f41669c10a5cd35150ceb": {
      "model_module": "@jupyter-widgets/base",
      "model_module_version": "2.0.0",
      "model_name": "LayoutModel",
      "state": {
       "_model_module": "@jupyter-widgets/base",
       "_model_module_version": "2.0.0",
       "_model_name": "LayoutModel",
       "_view_count": null,
       "_view_module": "@jupyter-widgets/base",
       "_view_module_version": "2.0.0",
       "_view_name": "LayoutView",
       "align_content": null,
       "align_items": null,
       "align_self": null,
       "border_bottom": null,
       "border_left": null,
       "border_right": null,
       "border_top": null,
       "bottom": null,
       "display": null,
       "flex": null,
       "flex_flow": null,
       "grid_area": null,
       "grid_auto_columns": null,
       "grid_auto_flow": null,
       "grid_auto_rows": null,
       "grid_column": null,
       "grid_gap": null,
       "grid_row": null,
       "grid_template_areas": null,
       "grid_template_columns": null,
       "grid_template_rows": null,
       "height": null,
       "justify_content": null,
       "justify_items": null,
       "left": null,
       "margin": null,
       "max_height": null,
       "max_width": null,
       "min_height": null,
       "min_width": null,
       "object_fit": null,
       "object_position": null,
       "order": null,
       "overflow": null,
       "padding": null,
       "right": null,
       "top": null,
       "visibility": null,
       "width": null
      }
     },
     "60804639bd3848388c1306d35ea1477d": {
      "model_module": "@jupyter-widgets/controls",
      "model_module_version": "2.0.0",
      "model_name": "AccordionModel",
      "state": {
       "_dom_classes": [],
       "_model_module": "@jupyter-widgets/controls",
       "_model_module_version": "2.0.0",
       "_model_name": "AccordionModel",
       "_view_count": null,
       "_view_module": "@jupyter-widgets/controls",
       "_view_module_version": "2.0.0",
       "_view_name": "AccordionView",
       "box_style": "",
       "children": [
        "IPY_MODEL_b4b1e0fa67d345bcb624e98d4d2e024a"
       ],
       "layout": "IPY_MODEL_0430dfb07e58497b9db1e80041aae78d",
       "selected_index": null,
       "tabbable": null,
       "titles": [
        "CKM/nested"
       ],
       "tooltip": null
      }
     },
     "6acad33f615c4f04b89f3fa5fd68f3b1": {
      "model_module": "@jupyter-widgets/controls",
      "model_module_version": "2.0.0",
      "model_name": "ProgressStyleModel",
      "state": {
       "_model_module": "@jupyter-widgets/controls",
       "_model_module_version": "2.0.0",
       "_model_name": "ProgressStyleModel",
       "_view_count": null,
       "_view_module": "@jupyter-widgets/base",
       "_view_module_version": "2.0.0",
       "_view_name": "StyleView",
       "bar_color": null,
       "description_width": ""
      }
     },
     "746112b578a84374848a53823f57a341": {
      "model_module": "@jupyter-widgets/controls",
      "model_module_version": "2.0.0",
      "model_name": "HTMLStyleModel",
      "state": {
       "_model_module": "@jupyter-widgets/controls",
       "_model_module_version": "2.0.0",
       "_model_name": "HTMLStyleModel",
       "_view_count": null,
       "_view_module": "@jupyter-widgets/base",
       "_view_module_version": "2.0.0",
       "_view_name": "StyleView",
       "background": null,
       "description_width": "",
       "font_size": null,
       "text_color": null
      }
     },
     "75901a40febe41b7b01376bac19a4718": {
      "model_module": "@jupyter-widgets/controls",
      "model_module_version": "2.0.0",
      "model_name": "HTMLStyleModel",
      "state": {
       "_model_module": "@jupyter-widgets/controls",
       "_model_module_version": "2.0.0",
       "_model_name": "HTMLStyleModel",
       "_view_count": null,
       "_view_module": "@jupyter-widgets/base",
       "_view_module_version": "2.0.0",
       "_view_name": "StyleView",
       "background": null,
       "description_width": "",
       "font_size": null,
       "text_color": null
      }
     },
     "835e96dd97984e319e82934978d7fdc5": {
      "model_module": "@jupyter-widgets/controls",
      "model_module_version": "2.0.0",
      "model_name": "AccordionModel",
      "state": {
       "_dom_classes": [],
       "_model_module": "@jupyter-widgets/controls",
       "_model_module_version": "2.0.0",
       "_model_name": "AccordionModel",
       "_view_count": null,
       "_view_module": "@jupyter-widgets/controls",
       "_view_module_version": "2.0.0",
       "_view_name": "AccordionView",
       "box_style": "",
       "children": [
        "IPY_MODEL_dc121d9319854ae5882ccfc08d9b55d4"
       ],
       "layout": "IPY_MODEL_5dbb7d9445a6471cba6bb1761b7f0e50",
       "selected_index": null,
       "tabbable": null,
       "titles": [
        "CKM/pred-B-to-D-e-nu"
       ],
       "tooltip": null
      }
     },
     "9a24857cbaa048dca65f7cfbf773008b": {
      "model_module": "@jupyter-widgets/controls",
      "model_module_version": "2.0.0",
      "model_name": "HBoxModel",
      "state": {
       "_dom_classes": [],
       "_model_module": "@jupyter-widgets/controls",
       "_model_module_version": "2.0.0",
       "_model_name": "HBoxModel",
       "_view_count": null,
       "_view_module": "@jupyter-widgets/controls",
       "_view_module_version": "2.0.0",
       "_view_name": "HBoxView",
       "box_style": "",
       "children": [
        "IPY_MODEL_cd06ffb766ce4b37834ab9a6c1c7085e",
        "IPY_MODEL_28cfab5406964f6a8af61bdd2b49304c",
        "IPY_MODEL_052e89e86d7b4c4ebd7808ac1e092be9"
       ],
       "layout": "IPY_MODEL_5dbec89ac20f41669c10a5cd35150ceb",
       "tabbable": null,
       "tooltip": null
      }
     },
     "a814226cdb4d453083a37fad956ba1d3": {
      "model_module": "@jupyter-widgets/base",
      "model_module_version": "2.0.0",
      "model_name": "LayoutModel",
      "state": {
       "_model_module": "@jupyter-widgets/base",
       "_model_module_version": "2.0.0",
       "_model_name": "LayoutModel",
       "_view_count": null,
       "_view_module": "@jupyter-widgets/base",
       "_view_module_version": "2.0.0",
       "_view_name": "LayoutView",
       "align_content": null,
       "align_items": null,
       "align_self": null,
       "border_bottom": null,
       "border_left": null,
       "border_right": null,
       "border_top": null,
       "bottom": null,
       "display": null,
       "flex": null,
       "flex_flow": null,
       "grid_area": null,
       "grid_auto_columns": null,
       "grid_auto_flow": null,
       "grid_auto_rows": null,
       "grid_column": null,
       "grid_gap": null,
       "grid_row": null,
       "grid_template_areas": null,
       "grid_template_columns": null,
       "grid_template_rows": null,
       "height": "200px",
       "justify_content": null,
       "justify_items": null,
       "left": null,
       "margin": null,
       "max_height": null,
       "max_width": null,
       "min_height": null,
       "min_width": null,
       "object_fit": null,
       "object_position": null,
       "order": null,
       "overflow": "auto",
       "padding": null,
       "right": null,
       "top": null,
       "visibility": null,
       "width": null
      }
     },
     "b4b1e0fa67d345bcb624e98d4d2e024a": {
      "model_module": "@jupyter-widgets/output",
      "model_module_version": "1.0.0",
      "model_name": "OutputModel",
      "state": {
       "_dom_classes": [],
       "_model_module": "@jupyter-widgets/output",
       "_model_module_version": "1.0.0",
       "_model_name": "OutputModel",
       "_view_count": null,
       "_view_module": "@jupyter-widgets/output",
       "_view_module_version": "1.0.0",
       "_view_name": "OutputView",
       "layout": "IPY_MODEL_beb74fe0bcfb42f0aafbbbb385725c1d",
       "msg_id": "",
       "outputs": [
        {
         "name": "stderr",
         "output_type": "stream",
         "text": "\r0it [00:00, ?it/s]\r8it [00:00, 79.62it/s, batch: 0 | bound: 0 | nc: 1 | ncall: 8 | eff(%):  3.101 | loglstar:   -inf < -10468.723 <    inf | logz: -10474.969 +/-  0.158 | dlogz: 10710.870 >  0.500]\r131it [00:00, 754.10it/s, batch: 0 | bound: 0 | nc: 4 | ncall: 194 | eff(%): 29.505 | loglstar:   -inf < -2268.711 <    inf | logz: -2275.448 +/-  0.164 | dlogz: 2428.576 >  0.500]\r225it [00:00, 838.81it/s, batch: 0 | bound: 0 | nc: 6 | ncall: 392 | eff(%): 35.047 | loglstar:   -inf < -1080.986 <    inf | logz: -1088.096 +/-  0.168 | dlogz: 1272.403 >  0.500]\r309it [00:00, 726.63it/s, batch: 0 | bound: 0 | nc: 1 | ncall: 672 | eff(%): 33.514 | loglstar:   -inf < -626.374 <    inf | logz: -633.741 +/-  0.169 | dlogz: 821.903 >  0.500]   \r384it [00:00, 601.49it/s, batch: 0 | bound: 0 | nc: 2 | ncall: 1018 | eff(%): 30.284 | loglstar:   -inf < -362.348 <    inf | logz: -370.089 +/-  0.175 | dlogz: 560.493 >  0.500]\r448it [00:00, 492.21it/s, batch: 0 | bound: 0 | nc: 22 | ncall: 1421 | eff(%): 26.810 | loglstar:   -inf < -253.816 <    inf | logz: -261.452 +/-  0.164 | dlogz: 447.227 >  0.500]\r502it [00:00, 416.68it/s, batch: 0 | bound: 0 | nc: 5 | ncall: 1824 | eff(%): 24.204 | loglstar:   -inf < -150.054 <    inf | logz: -158.268 +/-  0.181 | dlogz: 347.998 >  0.500] \r548it [00:01, 344.11it/s, batch: 0 | bound: 0 | nc: 21 | ncall: 2287 | eff(%): 21.600 | loglstar:   -inf < -86.546 <    inf | logz: -93.557 +/-  0.160 | dlogz: 278.142 >  0.500] \r587it [00:01, 309.23it/s, batch: 0 | bound: 0 | nc: 4 | ncall: 2663 | eff(%): 20.151 | loglstar:   -inf < -52.751 <    inf | logz: -60.106 +/-  0.163 | dlogz: 244.664 >  0.500] \r621it [00:01, 280.63it/s, batch: 0 | bound: 0 | nc: 1 | ncall: 3017 | eff(%): 19.008 | loglstar:   -inf < -21.784 <    inf | logz: -29.700 +/-  0.172 | dlogz: 214.585 >  0.500]\r651it [00:01, 232.91it/s, batch: 0 | bound: 0 | nc: 6 | ncall: 3456 | eff(%): 17.566 | loglstar:   -inf < -6.097 <    inf | logz: -13.416 +/-  0.158 | dlogz: 197.417 >  0.500] \r676it [00:01, 217.32it/s, batch: 0 | bound: 0 | nc: 16 | ncall: 3776 | eff(%): 16.791 | loglstar:   -inf <  5.997 <    inf | logz: -1.505 +/-  0.161 | dlogz: 185.474 >  0.500]\r699it [00:02, 189.57it/s, batch: 0 | bound: 0 | nc: 52 | ncall: 4180 | eff(%): 15.779 | loglstar:   -inf < 15.962 <    inf | logz:  8.711 +/-  0.161 | dlogz: 174.968 >  0.500]\r719it [00:02, 181.55it/s, batch: 0 | bound: 0 | nc: 4 | ncall: 4465 | eff(%): 15.249 | loglstar:   -inf < 28.629 <    inf | logz: 20.382 +/-  0.171 | dlogz: 163.884 >  0.500] \r738it [00:02, 164.95it/s, batch: 0 | bound: 0 | nc: 26 | ncall: 4804 | eff(%): 14.602 | loglstar:   -inf < 39.772 <    inf | logz: 32.363 +/-  0.163 | dlogz: 151.224 >  0.500]\r755it [00:02, 156.44it/s, batch: 0 | bound: 0 | nc: 24 | ncall: 5089 | eff(%): 14.141 | loglstar:   -inf < 48.976 <    inf | logz: 41.256 +/-  0.167 | dlogz: 142.430 >  0.500]\r771it [00:02, 137.07it/s, batch: 0 | bound: 0 | nc: 12 | ncall: 5438 | eff(%): 13.555 | loglstar:   -inf < 57.571 <    inf | logz: 50.116 +/-  0.164 | dlogz: 133.341 >  0.500]\r785it [00:02, 122.76it/s, batch: 0 | bound: 0 | nc: 8 | ncall: 5784 | eff(%): 13.010 | loglstar:   -inf < 62.554 <    inf | logz: 54.904 +/-  0.161 | dlogz: 128.840 >  0.500] \r798it [00:02, 117.02it/s, batch: 0 | bound: 0 | nc: 10 | ncall: 6068 | eff(%): 12.631 | loglstar:   -inf < 65.525 <    inf | logz: 58.258 +/-  0.159 | dlogz: 125.373 >  0.500]\r811it [00:03, 119.09it/s, batch: 0 | bound: 0 | nc: 24 | ncall: 6299 | eff(%): 12.384 | loglstar:   -inf < 70.327 <    inf | logz: 62.676 +/-  0.166 | dlogz: 120.994 >  0.500]\r823it [00:03, 108.73it/s, batch: 0 | bound: 0 | nc: 2 | ncall: 6609 | eff(%): 11.999 | loglstar:   -inf < 75.077 <    inf | logz: 67.459 +/-  0.165 | dlogz: 116.169 >  0.500] \r834it [00:03, 105.11it/s, batch: 0 | bound: 0 | nc: 9 | ncall: 6857 | eff(%): 11.735 | loglstar:   -inf < 80.036 <    inf | logz: 72.555 +/-  0.165 | dlogz: 110.935 >  0.500]\r845it [00:03, 94.50it/s, batch: 0 | bound: 0 | nc: 64 | ncall: 7177 | eff(%): 11.377 | loglstar:   -inf < 83.249 <    inf | logz: 75.332 +/-  0.163 | dlogz: 108.186 >  0.500]\r855it [00:03, 82.62it/s, batch: 0 | bound: 0 | nc: 9 | ncall: 7542 | eff(%): 10.973 | loglstar:   -inf < 85.917 <    inf | logz: 78.414 +/-  0.163 | dlogz: 104.963 >  0.500] \r867it [00:03, 89.01it/s, batch: 0 | bound: 0 | nc: 48 | ncall: 7772 | eff(%): 10.808 | loglstar:   -inf < 88.329 <    inf | logz: 81.103 +/-  0.161 | dlogz: 102.171 >  0.500]\r877it [00:03, 72.91it/s, batch: 0 | bound: 0 | nc: 53 | ncall: 8214 | eff(%): 10.362 | loglstar:   -inf < 90.888 <    inf | logz: 83.329 +/-  0.161 | dlogz: 99.938 >  0.500] \r885it [00:04, 67.32it/s, batch: 0 | bound: 0 | nc: 17 | ncall: 8555 | eff(%): 10.051 | loglstar:   -inf < 93.112 <    inf | logz: 85.099 +/-  0.162 | dlogz: 98.231 >  0.500]\r893it [00:04, 68.86it/s, batch: 0 | bound: 1 | nc: 1 | ncall: 8649 | eff(%): 10.035 | loglstar:   -inf < 95.869 <    inf | logz: 87.859 +/-  0.167 | dlogz: 95.463 >  0.500] \r965it [00:04, 221.10it/s, batch: 0 | bound: 1 | nc: 1 | ncall: 8845 | eff(%): 10.610 | loglstar:   -inf < 115.742 <    inf | logz: 108.182 +/-  0.166 | dlogz: 74.700 >  0.500]\r1019it [00:04, 268.55it/s, batch: 0 | bound: 2 | nc: 5 | ncall: 9022 | eff(%): 10.990 | loglstar:   -inf < 126.103 <    inf | logz: 118.294 +/-  0.167 | dlogz: 64.776 >  0.500]\r1088it [00:04, 368.51it/s, batch: 0 | bound: 2 | nc: 5 | ncall: 9222 | eff(%): 11.486 | loglstar:   -inf < 136.804 <    inf | logz: 128.702 +/-  0.168 | dlogz: 54.082 >  0.500]\r1140it [00:04, 359.81it/s, batch: 0 | bound: 3 | nc: 1 | ncall: 9394 | eff(%): 11.821 | loglstar:   -inf < 143.823 <    inf | logz: 135.889 +/-  0.168 | dlogz: 49.039 >  0.500]\r1208it [00:04, 437.63it/s, batch: 0 | bound: 3 | nc: 9 | ncall: 9590 | eff(%): 12.276 | loglstar:   -inf < 150.899 <    inf | logz: 142.847 +/-  0.168 | dlogz: 43.960 >  0.500]\r1256it [00:04, 362.47it/s, batch: 0 | bound: 4 | nc: 2 | ncall: 9843 | eff(%): 12.444 | loglstar:   -inf < 155.379 <    inf | logz: 147.427 +/-  0.166 | dlogz: 39.161 >  0.500]\r1297it [00:05, 348.74it/s, batch: 0 | bound: 4 | nc: 3 | ncall: 10110 | eff(%): 12.519 | loglstar:   -inf < 158.438 <    inf | logz: 150.432 +/-  0.168 | dlogz: 35.987 >  0.500]\r1335it [00:05, 338.47it/s, batch: 0 | bound: 5 | nc: 1 | ncall: 10231 | eff(%): 12.737 | loglstar:   -inf < 160.831 <    inf | logz: 152.821 +/-  0.167 | dlogz: 34.283 >  0.500]\r1405it [00:05, 422.90it/s, batch: 0 | bound: 5 | nc: 9 | ncall: 10433 | eff(%): 13.152 | loglstar:   -inf < 166.157 <    inf | logz: 157.892 +/-  0.171 | dlogz: 28.931 >  0.500]\r1451it [00:05, 389.29it/s, batch: 0 | bound: 6 | nc: 4 | ncall: 10589 | eff(%): 13.387 | loglstar:   -inf < 168.764 <    inf | logz: 160.600 +/-  0.171 | dlogz: 26.025 >  0.500]\r1521it [00:05, 462.90it/s, batch: 0 | bound: 6 | nc: 9 | ncall: 10792 | eff(%): 13.775 | loglstar:   -inf < 172.722 <    inf | logz: 164.062 +/-  0.174 | dlogz: 22.295 >  0.500]\r1571it [00:05, 415.35it/s, batch: 0 | bound: 7 | nc: 4 | ncall: 10954 | eff(%): 14.022 | loglstar:   -inf < 175.706 <    inf | logz: 166.725 +/-  0.176 | dlogz: 19.436 >  0.500]\r1641it [00:05, 483.84it/s, batch: 0 | bound: 7 | nc: 3 | ncall: 11155 | eff(%): 14.388 | loglstar:   -inf < 178.119 <    inf | logz: 169.523 +/-  0.175 | dlogz: 16.904 >  0.500]\r1693it [00:05, 449.39it/s, batch: 0 | bound: 8 | nc: 2 | ncall: 11302 | eff(%): 14.655 | loglstar:   -inf < 179.724 <    inf | logz: 171.090 +/-  0.175 | dlogz: 15.124 >  0.500]\r1764it [00:06, 513.75it/s, batch: 0 | bound: 8 | nc: 5 | ncall: 11503 | eff(%): 15.009 | loglstar:   -inf < 181.757 <    inf | logz: 172.892 +/-  0.176 | dlogz: 13.037 >  0.500]\r1819it [00:06, 471.71it/s, batch: 0 | bound: 9 | nc: 4 | ncall: 11668 | eff(%): 15.263 | loglstar:   -inf < 182.666 <    inf | logz: 173.959 +/-  0.176 | dlogz: 11.743 >  0.500]\r1869it [00:06, 430.22it/s, batch: 0 | bound: 9 | nc: 6 | ncall: 11969 | eff(%): 15.296 | loglstar:   -inf < 183.608 <    inf | logz: 174.785 +/-  0.176 | dlogz: 10.919 >  0.500]\r1915it [00:06, 363.35it/s, batch: 0 | bound: 10 | nc: 7 | ncall: 12225 | eff(%): 15.351 | loglstar:   -inf < 184.367 <    inf | logz: 175.475 +/-  0.177 | dlogz: 10.044 >  0.500]\r1955it [00:06, 321.73it/s, batch: 0 | bound: 11 | nc: 1 | ncall: 12437 | eff(%): 15.409 | loglstar:   -inf < 185.117 <    inf | logz: 176.042 +/-  0.178 | dlogz:  9.318 >  0.500]\r2028it [00:06, 408.50it/s, batch: 0 | bound: 11 | nc: 6 | ncall: 12639 | eff(%): 15.734 | loglstar:   -inf < 186.153 <    inf | logz: 176.988 +/-  0.179 | dlogz:  8.078 >  0.500]\r2074it [00:06, 373.90it/s, batch: 0 | bound: 12 | nc: 1 | ncall: 12827 | eff(%): 15.860 | loglstar:   -inf < 186.771 <    inf | logz: 177.514 +/-  0.180 | dlogz:  7.617 >  0.500]\r2129it [00:07, 414.51it/s, batch: 0 | bound: 12 | nc: 5 | ncall: 13027 | eff(%): 16.035 | loglstar:   -inf < 187.630 <    inf | logz: 178.128 +/-  0.182 | dlogz:  7.033 >  0.500]\r2175it [00:07, 367.24it/s, batch: 0 | bound: 13 | nc: 3 | ncall: 13231 | eff(%): 16.134 | loglstar:   -inf < 188.217 <    inf | logz: 178.613 +/-  0.183 | dlogz:  6.364 >  0.500]\r2239it [00:07, 428.61it/s, batch: 0 | bound: 13 | nc: 6 | ncall: 13400 | eff(%): 16.403 | loglstar:   -inf < 188.965 <    inf | logz: 179.239 +/-  0.185 | dlogz:  5.484 >  0.500]\r2286it [00:07, 392.12it/s, batch: 0 | bound: 14 | nc: 1 | ncall: 13583 | eff(%): 16.526 | loglstar:   -inf < 189.408 <    inf | logz: 179.618 +/-  0.185 | dlogz:  4.919 >  0.500]\r2347it [00:07, 439.62it/s, batch: 0 | bound: 14 | nc: 11 | ncall: 13797 | eff(%): 16.708 | loglstar:   -inf < 189.903 <    inf | logz: 180.057 +/-  0.186 | dlogz:  4.299 >  0.500]\r2395it [00:07, 392.50it/s, batch: 0 | bound: 15 | nc: 6 | ncall: 13988 | eff(%): 16.821 | loglstar:   -inf < 190.297 <    inf | logz: 180.361 +/-  0.187 | dlogz:  3.811 >  0.500] \r2458it [00:07, 447.53it/s, batch: 0 | bound: 15 | nc: 5 | ncall: 14191 | eff(%): 17.021 | loglstar:   -inf < 190.673 <    inf | logz: 180.691 +/-  0.187 | dlogz:  3.246 >  0.500]\r2506it [00:07, 400.90it/s, batch: 0 | bound: 16 | nc: 2 | ncall: 14390 | eff(%): 17.117 | loglstar:   -inf < 190.985 <    inf | logz: 180.908 +/-  0.188 | dlogz:  2.857 >  0.500]\r2555it [00:08, 421.93it/s, batch: 0 | bound: 16 | nc: 2 | ncall: 14597 | eff(%): 17.209 | loglstar:   -inf < 191.229 <    inf | logz: 181.101 +/-  0.188 | dlogz:  2.494 >  0.500]\r2600it [00:08, 362.19it/s, batch: 0 | bound: 17 | nc: 6 | ncall: 14829 | eff(%): 17.243 | loglstar:   -inf < 191.440 <    inf | logz: 181.258 +/-  0.189 | dlogz:  2.271 >  0.500]\r2640it [00:08, 369.20it/s, batch: 0 | bound: 17 | nc: 3 | ncall: 15037 | eff(%): 17.270 | loglstar:   -inf < 191.621 <    inf | logz: 181.382 +/-  0.189 | dlogz:  2.020 >  0.500]\r2680it [00:08, 334.74it/s, batch: 0 | bound: 18 | nc: 4 | ncall: 15225 | eff(%): 17.318 | loglstar:   -inf < 191.810 <    inf | logz: 181.495 +/-  0.189 | dlogz:  1.789 >  0.500]\r2722it [00:08, 353.72it/s, batch: 0 | bound: 18 | nc: 10 | ncall: 15432 | eff(%): 17.357 | loglstar:   -inf < 191.982 <    inf | logz: 181.603 +/-  0.190 | dlogz:  1.564 >  0.500]\r2760it [00:08, 337.57it/s, batch: 0 | bound: 19 | nc: 6 | ncall: 15537 | eff(%): 17.483 | loglstar:   -inf < 192.132 <    inf | logz: 181.691 +/-  0.190 | dlogz:  1.379 >  0.500] \r2824it [00:08, 414.08it/s, batch: 0 | bound: 19 | nc: 2 | ncall: 15723 | eff(%): 17.680 | loglstar:   -inf < 192.371 <    inf | logz: 181.827 +/-  0.191 | dlogz:  1.166 >  0.500]\r2868it [00:08, 390.41it/s, batch: 0 | bound: 20 | nc: 1 | ncall: 15861 | eff(%): 17.802 | loglstar:   -inf < 192.516 <    inf | logz: 181.907 +/-  0.191 | dlogz:  0.997 >  0.500]\r2921it [00:09, 420.87it/s, batch: 0 | bound: 20 | nc: 15 | ncall: 16066 | eff(%): 17.903 | loglstar:   -inf < 192.660 <    inf | logz: 181.992 +/-  0.192 | dlogz:  0.820 >  0.500]\r2965it [00:09, 376.15it/s, batch: 0 | bound: 21 | nc: 5 | ncall: 16237 | eff(%): 17.984 | loglstar:   -inf < 192.753 <    inf | logz: 182.053 +/-  0.192 | dlogz:  0.711 >  0.500] \r3016it [00:09, 409.04it/s, batch: 0 | bound: 21 | nc: 6 | ncall: 16446 | eff(%): 18.064 | loglstar:   -inf < 192.862 <    inf | logz: 182.114 +/-  0.192 | dlogz:  0.586 >  0.500]\r3059it [00:09, 361.94it/s, batch: 0 | bound: 22 | nc: 1 | ncall: 16626 | eff(%): 18.130 | loglstar:   -inf < 192.945 <    inf | logz: 182.158 +/-  0.192 | dlogz:  0.494 >  0.500]\r3306it [00:10, 406.11it/s, batch: 1 | bound: 0 | nc: 8 | ncall: 16873 | eff(%): 19.593 | loglstar: 193.673 < 193.481 <    inf | logz: 182.463 +/-  0.344 | stop:  9.293]          \r3351it [00:10, 412.15it/s, batch: 1 | bound: 2 | nc: 5 | ncall: 17073 | eff(%): 18.619 | loglstar: 193.673 < 193.023 <    inf | logz: 182.463 +/-  0.344 | stop:  9.293]\r3393it [00:10, 379.94it/s, batch: 1 | bound: 3 | nc: 5 | ncall: 17265 | eff(%): 18.653 | loglstar: 193.673 < 193.105 <    inf | logz: 182.463 +/-  0.344 | stop:  9.293]\r3465it [00:10, 440.88it/s, batch: 1 | bound: 3 | nc: 4 | ncall: 17457 | eff(%): 18.850 | loglstar: 193.673 < 193.237 <    inf | logz: 182.463 +/-  0.344 | stop:  9.293]\r3513it [00:10, 405.98it/s, batch: 1 | bound: 4 | nc: 1 | ncall: 17640 | eff(%): 18.923 | loglstar: 193.673 < 193.307 <    inf | logz: 182.463 +/-  0.344 | stop:  9.293]\r3583it [00:10, 465.28it/s, batch: 1 | bound: 4 | nc: 7 | ncall: 17832 | eff(%): 19.102 | loglstar: 193.673 < 193.382 <    inf | logz: 182.463 +/-  0.344 | stop:  9.293]\r3634it [00:10, 424.66it/s, batch: 1 | bound: 5 | nc: 15 | ncall: 18022 | eff(%): 19.180 | loglstar: 193.673 < 193.429 <    inf | logz: 182.463 +/-  0.344 | stop:  9.293]\r3680it [00:10, 424.07it/s, batch: 1 | bound: 5 | nc: 6 | ncall: 18246 | eff(%): 19.196 | loglstar: 193.673 < 193.490 <    inf | logz: 182.463 +/-  0.344 | stop:  9.293] \r3725it [00:11, 368.50it/s, batch: 1 | bound: 6 | nc: 3 | ncall: 18474 | eff(%): 19.202 | loglstar: 193.673 < 193.534 <    inf | logz: 182.463 +/-  0.344 | stop:  9.293]\r3765it [00:11, 347.74it/s, batch: 1 | bound: 6 | nc: 3 | ncall: 18757 | eff(%): 19.129 | loglstar: 193.673 < 193.570 <    inf | logz: 182.463 +/-  0.344 | stop:  9.293]\r3802it [00:11, 343.34it/s, batch: 1 | bound: 7 | nc: 3 | ncall: 18860 | eff(%): 19.217 | loglstar: 193.673 < 193.597 <    inf | logz: 182.463 +/-  0.344 | stop:  9.293]\r3863it [00:11, 406.86it/s, batch: 1 | bound: 7 | nc: 3 | ncall: 19063 | eff(%): 19.327 | loglstar: 193.673 < 193.636 <    inf | logz: 182.463 +/-  0.344 | stop:  9.293]\r3906it [00:11, 375.78it/s, batch: 1 | bound: 8 | nc: 2 | ncall: 19228 | eff(%): 19.382 | loglstar: 193.673 < 193.663 <    inf | logz: 182.463 +/-  0.344 | stop:  9.293]\r3965it [00:11, 428.14it/s, batch: 1 | bound: 8 | nc: 3 | ncall: 19422 | eff(%): 19.487 | loglstar: 193.673 < 193.698 <    inf | logz: 182.463 +/-  0.344 | stop:  9.293]\r4010it [00:11, 397.34it/s, batch: 1 | bound: 9 | nc: 2 | ncall: 19570 | eff(%): 19.566 | loglstar: 193.673 < 193.716 <    inf | logz: 182.463 +/-  0.344 | stop:  9.293]\r4066it [00:11, 438.35it/s, batch: 1 | bound: 9 | nc: 2 | ncall: 19770 | eff(%): 19.647 | loglstar: 193.673 < 193.750 <    inf | logz: 182.463 +/-  0.344 | stop:  9.293]\r4112it [00:12, 405.12it/s, batch: 1 | bound: 10 | nc: 1 | ncall: 19930 | eff(%): 19.717 | loglstar: 193.673 < 193.768 <    inf | logz: 182.463 +/-  0.344 | stop:  9.293]\r4172it [00:12, 453.53it/s, batch: 1 | bound: 10 | nc: 4 | ncall: 20133 | eff(%): 19.812 | loglstar: 193.673 < 193.789 <    inf | logz: 182.463 +/-  0.344 | stop:  9.293]\r4220it [00:12, 418.70it/s, batch: 1 | bound: 11 | nc: 4 | ncall: 20293 | eff(%): 19.889 | loglstar: 193.673 < 193.809 <    inf | logz: 182.463 +/-  0.344 | stop:  9.293]\r4295it [00:12, 502.24it/s, batch: 1 | bound: 11 | nc: 4 | ncall: 20493 | eff(%): 20.053 | loglstar: 193.673 < 193.835 <    inf | logz: 182.463 +/-  0.344 | stop:  9.293]\r4348it [00:12, 458.81it/s, batch: 1 | bound: 12 | nc: 1 | ncall: 20663 | eff(%): 20.141 | loglstar: 193.673 < 193.851 <    inf | logz: 182.463 +/-  0.344 | stop:  9.293]\r4438it [00:12, 571.65it/s, batch: 1 | bound: 12 | nc: 3 | ncall: 20856 | eff(%): 20.376 | loglstar: 193.673 < 193.877 <    inf | logz: 182.463 +/-  0.344 | stop:  9.293]\r4499it [00:12, 504.16it/s, batch: 1 | bound: 13 | nc: 1 | ncall: 21031 | eff(%): 20.491 | loglstar: 193.673 < 193.893 <    inf | logz: 182.463 +/-  0.344 | stop:  9.293]\r4579it [00:12, 577.47it/s, batch: 1 | bound: 13 | nc: 2 | ncall: 21225 | eff(%): 20.673 | loglstar: 193.673 < 193.910 <    inf | logz: 182.463 +/-  0.344 | stop:  9.293]\r4834it [00:12, 1095.11it/s, batch: 1 | bound: 13 | nc: 1 | ncall: 21591 | eff(%): 21.659 | loglstar: 193.673 < 193.978 <    inf | logz: 182.463 +/-  0.344 | stop:  9.293]\r4954it [00:13, 489.08it/s, batch: 2 | bound: 2 | nc: 1 | ncall: 22612 | eff(%): 21.353 | loglstar: 190.713 < 191.059 < 192.752 | logz: 182.461 +/-  0.188 | stop:  6.988] \r5045it [00:13, 457.26it/s, batch: 2 | bound: 3 | nc: 4 | ncall: 22972 | eff(%): 21.413 | loglstar: 190.713 < 191.499 < 192.752 | logz: 182.461 +/-  0.188 | stop:  6.988]\r5120it [00:14, 436.07it/s, batch: 2 | bound: 4 | nc: 1 | ncall: 23251 | eff(%): 21.477 | loglstar: 190.713 < 191.797 < 192.752 | logz: 182.461 +/-  0.188 | stop:  6.988]\r5184it [00:14, 415.97it/s, batch: 2 | bound: 5 | nc: 2 | ncall: 23490 | eff(%): 21.530 | loglstar: 190.713 < 192.037 < 192.752 | logz: 182.461 +/-  0.188 | stop:  6.988]\r5239it [00:14, 432.60it/s, batch: 2 | bound: 5 | nc: 1 | ncall: 23686 | eff(%): 21.583 | loglstar: 190.713 < 192.281 < 192.752 | logz: 182.461 +/-  0.188 | stop:  6.988]\r5293it [00:14, 398.99it/s, batch: 2 | bound: 6 | nc: 8 | ncall: 23920 | eff(%): 21.597 | loglstar: 190.713 < 192.435 < 192.752 | logz: 182.461 +/-  0.188 | stop:  6.988]\r5347it [00:14, 425.79it/s, batch: 2 | bound: 6 | nc: 4 | ncall: 24124 | eff(%): 21.637 | loglstar: 190.713 < 192.608 < 192.752 | logz: 182.461 +/-  0.188 | stop:  6.988]\r5397it [00:14, 373.48it/s, batch: 2 | bound: 7 | nc: 1 | ncall: 24374 | eff(%): 21.621 | loglstar: 190.713 < 192.709 < 192.752 | logz: 182.461 +/-  0.188 | stop:  6.988]\r5670it [00:15, 402.16it/s, batch: 3 | bound: 0 | nc: 5 | ncall: 25039 | eff(%): 22.645 | loglstar: 190.039 < 191.010 < 190.724 | logz: 182.437 +/-  0.153 | stop:  4.210]\r5715it [00:15, 405.64it/s, batch: 3 | bound: 2 | nc: 15 | ncall: 25250 | eff(%): 21.820 | loglstar: 190.039 < 190.306 < 190.724 | logz: 182.437 +/-  0.153 | stop:  4.210]\r5758it [00:15, 378.79it/s, batch: 3 | bound: 3 | nc: 2 | ncall: 25433 | eff(%): 21.831 | loglstar: 190.039 < 190.579 < 190.724 | logz: 182.437 +/-  0.153 | stop:  4.210] \r6041it [00:16, 483.89it/s, batch: 4 | bound: 0 | nc: 3 | ncall: 26463 | eff(%): 22.828 | loglstar: 189.503 < 189.725 < 190.040 | logz: 182.403 +/-  0.144 | stop:  3.493]\r6099it [00:16, 495.79it/s, batch: 4 | bound: 2 | nc: 5 | ncall: 26655 | eff(%): 22.472 | loglstar: 189.503 < 189.922 < 190.040 | logz: 182.403 +/-  0.144 | stop:  3.493]\r6367it [00:16, 485.95it/s, batch: 5 | bound: 0 | nc: 4 | ncall: 27241 | eff(%): 23.373 | loglstar: 189.076 < 189.970 < 189.511 | logz: 182.406 +/-  0.137 | stop:  3.080]\r6418it [00:16, 486.87it/s, batch: 5 | bound: 2 | nc: 9 | ncall: 27446 | eff(%): 22.811 | loglstar: 189.076 < 189.469 < 189.511 | logz: 182.406 +/-  0.137 | stop:  3.080]\r6673it [00:17, 488.59it/s, batch: 6 | bound: 0 | nc: 8 | ncall: 28151 | eff(%): 23.704 | loglstar: 188.544 < 188.643 < 192.706 | logz: 182.397 +/-  0.133 | stop:  2.828]\r6724it [00:17, 490.30it/s, batch: 6 | bound: 2 | nc: 4 | ncall: 28349 | eff(%): 23.185 | loglstar: 188.544 < 188.946 < 192.706 | logz: 182.397 +/-  0.133 | stop:  2.828]\r6774it [00:17, 454.85it/s, batch: 6 | bound: 3 | nc: 2 | ncall: 28553 | eff(%): 23.195 | loglstar: 188.544 < 189.509 < 192.706 | logz: 182.397 +/-  0.133 | stop:  2.828]\r6820it [00:17, 453.87it/s, batch: 6 | bound: 3 | nc: 6 | ncall: 28754 | eff(%): 23.193 | loglstar: 188.544 < 189.822 < 192.706 | logz: 182.397 +/-  0.133 | stop:  2.828]\r6865it [00:17, 410.58it/s, batch: 6 | bound: 4 | nc: 1 | ncall: 28961 | eff(%): 23.182 | loglstar: 188.544 < 190.157 < 192.706 | logz: 182.397 +/-  0.133 | stop:  2.828]\r6922it [00:18, 440.03it/s, batch: 6 | bound: 4 | nc: 2 | ncall: 29161 | eff(%): 23.218 | loglstar: 188.544 < 190.575 < 192.706 | logz: 182.397 +/-  0.133 | stop:  2.828]\r6967it [00:18, 406.70it/s, batch: 6 | bound: 5 | nc: 1 | ncall: 29326 | eff(%): 23.240 | loglstar: 188.544 < 190.791 < 192.706 | logz: 182.397 +/-  0.133 | stop:  2.828]\r7008it [00:18, 390.76it/s, batch: 6 | bound: 5 | nc: 3 | ncall: 29566 | eff(%): 23.191 | loglstar: 188.544 < 191.017 < 192.706 | logz: 182.397 +/-  0.133 | stop:  2.828]\r7047it [00:18, 350.94it/s, batch: 6 | bound: 6 | nc: 1 | ncall: 29744 | eff(%): 23.184 | loglstar: 188.544 < 191.216 < 192.706 | logz: 182.397 +/-  0.133 | stop:  2.828]\r7096it [00:18, 381.78it/s, batch: 6 | bound: 6 | nc: 6 | ncall: 29947 | eff(%): 23.190 | loglstar: 188.544 < 191.490 < 192.706 | logz: 182.397 +/-  0.133 | stop:  2.828]\r7136it [00:18, 330.40it/s, batch: 6 | bound: 7 | nc: 1 | ncall: 30161 | eff(%): 23.159 | loglstar: 188.544 < 191.721 < 192.706 | logz: 182.397 +/-  0.133 | stop:  2.828]\r7172it [00:18, 336.68it/s, batch: 6 | bound: 7 | nc: 16 | ncall: 30361 | eff(%): 23.126 | loglstar: 188.544 < 191.867 < 192.706 | logz: 182.397 +/-  0.133 | stop:  2.828]\r7207it [00:18, 293.75it/s, batch: 6 | bound: 8 | nc: 2 | ncall: 30568 | eff(%): 23.085 | loglstar: 188.544 < 192.037 < 192.706 | logz: 182.397 +/-  0.133 | stop:  2.828] \r7257it [00:19, 341.93it/s, batch: 6 | bound: 8 | nc: 2 | ncall: 30772 | eff(%): 23.094 | loglstar: 188.544 < 192.207 < 192.706 | logz: 182.397 +/-  0.133 | stop:  2.828]\r7294it [00:19, 333.52it/s, batch: 6 | bound: 9 | nc: 1 | ncall: 30880 | eff(%): 23.132 | loglstar: 188.544 < 192.326 < 192.706 | logz: 182.397 +/-  0.133 | stop:  2.828]\r7351it [00:19, 392.73it/s, batch: 6 | bound: 9 | nc: 3 | ncall: 31081 | eff(%): 23.165 | loglstar: 188.544 < 192.468 < 192.706 | logz: 182.397 +/-  0.133 | stop:  2.828]\r7393it [00:19, 370.05it/s, batch: 6 | bound: 10 | nc: 5 | ncall: 31223 | eff(%): 23.194 | loglstar: 188.544 < 192.568 < 192.706 | logz: 182.397 +/-  0.133 | stop:  2.828]\r7446it [00:19, 409.66it/s, batch: 6 | bound: 10 | nc: 5 | ncall: 31423 | eff(%): 23.214 | loglstar: 188.544 < 192.685 < 192.706 | logz: 182.397 +/-  0.133 | stop:  2.828]\r7704it [00:20, 465.09it/s, batch: 7 | bound: 0 | nc: 6 | ncall: 32092 | eff(%): 24.006 | loglstar: 188.135 < 189.889 < 192.345 | logz: 182.397 +/-  0.119 | stop:  2.147] \r7762it [00:20, 480.25it/s, batch: 7 | bound: 2 | nc: 7 | ncall: 32295 | eff(%): 23.561 | loglstar: 188.135 < 188.694 < 192.345 | logz: 182.397 +/-  0.119 | stop:  2.147]\r7813it [00:20, 445.11it/s, batch: 7 | bound: 3 | nc: 2 | ncall: 32479 | eff(%): 23.584 | loglstar: 188.135 < 189.239 < 192.345 | logz: 182.397 +/-  0.119 | stop:  2.147]\r7857it [00:20, 399.09it/s, batch: 7 | bound: 3 | nc: 3 | ncall: 32817 | eff(%): 23.478 | loglstar: 188.135 < 189.618 < 192.345 | logz: 182.397 +/-  0.119 | stop:  2.147]\r7896it [00:20, 362.91it/s, batch: 7 | bound: 4 | nc: 2 | ncall: 32995 | eff(%): 23.469 | loglstar: 188.135 < 190.013 < 192.345 | logz: 182.397 +/-  0.119 | stop:  2.147]\r7949it [00:20, 395.43it/s, batch: 7 | bound: 4 | nc: 4 | ncall: 33206 | eff(%): 23.480 | loglstar: 188.135 < 190.346 < 192.345 | logz: 182.397 +/-  0.119 | stop:  2.147]\r7990it [00:20, 379.69it/s, batch: 7 | bound: 5 | nc: 2 | ncall: 33334 | eff(%): 23.512 | loglstar: 188.135 < 190.625 < 192.345 | logz: 182.397 +/-  0.119 | stop:  2.147]\r8054it [00:20, 437.76it/s, batch: 7 | bound: 5 | nc: 22 | ncall: 33539 | eff(%): 23.558 | loglstar: 188.135 < 191.043 < 192.345 | logz: 182.397 +/-  0.119 | stop:  2.147]\r8100it [00:21, 400.75it/s, batch: 7 | bound: 6 | nc: 10 | ncall: 33707 | eff(%): 23.577 | loglstar: 188.135 < 191.239 < 192.345 | logz: 182.397 +/-  0.119 | stop:  2.147]\r8150it [00:21, 424.50it/s, batch: 7 | bound: 6 | nc: 5 | ncall: 33913 | eff(%): 23.581 | loglstar: 188.135 < 191.439 < 192.345 | logz: 182.397 +/-  0.119 | stop:  2.147] \r8194it [00:21, 386.63it/s, batch: 7 | bound: 7 | nc: 3 | ncall: 34079 | eff(%): 23.595 | loglstar: 188.135 < 191.619 < 192.345 | logz: 182.397 +/-  0.119 | stop:  2.147]\r8238it [00:21, 397.28it/s, batch: 7 | bound: 7 | nc: 6 | ncall: 34281 | eff(%): 23.584 | loglstar: 188.135 < 191.853 < 192.345 | logz: 182.397 +/-  0.119 | stop:  2.147]\r8279it [00:21, 367.09it/s, batch: 7 | bound: 8 | nc: 1 | ncall: 34438 | eff(%): 23.596 | loglstar: 188.135 < 192.000 < 192.345 | logz: 182.397 +/-  0.119 | stop:  2.147]\r8333it [00:21, 409.62it/s, batch: 7 | bound: 8 | nc: 3 | ncall: 34643 | eff(%): 23.612 | loglstar: 188.135 < 192.172 < 192.345 | logz: 182.397 +/-  0.119 | stop:  2.147]\r8376it [00:21, 382.11it/s, batch: 7 | bound: 9 | nc: 2 | ncall: 34788 | eff(%): 23.636 | loglstar: 188.135 < 192.285 < 192.345 | logz: 182.397 +/-  0.119 | stop:  2.147]\r8646it [00:22, 415.99it/s, batch: 8 | bound: 0 | nc: 5 | ncall: 35480 | eff(%): 24.369 | loglstar: 187.656 < 190.059 < 188.136 | logz: 182.394 +/-  0.111 | stop:  1.771]\r8939it [00:22, 470.40it/s, batch: 9 | bound: 0 | nc: 1 | ncall: 36442 | eff(%): 24.529 | loglstar: 187.129 < 191.907 < 192.943 | logz: 182.384 +/-  0.110 | stop:  1.717]\r9006it [00:23, 491.70it/s, batch: 9 | bound: 2 | nc: 2 | ncall: 36631 | eff(%): 24.227 | loglstar: 187.129 < 187.955 < 192.943 | logz: 182.384 +/-  0.110 | stop:  1.717]\r9063it [00:23, 468.45it/s, batch: 9 | bound: 3 | nc: 4 | ncall: 36822 | eff(%): 24.255 | loglstar: 187.129 < 188.612 < 192.943 | logz: 182.384 +/-  0.110 | stop:  1.717]\r9123it [00:23, 487.89it/s, batch: 9 | bound: 3 | nc: 1 | ncall: 37025 | eff(%): 24.284 | loglstar: 187.129 < 189.202 < 192.943 | logz: 182.384 +/-  0.110 | stop:  1.717]\r9174it [00:23, 431.94it/s, batch: 9 | bound: 4 | nc: 5 | ncall: 37260 | eff(%): 24.268 | loglstar: 187.129 < 189.720 < 192.943 | logz: 182.384 +/-  0.110 | stop:  1.717]\r9233it [00:23, 460.40it/s, batch: 9 | bound: 4 | nc: 4 | ncall: 37456 | eff(%): 24.298 | loglstar: 187.129 < 190.267 < 192.943 | logz: 182.384 +/-  0.110 | stop:  1.717]\r9282it [00:23, 419.54it/s, batch: 9 | bound: 5 | nc: 1 | ncall: 37646 | eff(%): 24.305 | loglstar: 187.129 < 190.640 < 192.943 | logz: 182.384 +/-  0.110 | stop:  1.717]\r9326it [00:23, 387.52it/s, batch: 9 | bound: 5 | nc: 14 | ncall: 37948 | eff(%): 24.229 | loglstar: 187.129 < 190.917 < 192.943 | logz: 182.384 +/-  0.110 | stop:  1.717]\r9366it [00:24, 348.97it/s, batch: 9 | bound: 6 | nc: 2 | ncall: 38142 | eff(%): 24.211 | loglstar: 187.129 < 191.170 < 192.943 | logz: 182.384 +/-  0.110 | stop:  1.717] \r9405it [00:24, 323.45it/s, batch: 9 | bound: 7 | nc: 1 | ncall: 38328 | eff(%): 24.195 | loglstar: 187.129 < 191.363 < 192.943 | logz: 182.384 +/-  0.110 | stop:  1.717]\r9482it [00:24, 419.75it/s, batch: 9 | bound: 7 | nc: 3 | ncall: 38523 | eff(%): 24.272 | loglstar: 187.129 < 191.668 < 192.943 | logz: 182.384 +/-  0.110 | stop:  1.717]\r9536it [00:24, 395.18it/s, batch: 9 | bound: 8 | nc: 9 | ncall: 38712 | eff(%): 24.292 | loglstar: 187.129 < 191.949 < 192.943 | logz: 182.384 +/-  0.110 | stop:  1.717]\r9587it [00:24, 421.10it/s, batch: 9 | bound: 8 | nc: 2 | ncall: 38918 | eff(%): 24.295 | loglstar: 187.129 < 192.161 < 192.943 | logz: 182.384 +/-  0.110 | stop:  1.717]\r9632it [00:24, 376.39it/s, batch: 9 | bound: 9 | nc: 6 | ncall: 39118 | eff(%): 24.286 | loglstar: 187.129 < 192.312 < 192.943 | logz: 182.384 +/-  0.110 | stop:  1.717]\r9673it [00:24, 370.64it/s, batch: 9 | bound: 9 | nc: 5 | ncall: 39341 | eff(%): 24.253 | loglstar: 187.129 < 192.437 < 192.943 | logz: 182.384 +/-  0.110 | stop:  1.717]\r9712it [00:24, 338.27it/s, batch: 9 | bound: 10 | nc: 7 | ncall: 39515 | eff(%): 24.245 | loglstar: 187.129 < 192.568 < 192.943 | logz: 182.384 +/-  0.110 | stop:  1.717]\r9773it [00:25, 403.00it/s, batch: 9 | bound: 10 | nc: 4 | ncall: 39716 | eff(%): 24.275 | loglstar: 187.129 < 192.710 < 192.943 | logz: 182.384 +/-  0.110 | stop:  1.717]\r9816it [00:25, 364.47it/s, batch: 9 | bound: 11 | nc: 6 | ncall: 39897 | eff(%): 24.273 | loglstar: 187.129 < 192.809 < 192.943 | logz: 182.384 +/-  0.110 | stop:  1.717]\r9859it [00:25, 380.30it/s, batch: 9 | bound: 11 | nc: 2 | ncall: 40104 | eff(%): 24.255 | loglstar: 187.129 < 192.907 < 192.943 | logz: 182.384 +/-  0.110 | stop:  1.717]\r10124it [00:25, 442.01it/s, batch: 10 | bound: 0 | nc: 2 | ncall: 40710 | eff(%): 24.869 | loglstar: 186.473 < 186.807 < 193.383 | logz: 182.397 +/-  0.102 | stop:  1.436]\r10169it [00:25, 442.64it/s, batch: 10 | bound: 2 | nc: 11 | ncall: 40910 | eff(%): 24.500 | loglstar: 186.473 < 187.053 < 193.383 | logz: 182.397 +/-  0.102 | stop:  1.436]\r10212it [00:26, 398.47it/s, batch: 10 | bound: 3 | nc: 3 | ncall: 41113 | eff(%): 24.484 | loglstar: 186.473 < 187.605 < 193.383 | logz: 182.397 +/-  0.102 | stop:  1.436] \r10291it [00:26, 468.69it/s, batch: 10 | bound: 3 | nc: 5 | ncall: 41308 | eff(%): 24.559 | loglstar: 186.473 < 188.460 < 193.383 | logz: 182.397 +/-  0.102 | stop:  1.436]\r10342it [00:26, 436.38it/s, batch: 10 | bound: 4 | nc: 1 | ncall: 41475 | eff(%): 24.582 | loglstar: 186.473 < 188.922 < 193.383 | logz: 182.397 +/-  0.102 | stop:  1.436]\r10392it [00:26, 444.43it/s, batch: 10 | bound: 4 | nc: 26 | ncall: 41692 | eff(%): 24.574 | loglstar: 186.473 < 189.312 < 193.383 | logz: 182.397 +/-  0.102 | stop:  1.436]\r10439it [00:26, 404.57it/s, batch: 10 | bound: 5 | nc: 1 | ncall: 41871 | eff(%): 24.581 | loglstar: 186.473 < 189.689 < 193.383 | logz: 182.397 +/-  0.102 | stop:  1.436] \r10509it [00:26, 471.64it/s, batch: 10 | bound: 5 | nc: 5 | ncall: 42068 | eff(%): 24.632 | loglstar: 186.473 < 190.141 < 193.383 | logz: 182.397 +/-  0.102 | stop:  1.436]\r10560it [00:26, 408.59it/s, batch: 10 | bound: 6 | nc: 12 | ncall: 42285 | eff(%): 24.626 | loglstar: 186.473 < 190.539 < 193.383 | logz: 182.397 +/-  0.102 | stop:  1.436]\r10611it [00:27, 426.74it/s, batch: 10 | bound: 6 | nc: 30 | ncall: 42501 | eff(%): 24.621 | loglstar: 186.473 < 190.819 < 193.383 | logz: 182.397 +/-  0.102 | stop:  1.436]\r10657it [00:27, 350.72it/s, batch: 10 | bound: 7 | nc: 12 | ncall: 42777 | eff(%): 24.571 | loglstar: 186.473 < 191.067 < 193.383 | logz: 182.397 +/-  0.102 | stop:  1.436]\r10696it [00:27, 310.80it/s, batch: 10 | bound: 8 | nc: 5 | ncall: 43004 | eff(%): 24.532 | loglstar: 186.473 < 191.268 < 193.383 | logz: 182.397 +/-  0.102 | stop:  1.436] \r10756it [00:27, 372.55it/s, batch: 10 | bound: 8 | nc: 1 | ncall: 43204 | eff(%): 24.557 | loglstar: 186.473 < 191.554 < 193.383 | logz: 182.397 +/-  0.102 | stop:  1.436]\r10798it [00:27, 346.73it/s, batch: 10 | bound: 9 | nc: 5 | ncall: 43381 | eff(%): 24.554 | loglstar: 186.473 < 191.715 < 193.383 | logz: 182.397 +/-  0.102 | stop:  1.436]\r10853it [00:27, 392.51it/s, batch: 10 | bound: 9 | nc: 11 | ncall: 43585 | eff(%): 24.565 | loglstar: 186.473 < 191.897 < 193.383 | logz: 182.397 +/-  0.102 | stop:  1.436]\r10897it [00:27, 361.94it/s, batch: 10 | bound: 10 | nc: 2 | ncall: 43742 | eff(%): 24.577 | loglstar: 186.473 < 192.069 < 193.383 | logz: 182.397 +/-  0.102 | stop:  1.436]\r10945it [00:28, 390.24it/s, batch: 10 | bound: 10 | nc: 1 | ncall: 43945 | eff(%): 24.573 | loglstar: 186.473 < 192.278 < 193.383 | logz: 182.397 +/-  0.102 | stop:  1.436]\r10991it [00:28, 361.98it/s, batch: 10 | bound: 11 | nc: 6 | ncall: 44121 | eff(%): 24.579 | loglstar: 186.473 < 192.395 < 193.383 | logz: 182.397 +/-  0.102 | stop:  1.436]\r11039it [00:28, 389.72it/s, batch: 10 | bound: 11 | nc: 3 | ncall: 44330 | eff(%): 24.572 | loglstar: 186.473 < 192.516 < 193.383 | logz: 182.397 +/-  0.102 | stop:  1.436]\r11081it [00:28, 331.25it/s, batch: 10 | bound: 12 | nc: 3 | ncall: 44562 | eff(%): 24.538 | loglstar: 186.473 < 192.632 < 193.383 | logz: 182.397 +/-  0.102 | stop:  1.436]\r11131it [00:28, 364.08it/s, batch: 10 | bound: 12 | nc: 39 | ncall: 44770 | eff(%): 24.536 | loglstar: 186.473 < 192.741 < 193.383 | logz: 182.397 +/-  0.102 | stop:  1.436]\r11170it [00:28, 328.20it/s, batch: 10 | bound: 13 | nc: 1 | ncall: 44937 | eff(%): 24.532 | loglstar: 186.473 < 192.822 < 193.383 | logz: 182.397 +/-  0.102 | stop:  1.436] \r11221it [00:28, 371.29it/s, batch: 10 | bound: 13 | nc: 3 | ncall: 45139 | eff(%): 24.535 | loglstar: 186.473 < 192.926 < 193.383 | logz: 182.397 +/-  0.102 | stop:  1.436]\r11261it [00:28, 341.41it/s, batch: 10 | bound: 14 | nc: 2 | ncall: 45305 | eff(%): 24.533 | loglstar: 186.473 < 193.003 < 193.383 | logz: 182.397 +/-  0.102 | stop:  1.436]\r11332it [00:29, 431.29it/s, batch: 10 | bound: 14 | nc: 3 | ncall: 45498 | eff(%): 24.585 | loglstar: 186.473 < 193.110 < 193.383 | logz: 182.397 +/-  0.102 | stop:  1.436]\r11379it [00:29, 384.90it/s, batch: 10 | bound: 15 | nc: 5 | ncall: 45692 | eff(%): 24.583 | loglstar: 186.473 < 193.167 < 193.383 | logz: 182.397 +/-  0.102 | stop:  1.436]\r11434it [00:29, 425.02it/s, batch: 10 | bound: 15 | nc: 6 | ncall: 45893 | eff(%): 24.595 | loglstar: 186.473 < 193.265 < 193.383 | logz: 182.397 +/-  0.102 | stop:  1.436]\r11480it [00:29, 384.56it/s, batch: 10 | bound: 16 | nc: 1 | ncall: 46073 | eff(%): 24.599 | loglstar: 186.473 < 193.318 < 193.383 | logz: 182.397 +/-  0.102 | stop:  1.436]\r11778it [00:30, 469.88it/s, batch: 11 | bound: 0 | nc: 2 | ncall: 46777 | eff(%): 25.179 | loglstar: 185.783 < 186.073 < 192.942 | logz: 182.359 +/-  0.093 | stop:  1.182] \r11825it [00:30, 469.66it/s, batch: 11 | bound: 2 | nc: 5 | ncall: 46975 | eff(%): 24.876 | loglstar: 185.783 < 186.461 < 192.942 | logz: 182.359 +/-  0.093 | stop:  1.182]\r11870it [00:30, 426.11it/s, batch: 11 | bound: 3 | nc: 14 | ncall: 47168 | eff(%): 24.870 | loglstar: 185.783 < 187.120 < 192.942 | logz: 182.359 +/-  0.093 | stop:  1.182]\r11911it [00:30, 405.03it/s, batch: 11 | bound: 3 | nc: 9 | ncall: 47428 | eff(%): 24.821 | loglstar: 185.783 < 187.695 < 192.942 | logz: 182.359 +/-  0.093 | stop:  1.182] \r11949it [00:30, 366.83it/s, batch: 11 | bound: 4 | nc: 3 | ncall: 47599 | eff(%): 24.812 | loglstar: 185.783 < 188.182 < 192.942 | logz: 182.359 +/-  0.093 | stop:  1.182]\r12008it [00:30, 411.96it/s, batch: 11 | bound: 4 | nc: 1 | ncall: 47787 | eff(%): 24.837 | loglstar: 185.783 < 188.749 < 192.942 | logz: 182.359 +/-  0.093 | stop:  1.182]\r12050it [00:30, 361.53it/s, batch: 11 | bound: 5 | nc: 3 | ncall: 48004 | eff(%): 24.813 | loglstar: 185.783 < 189.178 < 192.942 | logz: 182.359 +/-  0.093 | stop:  1.182]\r12087it [00:30, 335.92it/s, batch: 11 | bound: 5 | nc: 2 | ncall: 48278 | eff(%): 24.749 | loglstar: 185.783 < 189.591 < 192.942 | logz: 182.359 +/-  0.093 | stop:  1.182]\r12121it [00:31, 295.40it/s, batch: 11 | bound: 6 | nc: 8 | ncall: 48495 | eff(%): 24.709 | loglstar: 185.783 < 189.930 < 192.942 | logz: 182.359 +/-  0.093 | stop:  1.182]\r12155it [00:31, 276.12it/s, batch: 11 | bound: 7 | nc: 2 | ncall: 48671 | eff(%): 24.690 | loglstar: 185.783 < 190.241 < 192.942 | logz: 182.359 +/-  0.093 | stop:  1.182]\r12219it [00:31, 355.92it/s, batch: 11 | bound: 7 | nc: 7 | ncall: 48873 | eff(%): 24.718 | loglstar: 185.783 < 190.735 < 192.942 | logz: 182.359 +/-  0.093 | stop:  1.182]\r12258it [00:31, 326.61it/s, batch: 11 | bound: 8 | nc: 10 | ncall: 49057 | eff(%): 24.705 | loglstar: 185.783 < 190.934 < 192.942 | logz: 182.359 +/-  0.093 | stop:  1.182]\r12309it [00:31, 366.57it/s, batch: 11 | bound: 8 | nc: 12 | ncall: 49267 | eff(%): 24.703 | loglstar: 185.783 < 191.149 < 192.942 | logz: 182.359 +/-  0.093 | stop:  1.182]\r12349it [00:31, 328.35it/s, batch: 11 | bound: 9 | nc: 9 | ncall: 49467 | eff(%): 24.685 | loglstar: 185.783 < 191.392 < 192.942 | logz: 182.359 +/-  0.093 | stop:  1.182] \r12405it [00:31, 383.36it/s, batch: 11 | bound: 9 | nc: 16 | ncall: 49669 | eff(%): 24.697 | loglstar: 185.783 < 191.621 < 192.942 | logz: 182.359 +/-  0.093 | stop:  1.182]\r12447it [00:32, 346.28it/s, batch: 11 | bound: 10 | nc: 1 | ncall: 49852 | eff(%): 24.691 | loglstar: 185.783 < 191.818 < 192.942 | logz: 182.359 +/-  0.093 | stop:  1.182]\r12506it [00:32, 402.27it/s, batch: 11 | bound: 10 | nc: 8 | ncall: 50062 | eff(%): 24.705 | loglstar: 185.783 < 192.039 < 192.942 | logz: 182.359 +/-  0.093 | stop:  1.182]\r12550it [00:32, 357.95it/s, batch: 11 | bound: 11 | nc: 3 | ncall: 50263 | eff(%): 24.694 | loglstar: 185.783 < 192.189 < 192.942 | logz: 182.359 +/-  0.093 | stop:  1.182]\r12594it [00:32, 375.60it/s, batch: 11 | bound: 11 | nc: 10 | ncall: 50474 | eff(%): 24.678 | loglstar: 185.783 < 192.316 < 192.942 | logz: 182.359 +/-  0.093 | stop:  1.182]\r12634it [00:32, 348.27it/s, batch: 11 | bound: 12 | nc: 3 | ncall: 50639 | eff(%): 24.676 | loglstar: 185.783 < 192.457 < 192.942 | logz: 182.359 +/-  0.093 | stop:  1.182] \r12675it [00:32, 360.57it/s, batch: 11 | bound: 12 | nc: 10 | ncall: 50837 | eff(%): 24.661 | loglstar: 185.783 < 192.571 < 192.942 | logz: 182.359 +/-  0.093 | stop:  1.182]\r12713it [00:32, 339.93it/s, batch: 11 | bound: 13 | nc: 6 | ncall: 50984 | eff(%): 24.664 | loglstar: 185.783 < 192.656 < 192.942 | logz: 182.359 +/-  0.093 | stop:  1.182] \r12769it [00:32, 394.02it/s, batch: 11 | bound: 13 | nc: 6 | ncall: 51194 | eff(%): 24.672 | loglstar: 185.783 < 192.777 < 192.942 | logz: 182.359 +/-  0.093 | stop:  1.182]\r12810it [00:33, 356.35it/s, batch: 11 | bound: 14 | nc: 3 | ncall: 51349 | eff(%): 24.678 | loglstar: 185.783 < 192.848 < 192.942 | logz: 182.359 +/-  0.093 | stop:  1.182]\r13104it [00:33, 402.51it/s, batch: 12 | bound: 0 | nc: 2 | ncall: 52034 | eff(%): 25.184 | loglstar: 185.082 < 186.744 < 192.942 | logz: 182.369 +/-  0.088 | stop:  1.038] \r13157it [00:33, 417.45it/s, batch: 12 | bound: 2 | nc: 6 | ncall: 52234 | eff(%): 24.818 | loglstar: 185.082 < 186.007 < 192.942 | logz: 182.369 +/-  0.088 | stop:  1.038]\r13202it [00:33, 395.85it/s, batch: 12 | bound: 3 | nc: 1 | ncall: 52411 | eff(%): 24.820 | loglstar: 185.082 < 186.494 < 192.942 | logz: 182.369 +/-  0.088 | stop:  1.038]\r13262it [00:34, 430.17it/s, batch: 12 | bound: 3 | nc: 2 | ncall: 52604 | eff(%): 24.842 | loglstar: 185.082 < 187.151 < 192.942 | logz: 182.369 +/-  0.088 | stop:  1.038]\r13318it [00:34, 411.14it/s, batch: 12 | bound: 4 | nc: 1 | ncall: 52789 | eff(%): 24.861 | loglstar: 185.082 < 187.897 < 192.942 | logz: 182.369 +/-  0.088 | stop:  1.038]\r13383it [00:34, 456.10it/s, batch: 12 | bound: 4 | nc: 9 | ncall: 52990 | eff(%): 24.889 | loglstar: 185.082 < 188.526 < 192.942 | logz: 182.369 +/-  0.088 | stop:  1.038]\r13432it [00:34, 417.28it/s, batch: 12 | bound: 5 | nc: 2 | ncall: 53165 | eff(%): 24.899 | loglstar: 185.082 < 189.171 < 192.942 | logz: 182.369 +/-  0.088 | stop:  1.038]\r13489it [00:34, 449.64it/s, batch: 12 | bound: 5 | nc: 4 | ncall: 53370 | eff(%): 24.910 | loglstar: 185.082 < 189.734 < 192.942 | logz: 182.369 +/-  0.088 | stop:  1.038]\r13537it [00:34, 394.94it/s, batch: 12 | bound: 6 | nc: 1 | ncall: 53576 | eff(%): 24.904 | loglstar: 185.082 < 190.068 < 192.942 | logz: 182.369 +/-  0.088 | stop:  1.038]\r13586it [00:34, 416.13it/s, batch: 12 | bound: 6 | nc: 5 | ncall: 53762 | eff(%): 24.909 | loglstar: 185.082 < 190.380 < 192.942 | logz: 182.369 +/-  0.088 | stop:  1.038]\r13631it [00:34, 375.07it/s, batch: 12 | bound: 7 | nc: 1 | ncall: 53925 | eff(%): 24.917 | loglstar: 185.082 < 190.667 < 192.942 | logz: 182.369 +/-  0.088 | stop:  1.038]\r13697it [00:35, 441.23it/s, batch: 12 | bound: 7 | nc: 4 | ncall: 54116 | eff(%): 24.950 | loglstar: 185.082 < 191.021 < 192.942 | logz: 182.369 +/-  0.088 | stop:  1.038]\r13749it [00:35, 401.56it/s, batch: 12 | bound: 8 | nc: 7 | ncall: 54306 | eff(%): 24.959 | loglstar: 185.082 < 191.324 < 192.942 | logz: 182.369 +/-  0.088 | stop:  1.038]\r13796it [00:35, 416.44it/s, batch: 12 | bound: 8 | nc: 7 | ncall: 54509 | eff(%): 24.952 | loglstar: 185.082 < 191.545 < 192.942 | logz: 182.369 +/-  0.088 | stop:  1.038]\r13840it [00:35, 344.21it/s, batch: 12 | bound: 9 | nc: 3 | ncall: 54765 | eff(%): 24.916 | loglstar: 185.082 < 191.768 < 192.942 | logz: 182.369 +/-  0.088 | stop:  1.038]\r13893it [00:35, 383.74it/s, batch: 12 | bound: 9 | nc: 11 | ncall: 54974 | eff(%): 24.918 | loglstar: 185.082 < 191.957 < 192.942 | logz: 182.369 +/-  0.088 | stop:  1.038]\r13935it [00:35, 346.16it/s, batch: 12 | bound: 10 | nc: 1 | ncall: 55165 | eff(%): 24.908 | loglstar: 185.082 < 192.111 < 192.942 | logz: 182.369 +/-  0.088 | stop:  1.038]\r13982it [00:35, 373.35it/s, batch: 12 | bound: 10 | nc: 14 | ncall: 55372 | eff(%): 24.900 | loglstar: 185.082 < 192.235 < 192.942 | logz: 182.369 +/-  0.088 | stop:  1.038]\r14022it [00:36, 356.04it/s, batch: 12 | bound: 11 | nc: 1 | ncall: 55496 | eff(%): 24.916 | loglstar: 185.082 < 192.391 < 192.942 | logz: 182.369 +/-  0.088 | stop:  1.038] \r14060it [00:36, 358.40it/s, batch: 12 | bound: 11 | nc: 1 | ncall: 55715 | eff(%): 24.887 | loglstar: 185.082 < 192.523 < 192.942 | logz: 182.369 +/-  0.088 | stop:  1.038]\r14098it [00:36, 336.29it/s, batch: 12 | bound: 12 | nc: 1 | ncall: 55859 | eff(%): 24.891 | loglstar: 185.082 < 192.606 < 192.942 | logz: 182.369 +/-  0.088 | stop:  1.038]\r14161it [00:36, 411.14it/s, batch: 12 | bound: 12 | nc: 8 | ncall: 56061 | eff(%): 24.913 | loglstar: 185.082 < 192.716 < 192.942 | logz: 182.369 +/-  0.088 | stop:  1.038]\r14205it [00:36, 378.00it/s, batch: 12 | bound: 13 | nc: 1 | ncall: 56225 | eff(%): 24.918 | loglstar: 185.082 < 192.826 < 192.942 | logz: 182.369 +/-  0.088 | stop:  1.038]\r14265it [00:36, 434.65it/s, batch: 12 | bound: 13 | nc: 5 | ncall: 56427 | eff(%): 24.935 | loglstar: 185.082 < 192.924 < 192.942 | logz: 182.369 +/-  0.088 | stop:  1.038]\r14523it [00:36, 873.06it/s, batch: 12 | bound: 13 | nc: 1 | ncall: 56704 | eff(%): 25.374 | loglstar: 185.082 < 193.963 < 192.942 | logz: 182.369 +/-  0.088 | stop:  0.922]\r14523it [00:36, 395.18it/s, batch: 12 | bound: 13 | nc: 1 | ncall: 56704 | eff(%): 25.374 | loglstar: 185.082 < 193.963 < 192.942 | logz: 182.369 +/-  0.088 | stop:  0.922]\n"
        }
       ],
       "tabbable": null,
       "tooltip": null
      }
     },
     "beb74fe0bcfb42f0aafbbbb385725c1d": {
      "model_module": "@jupyter-widgets/base",
      "model_module_version": "2.0.0",
      "model_name": "LayoutModel",
      "state": {
       "_model_module": "@jupyter-widgets/base",
       "_model_module_version": "2.0.0",
       "_model_name": "LayoutModel",
       "_view_count": null,
       "_view_module": "@jupyter-widgets/base",
       "_view_module_version": "2.0.0",
       "_view_name": "LayoutView",
       "align_content": null,
       "align_items": null,
       "align_self": null,
       "border_bottom": null,
       "border_left": null,
       "border_right": null,
       "border_top": null,
       "bottom": null,
       "display": null,
       "flex": null,
       "flex_flow": null,
       "grid_area": null,
       "grid_auto_columns": null,
       "grid_auto_flow": null,
       "grid_auto_rows": null,
       "grid_column": null,
       "grid_gap": null,
       "grid_row": null,
       "grid_template_areas": null,
       "grid_template_columns": null,
       "grid_template_rows": null,
       "height": "200px",
       "justify_content": null,
       "justify_items": null,
       "left": null,
       "margin": null,
       "max_height": null,
       "max_width": null,
       "min_height": null,
       "min_width": null,
       "object_fit": null,
       "object_position": null,
       "order": null,
       "overflow": "auto",
       "padding": null,
       "right": null,
       "top": null,
       "visibility": null,
       "width": null
      }
     },
     "c5bfd6be6317443082a0f7dd6b61611d": {
      "model_module": "@jupyter-widgets/base",
      "model_module_version": "2.0.0",
      "model_name": "LayoutModel",
      "state": {
       "_model_module": "@jupyter-widgets/base",
       "_model_module_version": "2.0.0",
       "_model_name": "LayoutModel",
       "_view_count": null,
       "_view_module": "@jupyter-widgets/base",
       "_view_module_version": "2.0.0",
       "_view_name": "LayoutView",
       "align_content": null,
       "align_items": null,
       "align_self": null,
       "border_bottom": null,
       "border_left": null,
       "border_right": null,
       "border_top": null,
       "bottom": null,
       "display": null,
       "flex": null,
       "flex_flow": null,
       "grid_area": null,
       "grid_auto_columns": null,
       "grid_auto_flow": null,
       "grid_auto_rows": null,
       "grid_column": null,
       "grid_gap": null,
       "grid_row": null,
       "grid_template_areas": null,
       "grid_template_columns": null,
       "grid_template_rows": null,
       "height": null,
       "justify_content": null,
       "justify_items": null,
       "left": null,
       "margin": null,
       "max_height": null,
       "max_width": null,
       "min_height": null,
       "min_width": null,
       "object_fit": null,
       "object_position": null,
       "order": null,
       "overflow": null,
       "padding": null,
       "right": null,
       "top": null,
       "visibility": null,
       "width": null
      }
     },
     "cd06ffb766ce4b37834ab9a6c1c7085e": {
      "model_module": "@jupyter-widgets/controls",
      "model_module_version": "2.0.0",
      "model_name": "HTMLModel",
      "state": {
       "_dom_classes": [],
       "_model_module": "@jupyter-widgets/controls",
       "_model_module_version": "2.0.0",
       "_model_name": "HTMLModel",
       "_view_count": null,
       "_view_module": "@jupyter-widgets/controls",
       "_view_module_version": "2.0.0",
       "_view_name": "HTMLView",
       "description": "",
       "description_allow_html": false,
       "layout": "IPY_MODEL_d4f655f093f9443a996dc94c4d44a8bb",
       "placeholder": "​",
       "style": "IPY_MODEL_75901a40febe41b7b01376bac19a4718",
       "tabbable": null,
       "tooltip": null,
       "value": "100%"
      }
     },
     "d4f655f093f9443a996dc94c4d44a8bb": {
      "model_module": "@jupyter-widgets/base",
      "model_module_version": "2.0.0",
      "model_name": "LayoutModel",
      "state": {
       "_model_module": "@jupyter-widgets/base",
       "_model_module_version": "2.0.0",
       "_model_name": "LayoutModel",
       "_view_count": null,
       "_view_module": "@jupyter-widgets/base",
       "_view_module_version": "2.0.0",
       "_view_name": "LayoutView",
       "align_content": null,
       "align_items": null,
       "align_self": null,
       "border_bottom": null,
       "border_left": null,
       "border_right": null,
       "border_top": null,
       "bottom": null,
       "display": null,
       "flex": null,
       "flex_flow": null,
       "grid_area": null,
       "grid_auto_columns": null,
       "grid_auto_flow": null,
       "grid_auto_rows": null,
       "grid_column": null,
       "grid_gap": null,
       "grid_row": null,
       "grid_template_areas": null,
       "grid_template_columns": null,
       "grid_template_rows": null,
       "height": null,
       "justify_content": null,
       "justify_items": null,
       "left": null,
       "margin": null,
       "max_height": null,
       "max_width": null,
       "min_height": null,
       "min_width": null,
       "object_fit": null,
       "object_position": null,
       "order": null,
       "overflow": null,
       "padding": null,
       "right": null,
       "top": null,
       "visibility": null,
       "width": null
      }
     },
     "dc121d9319854ae5882ccfc08d9b55d4": {
      "model_module": "@jupyter-widgets/output",
      "model_module_version": "1.0.0",
      "model_name": "OutputModel",
      "state": {
       "_dom_classes": [],
       "_model_module": "@jupyter-widgets/output",
       "_model_module_version": "1.0.0",
       "_model_name": "OutputModel",
       "_view_count": null,
       "_view_module": "@jupyter-widgets/output",
       "_view_module_version": "1.0.0",
       "_view_name": "OutputView",
       "layout": "IPY_MODEL_a814226cdb4d453083a37fad956ba1d3",
       "msg_id": "",
       "outputs": [
        {
         "data": {
          "application/vnd.jupyter.widget-view+json": {
           "model_id": "9a24857cbaa048dca65f7cfbf773008b",
           "version_major": 2,
           "version_minor": 0
          },
          "text/plain": "  0%|          | 0/14523 [00:00<?, ?it/s]"
         },
         "metadata": {},
         "output_type": "display_data"
        }
       ],
       "tabbable": null,
       "tooltip": null
      }
     },
     "de82cb4c04b44d65bec0b2b4d5d2bae0": {
      "model_module": "@jupyter-widgets/base",
      "model_module_version": "2.0.0",
      "model_name": "LayoutModel",
      "state": {
       "_model_module": "@jupyter-widgets/base",
       "_model_module_version": "2.0.0",
       "_model_name": "LayoutModel",
       "_view_count": null,
       "_view_module": "@jupyter-widgets/base",
       "_view_module_version": "2.0.0",
       "_view_name": "LayoutView",
       "align_content": null,
       "align_items": null,
       "align_self": null,
       "border_bottom": null,
       "border_left": null,
       "border_right": null,
       "border_top": null,
       "bottom": null,
       "display": null,
       "flex": null,
       "flex_flow": null,
       "grid_area": null,
       "grid_auto_columns": null,
       "grid_auto_flow": null,
       "grid_auto_rows": null,
       "grid_column": null,
       "grid_gap": null,
       "grid_row": null,
       "grid_template_areas": null,
       "grid_template_columns": null,
       "grid_template_rows": null,
       "height": null,
       "justify_content": null,
       "justify_items": null,
       "left": null,
       "margin": null,
       "max_height": null,
       "max_width": null,
       "min_height": null,
       "min_width": null,
       "object_fit": null,
       "object_position": null,
       "order": null,
       "overflow": null,
       "padding": null,
       "right": null,
       "top": null,
       "visibility": null,
       "width": null
      }
     }
    },
    "version_major": 2,
    "version_minor": 0
   }
  }
 },
 "nbformat": 4,
 "nbformat_minor": 2
}
